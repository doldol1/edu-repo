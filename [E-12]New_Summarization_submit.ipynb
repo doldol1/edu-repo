{
 "cells": [
  {
   "cell_type": "markdown",
   "id": "059d6ba1",
   "metadata": {},
   "source": [
    "# 뉴스 요약하기\n",
    "루브릭  \n",
    "1. Abstractive 모델 구성을 위한 텍스트 전처리 단계가 체계적으로 진행되었다.  \n",
    "분석단계, 정제단계, 정규화와 불용어 제거, 데이터셋 분리, 인코딩 과정이 빠짐없이 체계적으로 진행되었다.\n",
    "2. 텍스트 요약모델이 성공적으로 학습되었음을 확인하였다.  \n",
    "모델 학습이 진행되면서 train loss와 validation loss가 감소하는 경향을 그래프를 통해 확인했으며, 실제 요약문에 있는 핵심 단어들이 요약 문장 안에 포함되었다.  \n",
    "3. Extractive 요약을 시도해 보고 Abstractive 요약 결과과 함께 비교해 보았다.  \n",
    "두 요약 결과를 문법완성도 측면과 핵심단어 포함 측면으로 나누어 비교하고 분석 결과를 표로 정리하여 제시하였다."
   ]
  },
  {
   "cell_type": "markdown",
   "id": "351c259e",
   "metadata": {},
   "source": [
    "### 데이터 수집 및 전처리"
   ]
  },
  {
   "cell_type": "code",
   "execution_count": 1,
   "id": "3f600f3d",
   "metadata": {},
   "outputs": [],
   "source": [
    "from importlib.metadata import version\n",
    "import nltk\n",
    "nltk.download('stopwords')\n",
    "import tensorflow\n",
    "import summa\n",
    "import pandas as pd\n",
    "from bs4 import BeautifulSoup\n",
    "import re\n",
    "from nltk.corpus import stopwords"
   ]
  },
  {
   "cell_type": "code",
   "execution_count": 2,
   "id": "328794f1",
   "metadata": {},
   "outputs": [],
   "source": [
    "# 데이터 다운로드\n",
    "import urllib.request\n",
    "urllib.request.urlretrieve(\"https://raw.githubusercontent.com/sunnysai12345/News_Summary/master/news_summary_more.csv\", filename=\"news_summary_more.csv\")\n",
    "data = pd.read_csv('news_summary_more.csv', encoding='iso-8859-1')"
   ]
  },
  {
   "cell_type": "code",
   "execution_count": 3,
   "id": "321c261f",
   "metadata": {
    "scrolled": true
   },
   "outputs": [
    {
     "data": {
      "text/html": [
       "<div>\n",
       "<style scoped>\n",
       "    .dataframe tbody tr th:only-of-type {\n",
       "        vertical-align: middle;\n",
       "    }\n",
       "\n",
       "    .dataframe tbody tr th {\n",
       "        vertical-align: top;\n",
       "    }\n",
       "\n",
       "    .dataframe thead th {\n",
       "        text-align: right;\n",
       "    }\n",
       "</style>\n",
       "<table border=\"1\" class=\"dataframe\">\n",
       "  <thead>\n",
       "    <tr style=\"text-align: right;\">\n",
       "      <th></th>\n",
       "      <th>headlines</th>\n",
       "      <th>text</th>\n",
       "    </tr>\n",
       "  </thead>\n",
       "  <tbody>\n",
       "    <tr>\n",
       "      <th>10325</th>\n",
       "      <td>Mizoram Police backs demand for 40 central for...</td>\n",
       "      <td>The Mizoram Police has supported the demand of...</td>\n",
       "    </tr>\n",
       "    <tr>\n",
       "      <th>12250</th>\n",
       "      <td>We've no sympathy for Anirban: KWAN CEO on #Me...</td>\n",
       "      <td>After celebrity management agency KWAN Enterta...</td>\n",
       "    </tr>\n",
       "    <tr>\n",
       "      <th>40052</th>\n",
       "      <td>MIT researchers develop world's first 'psychop...</td>\n",
       "      <td>Researchers at MIT have developed an artificia...</td>\n",
       "    </tr>\n",
       "    <tr>\n",
       "      <th>19031</th>\n",
       "      <td>ISRO to launch 19 missions in next 7 months</td>\n",
       "      <td>ISRO will conduct 19 missions, including 10 sa...</td>\n",
       "    </tr>\n",
       "    <tr>\n",
       "      <th>8123</th>\n",
       "      <td>Who is Madhumala, who befriended Andaman triba...</td>\n",
       "      <td>Former Anthropological Survey of India researc...</td>\n",
       "    </tr>\n",
       "    <tr>\n",
       "      <th>1365</th>\n",
       "      <td>Punjab boy scores 100 percentile in JEE Main, ...</td>\n",
       "      <td>Punjab's 18-year-old Jayesh Singla is one of t...</td>\n",
       "    </tr>\n",
       "    <tr>\n",
       "      <th>57111</th>\n",
       "      <td>Two women including a Congress leader found de...</td>\n",
       "      <td>Two women, including a district Congress leade...</td>\n",
       "    </tr>\n",
       "    <tr>\n",
       "      <th>32921</th>\n",
       "      <td>Man breaks into eatery as he was 'drunk' and '...</td>\n",
       "      <td>A 22-year-old man has confessed to breaking in...</td>\n",
       "    </tr>\n",
       "    <tr>\n",
       "      <th>15590</th>\n",
       "      <td>BCCI announces Harmanpreet-led squad for Women...</td>\n",
       "      <td>The BCCI's All India Women's Selection Committ...</td>\n",
       "    </tr>\n",
       "    <tr>\n",
       "      <th>70305</th>\n",
       "      <td>22 students, 2 wardens killed in fire at Malay...</td>\n",
       "      <td>At least 22 students and two wardens died in a...</td>\n",
       "    </tr>\n",
       "  </tbody>\n",
       "</table>\n",
       "</div>"
      ],
      "text/plain": [
       "                                               headlines  \\\n",
       "10325  Mizoram Police backs demand for 40 central for...   \n",
       "12250  We've no sympathy for Anirban: KWAN CEO on #Me...   \n",
       "40052  MIT researchers develop world's first 'psychop...   \n",
       "19031        ISRO to launch 19 missions in next 7 months   \n",
       "8123   Who is Madhumala, who befriended Andaman triba...   \n",
       "1365   Punjab boy scores 100 percentile in JEE Main, ...   \n",
       "57111  Two women including a Congress leader found de...   \n",
       "32921  Man breaks into eatery as he was 'drunk' and '...   \n",
       "15590  BCCI announces Harmanpreet-led squad for Women...   \n",
       "70305  22 students, 2 wardens killed in fire at Malay...   \n",
       "\n",
       "                                                    text  \n",
       "10325  The Mizoram Police has supported the demand of...  \n",
       "12250  After celebrity management agency KWAN Enterta...  \n",
       "40052  Researchers at MIT have developed an artificia...  \n",
       "19031  ISRO will conduct 19 missions, including 10 sa...  \n",
       "8123   Former Anthropological Survey of India researc...  \n",
       "1365   Punjab's 18-year-old Jayesh Singla is one of t...  \n",
       "57111  Two women, including a district Congress leade...  \n",
       "32921  A 22-year-old man has confessed to breaking in...  \n",
       "15590  The BCCI's All India Women's Selection Committ...  \n",
       "70305  At least 22 students and two wardens died in a...  "
      ]
     },
     "execution_count": 3,
     "metadata": {},
     "output_type": "execute_result"
    }
   ],
   "source": [
    "data.sample(10)"
   ]
  },
  {
   "cell_type": "markdown",
   "id": "fdf16fd5",
   "metadata": {},
   "source": [
    "데이터 전처리의 기본인 null 값과 중복값 배제, 노드에서 제시한 정규화 사전 및 불용어 제거까지 차용하였다.(정규화 사전과 불용어 제거는 100% 노드 차용함)"
   ]
  },
  {
   "cell_type": "code",
   "execution_count": 4,
   "id": "6be24706",
   "metadata": {},
   "outputs": [
    {
     "name": "stdout",
     "output_type": "stream",
     "text": [
      "<class 'pandas.core.frame.DataFrame'>\n",
      "RangeIndex: 98401 entries, 0 to 98400\n",
      "Data columns (total 2 columns):\n",
      " #   Column     Non-Null Count  Dtype \n",
      "---  ------     --------------  ----- \n",
      " 0   headlines  98401 non-null  object\n",
      " 1   text       98401 non-null  object\n",
      "dtypes: object(2)\n",
      "memory usage: 1.5+ MB\n"
     ]
    }
   ],
   "source": [
    "# null 값은 없는 것으로 확인된다.\n",
    "data.info()"
   ]
  },
  {
   "cell_type": "code",
   "execution_count": 5,
   "id": "60561452",
   "metadata": {},
   "outputs": [
    {
     "name": "stdout",
     "output_type": "stream",
     "text": [
      "text 열에서 중복을 배제한 유일한 샘플의 수 : 98360\n",
      "headlines 열에서 중복을 배제한 유일한 샘플의 수 : 98280\n"
     ]
    }
   ],
   "source": [
    "print('text 열에서 중복을 배제한 유일한 샘플의 수 :', data['text'].nunique())\n",
    "print('headlines 열에서 중복을 배제한 유일한 샘플의 수 :', data['headlines'].nunique())"
   ]
  },
  {
   "cell_type": "code",
   "execution_count": 6,
   "id": "c7dc9282",
   "metadata": {},
   "outputs": [],
   "source": [
    "# 중복값 배제\n",
    "data.drop_duplicates(subset = 'text', inplace=True)"
   ]
  },
  {
   "cell_type": "code",
   "execution_count": 7,
   "id": "0ebc1ee6",
   "metadata": {},
   "outputs": [
    {
     "name": "stdout",
     "output_type": "stream",
     "text": [
      "정규화 사전의 수:  120\n"
     ]
    }
   ],
   "source": [
    "# 텍스트 정규화(사전은 100% 노드 복붙)\n",
    "contractions = {\"ain't\": \"is not\", \"aren't\": \"are not\",\"can't\": \"cannot\", \"'cause\": \"because\", \"could've\": \"could have\", \"couldn't\": \"could not\",\n",
    "                           \"didn't\": \"did not\",  \"doesn't\": \"does not\", \"don't\": \"do not\", \"hadn't\": \"had not\", \"hasn't\": \"has not\", \"haven't\": \"have not\",\n",
    "                           \"he'd\": \"he would\",\"he'll\": \"he will\", \"he's\": \"he is\", \"how'd\": \"how did\", \"how'd'y\": \"how do you\", \"how'll\": \"how will\", \"how's\": \"how is\",\n",
    "                           \"I'd\": \"I would\", \"I'd've\": \"I would have\", \"I'll\": \"I will\", \"I'll've\": \"I will have\",\"I'm\": \"I am\", \"I've\": \"I have\", \"i'd\": \"i would\",\n",
    "                           \"i'd've\": \"i would have\", \"i'll\": \"i will\",  \"i'll've\": \"i will have\",\"i'm\": \"i am\", \"i've\": \"i have\", \"isn't\": \"is not\", \"it'd\": \"it would\",\n",
    "                           \"it'd've\": \"it would have\", \"it'll\": \"it will\", \"it'll've\": \"it will have\",\"it's\": \"it is\", \"let's\": \"let us\", \"ma'am\": \"madam\",\n",
    "                           \"mayn't\": \"may not\", \"might've\": \"might have\",\"mightn't\": \"might not\",\"mightn't've\": \"might not have\", \"must've\": \"must have\",\n",
    "                           \"mustn't\": \"must not\", \"mustn't've\": \"must not have\", \"needn't\": \"need not\", \"needn't've\": \"need not have\",\"o'clock\": \"of the clock\",\n",
    "                           \"oughtn't\": \"ought not\", \"oughtn't've\": \"ought not have\", \"shan't\": \"shall not\", \"sha'n't\": \"shall not\", \"shan't've\": \"shall not have\",\n",
    "                           \"she'd\": \"she would\", \"she'd've\": \"she would have\", \"she'll\": \"she will\", \"she'll've\": \"she will have\", \"she's\": \"she is\",\n",
    "                           \"should've\": \"should have\", \"shouldn't\": \"should not\", \"shouldn't've\": \"should not have\", \"so've\": \"so have\",\"so's\": \"so as\",\n",
    "                           \"this's\": \"this is\",\"that'd\": \"that would\", \"that'd've\": \"that would have\", \"that's\": \"that is\", \"there'd\": \"there would\",\n",
    "                           \"there'd've\": \"there would have\", \"there's\": \"there is\", \"here's\": \"here is\",\"they'd\": \"they would\", \"they'd've\": \"they would have\",\n",
    "                           \"they'll\": \"they will\", \"they'll've\": \"they will have\", \"they're\": \"they are\", \"they've\": \"they have\", \"to've\": \"to have\",\n",
    "                           \"wasn't\": \"was not\", \"we'd\": \"we would\", \"we'd've\": \"we would have\", \"we'll\": \"we will\", \"we'll've\": \"we will have\", \"we're\": \"we are\",\n",
    "                           \"we've\": \"we have\", \"weren't\": \"were not\", \"what'll\": \"what will\", \"what'll've\": \"what will have\", \"what're\": \"what are\",\n",
    "                           \"what's\": \"what is\", \"what've\": \"what have\", \"when's\": \"when is\", \"when've\": \"when have\", \"where'd\": \"where did\", \"where's\": \"where is\",\n",
    "                           \"where've\": \"where have\", \"who'll\": \"who will\", \"who'll've\": \"who will have\", \"who's\": \"who is\", \"who've\": \"who have\",\n",
    "                           \"why's\": \"why is\", \"why've\": \"why have\", \"will've\": \"will have\", \"won't\": \"will not\", \"won't've\": \"will not have\",\n",
    "                           \"would've\": \"would have\", \"wouldn't\": \"would not\", \"wouldn't've\": \"would not have\", \"y'all\": \"you all\",\n",
    "                           \"y'all'd\": \"you all would\",\"y'all'd've\": \"you all would have\",\"y'all're\": \"you all are\",\"y'all've\": \"you all have\",\n",
    "                           \"you'd\": \"you would\", \"you'd've\": \"you would have\", \"you'll\": \"you will\", \"you'll've\": \"you will have\",\n",
    "                           \"you're\": \"you are\", \"you've\": \"you have\"}\n",
    "\n",
    "print(\"정규화 사전의 수: \", len(contractions))"
   ]
  },
  {
   "cell_type": "code",
   "execution_count": 8,
   "id": "b7158bc8",
   "metadata": {},
   "outputs": [],
   "source": [
    "# 데이터 전처리 함수(불용어 포함)\n",
    "def preprocess_sentence(sentence, remove_stopwords=True):\n",
    "    sentence = sentence.lower() # 텍스트 소문자화\n",
    "    sentence = BeautifulSoup(sentence, \"lxml\").text # <br />, <a href = ...> 등의 html 태그 제거\n",
    "    sentence = re.sub(r'\\([^)]*\\)', '', sentence) # 괄호로 닫힌 문자열 (...) 제거 Ex) my husband (and myself!) for => my husband for\n",
    "    sentence = re.sub('\"','', sentence) # 쌍따옴표 \" 제거\n",
    "    sentence = ' '.join([contractions[t] if t in contractions else t for t in sentence.split(\" \")]) # 약어 정규화\n",
    "    sentence = re.sub(r\"'s\\b\",\"\", sentence) # 소유격 제거. Ex) roland's -> roland\n",
    "    sentence = re.sub(\"[^a-zA-Z]\", \" \", sentence) # 영어 외 문자(숫자, 특수문자 등) 공백으로 변환\n",
    "    sentence = re.sub('[m]{2,}', 'mm', sentence) # m이 3개 이상이면 2개로 변경. Ex) ummmmmmm yeah -> umm yeah\n",
    "    \n",
    "    # 불용어 제거 (Text)\n",
    "    if remove_stopwords:\n",
    "        tokens = ' '.join(word for word in sentence.split() if not word in stopwords.words('english') if len(word) > 1)\n",
    "    # 불용어 미제거 (Summary)\n",
    "    else:\n",
    "        tokens = ' '.join(word for word in sentence.split() if len(word) > 1)\n",
    "    return tokens"
   ]
  },
  {
   "cell_type": "code",
   "execution_count": 9,
   "id": "09fe9685",
   "metadata": {},
   "outputs": [],
   "source": [
    "# temp_text = 'Everything I bought was great, infact I ordered twice and the third ordered was<br />for my mother and father.'\n",
    "# temp_summary = 'Great way to start (or finish) the day!!!'\n",
    "\n",
    "# print(\"text: \", preprocess_sentence(temp_text))\n",
    "# print(\"summary:\", preprocess_sentence(temp_summary, False))  # 불용어를 제거하지 않습니다."
   ]
  },
  {
   "cell_type": "code",
   "execution_count": 10,
   "id": "d82fb5ed",
   "metadata": {},
   "outputs": [
    {
     "name": "stdout",
     "output_type": "stream",
     "text": [
      "Text 전처리 후 결과:  ['saurav kant alumnus upgrad iiit pg program machine learning artificial intelligence sr systems engineer infosys almost years work experience program upgrad degree career support helped transition data scientist tech mahindra salary hike upgrad online power learning powered lakh careers', 'kunal shah credit card bill payment platform cred gave users chance win free food swiggy one year pranav kaushik delhi techie bagged reward spending cred coins users get one cred coin per rupee bill paid used avail rewards brands like ixigo bookmyshow ubereats cult fit', 'new zealand defeated india wickets fourth odi hamilton thursday win first match five match odi series india lost international match rohit sharma captaincy consecutive victories dating back march match witnessed india getting seventh lowest total odi cricket history', 'aegon life iterm insurance plan customers enjoy tax benefits premiums paid save taxes plan provides life cover age years also customers options insure critical illnesses disability accidental death benefit rider life cover age years', 'speaking sexual harassment allegations rajkumar hirani sonam kapoor said known hirani many years true metoo movement get derailed metoo movement always believe woman case need reserve judgment added hirani accused assistant worked sanju']\n"
     ]
    }
   ],
   "source": [
    "clean_text = []\n",
    "# 전체 Text 데이터에 대한 전처리\n",
    "for s in data['text']:\n",
    "    clean_text.append(preprocess_sentence(s))\n",
    "\n",
    "# 전처리 후 출력\n",
    "print(\"Text 전처리 후 결과: \", clean_text[:5])"
   ]
  },
  {
   "cell_type": "code",
   "execution_count": 11,
   "id": "0513fe59",
   "metadata": {},
   "outputs": [
    {
     "name": "stdout",
     "output_type": "stream",
     "text": [
      "Summary 전처리 후 결과:  ['upgrad learner switches to career in ml al with salary hike', 'delhi techie wins free food from swiggy for one year on cred', 'new zealand end rohit sharma led india match winning streak', 'aegon life iterm insurance plan helps customers save tax', 'have known hirani for yrs what if metoo claims are not true sonam']\n"
     ]
    }
   ],
   "source": [
    "clean_headlines = []\n",
    "# 전체 headlines 데이터에 대한 전처리 : 5분 이상 시간이 걸릴 수 있습니다. \n",
    "for s in data['headlines']:\n",
    "    clean_headlines.append(preprocess_sentence(s, False))\n",
    "\n",
    "print(\"Summary 전처리 후 결과: \", clean_headlines[:5])"
   ]
  },
  {
   "cell_type": "code",
   "execution_count": 12,
   "id": "95b8d7cf",
   "metadata": {},
   "outputs": [],
   "source": [
    "data['text'] = clean_text\n",
    "data['headlines'] = clean_headlines"
   ]
  },
  {
   "cell_type": "code",
   "execution_count": 13,
   "id": "246127b6",
   "metadata": {},
   "outputs": [
    {
     "name": "stdout",
     "output_type": "stream",
     "text": [
      "<class 'pandas.core.frame.DataFrame'>\n",
      "Int64Index: 98360 entries, 0 to 98400\n",
      "Data columns (total 2 columns):\n",
      " #   Column     Non-Null Count  Dtype \n",
      "---  ------     --------------  ----- \n",
      " 0   headlines  98360 non-null  object\n",
      " 1   text       98360 non-null  object\n",
      "dtypes: object(2)\n",
      "memory usage: 2.3+ MB\n"
     ]
    }
   ],
   "source": [
    "data.info()"
   ]
  },
  {
   "cell_type": "code",
   "execution_count": 14,
   "id": "95c95472",
   "metadata": {},
   "outputs": [
    {
     "data": {
      "text/plain": [
       "headlines    0\n",
       "text         0\n",
       "dtype: int64"
      ]
     },
     "execution_count": 14,
     "metadata": {},
     "output_type": "execute_result"
    }
   ],
   "source": [
    "data.isnull().sum()"
   ]
  },
  {
   "cell_type": "code",
   "execution_count": 15,
   "id": "46fe3871",
   "metadata": {},
   "outputs": [
    {
     "name": "stdout",
     "output_type": "stream",
     "text": [
      "텍스트의 최소 길이 : 1\n",
      "텍스트의 최대 길이 : 60\n",
      "텍스트의 평균 길이 : 35.09968483123221\n",
      "요약의 최소 길이 : 1\n",
      "요약의 최대 길이 : 16\n",
      "요약의 평균 길이 : 9.299532330215534\n"
     ]
    },
    {
     "data": {
      "image/png": "[encoded data removed]",
      "text/plain": [
       "<Figure size 432x288 with 2 Axes>"
      ]
     },
     "metadata": {
      "needs_background": "light"
     },
     "output_type": "display_data"
    },
    {
     "data": {
      "image/png": "[encoded data removed]",
      "text/plain": [
       "<Figure size 432x288 with 1 Axes>"
      ]
     },
     "metadata": {
      "needs_background": "light"
     },
     "output_type": "display_data"
    },
    {
     "data": {
      "image/png": "[encoded data removed]",
      "text/plain": [
       "<Figure size 432x288 with 1 Axes>"
      ]
     },
     "metadata": {
      "needs_background": "light"
     },
     "output_type": "display_data"
    }
   ],
   "source": [
    "# headline과 text의 최대 길이를 구하기 위하여 시각화\n",
    "import matplotlib.pyplot as plt\n",
    "import numpy as np\n",
    "text_len = [len(s.split()) for s in data['text']]\n",
    "headline_len = [len(s.split()) for s in data['headlines']]\n",
    "\n",
    "print('텍스트의 최소 길이 : {}'.format(np.min(text_len)))\n",
    "print('텍스트의 최대 길이 : {}'.format(np.max(text_len)))\n",
    "print('텍스트의 평균 길이 : {}'.format(np.mean(text_len)))\n",
    "print('요약의 최소 길이 : {}'.format(np.min(headline_len)))\n",
    "print('요약의 최대 길이 : {}'.format(np.max(headline_len)))\n",
    "print('요약의 평균 길이 : {}'.format(np.mean(headline_len)))\n",
    "\n",
    "plt.subplot(1,2,1)\n",
    "plt.boxplot(text_len)\n",
    "plt.title('text')\n",
    "plt.subplot(1,2,2)\n",
    "plt.boxplot(headline_len)\n",
    "plt.title('headline')\n",
    "plt.tight_layout()\n",
    "plt.show()\n",
    "\n",
    "plt.title('text')\n",
    "plt.hist(text_len, bins = 40)\n",
    "plt.xlabel('length of samples')\n",
    "plt.ylabel('number of samples')\n",
    "plt.show()\n",
    "\n",
    "plt.title('headline')\n",
    "plt.hist(headline_len, bins = 40)\n",
    "plt.xlabel('length of samples')\n",
    "plt.ylabel('number of samples')\n",
    "plt.show()"
   ]
  },
  {
   "cell_type": "code",
   "execution_count": 16,
   "id": "d464d483",
   "metadata": {},
   "outputs": [],
   "source": [
    "# 최대 길이 정함\n",
    "text_max_len = 45\n",
    "headline_max_len = 12"
   ]
  },
  {
   "cell_type": "code",
   "execution_count": 17,
   "id": "e1fed589",
   "metadata": {},
   "outputs": [],
   "source": [
    "def below_threshold_len(max_len, nested_list):\n",
    "  cnt = 0\n",
    "  for s in nested_list:\n",
    "    if(len(s.split()) <= max_len):\n",
    "        cnt = cnt + 1\n",
    "  print('전체 샘플 중 길이가 %s 이하인 샘플의 비율: %s'%(max_len, (cnt / len(nested_list))))"
   ]
  },
  {
   "cell_type": "code",
   "execution_count": 18,
   "id": "9f44ab9e",
   "metadata": {},
   "outputs": [
    {
     "name": "stdout",
     "output_type": "stream",
     "text": [
      "전체 샘플 중 길이가 45 이하인 샘플의 비율: 0.9967771451809678\n",
      "전체 샘플 중 길이가 12 이하인 샘플의 비율: 0.9880337535583571\n"
     ]
    }
   ],
   "source": [
    "below_threshold_len(text_max_len, data['text'])\n",
    "below_threshold_len(headline_max_len,  data['headlines'])"
   ]
  },
  {
   "cell_type": "code",
   "execution_count": 19,
   "id": "ea96f9d1",
   "metadata": {},
   "outputs": [
    {
     "name": "stdout",
     "output_type": "stream",
     "text": [
      "전체 샘플수 : 96871\n"
     ]
    }
   ],
   "source": [
    "data = data[data['text'].apply(lambda x: len(x.split()) <= text_max_len)]\n",
    "data = data[data['headlines'].apply(lambda x: len(x.split()) <= headline_max_len)]\n",
    "print('전체 샘플수 :', (len(data)))"
   ]
  },
  {
   "cell_type": "code",
   "execution_count": 20,
   "id": "74ea5b2e",
   "metadata": {
    "scrolled": true
   },
   "outputs": [
    {
     "data": {
      "text/html": [
       "<div>\n",
       "<style scoped>\n",
       "    .dataframe tbody tr th:only-of-type {\n",
       "        vertical-align: middle;\n",
       "    }\n",
       "\n",
       "    .dataframe tbody tr th {\n",
       "        vertical-align: top;\n",
       "    }\n",
       "\n",
       "    .dataframe thead th {\n",
       "        text-align: right;\n",
       "    }\n",
       "</style>\n",
       "<table border=\"1\" class=\"dataframe\">\n",
       "  <thead>\n",
       "    <tr style=\"text-align: right;\">\n",
       "      <th></th>\n",
       "      <th>headlines</th>\n",
       "      <th>text</th>\n",
       "      <th>decoder_input</th>\n",
       "      <th>decoder_target</th>\n",
       "    </tr>\n",
       "  </thead>\n",
       "  <tbody>\n",
       "    <tr>\n",
       "      <th>0</th>\n",
       "      <td>upgrad learner switches to career in ml al wit...</td>\n",
       "      <td>saurav kant alumnus upgrad iiit pg program mac...</td>\n",
       "      <td>sostoken upgrad learner switches to career in ...</td>\n",
       "      <td>upgrad learner switches to career in ml al wit...</td>\n",
       "    </tr>\n",
       "    <tr>\n",
       "      <th>1</th>\n",
       "      <td>delhi techie wins free food from swiggy for on...</td>\n",
       "      <td>kunal shah credit card bill payment platform c...</td>\n",
       "      <td>sostoken delhi techie wins free food from swig...</td>\n",
       "      <td>delhi techie wins free food from swiggy for on...</td>\n",
       "    </tr>\n",
       "    <tr>\n",
       "      <th>2</th>\n",
       "      <td>new zealand end rohit sharma led india match w...</td>\n",
       "      <td>new zealand defeated india wickets fourth odi ...</td>\n",
       "      <td>sostoken new zealand end rohit sharma led indi...</td>\n",
       "      <td>new zealand end rohit sharma led india match w...</td>\n",
       "    </tr>\n",
       "    <tr>\n",
       "      <th>3</th>\n",
       "      <td>aegon life iterm insurance plan helps customer...</td>\n",
       "      <td>aegon life iterm insurance plan customers enjo...</td>\n",
       "      <td>sostoken aegon life iterm insurance plan helps...</td>\n",
       "      <td>aegon life iterm insurance plan helps customer...</td>\n",
       "    </tr>\n",
       "    <tr>\n",
       "      <th>5</th>\n",
       "      <td>rahat fateh ali khan denies getting notice for...</td>\n",
       "      <td>pakistani singer rahat fateh ali khan denied r...</td>\n",
       "      <td>sostoken rahat fateh ali khan denies getting n...</td>\n",
       "      <td>rahat fateh ali khan denies getting notice for...</td>\n",
       "    </tr>\n",
       "  </tbody>\n",
       "</table>\n",
       "</div>"
      ],
      "text/plain": [
       "                                           headlines  \\\n",
       "0  upgrad learner switches to career in ml al wit...   \n",
       "1  delhi techie wins free food from swiggy for on...   \n",
       "2  new zealand end rohit sharma led india match w...   \n",
       "3  aegon life iterm insurance plan helps customer...   \n",
       "5  rahat fateh ali khan denies getting notice for...   \n",
       "\n",
       "                                                text  \\\n",
       "0  saurav kant alumnus upgrad iiit pg program mac...   \n",
       "1  kunal shah credit card bill payment platform c...   \n",
       "2  new zealand defeated india wickets fourth odi ...   \n",
       "3  aegon life iterm insurance plan customers enjo...   \n",
       "5  pakistani singer rahat fateh ali khan denied r...   \n",
       "\n",
       "                                       decoder_input  \\\n",
       "0  sostoken upgrad learner switches to career in ...   \n",
       "1  sostoken delhi techie wins free food from swig...   \n",
       "2  sostoken new zealand end rohit sharma led indi...   \n",
       "3  sostoken aegon life iterm insurance plan helps...   \n",
       "5  sostoken rahat fateh ali khan denies getting n...   \n",
       "\n",
       "                                      decoder_target  \n",
       "0  upgrad learner switches to career in ml al wit...  \n",
       "1  delhi techie wins free food from swiggy for on...  \n",
       "2  new zealand end rohit sharma led india match w...  \n",
       "3  aegon life iterm insurance plan helps customer...  \n",
       "5  rahat fateh ali khan denies getting notice for...  "
      ]
     },
     "execution_count": 20,
     "metadata": {},
     "output_type": "execute_result"
    }
   ],
   "source": [
    "# decoder_input과 decoder_output에 각각 시작토큰, 종료토큰 붙여줌\n",
    "data['decoder_input'] = data['headlines'].apply(lambda x : 'sostoken '+ x)\n",
    "data['decoder_target'] = data['headlines'].apply(lambda x : x + ' eostoken')\n",
    "data.head()"
   ]
  },
  {
   "cell_type": "markdown",
   "id": "ba3b7677",
   "metadata": {},
   "source": [
    "train 데이터와 test 데이터를 나눈 뒤 토크나이징을 진행한다."
   ]
  },
  {
   "cell_type": "code",
   "execution_count": 21,
   "id": "1d5f5948",
   "metadata": {},
   "outputs": [],
   "source": [
    "encoder_input = np.array(data['text']) # 인코더의 입력\n",
    "decoder_input = np.array(data['decoder_input']) # 디코더의 입력\n",
    "decoder_target = np.array(data['decoder_target']) # 디코더의 레이블"
   ]
  },
  {
   "cell_type": "code",
   "execution_count": 22,
   "id": "9afe2568",
   "metadata": {},
   "outputs": [
    {
     "name": "stdout",
     "output_type": "stream",
     "text": [
      "[31532 26042  4833 ... 42868 73053  9214]\n"
     ]
    }
   ],
   "source": [
    "indices = np.arange(encoder_input.shape[0])\n",
    "np.random.shuffle(indices)\n",
    "print(indices)"
   ]
  },
  {
   "cell_type": "code",
   "execution_count": 23,
   "id": "0d19ba01",
   "metadata": {},
   "outputs": [],
   "source": [
    "encoder_input = encoder_input[indices]\n",
    "decoder_input = decoder_input[indices]\n",
    "decoder_target = decoder_target[indices]"
   ]
  },
  {
   "cell_type": "code",
   "execution_count": 24,
   "id": "850906d8",
   "metadata": {},
   "outputs": [
    {
     "name": "stdout",
     "output_type": "stream",
     "text": [
      "테스트 데이터의 수 : 19374\n"
     ]
    }
   ],
   "source": [
    "n_of_val = int(len(encoder_input)*0.2)\n",
    "print('테스트 데이터의 수 :', n_of_val)"
   ]
  },
  {
   "cell_type": "code",
   "execution_count": 25,
   "id": "76c24ebc",
   "metadata": {},
   "outputs": [
    {
     "name": "stdout",
     "output_type": "stream",
     "text": [
      "훈련 데이터의 개수 : 77497\n",
      "훈련 레이블의 개수 : 77497\n",
      "테스트 데이터의 개수 : 19374\n",
      "테스트 레이블의 개수 : 19374\n"
     ]
    }
   ],
   "source": [
    "encoder_input_train = encoder_input[:-n_of_val]\n",
    "decoder_input_train = decoder_input[:-n_of_val]\n",
    "decoder_target_train = decoder_target[:-n_of_val]\n",
    "\n",
    "encoder_input_test = encoder_input[-n_of_val:]\n",
    "decoder_input_test = decoder_input[-n_of_val:]\n",
    "decoder_target_test = decoder_target[-n_of_val:]\n",
    "\n",
    "print('훈련 데이터의 개수 :', len(encoder_input_train))\n",
    "print('훈련 레이블의 개수 :', len(decoder_input_train))\n",
    "print('테스트 데이터의 개수 :', len(encoder_input_test))\n",
    "print('테스트 레이블의 개수 :', len(decoder_input_test))"
   ]
  },
  {
   "cell_type": "code",
   "execution_count": 26,
   "id": "4876c938",
   "metadata": {},
   "outputs": [],
   "source": [
    "from tensorflow.keras.preprocessing.text import Tokenizer\n",
    "src_tokenizer = Tokenizer() # 토크나이저 정의\n",
    "src_tokenizer.fit_on_texts(encoder_input_train) # 입력된 데이터로부터 단어 집합 생성"
   ]
  },
  {
   "cell_type": "code",
   "execution_count": 27,
   "id": "ebcb2866",
   "metadata": {},
   "outputs": [
    {
     "name": "stdout",
     "output_type": "stream",
     "text": [
      "단어 집합(vocabulary)의 크기 : 69217\n",
      "등장 빈도가 5번 이하인 희귀 단어의 수: 45331\n",
      "단어 집합에서 희귀 단어를 제외시킬 경우의 단어 집합의 크기 23886\n",
      "단어 집합에서 희귀 단어의 비율: 65.49113657049568\n",
      "전체 등장 빈도에서 희귀 단어 등장 빈도 비율: 3.1123414268464886\n"
     ]
    }
   ],
   "source": [
    "# 단어 토큰의 구성 확인\n",
    "threshold = 6\n",
    "total_cnt = len(src_tokenizer.word_index) # 단어의 수\n",
    "rare_cnt = 0 # 등장 빈도수가 threshold보다 작은 단어의 개수를 카운트\n",
    "total_freq = 0 # 훈련 데이터의 전체 단어 빈도수 총 합\n",
    "rare_freq = 0 # 등장 빈도수가 threshold보다 작은 단어의 등장 빈도수의 총 합\n",
    "\n",
    "# 단어와 빈도수의 쌍(pair)을 key와 value로 받는다.\n",
    "for key, value in src_tokenizer.word_counts.items():\n",
    "    total_freq = total_freq + value\n",
    "\n",
    "    # 단어의 등장 빈도수가 threshold보다 작으면\n",
    "    if(value < threshold):\n",
    "        rare_cnt = rare_cnt + 1\n",
    "        rare_freq = rare_freq + value\n",
    "\n",
    "print('단어 집합(vocabulary)의 크기 :', total_cnt)\n",
    "print('등장 빈도가 %s번 이하인 희귀 단어의 수: %s'%(threshold - 1, rare_cnt))\n",
    "print('단어 집합에서 희귀 단어를 제외시킬 경우의 단어 집합의 크기 %s'%(total_cnt - rare_cnt))\n",
    "print(\"단어 집합에서 희귀 단어의 비율:\", (rare_cnt / total_cnt)*100)\n",
    "print(\"전체 등장 빈도에서 희귀 단어 등장 빈도 비율:\", (rare_freq / total_freq)*100)"
   ]
  },
  {
   "cell_type": "code",
   "execution_count": 28,
   "id": "f86af4ea",
   "metadata": {},
   "outputs": [],
   "source": [
    "# 단어집합의 크기 제한, Tokenizer는 빈도가 큰 단어부터 토크나이징한다.\n",
    "src_vocab = 23000\n",
    "src_tokenizer = Tokenizer(num_words=src_vocab) # 단어 집합의 크기를 8,000으로 제한\n",
    "src_tokenizer.fit_on_texts(encoder_input_train) # 단어 집합 재생성"
   ]
  },
  {
   "cell_type": "code",
   "execution_count": 29,
   "id": "73236bd9",
   "metadata": {},
   "outputs": [
    {
     "name": "stdout",
     "output_type": "stream",
     "text": [
      "[[803, 1188, 1, 6107, 1589, 2261, 2077, 1, 2077, 1908, 267, 580, 680, 11158, 539, 2261, 2077, 589, 11, 2077, 2102, 1188, 4, 906, 8057, 2898, 400, 2261, 2077], [3061, 487, 2219, 6819, 18218, 809, 4499, 438, 2150, 1680, 552, 11159, 2054, 8327, 989, 67, 6, 1261, 2884, 14193, 357, 2219, 552, 2536, 31, 2785, 477, 6198, 35, 2353, 694, 3400, 2375], [1604, 973, 3251, 4102, 1357, 43, 342, 634, 482, 50, 243, 148, 483, 418, 1013, 1127, 786, 273, 44, 232, 582, 196, 22, 6, 70, 235, 684, 196, 786, 19295, 411, 148, 418, 1013, 6478, 103, 668, 5239, 530, 63]]\n"
     ]
    }
   ],
   "source": [
    "# 텍스트 시퀀스를 정수 시퀀스로 변환\n",
    "encoder_input_train = src_tokenizer.texts_to_sequences(encoder_input_train) \n",
    "encoder_input_test = src_tokenizer.texts_to_sequences(encoder_input_test)\n",
    "\n",
    "# 잘 진행되었는지 샘플 출력\n",
    "print(encoder_input_train[:3])"
   ]
  },
  {
   "cell_type": "code",
   "execution_count": 30,
   "id": "21347f1d",
   "metadata": {},
   "outputs": [],
   "source": [
    "tar_tokenizer = Tokenizer()\n",
    "tar_tokenizer.fit_on_texts(decoder_input_train)"
   ]
  },
  {
   "cell_type": "code",
   "execution_count": 31,
   "id": "a9354792",
   "metadata": {},
   "outputs": [
    {
     "name": "stdout",
     "output_type": "stream",
     "text": [
      "단어 집합(vocabulary)의 크기 : 29914\n",
      "등장 빈도가 4번 이하인 희귀 단어의 수: 18414\n",
      "단어 집합에서 희귀 단어를 제외시킬 경우의 단어 집합의 크기 11500\n",
      "단어 집합에서 희귀 단어의 비율: 61.55646185732433\n",
      "전체 등장 빈도에서 희귀 단어 등장 빈도 비율: 3.996117438667743\n"
     ]
    }
   ],
   "source": [
    "threshold = 5\n",
    "total_cnt = len(tar_tokenizer.word_index) # 단어의 수\n",
    "rare_cnt = 0 # 등장 빈도수가 threshold보다 작은 단어의 개수를 카운트\n",
    "total_freq = 0 # 훈련 데이터의 전체 단어 빈도수 총 합\n",
    "rare_freq = 0 # 등장 빈도수가 threshold보다 작은 단어의 등장 빈도수의 총 합\n",
    "\n",
    "# 단어와 빈도수의 쌍(pair)을 key와 value로 받는다.\n",
    "for key, value in tar_tokenizer.word_counts.items():\n",
    "    total_freq = total_freq + value\n",
    "\n",
    "    # 단어의 등장 빈도수가 threshold보다 작으면\n",
    "    if(value < threshold):\n",
    "        rare_cnt = rare_cnt + 1\n",
    "        rare_freq = rare_freq + value\n",
    "\n",
    "print('단어 집합(vocabulary)의 크기 :', total_cnt)\n",
    "print('등장 빈도가 %s번 이하인 희귀 단어의 수: %s'%(threshold - 1, rare_cnt))\n",
    "print('단어 집합에서 희귀 단어를 제외시킬 경우의 단어 집합의 크기 %s'%(total_cnt - rare_cnt))\n",
    "print(\"단어 집합에서 희귀 단어의 비율:\", (rare_cnt / total_cnt)*100)\n",
    "print(\"전체 등장 빈도에서 희귀 단어 등장 빈도 비율:\", (rare_freq / total_freq)*100)"
   ]
  },
  {
   "cell_type": "code",
   "execution_count": 32,
   "id": "368274eb",
   "metadata": {},
   "outputs": [
    {
     "name": "stdout",
     "output_type": "stream",
     "text": [
      "input\n",
      "input  [[1, 433, 19, 7620, 3540, 4, 4501, 2166, 724, 668], [1, 77, 194, 3541, 1797, 4, 4220, 764, 3202, 244], [1, 454, 301, 572, 52, 413, 2942, 2817, 1543, 470, 49, 802], [1, 1422, 1179, 111, 77, 6], [1, 123, 471, 205, 107, 6, 1977, 4653, 89, 993, 107, 617]]\n",
      "target\n",
      "decoder  [[433, 19, 7620, 3540, 4, 4501, 2166, 724, 668, 2], [77, 194, 3541, 1797, 4, 4220, 764, 3202, 244, 2], [454, 301, 572, 52, 413, 2942, 2817, 1543, 470, 49, 802, 2], [1422, 1179, 111, 77, 6, 2], [123, 471, 205, 107, 6, 1977, 4653, 89, 993, 107, 617, 2]]\n"
     ]
    }
   ],
   "source": [
    "tar_vocab = 11500\n",
    "tar_tokenizer = Tokenizer(num_words=tar_vocab) \n",
    "tar_tokenizer.fit_on_texts(decoder_input_train)\n",
    "tar_tokenizer.fit_on_texts(decoder_target_train)\n",
    "\n",
    "# 텍스트 시퀀스를 정수 시퀀스로 변환\n",
    "decoder_input_train = tar_tokenizer.texts_to_sequences(decoder_input_train) \n",
    "decoder_target_train = tar_tokenizer.texts_to_sequences(decoder_target_train)\n",
    "decoder_input_test = tar_tokenizer.texts_to_sequences(decoder_input_test)\n",
    "decoder_target_test = tar_tokenizer.texts_to_sequences(decoder_target_test)\n",
    "\n",
    "# 잘 변환되었는지 확인\n",
    "print('input')\n",
    "print('input ',decoder_input_train[:5])\n",
    "print('target')\n",
    "print('decoder ',decoder_target_train[:5])"
   ]
  },
  {
   "cell_type": "code",
   "execution_count": 33,
   "id": "93aba185",
   "metadata": {},
   "outputs": [
    {
     "name": "stdout",
     "output_type": "stream",
     "text": [
      "삭제할 훈련 데이터의 개수 : 0\n",
      "삭제할 테스트 데이터의 개수 : 0\n",
      "훈련 데이터의 개수 : 77497\n",
      "훈련 레이블의 개수 : 77497\n",
      "테스트 데이터의 개수 : 19374\n",
      "테스트 레이블의 개수 : 19374\n"
     ]
    }
   ],
   "source": [
    "# 데이터의 길이가 1인 경우의 인덱스를 저장 후 삭제.. 하려 했으나 그런 경우는 없음을 확인함\n",
    "drop_train = [index for index, sentence in enumerate(decoder_input_train) if len(sentence) == 1]\n",
    "drop_test = [index for index, sentence in enumerate(decoder_input_test) if len(sentence) == 1]\n",
    "\n",
    "print('삭제할 훈련 데이터의 개수 :', len(drop_train))\n",
    "print('삭제할 테스트 데이터의 개수 :', len(drop_test))\n",
    "\n",
    "encoder_input_train = [sentence for index, sentence in enumerate(encoder_input_train) if index not in drop_train]\n",
    "decoder_input_train = [sentence for index, sentence in enumerate(decoder_input_train) if index not in drop_train]\n",
    "decoder_target_train = [sentence for index, sentence in enumerate(decoder_target_train) if index not in drop_train]\n",
    "\n",
    "encoder_input_test = [sentence for index, sentence in enumerate(encoder_input_test) if index not in drop_test]\n",
    "decoder_input_test = [sentence for index, sentence in enumerate(decoder_input_test) if index not in drop_test]\n",
    "decoder_target_test = [sentence for index, sentence in enumerate(decoder_target_test) if index not in drop_test]\n",
    "\n",
    "print('훈련 데이터의 개수 :', len(encoder_input_train))\n",
    "print('훈련 레이블의 개수 :', len(decoder_input_train))\n",
    "print('테스트 데이터의 개수 :', len(encoder_input_test))\n",
    "print('테스트 레이블의 개수 :', len(decoder_input_test))"
   ]
  },
  {
   "cell_type": "code",
   "execution_count": 34,
   "id": "7b8a21ce",
   "metadata": {},
   "outputs": [],
   "source": [
    "from tensorflow.keras.preprocessing.sequence import pad_sequences\n",
    "encoder_input_train = pad_sequences(encoder_input_train, maxlen=text_max_len, padding='post')\n",
    "encoder_input_test = pad_sequences(encoder_input_test, maxlen=text_max_len, padding='post')\n",
    "decoder_input_train = pad_sequences(decoder_input_train, maxlen=headline_max_len, padding='post')\n",
    "decoder_target_train = pad_sequences(decoder_target_train, maxlen=headline_max_len, padding='post')\n",
    "decoder_input_test = pad_sequences(decoder_input_test, maxlen=headline_max_len, padding='post')\n",
    "decoder_target_test = pad_sequences(decoder_target_test, maxlen=headline_max_len, padding='post')"
   ]
  },
  {
   "cell_type": "markdown",
   "id": "98dc7046",
   "metadata": {},
   "source": [
    "### 모델 설계하기"
   ]
  },
  {
   "cell_type": "code",
   "execution_count": 35,
   "id": "ed79fd52",
   "metadata": {},
   "outputs": [],
   "source": [
    "from tensorflow.keras.layers import Input, LSTM, Embedding, Dense, Concatenate, TimeDistributed\n",
    "from tensorflow.keras.models import Model\n",
    "from tensorflow.keras.callbacks import EarlyStopping, ModelCheckpoint\n",
    "\n",
    "\n",
    "# 인코더 설계 시작\n",
    "embedding_dim = 128\n",
    "hidden_size = 256\n",
    "\n",
    "# 인코더\n",
    "encoder_inputs = Input(shape=(text_max_len,))\n",
    "\n",
    "# 인코더의 임베딩 층\n",
    "enc_emb = Embedding(src_vocab, embedding_dim)(encoder_inputs)\n",
    "\n",
    "# 인코더의 LSTM 1\n",
    "# encoder_lstm1 = LSTM(hidden_size, return_sequences=True, return_state=True ,dropout = 0.4, recurrent_dropout = 0.4)\n",
    "encoder_lstm1 = LSTM(hidden_size, return_sequences=True, return_state=True ,dropout = 0.4)\n",
    "encoder_output1, state_h1, state_c1 = encoder_lstm1(enc_emb)\n",
    "\n",
    "# 인코더의 LSTM 2\n",
    "# encoder_lstm2 = LSTM(hidden_size, return_sequences=True, return_state=True, dropout=0.4, recurrent_dropout=0.4)\n",
    "encoder_lstm2 = LSTM(hidden_size, return_sequences=True, return_state=True, dropout=0.4)\n",
    "encoder_output2, state_h2, state_c2 = encoder_lstm2(encoder_output1)\n",
    "\n",
    "# 인코더의 LSTM 3\n",
    "# encoder_lstm3 = LSTM(hidden_size, return_state=True, return_sequences=True, dropout=0.4, recurrent_dropout=0.4)\n",
    "encoder_lstm3 = LSTM(hidden_size, return_state=True, return_sequences=True, dropout=0.4)\n",
    "encoder_outputs, state_h, state_c= encoder_lstm3(encoder_output2)"
   ]
  },
  {
   "cell_type": "code",
   "execution_count": 36,
   "id": "70af0c9a",
   "metadata": {},
   "outputs": [],
   "source": [
    "# 디코더 설계\n",
    "decoder_inputs = Input(shape=(None,))\n",
    "\n",
    "# 디코더의 임베딩 층\n",
    "dec_emb_layer = Embedding(tar_vocab, embedding_dim)\n",
    "dec_emb = dec_emb_layer(decoder_inputs)\n",
    "\n",
    "# 디코더의 LSTM\n",
    "# decoder_lstm = LSTM(hidden_size, return_sequences=True, return_state=True, dropout=0.4, recurrent_dropout=0.2)\n",
    "decoder_lstm = LSTM(hidden_size, return_sequences=True, return_state=True, dropout=0.4)\n",
    "decoder_outputs, _, _ = decoder_lstm(dec_emb, initial_state=[state_h, state_c])"
   ]
  },
  {
   "cell_type": "code",
   "execution_count": 37,
   "id": "565f2477",
   "metadata": {},
   "outputs": [
    {
     "name": "stdout",
     "output_type": "stream",
     "text": [
      "Model: \"model\"\n",
      "__________________________________________________________________________________________________\n",
      "Layer (type)                    Output Shape         Param #     Connected to                     \n",
      "==================================================================================================\n",
      "input_1 (InputLayer)            [(None, 45)]         0                                            \n",
      "__________________________________________________________________________________________________\n",
      "embedding (Embedding)           (None, 45, 128)      2944000     input_1[0][0]                    \n",
      "__________________________________________________________________________________________________\n",
      "lstm (LSTM)                     [(None, 45, 256), (N 394240      embedding[0][0]                  \n",
      "__________________________________________________________________________________________________\n",
      "input_2 (InputLayer)            [(None, None)]       0                                            \n",
      "__________________________________________________________________________________________________\n",
      "lstm_1 (LSTM)                   [(None, 45, 256), (N 525312      lstm[0][0]                       \n",
      "__________________________________________________________________________________________________\n",
      "embedding_1 (Embedding)         (None, None, 128)    1472000     input_2[0][0]                    \n",
      "__________________________________________________________________________________________________\n",
      "lstm_2 (LSTM)                   [(None, 45, 256), (N 525312      lstm_1[0][0]                     \n",
      "__________________________________________________________________________________________________\n",
      "lstm_3 (LSTM)                   [(None, None, 256),  394240      embedding_1[0][0]                \n",
      "                                                                 lstm_2[0][1]                     \n",
      "                                                                 lstm_2[0][2]                     \n",
      "__________________________________________________________________________________________________\n",
      "dense (Dense)                   (None, None, 11500)  2955500     lstm_3[0][0]                     \n",
      "==================================================================================================\n",
      "Total params: 9,210,604\n",
      "Trainable params: 9,210,604\n",
      "Non-trainable params: 0\n",
      "__________________________________________________________________________________________________\n"
     ]
    }
   ],
   "source": [
    "# 디코더의 출력층\n",
    "decoder_softmax_layer = Dense(tar_vocab, activation='softmax')\n",
    "decoder_softmax_outputs = decoder_softmax_layer(decoder_outputs) \n",
    "\n",
    "# 모델 정의\n",
    "model = Model([encoder_inputs, decoder_inputs], decoder_softmax_outputs)\n",
    "model.summary()"
   ]
  },
  {
   "cell_type": "code",
   "execution_count": 38,
   "id": "7d3436de",
   "metadata": {},
   "outputs": [
    {
     "name": "stdout",
     "output_type": "stream",
     "text": [
      "Model: \"model_1\"\n",
      "__________________________________________________________________________________________________\n",
      "Layer (type)                    Output Shape         Param #     Connected to                     \n",
      "==================================================================================================\n",
      "input_1 (InputLayer)            [(None, 45)]         0                                            \n",
      "__________________________________________________________________________________________________\n",
      "embedding (Embedding)           (None, 45, 128)      2944000     input_1[0][0]                    \n",
      "__________________________________________________________________________________________________\n",
      "lstm (LSTM)                     [(None, 45, 256), (N 394240      embedding[0][0]                  \n",
      "__________________________________________________________________________________________________\n",
      "input_2 (InputLayer)            [(None, None)]       0                                            \n",
      "__________________________________________________________________________________________________\n",
      "lstm_1 (LSTM)                   [(None, 45, 256), (N 525312      lstm[0][0]                       \n",
      "__________________________________________________________________________________________________\n",
      "embedding_1 (Embedding)         (None, None, 128)    1472000     input_2[0][0]                    \n",
      "__________________________________________________________________________________________________\n",
      "lstm_2 (LSTM)                   [(None, 45, 256), (N 525312      lstm_1[0][0]                     \n",
      "__________________________________________________________________________________________________\n",
      "lstm_3 (LSTM)                   [(None, None, 256),  394240      embedding_1[0][0]                \n",
      "                                                                 lstm_2[0][1]                     \n",
      "                                                                 lstm_2[0][2]                     \n",
      "__________________________________________________________________________________________________\n",
      "attention_layer (AdditiveAttent (None, None, 256)    256         lstm_3[0][0]                     \n",
      "                                                                 lstm_2[0][0]                     \n",
      "__________________________________________________________________________________________________\n",
      "concat_layer (Concatenate)      (None, None, 512)    0           lstm_3[0][0]                     \n",
      "                                                                 attention_layer[0][0]            \n",
      "__________________________________________________________________________________________________\n",
      "dense_1 (Dense)                 (None, None, 11500)  5899500     concat_layer[0][0]               \n",
      "==================================================================================================\n",
      "Total params: 12,154,860\n",
      "Trainable params: 12,154,860\n",
      "Non-trainable params: 0\n",
      "__________________________________________________________________________________________________\n"
     ]
    }
   ],
   "source": [
    "from tensorflow.keras.layers import AdditiveAttention\n",
    "\n",
    "# 어텐션 층(어텐션 함수)\n",
    "attn_layer = AdditiveAttention(name='attention_layer')\n",
    "\n",
    "# 인코더와 디코더의 모든 time step의 hidden state를 어텐션 층에 전달하고 결과를 리턴\n",
    "attn_out = attn_layer([decoder_outputs, encoder_outputs])\n",
    "\n",
    "\n",
    "# 어텐션의 결과와 디코더의 hidden state들을 연결\n",
    "decoder_concat_input = Concatenate(axis=-1, name='concat_layer')([decoder_outputs, attn_out])\n",
    "\n",
    "# 디코더의 출력층\n",
    "decoder_softmax_layer = Dense(tar_vocab, activation='softmax')\n",
    "decoder_softmax_outputs = decoder_softmax_layer(decoder_concat_input)\n",
    "\n",
    "# 모델 정의\n",
    "model = Model([encoder_inputs, decoder_inputs], decoder_softmax_outputs)\n",
    "model.summary()"
   ]
  },
  {
   "cell_type": "code",
   "execution_count": 39,
   "id": "dc39749c",
   "metadata": {},
   "outputs": [
    {
     "name": "stdout",
     "output_type": "stream",
     "text": [
      "Epoch 1/50\n",
      "303/303 [==============================] - 56s 105ms/step - loss: 5.7386 - val_loss: 5.3214\n",
      "Epoch 2/50\n",
      "303/303 [==============================] - 31s 103ms/step - loss: 5.1256 - val_loss: 4.9094\n",
      "Epoch 3/50\n",
      "303/303 [==============================] - 32s 106ms/step - loss: 4.7864 - val_loss: 4.6626\n",
      "Epoch 4/50\n",
      "303/303 [==============================] - 33s 108ms/step - loss: 4.5330 - val_loss: 4.4680\n",
      "Epoch 5/50\n",
      "303/303 [==============================] - 33s 108ms/step - loss: 4.3285 - val_loss: 4.3319\n",
      "Epoch 6/50\n",
      "303/303 [==============================] - 33s 108ms/step - loss: 4.1558 - val_loss: 4.2207\n",
      "Epoch 7/50\n",
      "303/303 [==============================] - 33s 108ms/step - loss: 4.0087 - val_loss: 4.1271\n",
      "Epoch 8/50\n",
      "303/303 [==============================] - 33s 109ms/step - loss: 3.8802 - val_loss: 4.0640\n",
      "Epoch 9/50\n",
      "303/303 [==============================] - 33s 108ms/step - loss: 3.7675 - val_loss: 4.0006\n",
      "Epoch 10/50\n",
      "303/303 [==============================] - 33s 108ms/step - loss: 3.6651 - val_loss: 3.9498\n",
      "Epoch 11/50\n",
      "303/303 [==============================] - 33s 108ms/step - loss: 3.5726 - val_loss: 3.9120\n",
      "Epoch 12/50\n",
      "303/303 [==============================] - 33s 109ms/step - loss: 3.4898 - val_loss: 3.8774\n",
      "Epoch 13/50\n",
      "303/303 [==============================] - 33s 109ms/step - loss: 3.4123 - val_loss: 3.8512\n",
      "Epoch 14/50\n",
      "303/303 [==============================] - 33s 108ms/step - loss: 3.3433 - val_loss: 3.8305\n",
      "Epoch 15/50\n",
      "303/303 [==============================] - 33s 109ms/step - loss: 3.2790 - val_loss: 3.8037\n",
      "Epoch 16/50\n",
      "303/303 [==============================] - 33s 109ms/step - loss: 3.2183 - val_loss: 3.7917\n",
      "Epoch 17/50\n",
      "303/303 [==============================] - 33s 109ms/step - loss: 3.1611 - val_loss: 3.7770\n",
      "Epoch 18/50\n",
      "303/303 [==============================] - 33s 108ms/step - loss: 3.1097 - val_loss: 3.7669\n",
      "Epoch 19/50\n",
      "303/303 [==============================] - 33s 109ms/step - loss: 3.0552 - val_loss: 3.7638\n",
      "Epoch 20/50\n",
      "303/303 [==============================] - 33s 109ms/step - loss: 3.0048 - val_loss: 3.7491\n",
      "Epoch 21/50\n",
      "303/303 [==============================] - 33s 109ms/step - loss: 2.9579 - val_loss: 3.7414\n",
      "Epoch 22/50\n",
      "303/303 [==============================] - 33s 109ms/step - loss: 2.9188 - val_loss: 3.7415\n",
      "Epoch 23/50\n",
      "303/303 [==============================] - 33s 109ms/step - loss: 2.8803 - val_loss: 3.7427\n",
      "Epoch 00023: early stopping\n"
     ]
    }
   ],
   "source": [
    "model.compile(optimizer='rmsprop', loss='sparse_categorical_crossentropy')\n",
    "es = EarlyStopping(monitor='val_loss', patience=2, verbose=1)\n",
    "history = model.fit(x=[encoder_input_train, decoder_input_train], y=decoder_target_train, \\\n",
    "          validation_data=([encoder_input_test, decoder_input_test], decoder_target_test), \\\n",
    "          batch_size=256, callbacks=[es], epochs=50)"
   ]
  },
  {
   "cell_type": "code",
   "execution_count": 40,
   "id": "ee1f136b",
   "metadata": {
    "scrolled": true
   },
   "outputs": [
    {
     "data": {
      "image/png": "[encoded data removed]",
      "text/plain": [
       "<Figure size 432x288 with 1 Axes>"
      ]
     },
     "metadata": {
      "needs_background": "light"
     },
     "output_type": "display_data"
    }
   ],
   "source": [
    "plt.plot(history.history['loss'], label='train')\n",
    "plt.plot(history.history['val_loss'], label='test')\n",
    "plt.legend()\n",
    "plt.show()"
   ]
  },
  {
   "cell_type": "markdown",
   "id": "c77188a4",
   "metadata": {},
   "source": [
    "### 실제 요약문 도출 및 비교"
   ]
  },
  {
   "cell_type": "code",
   "execution_count": 41,
   "id": "02f272e1",
   "metadata": {},
   "outputs": [],
   "source": [
    "src_index_to_word = src_tokenizer.index_word # 원문 단어 집합에서 정수 -> 단어를 얻음\n",
    "tar_word_to_index = tar_tokenizer.word_index # 요약 단어 집합에서 단어 -> 정수를 얻음\n",
    "tar_index_to_word = tar_tokenizer.index_word # 요약 단어 집합에서 정수 -> 단어를 얻음"
   ]
  },
  {
   "cell_type": "code",
   "execution_count": 42,
   "id": "9f17fcbc",
   "metadata": {},
   "outputs": [],
   "source": [
    "# 인코더 설계\n",
    "encoder_model = Model(inputs=encoder_inputs, outputs=[encoder_outputs, state_h, state_c])\n",
    "\n",
    "# 이전 시점의 상태들을 저장하는 텐서\n",
    "decoder_state_input_h = Input(shape=(hidden_size,))\n",
    "decoder_state_input_c = Input(shape=(hidden_size,))\n",
    "\n",
    "dec_emb2 = dec_emb_layer(decoder_inputs)\n",
    "\n",
    "# 문장의 다음 단어를 예측하기 위해서 초기 상태(initial_state)를 이전 시점의 상태로 사용. 이는 뒤의 함수 decode_sequence()에 구현\n",
    "# 훈련 과정에서와 달리 LSTM의 리턴하는 은닉 상태와 셀 상태인 state_h와 state_c를 버리지 않음.\n",
    "decoder_outputs2, state_h2, state_c2 = decoder_lstm(dec_emb2, initial_state=[decoder_state_input_h, decoder_state_input_c])"
   ]
  },
  {
   "cell_type": "code",
   "execution_count": 43,
   "id": "0a1ca4a5",
   "metadata": {},
   "outputs": [],
   "source": [
    "# 어텐션 함수\n",
    "decoder_hidden_state_input = Input(shape=(text_max_len, hidden_size))\n",
    "attn_out_inf = attn_layer([decoder_outputs2, decoder_hidden_state_input])\n",
    "decoder_inf_concat = Concatenate(axis=-1, name='concat')([decoder_outputs2, attn_out_inf])\n",
    "\n",
    "# 디코더의 출력층\n",
    "decoder_outputs2 = decoder_softmax_layer(decoder_inf_concat) \n",
    "\n",
    "# 최종 디코더 모델\n",
    "decoder_model = Model(\n",
    "    [decoder_inputs] + [decoder_hidden_state_input,decoder_state_input_h, decoder_state_input_c],\n",
    "    [decoder_outputs2] + [state_h2, state_c2])"
   ]
  },
  {
   "cell_type": "code",
   "execution_count": 48,
   "id": "a3446c59",
   "metadata": {},
   "outputs": [],
   "source": [
    "def decode_sequence(input_seq):\n",
    "    # 입력으로부터 인코더의 상태를 얻음\n",
    "    e_out, e_h, e_c = encoder_model.predict(input_seq)\n",
    "\n",
    "     # <SOS>에 해당하는 토큰 생성\n",
    "    target_seq = np.zeros((1,1))\n",
    "    target_seq[0, 0] = tar_word_to_index['sostoken']\n",
    "\n",
    "    stop_condition = False\n",
    "    decoded_sentence = ''\n",
    "    while not stop_condition: # stop_condition이 True가 될 때까지 루프 반복\n",
    "\n",
    "        output_tokens, h, c = decoder_model.predict([target_seq] + [e_out, e_h, e_c])\n",
    "        sampled_token_index = np.argmax(output_tokens[0, -1, :])\n",
    "        sampled_token = tar_index_to_word[sampled_token_index]\n",
    "\n",
    "        if (sampled_token!='eostoken'):\n",
    "            decoded_sentence += ' '+sampled_token\n",
    "\n",
    "        #  <eos>에 도달하거나 최대 길이를 넘으면 중단.\n",
    "        if (sampled_token == 'eostoken'  or len(decoded_sentence.split()) >= (headline_max_len-1)):\n",
    "            stop_condition = True\n",
    "\n",
    "        # 길이가 1인 타겟 시퀀스를 업데이트\n",
    "        target_seq = np.zeros((1,1))\n",
    "        target_seq[0, 0] = sampled_token_index\n",
    "\n",
    "        # 상태를 업데이트 합니다.\n",
    "        e_h, e_c = h, c\n",
    "\n",
    "    return decoded_sentence"
   ]
  },
  {
   "cell_type": "code",
   "execution_count": 49,
   "id": "2aecf9d3",
   "metadata": {},
   "outputs": [],
   "source": [
    "# 원문의 정수 시퀀스를 텍스트 시퀀스로 변환\n",
    "def seq2text(input_seq):\n",
    "    temp=''\n",
    "    for i in input_seq:\n",
    "        if (i!=0):\n",
    "            temp = temp + src_index_to_word[i]+' '\n",
    "    return temp\n",
    "\n",
    "# 요약문의 정수 시퀀스를 텍스트 시퀀스로 변환\n",
    "def seq2headline(input_seq):\n",
    "    temp=''\n",
    "    for i in input_seq:\n",
    "        if ((i!=0 and i!=tar_word_to_index['sostoken']) and i!=tar_word_to_index['eostoken']):\n",
    "            temp = temp + tar_index_to_word[i] + ' '\n",
    "    return temp"
   ]
  },
  {
   "cell_type": "code",
   "execution_count": 50,
   "id": "8ac22692",
   "metadata": {},
   "outputs": [
    {
     "name": "stdout",
     "output_type": "stream",
     "text": [
      "원문 : actress asha parekh thursday said union minister nitin gadkari claim chased padma bhushan hurtful right thing matter controversies part film industry added parekh told entitled award contributions gadkari claimed \n",
      "실제 요약 : gadkari saying chased padma bhushan asha parekh \n",
      "예측 요약 :  do not know what is not in my film anupam on\n",
      "\n",
      "\n",
      "원문 : elon musk led aerospace startup spacex sunday scrapped planned launch spy satellite us military last minute launch due family sensor issue startup attempt launch secretive payload orbit falcon rocket monday \n",
      "실제 요약 : spacex scraps launch of us spy satellite at the last minute \n",
      "예측 요약 :  spacex to launch us military if he is not\n",
      "\n",
      "\n",
      "원문 : tirumala tirupati devasthanams accused stealing ornaments lord venkateswara temple andhra decided exhibit jewellery end controversy jewellery put display media june theft allegations made former ttd chief priest ramana slapped crore defamation case \n",
      "실제 요약 : to exhibit tirumala temple jewellery amid theft allegations \n",
      "예측 요약 :  andhra school teacher found in andhra pradesh\n",
      "\n",
      "\n",
      "원문 : amul bigger brand rival hindustan unilever gujarat cooperative milk marketing federation managing director rs sodhi said saturday sales turnover amul crore including revenue crore sodhi stated amul owned sold village cooperative societies outside formal distribution channel gujarat added \n",
      "실제 요약 : amul is bigger brand than hindustan unilever says md \n",
      "예측 요약 :  sebi makes cr to resume crore tax evasion\n",
      "\n",
      "\n",
      "원문 : congress chief rahul gandhi asked congress alliance governments pass resolution assemblies ask centre pass women reservation bill next session bill seeks reservation seats women lok sabha assemblies bill passed rajya sabha th lok sabha dissolved \n",
      "실제 요약 : rahul urges cong states to support women reservation bill \n",
      "예측 요약 :  reservation for reservation bill to reservation bill rahul\n",
      "\n",
      "\n",
      "원문 : american reality television star kim kardashian recently appeared tv show jimmy kimmel live revealed shooting nude us president donald trump called accept proposal meeting naked phone rings said put robe kinda shoot added \n",
      "실제 요약 : was naked when trump called on my phone kim kardashian \n",
      "예측 요약 :  kim kardashian to be held with kim show in us\n",
      "\n",
      "\n",
      "원문 : anganwadi worker approached bombay high court challenging maharashtra government decision dismiss job two children informed government resolution mandating state employees various departments two children however claimed resolution came effect already pregnant third child \n",
      "실제 요약 : anganwadi worker sacked for having kids moves bombay hc \n",
      "예측 요약 :  hc asks maha govt to abort over kids to abort week\n",
      "\n",
      "\n",
      "원문 : suman kumari become first hindu woman appointed civil judge pakistan passing examination induction judicial officers kumari hails serve native district opted challenging profession sure go places hard work honesty father said \n",
      "실제 요약 : pakistan appoints its first ever female hindu civil judge \n",
      "예측 요약 :  st woman to be st female female board\n",
      "\n",
      "\n",
      "원문 : year old boy ireland accidentally drained mother bank account playing fifa mother said debit card registered playstation used purchase game son later made game purchases without realising money deducted account meanwhile sony refused reimburse amount \n",
      "실제 요약 : year old mother bank account while playing fifa \n",
      "예측 요약 :  year old boy gets year old pet challenge for billion\n",
      "\n",
      "\n",
      "원문 : around government doctors reportedly given declarations stating prescribe medicines private pharmacies bengaluru comes state government said doctors cannot draw july salaries unless submit declaration doctors asked use arogya raksha samiti funds procure drugs locally unavailable government pharmacies \n",
      "실제 요약 : luru govt docs not to drugs from pvt \n",
      "예측 요약 :  delhi doctors to get action if doctors lose hospitals\n",
      "\n",
      "\n",
      "원문 : three wwe wrestlers played tug war year old lion cub confinement san antonio zoo usa wrestlers tried pull rope towards side failed move cub pulling inside confinement using jaws three wrestlers part wwe live shows \n",
      "실제 요약 : wwe wrestlers lose to lion cub in of war \n",
      "예측 요약 :  player who shot in south korea to fight\n",
      "\n",
      "\n",
      "원문 : american electric carmaker tesla recalled model cars second row fold flat seats built october august safety issues tesla found seat left side second row seats could move forward crash tesla said received reports accidents relating issue \n",
      "실제 요약 : tesla recalls model cars over safety issue \n",
      "예측 요약 :  tesla fires workers for not us over us open\n",
      "\n",
      "\n",
      "원문 : dormant volcano island papua new guinea erupted first time known history nearly island covered lava since volcano began erupt friday according reports experts warned may generated due explosive nature magma \n",
      "실제 요약 : volcano in new guinea erupts for st time \n",
      "예측 요약 :  volcano volcano erupts in st time since years\n",
      "\n",
      "\n",
      "원문 : tesla ceo elon musk wednesday responded investors seeking addition independent directors electric carmaker board suggesting buy rival carmaker ford stock five investment groups penned letter urging tesla appoint directors ties elon musk elect directors annually citing concerns company governance \n",
      "실제 요약 : musk asks investors tesla board to buy ford stock \n",
      "예측 요약 :  elon musk asks tesla to take tesla private private firm\n",
      "\n",
      "\n",
      "원문 : online furniture startup urban ladder raised around crore funding existing investors filings revealed round reportedly valued startup crore led kalaari capital sequoia capital capital saif partners founded bengaluru based startup retails furniture including sets beds platform \n",
      "실제 요약 : furniture startup urban ladder raises crore \n",
      "예측 요약 :  startup raises crore from others\n",
      "\n",
      "\n",
      "원문 : facebook shutting text based assistant launched facebook said assistant stop operating january added taking useful insights platform power artificial intelligence projects could solve several queries facebook messenger app gift recommendations table reservations restaurants among others \n",
      "실제 요약 : facebook shuts down digital assistant \n",
      "예측 요약 :  facebook to launch its own feature in years\n",
      "\n",
      "\n",
      "원문 : bjp leader subramanian swamy monday said sexual orientation punished section criminalises homosexuality long celebrate create gay bars select partners problem added comes supreme court ordered review section \n",
      "실제 요약 : gay people will be punished only if they it swamy \n",
      "예측 요약 :  swamy has not swamy on swamy\n",
      "\n",
      "\n",
      "원문 : baahubali set dubbed chinese japanese korean taiwanese per producer want make baahubali accessible non english speaking audiences world said added makers decided start china seeing incredible number theatres across china \n",
      "실제 요약 : baahubali to be in chinese japanese korean \n",
      "예측 요약 :  china to launch its film on china reports\n",
      "\n",
      "\n",
      "원문 : congress president rahul gandhi said party voted power general elections waive farm loans within days forming government addressing gathering karnataka added pm modi could waive farmers loans karnataka cm siddaramaiah \n",
      "실제 요약 : will waive off all farm loans if elected in rahul \n",
      "예측 요약 :  rahul gandhi is the biggest of india says rahul\n",
      "\n",
      "\n",
      "원문 : total people arrested violating bihar liquor ban year since announcement april principal secretary excise prohibition amir said friday authorities also seized lakh litres india made foreign liquor lakh litres domestic litres beer till april year \n",
      "실제 요약 : over arrests made in year under bihar liquor law \n",
      "예측 요약 :  bihar police to give liquor to liquor ban\n",
      "\n",
      "\n",
      "원문 : aged years months rafael nadal made professional debut open april world number defeated paraguay match become ninth player open era win atp tour match turning nadal regarded best clay court player \n",
      "실제 요약 : years since rafael nadal made his professional debut \n",
      "예측 요약 :  yr old becomes st to win in the world\n",
      "\n",
      "\n",
      "원문 : twitter posted profit second consecutive quarter suffering losses years since founded twitter posted first ever profit million company wednesday revealed profit million twitter monthly active users hit million compared million \n",
      "실제 요약 : twitter posts nd profit in row after losses for years \n",
      "예측 요약 :  how much profit of profit of crore in day\n",
      "\n",
      "\n",
      "원문 : crore windows malware crore cryptocurrency miner malware hits detected according anti virus company quick heal annual threat report revealed ransomware grew comparison lakh android malware detected \n",
      "실제 요약 : over crore windows malware detected in report \n"
     ]
    },
    {
     "name": "stdout",
     "output_type": "stream",
     "text": [
      "예측 요약 :  hackers crore crore hit by wannacry hit by\n",
      "\n",
      "\n",
      "원문 : us man arrested reports showed year old son died consuming times lethal dose methamphetamine thinking breakfast man reportedly refused call emergency services incident charged possession well neglect led death dependent \n",
      "실제 요약 : yr old dies after mistaking dad meth for breakfast \n",
      "예측 요약 :  man kills self after being stabbed to death in us\n",
      "\n",
      "\n",
      "원문 : ukraine reportedly paid us president donald trump lawyer michael cohen crore set meeting leaders two countries ukraine registered reached cohen talks could arrange photo op ukrainian president petro poroshenko trump reports said leaders met white house last year \n",
      "실제 요약 : ukraine paid trump lawyer cr to meeting report \n",
      "예측 요약 :  trump orders nato to meet white house in white house\n",
      "\n",
      "\n",
      "원문 : high court catalonia ordered us tech giant google delete application said catalan separatists using spread information region independence spain court said application opposed order spain constitutional court suspend referendum notably spanish government termed independence referendum illegal \n",
      "실제 요약 : spanish court asks google to delete catalan independence app \n",
      "예측 요약 :  google to let google social media fb to be blocked\n",
      "\n",
      "\n",
      "원문 : speaking upcoming film veere di wedding sonam kapoor said young urban working women curse drink sexually active said asked film reduced women empowerment behaving like men sonam added think question would posed men drinking smoking make less man \n",
      "실제 요약 : women do drink and are sexually active sonam kapoor \n",
      "예측 요약 :  sonam slams sonam over her marriage\n",
      "\n",
      "\n",
      "원문 : asked rocket business plan recent event spacex ceo elon musk said really business plan also said business time dedicated space startup spacex electric car manufacturing startup tesla public security kind tesla added \n",
      "실제 요약 : do not really have business plan spacex ceo elon musk \n",
      "예측 요약 :  will not be the world smallest for the world elon musk\n",
      "\n",
      "\n",
      "원문 : hours calcutta high court revoked chief minister mamata banerjee ban durga idol immersion muharram said someone slit throat one tell court overruled ban observing individuals freedom practice religion created line two communities \n",
      "실제 요약 : can slit my throat but cannot tell me what to do mamata \n",
      "예측 요약 :  uttarakhand hc bans order on sabarimala row\n",
      "\n",
      "\n",
      "원문 : ekta kapoor speaking casting couch said actors also use sexuality get things done yes people power like producers take advantage people time people side added ekta said always true person power victim \n",
      "실제 요약 : actors also use their sexuality to get things done ekta \n",
      "예측 요약 :  people are not in the industry says sonu\n",
      "\n",
      "\n",
      "원문 : bangladesh opener tamim iqbal batted one hand earlier fractured wrist asia cup opener sri lanka saturday tamim injured wrist match second left field take medical assistance came bat th bangladesh lost ninth wicket \n",
      "실제 요약 : bangladesh player bats with one hand after wrist \n",
      "예측 요약 :  desh pacer shakib shakib to take out of wickets in desh\n",
      "\n",
      "\n",
      "원문 : german nationality named best world sixth year row according quality nationality index index takes account various factors including country economic growth level human development denmark france came joint second india ranked among countries \n",
      "실제 요약 : german ranked best in world india ranked \n",
      "예측 요약 :  world no country to represent world rank\n",
      "\n",
      "\n",
      "원문 : official match ball fifa world cup launched thursday structure term used russian fans describe striking performance incorporates panel shape balls used uefa euro world cup first official fifa tournament held india \n",
      "실제 요약 : official ball for fifa world cup named \n",
      "예측 요약 :  fifa wc winning player to be used for fifa wc\n",
      "\n",
      "\n",
      "원문 : actress bhumi pednekar said films wear expensive glamorous clothes good story good role added bhumi said happy part cinema today celebrating exploring stories real entertaining \n",
      "실제 요약 : will not do films to just wear clothes bhumi \n",
      "예측 요약 :  do not want to make my career madhuri\n",
      "\n",
      "\n",
      "원문 : music maestro ar rahman officially appointed brand ambassador sikkim state government announced monday thank people sikkim making brand ambassador state feel privileged honoured let us travel journey together said rahman oscar winning musician would also compose tourism anthem state \n",
      "실제 요약 : ar rahman appointed sikkim brand ambassador \n",
      "예측 요약 :  rahman to perform on indian singer\n",
      "\n",
      "\n",
      "원문 : police arrested man allegedly raping two minor daughters last six months gurugram used rape absence mother one victims said man year old daughter complained came know sexually assaulted year old sister well \n",
      "실제 요약 : father arrested for raping minor daughters in gurugram \n",
      "예측 요약 :  man arrested for raping year old girl in gurugram\n",
      "\n",
      "\n",
      "원문 : song composed grammy award winning american record producer dj diplo indian music director pritam shah rukh khan anushka sharma starrer jab harry met sejal released track sung mohit chauhan tushar joshi lyrics irshad kamil film scheduled release august \n",
      "실제 요약 : song from jab harry met sejal released \n",
      "예측 요약 :  punjabi song from song featuring sachin released\n",
      "\n",
      "\n",
      "원문 : opposition leaders maharashtra claimed books recommended government appointed committee supplementary readings class class students featured obscene texts opposition leader rv patil said books phrases like loss virginity sexual desire following criticism state education minister vinod tawde said books reviewed \n",
      "실제 요약 : maha govt panel suggested obscene books for schools opp \n",
      "예측 요약 :  sexual harassment at exam for the time minister\n",
      "\n",
      "\n",
      "원문 : indian chinaman bowler kuldeep yadav recorded best ever bowling figures left arm spinner odi history taking england first odi thursday year old bowled dot balls concede single boundary finish figures murali kartik posted previous best bowling figures left arm spinner \n",
      "실제 요약 : kuldeep takes best ever odi figures by left arm spinner \n",
      "예측 요약 :  kuldeep yadav takes wickets in balls in county cricket\n",
      "\n",
      "\n",
      "원문 : rishabh pant became first batsman slam plus boundaries ipl achieving feat team dd last league match mi sunday pant hit boundaries season including fours sixes year old fourth batsman hit plus boundaries season chris gayle virat kohli david warner \n",
      "실제 요약 : yr old pant st batsman to hit boundaries in ipl \n",
      "예측 요약 :  pant becomes st indian to score runs in ipl\n",
      "\n",
      "\n",
      "원문 : tony french league referee leg towards nantes player diego carlos sunday match psg accidentally tripped handed provisional suspension gave carlos second yellow card tripping summoned french league disciplinary committee incident \n",
      "실제 요약 : french referee suspended for kicking player \n",
      "예측 요약 :  player sent to player who shot at home for the first\n",
      "\n",
      "\n",
      "원문 : year old boy killed bear competing mountain race alaska sunday authorities said deceased completed halfway point way texted mother saying black bear chasing officials attempted locate found body bear escaped \n",
      "실제 요약 : year old boy running alaska mountain race killed by bear \n",
      "예측 요약 :  year old dies after being hit by in us\n",
      "\n",
      "\n",
      "원문 : communal tension broke uttarakhand town minor allegedly posted offensive photo kedarnath temple facebook reportedly shop belonging boy family vandalised members hindu group bajrang dal right wing organisations controversial picture police trying catch minor normalise situation \n",
      "실제 요약 : communal tension in khand over offensive kedarnath photo \n",
      "예측 요약 :  video shows muslim man lynched in school\n",
      "\n",
      "\n",
      "원문 : four people killed least seven people injured fire broke second floor residential building mumbai andheri east wednesday night fire broke brought control three hours fourteen people killed fire kamala mills compound last week \n",
      "실제 요약 : killed injured in fire at mumbai east \n",
      "예측 요약 :  killed injured in fire at mumbai firecracker factory\n",
      "\n",
      "\n",
      "원문 : gurugram based second hand automobile startup droom raised around crore series round funding round led family office japanese based investor joe founder multi business firm along undisclosed foreign investor founded droom provides online marketplace sale new used automobiles \n",
      "실제 요약 : second hand startup raises crore \n",
      "예측 요약 :  startup raises million in series funding round\n",
      "\n",
      "\n",
      "원문 : island nation maldives among countries vulnerable impact climate change thursday said prepared die former maldivian president head country delegation un climate talks mohamed nasheed called upon nations reduce greenhouse gas emissions calling climate change national security issue \n",
      "실제 요약 : we are not prepared to die maldives on climate change \n"
     ]
    },
    {
     "name": "stdout",
     "output_type": "stream",
     "text": [
      "예측 요약 :  india should be like the global if we are not change\n",
      "\n",
      "\n",
      "원문 : data breach incidents india higher compared global average according survey defence grade technology maker around indian respondents reported data breach last year way global average around according report indian companies million billion revenue covered report \n",
      "실제 요약 : data breach incidents in india higher than global average \n",
      "예측 요약 :  india among top companies in india report\n",
      "\n",
      "\n",
      "원문 : asteroid size stadium past earth wednesday distance million kilometres times average distance earth moon named vr metre wide asteroid initially considered potentially hazardous next observed first discovered november hawaii based nasa funded observatory \n",
      "실제 요약 : asteroid zooms past earth safely \n",
      "예측 요약 :  asteroid asteroid asteroid earth at the last years\n",
      "\n",
      "\n",
      "원문 : delhi year old air hostess batra allegedly texted friend two hours jumping house building husband mayank singhvi locked inside room call police going kill today mayank driven another text read batra father earlier accused mayank domestic violence \n",
      "실제 요약 : mayank has locked me call police delhi air hostess texted friend \n",
      "예측 요약 :  delhi man kills mother for hours after delhi air hostess\n",
      "\n",
      "\n",
      "원문 : maharashtra government increase height chhatrapati shivaji maharaj memorial two metres making tallest statue world shivaji memorial metres tall although earlier supposed metres tall decision made china decided add two floors metre high buddha statue \n",
      "실제 요약 : shivaji statue height increased to compete with china statue \n",
      "예측 요약 :  maha to build world tallest tallest memorial in maharashtra\n",
      "\n",
      "\n"
     ]
    }
   ],
   "source": [
    "for i in range(50, 100):\n",
    "    print(\"원문 :\", seq2text(encoder_input_test[i]))\n",
    "    print(\"실제 요약 :\", seq2headline(decoder_input_test[i]))\n",
    "    print(\"예측 요약 :\", decode_sequence(encoder_input_test[i].reshape(1, text_max_len)))\n",
    "    print(\"\\n\")"
   ]
  },
  {
   "cell_type": "markdown",
   "id": "ca62c2cd",
   "metadata": {},
   "source": [
    "의미가 들어맞는 경우는 드물지만 묘하게 실제 요약문과 비슷한 단어를 출력한다. 반쪽짜리 성공이라 보는 것이 맞는 듯 하다. 애초에 노드의 summary과제는 headline을 뽑아내는 것보다 훨씬 간단하기 때문에 이런 문제가 발생한 것 같다."
   ]
  },
  {
   "cell_type": "markdown",
   "id": "c2b3a740",
   "metadata": {},
   "source": [
    "### 추출적 요약"
   ]
  },
  {
   "cell_type": "code",
   "execution_count": 51,
   "id": "dd2a8034",
   "metadata": {},
   "outputs": [],
   "source": [
    "import requests\n",
    "from summa.summarizer import summarize"
   ]
  },
  {
   "cell_type": "code",
   "execution_count": 52,
   "id": "bfb61d8f",
   "metadata": {},
   "outputs": [],
   "source": [
    "text = data['text'][0]"
   ]
  },
  {
   "cell_type": "code",
   "execution_count": 53,
   "id": "a25620c1",
   "metadata": {},
   "outputs": [
    {
     "data": {
      "text/plain": [
       "'saurav kant alumnus upgrad iiit pg program machine learning artificial intelligence sr systems engineer infosys almost years work experience program upgrad degree career support helped transition data scientist tech mahindra salary hike upgrad online power learning powered lakh careers'"
      ]
     },
     "execution_count": 53,
     "metadata": {},
     "output_type": "execute_result"
    }
   ],
   "source": [
    "text"
   ]
  },
  {
   "cell_type": "code",
   "execution_count": 58,
   "id": "736b1189",
   "metadata": {},
   "outputs": [
    {
     "name": "stdout",
     "output_type": "stream",
     "text": [
      "Summary:\n",
      "\n"
     ]
    }
   ],
   "source": [
    "print('Summary:')\n",
    "print(summarize(text, ratio=1))"
   ]
  },
  {
   "cell_type": "code",
   "execution_count": 59,
   "id": "5243aab1",
   "metadata": {},
   "outputs": [
    {
     "name": "stdout",
     "output_type": "stream",
     "text": [
      "Summary:\n",
      "[]\n"
     ]
    }
   ],
   "source": [
    "print('Summary:')\n",
    "print(summarize(text, ratio=0.005, split=True))"
   ]
  },
  {
   "cell_type": "code",
   "execution_count": 60,
   "id": "01fe380e",
   "metadata": {},
   "outputs": [
    {
     "name": "stdout",
     "output_type": "stream",
     "text": [
      "Summary:\n",
      "\n"
     ]
    }
   ],
   "source": [
    "print('Summary:')\n",
    "print(summarize(text, words=5))"
   ]
  },
  {
   "cell_type": "markdown",
   "id": "b1e3aba2",
   "metadata": {},
   "source": [
    "뉴스의 짧은 문장으로는 summa에서 제대로 요약하지 못하는 것으로 보아, medium의 기술블로그 텍스트를 가져와 보았다."
   ]
  },
  {
   "cell_type": "code",
   "execution_count": 61,
   "id": "b815f6be",
   "metadata": {},
   "outputs": [],
   "source": [
    "text=\"\"\"Now that everyone is talking about ChatGPT, I’m finding myself dodging some version of this question more often:\n",
    "\n",
    "“Will AI fully exit the realm of science fiction and begin to change everything?”\n",
    "\n",
    "The reason I usually nope out of this question is that there’s some sneaky sleight of hand in there which ensures that intelligent discussion will be dead on arrival. That’s because language is a slippery eel and there’s no law against people using the same word to mean different things in different contexts, but let me indulge the question just this once.\n",
    "\n",
    "There’s no law against people using the same word to mean different things in different contexts. That’s what’s happening when people talk about AI these days.\n",
    "\n",
    "Let’s look at some of the ways that people are using the term AI to talk past one another. When we see those for what they are, the answer to our slippery question will slither into the light of day all by itself.\n",
    "\n",
    "Homonym 1: The AI made up by writers\n",
    "The AI you’ll find in the pages of science fiction novels is entirely made up! Most of the time, it plays the same role in the narrative as all the other conveniently creepy almost-but-not-quite-human entities — demons, clones, demigods, aliens, golems, spirits, talking animals, animated puppets — that force us to confront what it means to be human. I hope no one is surprised that the sentient human-adjacent evil antagonist version of AI doesn’t exist.\n",
    "\n",
    "Hate to disappoint, but a murderous HAL 9000 isn’t going to be piloting your spaceship anytime soon.\n",
    "\n",
    "\n",
    "Photo by Rod Long on Unsplash\n",
    "Science fiction is simply called “fiction” when it doesn’t stay ahead of technology, so in a breathtaking display of how tautological tautologies can be, let’s get this version of the question out of the way: will every science fiction version of AI fully exit science fiction? No. Science fiction will keep writing about new tomorrows.\n",
    "\n",
    "The sentient human-adjacent evil antagonist version of AI doesn’t exist.\n",
    "\n",
    "I’m that special type of curmudgeon who thinks it’s a crime against intelligence to talk about machine “intelligence”, “sentience”, “consciousness”, and “the singularity” without first defining clearly and unambiguously what these words mean to you. It’s not cute to work yourself (and your audience) into a frenzy by saying a whole lot of nothing, but unfortunately that’s what so many discussions on these topics turn into.\n",
    "\n",
    "As for making artificial humans with all our desires, feelings, and foibles… why would anyone even want to do that?\n",
    "\n",
    "As for making artificial humans with all our desires, feelings, and foibles… why would anyone even want to do that? If you stop to think about it, that smells so much more like a plot device in a novel than like a serious goal. Regardless of whether you’re a bleeding heart or have no heart at all, if you wanted machines that could be most useful to you and/or humanity, you’d opt to build them without selfishness and other less lovable aspects of human nature. Whereas if you simply need more humans, buy me a beer so I can explain exactly how they’re made.\n",
    "\n",
    "\n",
    "Image source: Pixabay\n",
    "To be sure, there are great reasons to worry about AI, but the it-reminds-me-of-me uncanny valley stuff is a distraction. Since I’d need a separate whole blog post to explain this, I’ve… written a separate blog post for you here.\n",
    "\n",
    "Forget the robots! Here’s how AI will get you\n",
    "The real reason AI is more dangerous than traditional software\n",
    "towardsdatascience.com\n",
    "\n",
    "Homonym 2: The AI people like me are talking about\n",
    "In tech, we use the term “AI” to refer to a specific way of turning data into computer code. When you see someone automate a task using patterns in data without looking up the answer directly, they’re probably using machine learning to solve their problem. If it’s a particular type of machine learning algorithm, then it’s polite to call it AI, though etiquette never stopped certain “AI” startups from jumping on the bandwagon with their three IF statements in a trenchcoat. (You know who you are.)\n",
    "\n",
    "\n",
    "If you'd like to meet the real AI, check out this excerpt from my machine learning course on YouTube.\n",
    "So, has this version of AI already exited the realm of science fiction? Absolutely, since it never even entered it. Even before all the AI applications we use every day were launched, the people doing serious work on them were calling them AI, fully aware that they weren’t creating anything that would pass muster with either science fiction fans or professors of neuroscience. It’s just a flashy name for some math. Aren’t homonyms fun?\n",
    "\n",
    "But as it turns out, that math is incredibly useful! It enables all kinds of interesting applications, and you interact with them every day. They’ve been “changing everything” for the last decade, from our smartphones and laptops to our cars and homes. This kind of AI is quiet and unassuming, and it makes our lives more convenient without drawing attention to itself.\n",
    "\n",
    "Every time I see someone “fail” a Turing test, it tells me a great deal more about the person than about the machine.\n",
    "\n",
    "And that same math happens to be useful for processing audiovisual data so it’s a solid ingredient for all those parlor tricks you’d need to fool the gullible into thinking you’ve built a sentient being. But every time I see someone “fail” a Turing test, it tells me a great deal more about the person than about the machine.\n",
    "\n",
    "\n",
    "Just because telekinesis looks real to you doesn’t mean magic is real. Just because you can’t tell a machine’s not a human doesn’t mean it is sentient. I'm perpetually surprised by a world in which professional magicians and the Turing test can coexist. Photo by Fengyou Wan on Unsplash\n",
    "Finally, I’d be remiss if I didn’t mention that there are two more homonyms nested inside the one in this section — the AI that’s more associated with academia and the AI that’s more associated with industry. If you’re curious about the difference between two more homonyms, check out my explainer in “Why Businesses Fail At AI.”\n",
    "\n",
    "Questions to sink your teeth into\n",
    "“Will AI fully exit the realm of science fiction and begin to change everything?” The answer is tautological either way. You’ll answer no by simply reminding yourself of any reasonable definition of science fiction and you’ll also answer no because applied AI hasn’t had all that much to do with the science fiction version for at least this millennium.\n",
    "\n",
    "There’s no more controversy here than two groups talking at cross purposes without defining their terms. Instead, let me try to extract some properly controversial questions from this homonym soup:\n",
    "\n",
    "Will the popularity of practical AI kill science fiction’s AI? I could see an argument for the term becoming too mundane to be compelling… perhaps one day an AI antagonist will be as hard to take seriously as a disgruntled toaster. Will science fiction writers need to look for other entities to fill their uncanny valleys? My guess is no — if creepy dolls are good enough for the fiction community, then apparently anything goes — but what do you think?\n",
    "Did the builders of practical AI solutions do the right thing by allowing their marketing teams to capitalize on science fiction hype in order to secure funding and gain attention? How different would technological progress have been if we stuck to terms like “layered weighted sums of nonlinear data transformations” instead of flashy phrases like “artificial intelligence” and “neural networks”?\n",
    "Should we let nature take its course and let the public continue to confuse practical AI with sci-fi AI, or do we need to actively educate people about the differences between the two? If you’re interested in my thoughts on why it’s dangerous for society to conflate the two, check out my blog post titled “Forget the Robots, Here’s How AI Will Get You.”\n",
    "Excited to hear your thoughts as you digest these chewy questions — join the discussion here.\"\"\""
   ]
  },
  {
   "cell_type": "code",
   "execution_count": 63,
   "id": "e84aafbb",
   "metadata": {},
   "outputs": [
    {
     "name": "stdout",
     "output_type": "stream",
     "text": [
      "Summary:\n",
      "“Will AI fully exit the realm of science fiction and begin to change everything?”\n",
      "Science fiction is simply called “fiction” when it doesn’t stay ahead of technology, so in a breathtaking display of how tautological tautologies can be, let’s get this version of the question out of the way: will every science fiction version of AI fully exit science fiction?\n",
      "Homonym 2: The AI people like me are talking about\n",
      "So, has this version of AI already exited the realm of science fiction?\n",
      "Even before all the AI applications we use every day were launched, the people doing serious work on them were calling them AI, fully aware that they weren’t creating anything that would pass muster with either science fiction fans or professors of neuroscience.\n",
      "“Will AI fully exit the realm of science fiction and begin to change everything?” The answer is tautological either way.\n"
     ]
    }
   ],
   "source": [
    "print('Summary:')\n",
    "print(summarize(text, ratio=0.1))"
   ]
  },
  {
   "cell_type": "code",
   "execution_count": 67,
   "id": "99e3c5dd",
   "metadata": {},
   "outputs": [
    {
     "name": "stdout",
     "output_type": "stream",
     "text": [
      "Summary:\n",
      "['“Will AI fully exit the realm of science fiction and begin to change everything?”', 'Science fiction is simply called “fiction” when it doesn’t stay ahead of technology, so in a breathtaking display of how tautological tautologies can be, let’s get this version of the question out of the way: will every science fiction version of AI fully exit science fiction?', 'Homonym 2: The AI people like me are talking about', 'So, has this version of AI already exited the realm of science fiction?', 'Even before all the AI applications we use every day were launched, the people doing serious work on them were calling them AI, fully aware that they weren’t creating anything that would pass muster with either science fiction fans or professors of neuroscience.', '“Will AI fully exit the realm of science fiction and begin to change everything?” The answer is tautological either way.']\n"
     ]
    }
   ],
   "source": [
    "print('Summary:')\n",
    "print(summarize(text, ratio=0.1, split=True))"
   ]
  },
  {
   "cell_type": "code",
   "execution_count": 68,
   "id": "6ef1c592",
   "metadata": {},
   "outputs": [
    {
     "name": "stdout",
     "output_type": "stream",
     "text": [
      "Summary:\n",
      "Science fiction is simply called “fiction” when it doesn’t stay ahead of technology, so in a breathtaking display of how tautological tautologies can be, let’s get this version of the question out of the way: will every science fiction version of AI fully exit science fiction?\n",
      "So, has this version of AI already exited the realm of science fiction?\n",
      "“Will AI fully exit the realm of science fiction and begin to change everything?” The answer is tautological either way.\n"
     ]
    }
   ],
   "source": [
    "print('Summary:')\n",
    "print(summarize(text, words=100))"
   ]
  },
  {
   "cell_type": "markdown",
   "id": "b0a60e93",
   "metadata": {},
   "source": [
    "원문과 가까운 뜻이라고 보기는 어렵지만 오히려 원문보다는 더 문장같은 말들이 만들어졌다. 왠만해서는 추상적 요약이 추출적 요약보다 월등할 것이라고 머리로는 생각하지만 혹시 문장의 성격에 따라 반전될 수도 있겠다는 생각 역시 들기 시작했다."
   ]
  },
  {
   "cell_type": "markdown",
   "id": "29ea75fa",
   "metadata": {},
   "source": [
    "회고  \n",
    "근 1~2주의 노드들이 난이도가 대폭 상승하여 따라가지 못하는 점이 안타깝다. 그 전까지는 무언가 시도해보고 변경시켜볼 여유가 있었던 것 같은데 그 조차도 어려움이 느껴져 어떻게든 과제를 완수하겠다고 복붙을 하다 보니 약간 자괴감도 든다. 앞으로 방학 전까지 유사한 상황이 반복될 것 같다 생각하면 이게 뭐하는 것인가 싶기도 한다.  \n",
    "하지만, 그 안에서도 최대한 무언가를 가져가 보도록 노력해 보련다. 나를 책임질 수 있는 것은 나 뿐이니..."
   ]
  },
  {
   "cell_type": "code",
   "execution_count": null,
   "id": "ab3092b6",
   "metadata": {},
   "outputs": [],
   "source": []
  }
 ],
 "metadata": {
  "kernelspec": {
   "display_name": "Python 3 (ipykernel)",
   "language": "python",
   "name": "python3"
  },
  "language_info": {
   "codemirror_mode": {
    "name": "ipython",
    "version": 3
   },
   "file_extension": ".py",
   "mimetype": "text/x-python",
   "name": "python",
   "nbconvert_exporter": "python",
   "pygments_lexer": "ipython3",
   "version": "3.9.7"
  }
 },
 "nbformat": 4,
 "nbformat_minor": 5
}
