{
 "cells": [
  {
   "cell_type": "code",
   "execution_count": 1,
   "id": "6d7a16de-66df-46b9-a571-4cf338c0e254",
   "metadata": {},
   "outputs": [],
   "source": [
    "import os\n",
    "import matplotlib\n",
    "import matplotlib.pyplot as plt\n",
    "import seaborn as sns\n",
    "import pandas as pd\n",
    "import numpy as np\n"
   ]
  },
  {
   "cell_type": "code",
   "execution_count": 2,
   "id": "fec3e1a8-1946-47d6-9ede-114c9351b404",
   "metadata": {},
   "outputs": [],
   "source": [
    "ol_path='..\\\\workplace_data\\\\olympic_data\\\\athlete_events.csv'\n",
    "ol_data=pd.read_csv(ol_path)"
   ]
  },
  {
   "cell_type": "code",
   "execution_count": 3,
   "id": "b4c59f48-1af2-4849-863a-4a246e83678e",
   "metadata": {},
   "outputs": [
    {
     "data": {
      "text/html": [
       "<div>\n",
       "<style scoped>\n",
       "    .dataframe tbody tr th:only-of-type {\n",
       "        vertical-align: middle;\n",
       "    }\n",
       "\n",
       "    .dataframe tbody tr th {\n",
       "        vertical-align: top;\n",
       "    }\n",
       "\n",
       "    .dataframe thead th {\n",
       "        text-align: right;\n",
       "    }\n",
       "</style>\n",
       "<table border=\"1\" class=\"dataframe\">\n",
       "  <thead>\n",
       "    <tr style=\"text-align: right;\">\n",
       "      <th></th>\n",
       "      <th>ID</th>\n",
       "      <th>Name</th>\n",
       "      <th>Sex</th>\n",
       "      <th>Age</th>\n",
       "      <th>Height</th>\n",
       "      <th>Weight</th>\n",
       "      <th>Team</th>\n",
       "      <th>NOC</th>\n",
       "      <th>Games</th>\n",
       "      <th>Year</th>\n",
       "      <th>Season</th>\n",
       "      <th>City</th>\n",
       "      <th>Sport</th>\n",
       "      <th>Event</th>\n",
       "      <th>Medal</th>\n",
       "    </tr>\n",
       "  </thead>\n",
       "  <tbody>\n",
       "    <tr>\n",
       "      <th>0</th>\n",
       "      <td>1</td>\n",
       "      <td>A Dijiang</td>\n",
       "      <td>M</td>\n",
       "      <td>24.0</td>\n",
       "      <td>180.0</td>\n",
       "      <td>80.0</td>\n",
       "      <td>China</td>\n",
       "      <td>CHN</td>\n",
       "      <td>1992 Summer</td>\n",
       "      <td>1992</td>\n",
       "      <td>Summer</td>\n",
       "      <td>Barcelona</td>\n",
       "      <td>Basketball</td>\n",
       "      <td>Basketball Men's Basketball</td>\n",
       "      <td>NaN</td>\n",
       "    </tr>\n",
       "    <tr>\n",
       "      <th>1</th>\n",
       "      <td>2</td>\n",
       "      <td>A Lamusi</td>\n",
       "      <td>M</td>\n",
       "      <td>23.0</td>\n",
       "      <td>170.0</td>\n",
       "      <td>60.0</td>\n",
       "      <td>China</td>\n",
       "      <td>CHN</td>\n",
       "      <td>2012 Summer</td>\n",
       "      <td>2012</td>\n",
       "      <td>Summer</td>\n",
       "      <td>London</td>\n",
       "      <td>Judo</td>\n",
       "      <td>Judo Men's Extra-Lightweight</td>\n",
       "      <td>NaN</td>\n",
       "    </tr>\n",
       "    <tr>\n",
       "      <th>2</th>\n",
       "      <td>3</td>\n",
       "      <td>Gunnar Nielsen Aaby</td>\n",
       "      <td>M</td>\n",
       "      <td>24.0</td>\n",
       "      <td>NaN</td>\n",
       "      <td>NaN</td>\n",
       "      <td>Denmark</td>\n",
       "      <td>DEN</td>\n",
       "      <td>1920 Summer</td>\n",
       "      <td>1920</td>\n",
       "      <td>Summer</td>\n",
       "      <td>Antwerpen</td>\n",
       "      <td>Football</td>\n",
       "      <td>Football Men's Football</td>\n",
       "      <td>NaN</td>\n",
       "    </tr>\n",
       "    <tr>\n",
       "      <th>3</th>\n",
       "      <td>4</td>\n",
       "      <td>Edgar Lindenau Aabye</td>\n",
       "      <td>M</td>\n",
       "      <td>34.0</td>\n",
       "      <td>NaN</td>\n",
       "      <td>NaN</td>\n",
       "      <td>Denmark/Sweden</td>\n",
       "      <td>DEN</td>\n",
       "      <td>1900 Summer</td>\n",
       "      <td>1900</td>\n",
       "      <td>Summer</td>\n",
       "      <td>Paris</td>\n",
       "      <td>Tug-Of-War</td>\n",
       "      <td>Tug-Of-War Men's Tug-Of-War</td>\n",
       "      <td>Gold</td>\n",
       "    </tr>\n",
       "    <tr>\n",
       "      <th>4</th>\n",
       "      <td>5</td>\n",
       "      <td>Christine Jacoba Aaftink</td>\n",
       "      <td>F</td>\n",
       "      <td>21.0</td>\n",
       "      <td>185.0</td>\n",
       "      <td>82.0</td>\n",
       "      <td>Netherlands</td>\n",
       "      <td>NED</td>\n",
       "      <td>1988 Winter</td>\n",
       "      <td>1988</td>\n",
       "      <td>Winter</td>\n",
       "      <td>Calgary</td>\n",
       "      <td>Speed Skating</td>\n",
       "      <td>Speed Skating Women's 500 metres</td>\n",
       "      <td>NaN</td>\n",
       "    </tr>\n",
       "  </tbody>\n",
       "</table>\n",
       "</div>"
      ],
      "text/plain": [
       "   ID                      Name Sex   Age  Height  Weight            Team  \\\n",
       "0   1                 A Dijiang   M  24.0   180.0    80.0           China   \n",
       "1   2                  A Lamusi   M  23.0   170.0    60.0           China   \n",
       "2   3       Gunnar Nielsen Aaby   M  24.0     NaN     NaN         Denmark   \n",
       "3   4      Edgar Lindenau Aabye   M  34.0     NaN     NaN  Denmark/Sweden   \n",
       "4   5  Christine Jacoba Aaftink   F  21.0   185.0    82.0     Netherlands   \n",
       "\n",
       "   NOC        Games  Year  Season       City          Sport  \\\n",
       "0  CHN  1992 Summer  1992  Summer  Barcelona     Basketball   \n",
       "1  CHN  2012 Summer  2012  Summer     London           Judo   \n",
       "2  DEN  1920 Summer  1920  Summer  Antwerpen       Football   \n",
       "3  DEN  1900 Summer  1900  Summer      Paris     Tug-Of-War   \n",
       "4  NED  1988 Winter  1988  Winter    Calgary  Speed Skating   \n",
       "\n",
       "                              Event Medal  \n",
       "0       Basketball Men's Basketball   NaN  \n",
       "1      Judo Men's Extra-Lightweight   NaN  \n",
       "2           Football Men's Football   NaN  \n",
       "3       Tug-Of-War Men's Tug-Of-War  Gold  \n",
       "4  Speed Skating Women's 500 metres   NaN  "
      ]
     },
     "execution_count": 3,
     "metadata": {},
     "output_type": "execute_result"
    }
   ],
   "source": [
    "ol_data.head()"
   ]
  },
  {
   "cell_type": "code",
   "execution_count": 4,
   "id": "b6224eb8-d6ce-4319-9b33-e98f9adf9fed",
   "metadata": {},
   "outputs": [
    {
     "data": {
      "text/plain": [
       "ID             0\n",
       "Name           0\n",
       "Sex            0\n",
       "Age         9474\n",
       "Height     60171\n",
       "Weight     62875\n",
       "Team           0\n",
       "NOC            0\n",
       "Games          0\n",
       "Year           0\n",
       "Season         0\n",
       "City           0\n",
       "Sport          0\n",
       "Event          0\n",
       "Medal     231333\n",
       "dtype: int64"
      ]
     },
     "execution_count": 4,
     "metadata": {},
     "output_type": "execute_result"
    }
   ],
   "source": [
    "ol_data.isna().sum()"
   ]
  },
  {
   "cell_type": "code",
   "execution_count": 5,
   "id": "4c8dc9ca-52da-4007-b8df-6cfe2f06fcb3",
   "metadata": {},
   "outputs": [
    {
     "name": "stdout",
     "output_type": "stream",
     "text": [
      "nan\n"
     ]
    }
   ],
   "source": [
    "print(ol_data.iloc[5][14])"
   ]
  },
  {
   "cell_type": "code",
   "execution_count": 6,
   "id": "8bd4038a-7b71-4d69-9157-fd6148b214fc",
   "metadata": {},
   "outputs": [],
   "source": [
    "ol_data['Medal'].fillna('DNW', inplace=True)"
   ]
  },
  {
   "cell_type": "code",
   "execution_count": 7,
   "id": "5cb7cb55-fd91-49dc-82cc-fae916426d56",
   "metadata": {},
   "outputs": [
    {
     "data": {
      "text/html": [
       "<div>\n",
       "<style scoped>\n",
       "    .dataframe tbody tr th:only-of-type {\n",
       "        vertical-align: middle;\n",
       "    }\n",
       "\n",
       "    .dataframe tbody tr th {\n",
       "        vertical-align: top;\n",
       "    }\n",
       "\n",
       "    .dataframe thead th {\n",
       "        text-align: right;\n",
       "    }\n",
       "</style>\n",
       "<table border=\"1\" class=\"dataframe\">\n",
       "  <thead>\n",
       "    <tr style=\"text-align: right;\">\n",
       "      <th></th>\n",
       "      <th>ID</th>\n",
       "      <th>Name</th>\n",
       "      <th>Sex</th>\n",
       "      <th>Age</th>\n",
       "      <th>Height</th>\n",
       "      <th>Weight</th>\n",
       "      <th>Team</th>\n",
       "      <th>NOC</th>\n",
       "      <th>Games</th>\n",
       "      <th>Year</th>\n",
       "      <th>Season</th>\n",
       "      <th>City</th>\n",
       "      <th>Sport</th>\n",
       "      <th>Event</th>\n",
       "      <th>Medal</th>\n",
       "    </tr>\n",
       "  </thead>\n",
       "  <tbody>\n",
       "    <tr>\n",
       "      <th>0</th>\n",
       "      <td>1</td>\n",
       "      <td>A Dijiang</td>\n",
       "      <td>M</td>\n",
       "      <td>24.0</td>\n",
       "      <td>180.0</td>\n",
       "      <td>80.0</td>\n",
       "      <td>China</td>\n",
       "      <td>CHN</td>\n",
       "      <td>1992 Summer</td>\n",
       "      <td>1992</td>\n",
       "      <td>Summer</td>\n",
       "      <td>Barcelona</td>\n",
       "      <td>Basketball</td>\n",
       "      <td>Basketball Men's Basketball</td>\n",
       "      <td>DNW</td>\n",
       "    </tr>\n",
       "    <tr>\n",
       "      <th>1</th>\n",
       "      <td>2</td>\n",
       "      <td>A Lamusi</td>\n",
       "      <td>M</td>\n",
       "      <td>23.0</td>\n",
       "      <td>170.0</td>\n",
       "      <td>60.0</td>\n",
       "      <td>China</td>\n",
       "      <td>CHN</td>\n",
       "      <td>2012 Summer</td>\n",
       "      <td>2012</td>\n",
       "      <td>Summer</td>\n",
       "      <td>London</td>\n",
       "      <td>Judo</td>\n",
       "      <td>Judo Men's Extra-Lightweight</td>\n",
       "      <td>DNW</td>\n",
       "    </tr>\n",
       "    <tr>\n",
       "      <th>2</th>\n",
       "      <td>3</td>\n",
       "      <td>Gunnar Nielsen Aaby</td>\n",
       "      <td>M</td>\n",
       "      <td>24.0</td>\n",
       "      <td>NaN</td>\n",
       "      <td>NaN</td>\n",
       "      <td>Denmark</td>\n",
       "      <td>DEN</td>\n",
       "      <td>1920 Summer</td>\n",
       "      <td>1920</td>\n",
       "      <td>Summer</td>\n",
       "      <td>Antwerpen</td>\n",
       "      <td>Football</td>\n",
       "      <td>Football Men's Football</td>\n",
       "      <td>DNW</td>\n",
       "    </tr>\n",
       "    <tr>\n",
       "      <th>3</th>\n",
       "      <td>4</td>\n",
       "      <td>Edgar Lindenau Aabye</td>\n",
       "      <td>M</td>\n",
       "      <td>34.0</td>\n",
       "      <td>NaN</td>\n",
       "      <td>NaN</td>\n",
       "      <td>Denmark/Sweden</td>\n",
       "      <td>DEN</td>\n",
       "      <td>1900 Summer</td>\n",
       "      <td>1900</td>\n",
       "      <td>Summer</td>\n",
       "      <td>Paris</td>\n",
       "      <td>Tug-Of-War</td>\n",
       "      <td>Tug-Of-War Men's Tug-Of-War</td>\n",
       "      <td>Gold</td>\n",
       "    </tr>\n",
       "    <tr>\n",
       "      <th>4</th>\n",
       "      <td>5</td>\n",
       "      <td>Christine Jacoba Aaftink</td>\n",
       "      <td>F</td>\n",
       "      <td>21.0</td>\n",
       "      <td>185.0</td>\n",
       "      <td>82.0</td>\n",
       "      <td>Netherlands</td>\n",
       "      <td>NED</td>\n",
       "      <td>1988 Winter</td>\n",
       "      <td>1988</td>\n",
       "      <td>Winter</td>\n",
       "      <td>Calgary</td>\n",
       "      <td>Speed Skating</td>\n",
       "      <td>Speed Skating Women's 500 metres</td>\n",
       "      <td>DNW</td>\n",
       "    </tr>\n",
       "    <tr>\n",
       "      <th>...</th>\n",
       "      <td>...</td>\n",
       "      <td>...</td>\n",
       "      <td>...</td>\n",
       "      <td>...</td>\n",
       "      <td>...</td>\n",
       "      <td>...</td>\n",
       "      <td>...</td>\n",
       "      <td>...</td>\n",
       "      <td>...</td>\n",
       "      <td>...</td>\n",
       "      <td>...</td>\n",
       "      <td>...</td>\n",
       "      <td>...</td>\n",
       "      <td>...</td>\n",
       "      <td>...</td>\n",
       "    </tr>\n",
       "    <tr>\n",
       "      <th>271111</th>\n",
       "      <td>135569</td>\n",
       "      <td>Andrzej ya</td>\n",
       "      <td>M</td>\n",
       "      <td>29.0</td>\n",
       "      <td>179.0</td>\n",
       "      <td>89.0</td>\n",
       "      <td>Poland-1</td>\n",
       "      <td>POL</td>\n",
       "      <td>1976 Winter</td>\n",
       "      <td>1976</td>\n",
       "      <td>Winter</td>\n",
       "      <td>Innsbruck</td>\n",
       "      <td>Luge</td>\n",
       "      <td>Luge Mixed (Men)'s Doubles</td>\n",
       "      <td>DNW</td>\n",
       "    </tr>\n",
       "    <tr>\n",
       "      <th>271112</th>\n",
       "      <td>135570</td>\n",
       "      <td>Piotr ya</td>\n",
       "      <td>M</td>\n",
       "      <td>27.0</td>\n",
       "      <td>176.0</td>\n",
       "      <td>59.0</td>\n",
       "      <td>Poland</td>\n",
       "      <td>POL</td>\n",
       "      <td>2014 Winter</td>\n",
       "      <td>2014</td>\n",
       "      <td>Winter</td>\n",
       "      <td>Sochi</td>\n",
       "      <td>Ski Jumping</td>\n",
       "      <td>Ski Jumping Men's Large Hill, Individual</td>\n",
       "      <td>DNW</td>\n",
       "    </tr>\n",
       "    <tr>\n",
       "      <th>271113</th>\n",
       "      <td>135570</td>\n",
       "      <td>Piotr ya</td>\n",
       "      <td>M</td>\n",
       "      <td>27.0</td>\n",
       "      <td>176.0</td>\n",
       "      <td>59.0</td>\n",
       "      <td>Poland</td>\n",
       "      <td>POL</td>\n",
       "      <td>2014 Winter</td>\n",
       "      <td>2014</td>\n",
       "      <td>Winter</td>\n",
       "      <td>Sochi</td>\n",
       "      <td>Ski Jumping</td>\n",
       "      <td>Ski Jumping Men's Large Hill, Team</td>\n",
       "      <td>DNW</td>\n",
       "    </tr>\n",
       "    <tr>\n",
       "      <th>271114</th>\n",
       "      <td>135571</td>\n",
       "      <td>Tomasz Ireneusz ya</td>\n",
       "      <td>M</td>\n",
       "      <td>30.0</td>\n",
       "      <td>185.0</td>\n",
       "      <td>96.0</td>\n",
       "      <td>Poland</td>\n",
       "      <td>POL</td>\n",
       "      <td>1998 Winter</td>\n",
       "      <td>1998</td>\n",
       "      <td>Winter</td>\n",
       "      <td>Nagano</td>\n",
       "      <td>Bobsleigh</td>\n",
       "      <td>Bobsleigh Men's Four</td>\n",
       "      <td>DNW</td>\n",
       "    </tr>\n",
       "    <tr>\n",
       "      <th>271115</th>\n",
       "      <td>135571</td>\n",
       "      <td>Tomasz Ireneusz ya</td>\n",
       "      <td>M</td>\n",
       "      <td>34.0</td>\n",
       "      <td>185.0</td>\n",
       "      <td>96.0</td>\n",
       "      <td>Poland</td>\n",
       "      <td>POL</td>\n",
       "      <td>2002 Winter</td>\n",
       "      <td>2002</td>\n",
       "      <td>Winter</td>\n",
       "      <td>Salt Lake City</td>\n",
       "      <td>Bobsleigh</td>\n",
       "      <td>Bobsleigh Men's Four</td>\n",
       "      <td>DNW</td>\n",
       "    </tr>\n",
       "  </tbody>\n",
       "</table>\n",
       "<p>271116 rows × 15 columns</p>\n",
       "</div>"
      ],
      "text/plain": [
       "            ID                      Name Sex   Age  Height  Weight  \\\n",
       "0            1                 A Dijiang   M  24.0   180.0    80.0   \n",
       "1            2                  A Lamusi   M  23.0   170.0    60.0   \n",
       "2            3       Gunnar Nielsen Aaby   M  24.0     NaN     NaN   \n",
       "3            4      Edgar Lindenau Aabye   M  34.0     NaN     NaN   \n",
       "4            5  Christine Jacoba Aaftink   F  21.0   185.0    82.0   \n",
       "...        ...                       ...  ..   ...     ...     ...   \n",
       "271111  135569                Andrzej ya   M  29.0   179.0    89.0   \n",
       "271112  135570                  Piotr ya   M  27.0   176.0    59.0   \n",
       "271113  135570                  Piotr ya   M  27.0   176.0    59.0   \n",
       "271114  135571        Tomasz Ireneusz ya   M  30.0   185.0    96.0   \n",
       "271115  135571        Tomasz Ireneusz ya   M  34.0   185.0    96.0   \n",
       "\n",
       "                  Team  NOC        Games  Year  Season            City  \\\n",
       "0                China  CHN  1992 Summer  1992  Summer       Barcelona   \n",
       "1                China  CHN  2012 Summer  2012  Summer          London   \n",
       "2              Denmark  DEN  1920 Summer  1920  Summer       Antwerpen   \n",
       "3       Denmark/Sweden  DEN  1900 Summer  1900  Summer           Paris   \n",
       "4          Netherlands  NED  1988 Winter  1988  Winter         Calgary   \n",
       "...                ...  ...          ...   ...     ...             ...   \n",
       "271111        Poland-1  POL  1976 Winter  1976  Winter       Innsbruck   \n",
       "271112          Poland  POL  2014 Winter  2014  Winter           Sochi   \n",
       "271113          Poland  POL  2014 Winter  2014  Winter           Sochi   \n",
       "271114          Poland  POL  1998 Winter  1998  Winter          Nagano   \n",
       "271115          Poland  POL  2002 Winter  2002  Winter  Salt Lake City   \n",
       "\n",
       "                Sport                                     Event Medal  \n",
       "0          Basketball               Basketball Men's Basketball   DNW  \n",
       "1                Judo              Judo Men's Extra-Lightweight   DNW  \n",
       "2            Football                   Football Men's Football   DNW  \n",
       "3          Tug-Of-War               Tug-Of-War Men's Tug-Of-War  Gold  \n",
       "4       Speed Skating          Speed Skating Women's 500 metres   DNW  \n",
       "...               ...                                       ...   ...  \n",
       "271111           Luge                Luge Mixed (Men)'s Doubles   DNW  \n",
       "271112    Ski Jumping  Ski Jumping Men's Large Hill, Individual   DNW  \n",
       "271113    Ski Jumping        Ski Jumping Men's Large Hill, Team   DNW  \n",
       "271114      Bobsleigh                      Bobsleigh Men's Four   DNW  \n",
       "271115      Bobsleigh                      Bobsleigh Men's Four   DNW  \n",
       "\n",
       "[271116 rows x 15 columns]"
      ]
     },
     "execution_count": 7,
     "metadata": {},
     "output_type": "execute_result"
    }
   ],
   "source": [
    "ol_data"
   ]
  },
  {
   "cell_type": "code",
   "execution_count": 8,
   "id": "fdf49e72-8790-4b20-b6c4-e9f7d3073088",
   "metadata": {},
   "outputs": [
    {
     "data": {
      "text/plain": [
       "38624"
      ]
     },
     "execution_count": 8,
     "metadata": {},
     "output_type": "execute_result"
    }
   ],
   "source": [
    "sport_athlete=ol_data['Sport'].groupby(ol_data['Sport']).count().sort_values()\n",
    "sport_athlete.max()"
   ]
  },
  {
   "cell_type": "code",
   "execution_count": 9,
   "id": "0a6a65a8-b825-4ac9-bb6d-0b7712871402",
   "metadata": {},
   "outputs": [
    {
     "data": {
      "text/plain": [
       "<AxesSubplot:xlabel='Sport', ylabel='Sport'>"
      ]
     },
     "execution_count": 9,
     "metadata": {},
     "output_type": "execute_result"
    },
    {
     "data": {
      "image/png": "[encoded data removed]",
      "text/plain": [
       "<Figure size 2000x2000 with 1 Axes>"
      ]
     },
     "metadata": {},
     "output_type": "display_data"
    }
   ],
   "source": [
    "plt.figure(figsize=(20,20))\n",
    "sns.barplot(x=sport_athlete.index, y=sport_athlete)"
   ]
  },
  {
   "cell_type": "code",
   "execution_count": 10,
   "id": "db1372b0-6ba0-443a-80fa-3e866933e147",
   "metadata": {},
   "outputs": [
    {
     "name": "stdout",
     "output_type": "stream",
     "text": [
      "1.747122537787137\n",
      "6.27064244661449\n"
     ]
    },
    {
     "data": {
      "text/plain": [
       "<AxesSubplot:xlabel='Age', ylabel='Density'>"
      ]
     },
     "execution_count": 10,
     "metadata": {},
     "output_type": "execute_result"
    },
    {
     "data": {
      "image/png": "[encoded data removed]",
      "text/plain": [
       "<Figure size 640x480 with 1 Axes>"
      ]
     },
     "metadata": {},
     "output_type": "display_data"
    }
   ],
   "source": [
    "# null data를 평균값으로 대체해도 괜찮을까?\n",
    "# 첨도를 기준으로 살펴보았다.(3이상이면 첨도가 높은 측에 속하며 평균값을 사용하는 일이 부적절할 수 있다.)\n",
    "# 첨도가 낮으므로 평균값을 사용해도 괜찮을 것으로 보인다.\n",
    "print(ol_data['Age'].skew())\n",
    "print(ol_data['Age'].kurt())\n",
    "sns.kdeplot(data=ol_data['Age'])\n",
    "# 메달리스트와 나이의 관계"
   ]
  },
  {
   "cell_type": "code",
   "execution_count": 11,
   "id": "32d13da9-6dba-40a7-a174-90177782191d",
   "metadata": {},
   "outputs": [
    {
     "name": "stdout",
     "output_type": "stream",
     "text": [
      "0.587675445694332\n",
      "1.2349760195713362\n"
     ]
    },
    {
     "data": {
      "text/plain": [
       "<AxesSubplot:xlabel='Age', ylabel='Density'>"
      ]
     },
     "execution_count": 11,
     "metadata": {},
     "output_type": "execute_result"
    },
    {
     "data": {
      "image/png": "[encoded data removed]",
      "text/plain": [
       "<Figure size 640x480 with 1 Axes>"
      ]
     },
     "metadata": {},
     "output_type": "display_data"
    }
   ],
   "source": [
    "# Age는 첨도가 높기 때문에 log를 씌워보았다.\n",
    "ol_Age_log=np.log1p(ol_data['Age'])\n",
    "print(ol_Age_log.skew())\n",
    "print(ol_Age_log.kurt())\n",
    "sns.kdeplot(data=ol_data['Age'])"
   ]
  },
  {
   "cell_type": "code",
   "execution_count": 12,
   "id": "b3e61428-9b59-4f7c-8f80-361e0d0a483a",
   "metadata": {},
   "outputs": [
    {
     "name": "stdout",
     "output_type": "stream",
     "text": [
      "24.894717620653466\n",
      "25.556898357297374\n"
     ]
    }
   ],
   "source": [
    "# log를 씌운 첨도값이 훨씬 낮아졌다. 그렇다면 log를 씌운 상태에서 평균을 구한 다음\n",
    "# 그 값에서 log를 제거하면\n",
    "# null 값에 대입할 평균으로 사용할 수 있지 않을까?? 라는 생각이 들었다.\n",
    "\n",
    "# 일반 평균과 비교\n",
    "print(np.expm1(ol_Age_log.mean()))\n",
    "print(ol_data['Age'].mean())"
   ]
  },
  {
   "cell_type": "code",
   "execution_count": 13,
   "id": "1e83730e-045d-43af-8772-48545a39f499",
   "metadata": {},
   "outputs": [
    {
     "name": "stdout",
     "output_type": "stream",
     "text": [
      "0.018477298234269277\n",
      "0.17772797474523294\n",
      "175.33896987366376\n"
     ]
    },
    {
     "data": {
      "text/plain": [
       "<AxesSubplot:xlabel='Height', ylabel='Density'>"
      ]
     },
     "execution_count": 13,
     "metadata": {},
     "output_type": "execute_result"
    },
    {
     "data": {
      "image/png": "[encoded data removed]",
      "text/plain": [
       "<Figure size 640x480 with 1 Axes>"
      ]
     },
     "metadata": {},
     "output_type": "display_data"
    }
   ],
   "source": [
    "# 첨도가 낮으므로 평균값을 사용해도 괜찮을 것으로 보인다.\n",
    "print(ol_data['Height'].skew())\n",
    "print(ol_data['Height'].kurt())\n",
    "print(ol_data['Height'].mean())\n",
    "sns.kdeplot(data=ol_data['Height'])"
   ]
  },
  {
   "cell_type": "code",
   "execution_count": 14,
   "id": "1628d0e7-1c37-4d1a-bbd7-3d62b1ad9ee4",
   "metadata": {},
   "outputs": [
    {
     "name": "stdout",
     "output_type": "stream",
     "text": [
      "0.7971690270264296\n",
      "2.0175228966173915\n",
      "70.70239290053351\n"
     ]
    },
    {
     "data": {
      "text/plain": [
       "<AxesSubplot:xlabel='Weight', ylabel='Density'>"
      ]
     },
     "execution_count": 14,
     "metadata": {},
     "output_type": "execute_result"
    },
    {
     "data": {
      "image/png": "[encoded data removed]",
      "text/plain": [
       "<Figure size 640x480 with 1 Axes>"
      ]
     },
     "metadata": {},
     "output_type": "display_data"
    }
   ],
   "source": [
    "print(ol_data['Weight'].skew())\n",
    "print(ol_data['Weight'].kurt())\n",
    "print(ol_data['Weight'].mean())\n",
    "sns.kdeplot(data=ol_data['Weight'])"
   ]
  },
  {
   "cell_type": "markdown",
   "id": "48b15b26-b97f-4c96-a48c-2d69d5559f79",
   "metadata": {},
   "source": [
    "Null 값에 만약 평균값을 사용한다면  \n",
    "Age는 로그를 씌운 다움 평균을 구한 후 다시 로그를 제거한 값: 24.894717620653466  \n",
    "Height는 평균값: 175.33896987366376  \n",
    "Weight는 평균값: Weight는 평균값: 70.70239290053351  \n",
    "적용이 적당할 것으로 보인다.  \n",
    "  \n",
    "  \n",
    "one-hot encoding을 할 값은 값이 두 개가 아닌 모든 범주형 데이터들이다. 참고한 캐글 페이지(https://www.kaggle.com/code/nitinchoudhary012/olympics-history-basic-eda-and-medal-prediction) 에서는 Sex와 Season을 제외하고 모든 범주형 데이터를 one-hot encoding해 주었다.\n",
    "\n",
    "ID, Name, Games, Year은 불필요 자료라 생각했는지 제거하였다.\n",
    "\n",
    "결국 분석에 사용하는 값들은\n",
    "numeric: Age, Height, Weight\n",
    "cat->one-hot: Team, NOC, City, Sport, Event\n",
    "cat->문자->숫자로만 변환: Sex, Season, Medal  \n",
    "만 해당 캐글 페이지에서 사용하였다.  \n",
    "  \n",
    "한편, 도시와 NOC를 매핑시켜 개최국은 좋은 성적을 낸다 라는 가설을 증명하려는데, 개최 도시에 대해서만 나와 있지, 개최국에 대해서는 나와 있지 않다. 그래서 개최도시와 개최국의 NOC를 찾는 것을 우선적으로 하기 위해 자료를 찾았다. 아래 셀은 (https://www.kaggle.com/code/joshuaswords/does-hosting-the-olympics-improve-performance) 를 출처로 하는 코드다."
   ]
  },
  {
   "cell_type": "code",
   "execution_count": 15,
   "id": "c0dd60be-27f0-46f4-9df1-c3d3ab91d7bb",
   "metadata": {},
   "outputs": [],
   "source": [
    "# 가져온 자료 \n",
    "def host_country(col):\n",
    "    if col == \"Rio de Janeiro\":\n",
    "        return \"Brazil\"\n",
    "    elif col == \"London\":\n",
    "        return \"United Kingdom\"\n",
    "    elif col == \"Beijing\":\n",
    "        return  \"China\"\n",
    "    elif col == \"Athina\":\n",
    "        return  \"Greece\"\n",
    "    elif col == \"Sydney\" or col == \"Melbourne\":\n",
    "        return  \"Australia\"\n",
    "    elif col == \"Atlanta\" or col == \"Los Angeles\" or col == \"St. Louis\":\n",
    "        return  \"United States of America\"\n",
    "    elif col == \"Barcelona\":\n",
    "        return  \"Spain\"\n",
    "    elif col == \"Seoul\":\n",
    "        return  \"South Korea\"\n",
    "    elif col == \"Moskva\":\n",
    "        return  \"Russia\"\n",
    "    elif col == \"Montreal\":\n",
    "        return  \"Canada\"\n",
    "    elif col == \"Munich\" or col == \"Berlin\":\n",
    "        return  \"Germany\"\n",
    "    elif col == \"Mexico City\":\n",
    "        return  \"Mexico\"\n",
    "    elif col == \"Tokyo\":\n",
    "        return  \"Japan\"\n",
    "    elif col == \"Roma\":\n",
    "        return  \"Italy\"\n",
    "    elif col == \"Paris\":\n",
    "        return  \"France\"\n",
    "    elif col == \"Helsinki\":\n",
    "        return  \"Finland\"\n",
    "    elif col == \"Amsterdam\":\n",
    "        return  \"Netherlands\"\n",
    "    elif col == \"Antwerpen\":\n",
    "        return  \"Belgium\"\n",
    "    elif col == \"Stockholm\":\n",
    "        return  \"Sweden\"\n",
    "    else:\n",
    "        return \"Other\""
   ]
  },
  {
   "cell_type": "markdown",
   "id": "b698bae6-b708-4365-97c8-9b7385c3ad07",
   "metadata": {},
   "source": [
    "일부의 데이터만 매핑이 된 것으로 보여 나머지 데이터에 대해서도 추가로 작업을 이어가기로 하였다. "
   ]
  },
  {
   "cell_type": "code",
   "execution_count": 16,
   "id": "3a41f7ff-5632-4f2d-a26e-ac3be7e23bbb",
   "metadata": {},
   "outputs": [
    {
     "data": {
      "text/plain": [
       "42"
      ]
     },
     "execution_count": 16,
     "metadata": {},
     "output_type": "execute_result"
    }
   ],
   "source": [
    "len(set(ol_data['City'].values))"
   ]
  },
  {
   "cell_type": "markdown",
   "id": "95048e74-dea9-48a6-a6de-7ffffd246cc7",
   "metadata": {},
   "source": [
    "위키피디아 페이지에서 적당한 자료를 찾음  \n",
    "https://en.wikipedia.org/wiki/List_of_Olympic_Games_host_cities  \n",
    "scrape시도"
   ]
  },
  {
   "cell_type": "code",
   "execution_count": 17,
   "id": "fef96c51-0bab-4761-ab28-3b5b1e3176a0",
   "metadata": {},
   "outputs": [],
   "source": [
    "from bs4 import BeautifulSoup\n",
    "import requests\n",
    "import re\n",
    "from selenium import webdriver\n",
    "from selenium.webdriver.common.by import By\n",
    "from selenium.webdriver.chrome.service import Service\n",
    "from webdriver_manager.chrome import ChromeDriverManager\n",
    "from time import sleep"
   ]
  },
  {
   "cell_type": "code",
   "execution_count": 18,
   "id": "f77c3be0-2940-42a7-9f39-c0147b5dc3fb",
   "metadata": {},
   "outputs": [],
   "source": [
    "# 위키피디어 페이지에서 개최도시-국가 매핑 자료를 가져옴\n",
    "wiki_url='https://en.wikipedia.org/wiki/List_of_Olympic_Games_host_cities'\n",
    "html_data= requests.get(wiki_url)"
   ]
  },
  {
   "cell_type": "code",
   "execution_count": 19,
   "id": "59398747-b373-40ea-9255-8423bb595c93",
   "metadata": {},
   "outputs": [],
   "source": [
    "driver= webdriver.Chrome(service=Service(ChromeDriverManager().install()))"
   ]
  },
  {
   "cell_type": "code",
   "execution_count": 20,
   "id": "6a34dac4-cb71-4a22-9791-baa05666922a",
   "metadata": {},
   "outputs": [],
   "source": [
    "driver.get('https://en.wikipedia.org/wiki/List_of_Olympic_Games_host_cities')"
   ]
  },
  {
   "cell_type": "code",
   "execution_count": 21,
   "id": "4d3214e3-02e7-49af-a8b5-027f98fa642c",
   "metadata": {},
   "outputs": [],
   "source": [
    "city_list=[]\n",
    "nation_list=[]"
   ]
  },
  {
   "cell_type": "code",
   "execution_count": 22,
   "id": "912bb37a-01e4-4375-bd8b-d8d370e03b12",
   "metadata": {},
   "outputs": [],
   "source": [
    "# 위키피디아에서 값 추출\n",
    "for i in range(1,61):\n",
    "    city=driver.find_element(By.XPATH, f'//*[@id=\"mw-content-text\"]/div[1]/table[2]/tbody/tr[{i}]/td[2]/a')\n",
    "    city_list.append(city.text)\n",
    "    try:\n",
    "        nation=driver.find_element(By.XPATH, f'//*[@id=\"mw-content-text\"]/div[1]/table[2]/tbody/tr[{i}]/td[3]/span/a')\n",
    "        nation_list.append(nation.text)\n",
    "    except:\n",
    "        nation=driver.find_element(By.XPATH, f'//*[@id=\"mw-content-text\"]/div[1]/table[2]/tbody/tr[{i}]/td[3]/a')\n",
    "        nation_list.append(nation.text)\n",
    "    # print(f'{i}: ', city.text, nation.text)\n"
   ]
  },
  {
   "cell_type": "code",
   "execution_count": 23,
   "id": "f56ed829-e6b2-4709-8c46-5513afb19be5",
   "metadata": {
    "tags": []
   },
   "outputs": [],
   "source": [
    "#두 리스트 딕셔너리로 병합 후 dataframe화\n",
    "cn_map=pd.DataFrame({'City': city_list, 'Nation': nation_list })\n",
    "# 중복값 제거, reset_index(drop=True)는 기존 인덱스 완전히 제거\n",
    "cn_map=cn_map.drop_duplicates().reset_index(drop=True)"
   ]
  },
  {
   "cell_type": "markdown",
   "id": "419bf60e-bdda-46ab-94c0-f58465be333d",
   "metadata": {},
   "source": [
    "어떻게 ol_data에 Nation을 붙일 것인가?  \n",
    "1.merge 사용: 무슨 이유인지 모르겠지만 행이 늘어난다. left outer join이 답이라고 생각하는 데 잘 안된다.  \n",
    "2.행을 한 줄씩 비교하여 값을 입력: 행 단위로 loop가 돌아가도록 놓고 조건에 맞으면 nation에 입력  \n",
    "1단계: ol_data에 'Nation' column을 만들어둔다.  \n",
    "2단계: 행을 한 줄씩 추출하여 for 문을 돌린다.  \n",
    "3단계: 행의 'City' 에 cn_map['City']와 상응하는 값이 있다면(if)  \n",
    "4단계: cn_map['Nation']을 대입한다.\n",
    "예외: \n",
    "원 데이터는 Antwerpen, 위키 데이터는 Antwerp  \n",
    "원 데이터는 Sankt Moritz, 위키 데이터는 St. Moritz\t  \n",
    "원 데이터는 Roma, 위키 데이터는 Rome  \n",
    "원 데이터는 Moskva, 위키 데이터는 Moscow  \n",
    "원 데이터는 Torino, 위키 데이터는 Turin  \n",
    "원 데이터는 Athina, 위키 데이터는 Athens  \n",
    "!!!!!!!!!!!!!!!!!!!!!! 추출 데이터 중 나라가 제대로 안 된것 확인 Tokyo-finland 존재  \n",
    "위키 데이터 기준 45개에서 평창(Pyeongchang), 밀라노(Milan)는 원 데이터에 없으니 제외(2개 제외)  \n",
    "Tokyo-finland값 제외하여 총 42개 도시에서 열림, 원데이터 확인 결과 도시 값은 총 42개였음  \n",
    "(Tokyo-japen: 제대로 된 row 도 존재함)- Tokyo-finland 값은 그냥 잘못 나온 것으로 보임"
   ]
  },
  {
   "cell_type": "code",
   "execution_count": 24,
   "id": "32da7641-e34d-4b3e-9140-8408b970ad13",
   "metadata": {},
   "outputs": [
    {
     "data": {
      "text/html": [
       "<div>\n",
       "<style scoped>\n",
       "    .dataframe tbody tr th:only-of-type {\n",
       "        vertical-align: middle;\n",
       "    }\n",
       "\n",
       "    .dataframe tbody tr th {\n",
       "        vertical-align: top;\n",
       "    }\n",
       "\n",
       "    .dataframe thead th {\n",
       "        text-align: right;\n",
       "    }\n",
       "</style>\n",
       "<table border=\"1\" class=\"dataframe\">\n",
       "  <thead>\n",
       "    <tr style=\"text-align: right;\">\n",
       "      <th></th>\n",
       "      <th>City</th>\n",
       "      <th>Nation</th>\n",
       "    </tr>\n",
       "  </thead>\n",
       "  <tbody>\n",
       "    <tr>\n",
       "      <th>0</th>\n",
       "      <td>Athina</td>\n",
       "      <td>Greece</td>\n",
       "    </tr>\n",
       "    <tr>\n",
       "      <th>1</th>\n",
       "      <td>Paris</td>\n",
       "      <td>France</td>\n",
       "    </tr>\n",
       "    <tr>\n",
       "      <th>2</th>\n",
       "      <td>St. Louis</td>\n",
       "      <td>United States</td>\n",
       "    </tr>\n",
       "    <tr>\n",
       "      <th>3</th>\n",
       "      <td>London</td>\n",
       "      <td>United Kingdom</td>\n",
       "    </tr>\n",
       "    <tr>\n",
       "      <th>4</th>\n",
       "      <td>Stockholm</td>\n",
       "      <td>Sweden</td>\n",
       "    </tr>\n",
       "    <tr>\n",
       "      <th>5</th>\n",
       "      <td>Berlin</td>\n",
       "      <td>Germany</td>\n",
       "    </tr>\n",
       "    <tr>\n",
       "      <th>6</th>\n",
       "      <td>Antwerpen</td>\n",
       "      <td>Belgium</td>\n",
       "    </tr>\n",
       "    <tr>\n",
       "      <th>7</th>\n",
       "      <td>Chamonix</td>\n",
       "      <td>France</td>\n",
       "    </tr>\n",
       "    <tr>\n",
       "      <th>8</th>\n",
       "      <td>Sankt Moritz</td>\n",
       "      <td>Switzerland</td>\n",
       "    </tr>\n",
       "    <tr>\n",
       "      <th>9</th>\n",
       "      <td>Amsterdam</td>\n",
       "      <td>Netherlands</td>\n",
       "    </tr>\n",
       "    <tr>\n",
       "      <th>10</th>\n",
       "      <td>Lake Placid</td>\n",
       "      <td>United States</td>\n",
       "    </tr>\n",
       "    <tr>\n",
       "      <th>11</th>\n",
       "      <td>Los Angeles</td>\n",
       "      <td>United States</td>\n",
       "    </tr>\n",
       "    <tr>\n",
       "      <th>12</th>\n",
       "      <td>Garmisch-Partenkirchen</td>\n",
       "      <td>Germany</td>\n",
       "    </tr>\n",
       "    <tr>\n",
       "      <th>13</th>\n",
       "      <td>Sapporo</td>\n",
       "      <td>Japan</td>\n",
       "    </tr>\n",
       "    <tr>\n",
       "      <th>15</th>\n",
       "      <td>Cortina d'Ampezzo</td>\n",
       "      <td>Italy</td>\n",
       "    </tr>\n",
       "    <tr>\n",
       "      <th>16</th>\n",
       "      <td>Oslo</td>\n",
       "      <td>Norway</td>\n",
       "    </tr>\n",
       "    <tr>\n",
       "      <th>17</th>\n",
       "      <td>Helsinki</td>\n",
       "      <td>Finland</td>\n",
       "    </tr>\n",
       "    <tr>\n",
       "      <th>18</th>\n",
       "      <td>Melbourne</td>\n",
       "      <td>Australia</td>\n",
       "    </tr>\n",
       "    <tr>\n",
       "      <th>19</th>\n",
       "      <td>Squaw Valley</td>\n",
       "      <td>United States</td>\n",
       "    </tr>\n",
       "    <tr>\n",
       "      <th>20</th>\n",
       "      <td>Roma</td>\n",
       "      <td>Italy</td>\n",
       "    </tr>\n",
       "    <tr>\n",
       "      <th>21</th>\n",
       "      <td>Innsbruck</td>\n",
       "      <td>Austria</td>\n",
       "    </tr>\n",
       "    <tr>\n",
       "      <th>22</th>\n",
       "      <td>Tokyo</td>\n",
       "      <td>Japan</td>\n",
       "    </tr>\n",
       "    <tr>\n",
       "      <th>23</th>\n",
       "      <td>Grenoble</td>\n",
       "      <td>France</td>\n",
       "    </tr>\n",
       "    <tr>\n",
       "      <th>24</th>\n",
       "      <td>Mexico City</td>\n",
       "      <td>Mexico</td>\n",
       "    </tr>\n",
       "    <tr>\n",
       "      <th>25</th>\n",
       "      <td>Munich</td>\n",
       "      <td>West Germany</td>\n",
       "    </tr>\n",
       "    <tr>\n",
       "      <th>26</th>\n",
       "      <td>Montreal</td>\n",
       "      <td>Canada</td>\n",
       "    </tr>\n",
       "    <tr>\n",
       "      <th>27</th>\n",
       "      <td>Moskva</td>\n",
       "      <td>Soviet Union</td>\n",
       "    </tr>\n",
       "    <tr>\n",
       "      <th>28</th>\n",
       "      <td>Sarajevo</td>\n",
       "      <td>Yugoslavia</td>\n",
       "    </tr>\n",
       "    <tr>\n",
       "      <th>29</th>\n",
       "      <td>Calgary</td>\n",
       "      <td>Canada</td>\n",
       "    </tr>\n",
       "    <tr>\n",
       "      <th>30</th>\n",
       "      <td>Seoul</td>\n",
       "      <td>South Korea</td>\n",
       "    </tr>\n",
       "    <tr>\n",
       "      <th>31</th>\n",
       "      <td>Albertville</td>\n",
       "      <td>France</td>\n",
       "    </tr>\n",
       "    <tr>\n",
       "      <th>32</th>\n",
       "      <td>Barcelona</td>\n",
       "      <td>Spain</td>\n",
       "    </tr>\n",
       "    <tr>\n",
       "      <th>33</th>\n",
       "      <td>Lillehammer</td>\n",
       "      <td>Norway</td>\n",
       "    </tr>\n",
       "    <tr>\n",
       "      <th>34</th>\n",
       "      <td>Atlanta</td>\n",
       "      <td>United States</td>\n",
       "    </tr>\n",
       "    <tr>\n",
       "      <th>35</th>\n",
       "      <td>Nagano</td>\n",
       "      <td>Japan</td>\n",
       "    </tr>\n",
       "    <tr>\n",
       "      <th>36</th>\n",
       "      <td>Sydney</td>\n",
       "      <td>Australia</td>\n",
       "    </tr>\n",
       "    <tr>\n",
       "      <th>37</th>\n",
       "      <td>Salt Lake City</td>\n",
       "      <td>United States</td>\n",
       "    </tr>\n",
       "    <tr>\n",
       "      <th>38</th>\n",
       "      <td>Torino</td>\n",
       "      <td>Italy</td>\n",
       "    </tr>\n",
       "    <tr>\n",
       "      <th>39</th>\n",
       "      <td>Beijing</td>\n",
       "      <td>China</td>\n",
       "    </tr>\n",
       "    <tr>\n",
       "      <th>40</th>\n",
       "      <td>Vancouver</td>\n",
       "      <td>Canada</td>\n",
       "    </tr>\n",
       "    <tr>\n",
       "      <th>41</th>\n",
       "      <td>Sochi</td>\n",
       "      <td>Russia</td>\n",
       "    </tr>\n",
       "    <tr>\n",
       "      <th>42</th>\n",
       "      <td>Rio de Janeiro</td>\n",
       "      <td>Brazil</td>\n",
       "    </tr>\n",
       "  </tbody>\n",
       "</table>\n",
       "</div>"
      ],
      "text/plain": [
       "                      City          Nation\n",
       "0                   Athina          Greece\n",
       "1                    Paris          France\n",
       "2                St. Louis   United States\n",
       "3                   London  United Kingdom\n",
       "4                Stockholm          Sweden\n",
       "5                   Berlin         Germany\n",
       "6                Antwerpen         Belgium\n",
       "7                 Chamonix          France\n",
       "8             Sankt Moritz     Switzerland\n",
       "9                Amsterdam     Netherlands\n",
       "10             Lake Placid   United States\n",
       "11             Los Angeles   United States\n",
       "12  Garmisch-Partenkirchen         Germany\n",
       "13                 Sapporo           Japan\n",
       "15       Cortina d'Ampezzo           Italy\n",
       "16                    Oslo          Norway\n",
       "17                Helsinki         Finland\n",
       "18               Melbourne       Australia\n",
       "19            Squaw Valley   United States\n",
       "20                    Roma           Italy\n",
       "21               Innsbruck         Austria\n",
       "22                   Tokyo           Japan\n",
       "23                Grenoble          France\n",
       "24             Mexico City          Mexico\n",
       "25                  Munich    West Germany\n",
       "26                Montreal          Canada\n",
       "27                  Moskva    Soviet Union\n",
       "28                Sarajevo      Yugoslavia\n",
       "29                 Calgary          Canada\n",
       "30                   Seoul     South Korea\n",
       "31             Albertville          France\n",
       "32               Barcelona           Spain\n",
       "33             Lillehammer          Norway\n",
       "34                 Atlanta   United States\n",
       "35                  Nagano           Japan\n",
       "36                  Sydney       Australia\n",
       "37          Salt Lake City   United States\n",
       "38                  Torino           Italy\n",
       "39                 Beijing           China\n",
       "40               Vancouver          Canada\n",
       "41                   Sochi          Russia\n",
       "42          Rio de Janeiro          Brazil"
      ]
     },
     "execution_count": 24,
     "metadata": {},
     "output_type": "execute_result"
    }
   ],
   "source": [
    "# 6개의 예외값 변경\n",
    "cn_map.loc[cn_map['City']=='Antwerp','City']='Antwerpen'\n",
    "cn_map.loc[cn_map['City']=='St. Moritz','City']='Sankt Moritz'\n",
    "cn_map.loc[cn_map['City']=='Rome','City']='Roma'\n",
    "cn_map.loc[cn_map['City']=='Moscow','City']='Moskva'\n",
    "cn_map.loc[cn_map['City']=='Turin','City']='Torino'\n",
    "cn_map.loc[cn_map['City']=='Athens','City']='Athina'\n",
    "# 원 데이터에서 사용하지 않는 데이터와 Tokyo-Finland 값 제거\n",
    "cn_map.drop(14, axis=0, inplace=True)\n",
    "cn_map.drop(43, axis=0, inplace=True)\n",
    "cn_map.drop(44, axis=0, inplace=True)\n",
    "cn_map.reset_index(drop=True)\n",
    "cn_map"
   ]
  },
  {
   "cell_type": "code",
   "execution_count": 25,
   "id": "507c874d-bc56-4f5b-b5b7-c78dd1c2cb6d",
   "metadata": {
    "tags": []
   },
   "outputs": [],
   "source": [
    "# city와 nation 병합 완료, 성공적\n",
    "ol_merge=ol_data.merge(cn_map, how='left', on='City')"
   ]
  },
  {
   "cell_type": "markdown",
   "id": "178a31ee-5d7d-45f9-b9b8-e4f738cdbf45",
   "metadata": {},
   "source": [
    "명확하게 로직을 정리하고 넘어가자  \n",
    "궁극적인 목표는 '개최국은 다른 때보다 더 좋은 성적을 내는가?'를 확인하는 것이다.  \n",
    "이를 위해, athlete_events.csv에서 개최국의 선수인지 아닌지를 확인하는 작업이 필요하다.  \n",
    "개최국 선수 여부를 확인하는 가장 좋은 방법은 athlete_events.csv의 선수 NOC 코드를 개최국의 NOC 코드와 비교하는 것이다.  \n",
    "하지만 athlete_events.csv에는 개최 도시만 나와 있지, 개최국도, 개최국의 NOC 코드도 없다.  \n",
    "그래서 개최 도시-개최국을 mapping시키는 외부 데이터를 구하여 athlete_events.csv에 개최국 column 'Nation'을 추가한 다음,(여기까지 진행)  \n",
    "  \n",
    "noc_regions.csv 파일에 있는 region-NOC 코드를 athlete_events.csv의 'Nation'과 mapping시켜 'hosting_NOC'를 column에 추가하고,  \n",
    "athlete_events.csv에 있는 'NOC'와 'hosting_NOC'를 비교하여 같으면 1, 다르면 0을 입력하는 'host_athlete'을 column에 추가하여 개최국 선수 여부를 확인할 것이다."
   ]
  },
  {
   "cell_type": "code",
   "execution_count": 26,
   "id": "351c156d-8d4f-4761-8f2b-079f33d93eb7",
   "metadata": {},
   "outputs": [],
   "source": [
    "# NOC-국가 매핑 파일 불러오기\n",
    "ol_NOC=pd.read_csv('..\\\\workplace_data\\\\olympic_data\\\\noc_regions.csv')\n",
    "# ol_NOC"
   ]
  },
  {
   "cell_type": "code",
   "execution_count": 27,
   "id": "d21abe07-2601-48ee-a1a0-eaf2db8e2e6a",
   "metadata": {},
   "outputs": [
    {
     "data": {
      "text/html": [
       "<div>\n",
       "<style scoped>\n",
       "    .dataframe tbody tr th:only-of-type {\n",
       "        vertical-align: middle;\n",
       "    }\n",
       "\n",
       "    .dataframe tbody tr th {\n",
       "        vertical-align: top;\n",
       "    }\n",
       "\n",
       "    .dataframe thead th {\n",
       "        text-align: right;\n",
       "    }\n",
       "</style>\n",
       "<table border=\"1\" class=\"dataframe\">\n",
       "  <thead>\n",
       "    <tr style=\"text-align: right;\">\n",
       "      <th></th>\n",
       "      <th>NOC</th>\n",
       "      <th>Nation</th>\n",
       "      <th>notes</th>\n",
       "    </tr>\n",
       "  </thead>\n",
       "  <tbody>\n",
       "    <tr>\n",
       "      <th>0</th>\n",
       "      <td>AFG</td>\n",
       "      <td>Afghanistan</td>\n",
       "      <td>NaN</td>\n",
       "    </tr>\n",
       "    <tr>\n",
       "      <th>1</th>\n",
       "      <td>AHO</td>\n",
       "      <td>Curacao</td>\n",
       "      <td>Netherlands Antilles</td>\n",
       "    </tr>\n",
       "    <tr>\n",
       "      <th>2</th>\n",
       "      <td>ALB</td>\n",
       "      <td>Albania</td>\n",
       "      <td>NaN</td>\n",
       "    </tr>\n",
       "    <tr>\n",
       "      <th>3</th>\n",
       "      <td>ALG</td>\n",
       "      <td>Algeria</td>\n",
       "      <td>NaN</td>\n",
       "    </tr>\n",
       "    <tr>\n",
       "      <th>4</th>\n",
       "      <td>AND</td>\n",
       "      <td>Andorra</td>\n",
       "      <td>NaN</td>\n",
       "    </tr>\n",
       "    <tr>\n",
       "      <th>...</th>\n",
       "      <td>...</td>\n",
       "      <td>...</td>\n",
       "      <td>...</td>\n",
       "    </tr>\n",
       "    <tr>\n",
       "      <th>225</th>\n",
       "      <td>YEM</td>\n",
       "      <td>Yemen</td>\n",
       "      <td>NaN</td>\n",
       "    </tr>\n",
       "    <tr>\n",
       "      <th>226</th>\n",
       "      <td>YMD</td>\n",
       "      <td>Yemen</td>\n",
       "      <td>South Yemen</td>\n",
       "    </tr>\n",
       "    <tr>\n",
       "      <th>227</th>\n",
       "      <td>YUG</td>\n",
       "      <td>Serbia</td>\n",
       "      <td>Yugoslavia</td>\n",
       "    </tr>\n",
       "    <tr>\n",
       "      <th>228</th>\n",
       "      <td>ZAM</td>\n",
       "      <td>Zambia</td>\n",
       "      <td>NaN</td>\n",
       "    </tr>\n",
       "    <tr>\n",
       "      <th>229</th>\n",
       "      <td>ZIM</td>\n",
       "      <td>Zimbabwe</td>\n",
       "      <td>NaN</td>\n",
       "    </tr>\n",
       "  </tbody>\n",
       "</table>\n",
       "<p>230 rows × 3 columns</p>\n",
       "</div>"
      ],
      "text/plain": [
       "     NOC       Nation                 notes\n",
       "0    AFG  Afghanistan                   NaN\n",
       "1    AHO      Curacao  Netherlands Antilles\n",
       "2    ALB      Albania                   NaN\n",
       "3    ALG      Algeria                   NaN\n",
       "4    AND      Andorra                   NaN\n",
       "..   ...          ...                   ...\n",
       "225  YEM        Yemen                   NaN\n",
       "226  YMD        Yemen           South Yemen\n",
       "227  YUG       Serbia            Yugoslavia\n",
       "228  ZAM       Zambia                   NaN\n",
       "229  ZIM     Zimbabwe                   NaN\n",
       "\n",
       "[230 rows x 3 columns]"
      ]
     },
     "execution_count": 27,
     "metadata": {},
     "output_type": "execute_result"
    }
   ],
   "source": [
    "# 'region'에서 'Nation'으로 column 변경\n",
    "ol_NOC.rename(columns={'region': 'Nation'}, inplace=True)\n",
    "ol_NOC"
   ]
  },
  {
   "cell_type": "code",
   "execution_count": 28,
   "id": "194dc482-80e0-4f75-b432-2408c5567231",
   "metadata": {},
   "outputs": [
    {
     "name": "stdout",
     "output_type": "stream",
     "text": [
      "in Greece, no correction\n",
      "in Italy, no correction\n",
      "in China, no correction\n",
      "in Canada, no correction\n",
      "note in Yugoslavia, correct region to Yugoslavia\n",
      "in Brazil, no correction\n",
      "in Japan, no correction\n",
      "in Finland, no correction\n",
      "in Russia, no correction\n",
      "in Austria, no correction\n",
      "in Australia, no correction\n",
      "in France, no correction\n",
      "in Spain, no correction\n",
      "in Mexico, no correction\n",
      "in Germany, no correction\n",
      "in Sweden, no correction\n",
      "in Belgium, no correction\n",
      "in Switzerland, no correction\n",
      "in Netherlands, no correction\n",
      "in South Korea, no correction\n",
      "in Norway, no correction\n"
     ]
    }
   ],
   "source": [
    "# NOC-국가 매핑 파일의 국가명과 wiki에서 추출한 국가명이 같은지 확인\n",
    "nation_set=set(cn_map['Nation'])\n",
    "host_nation=pd.DataFrame(columns=['NOC', 'Nation', 'notes'])\n",
    "\n",
    "# 같은 나라, 다른 명칭인 경우 수정\n",
    "for i in nation_set:\n",
    "    if (ol_NOC['Nation']==i).any():\n",
    "        print(f'in {i}, no correction')\n",
    "        # host_nation=pd.concat(host_nation, ol_NOC.loc[\n",
    "        # host_nation.append(ol_NOC.loc[ol_NOC['Nation']==i, ol_NOC])\n",
    "        \n",
    "    elif (ol_NOC['notes']==i).any():\n",
    "        print(f'note in {i}, correct region to {i}')\n",
    "        ol_NOC.loc[ol_NOC['notes']==i, 'Nation']=i\n",
    "        \n",
    "    elif i=='West Germany':\n",
    "        ol_NOC.loc[ol_NOC['NOC']=='FRG', 'Nation']=i\n",
    "        # print(f'{ol_NOC.loc[ol_NOC['NOC']=='FRG', 'region']} is changed')\n",
    "\n",
    "    elif i=='Soviet Union':\n",
    "        ol_NOC.loc[ol_NOC['NOC']=='URS', 'Nation']=i\n",
    "        # print(f'{ol_NOC.loc[ol_NOC['NOC']=='URS', 'region']} is changed')\n",
    "        \n",
    "    elif i=='United States':\n",
    "        ol_NOC.loc[ol_NOC['NOC']=='USA', 'Nation']=i\n",
    "        # print(f'{ol_NOC.loc[ol_NOC['NOC']=='USA', 'region']} is changed')\n",
    "\n",
    "    elif i=='United Kingdom':\n",
    "        ol_NOC.loc[ol_NOC['NOC']=='GBR', 'Nation']=i\n",
    "        # print(f'{ol_NOC.loc[ol_NOC['NOC']=='GBR', 'region']} is changed')\n",
    "        \n",
    "    else:\n",
    "        print(f'not in {i}, need correct')\n",
    "\n",
    "# 예외: Yugoslavia(region 아닌 note에 존재)는 elif로 변경\n",
    "# West Germany(FRG), Soviet Union(URS), United States(USA로 있음), United Kingdom(GBR)은\n",
    "# noc_regions.csv의 region과 ol_merge의 'Nation'과 다른 방식으로 국가의 이름이 입력되어 있으며, 직접 바꿔줘야한다.\n",
    "# West Germany는 FRG, East Germany는 GDR, United Team of Germany는 EUA, Germany(현재 독일)은 GER"
   ]
  },
  {
   "cell_type": "code",
   "execution_count": null,
   "id": "4706fd78-5cd3-488a-90c6-26f4f718f930",
   "metadata": {},
   "outputs": [],
   "source": []
  },
  {
   "cell_type": "code",
   "execution_count": 29,
   "id": "cad33dfb-f4be-4fd0-a3ae-94ce98711a1d",
   "metadata": {},
   "outputs": [
    {
     "data": {
      "text/plain": [
       "(354299, 18)"
      ]
     },
     "execution_count": 29,
     "metadata": {},
     "output_type": "execute_result"
    }
   ],
   "source": [
    "ol_merge_2 = pd.merge(ol_merge, ol_NOC, left_on='Nation', right_on='Nation', how='left')\n",
    "# ol_merge_2=ol_merge.merge(ol_NOC, how='inner', on='Nation')\n",
    "# ol_merge=ol_data.merge(cn_map, how='left', on='City')\n",
    "ol_merge_2.shape"
   ]
  },
  {
   "cell_type": "code",
   "execution_count": 30,
   "id": "61ea7bb5-c052-4166-9a3a-dc3ca4a0b5c4",
   "metadata": {},
   "outputs": [
    {
     "data": {
      "text/plain": [
       "(230, 3)"
      ]
     },
     "execution_count": 30,
     "metadata": {},
     "output_type": "execute_result"
    }
   ],
   "source": [
    "ol_NOC.shape"
   ]
  },
  {
   "cell_type": "code",
   "execution_count": 31,
   "id": "98adcd44-70af-4538-a8cf-dcb50b91991a",
   "metadata": {},
   "outputs": [
    {
     "data": {
      "text/plain": [
       "(271116, 16)"
      ]
     },
     "execution_count": 31,
     "metadata": {},
     "output_type": "execute_result"
    }
   ],
   "source": [
    "ol_merge.shape"
   ]
  },
  {
   "cell_type": "code",
   "execution_count": 32,
   "id": "d1eb7599-8c3d-435c-b816-207e8f5c34f8",
   "metadata": {},
   "outputs": [
    {
     "name": "stdout",
     "output_type": "stream",
     "text": [
      "0             Greece\n",
      "1             France\n",
      "2      United States\n",
      "3     United Kingdom\n",
      "4             Sweden\n",
      "5            Germany\n",
      "6            Belgium\n",
      "7             France\n",
      "8        Switzerland\n",
      "9        Netherlands\n",
      "10     United States\n",
      "11     United States\n",
      "12           Germany\n",
      "13             Japan\n",
      "15             Italy\n",
      "16            Norway\n",
      "17           Finland\n",
      "18         Australia\n",
      "19     United States\n",
      "20             Italy\n",
      "21           Austria\n",
      "22             Japan\n",
      "23            France\n",
      "24            Mexico\n",
      "25      West Germany\n",
      "26            Canada\n",
      "27      Soviet Union\n",
      "28        Yugoslavia\n",
      "29            Canada\n",
      "30       South Korea\n",
      "31            France\n",
      "32             Spain\n",
      "33            Norway\n",
      "34     United States\n",
      "35             Japan\n",
      "36         Australia\n",
      "37     United States\n",
      "38             Italy\n",
      "39             China\n",
      "40            Canada\n",
      "41            Russia\n",
      "42            Brazil\n",
      "Name: Nation, dtype: object\n"
     ]
    }
   ],
   "source": [
    "print(cn_map['Nation'])"
   ]
  },
  {
   "cell_type": "code",
   "execution_count": 34,
   "id": "ce5a061e-8398-49a6-a6d2-fd237f134e0b",
   "metadata": {},
   "outputs": [],
   "source": [
    "# NOC_list=['CRT', 'FRA', 'USA', 'GBR', 'SWE', 'GER', 'BEL', 'FRA', 'SUI', 'NED', \n",
    "#           'USA', 'USA', 'GER', 'JPN', 'ITA', 'NOR', 'FIN', 'AUS', 'USA', 'ITA', \n",
    "#           'AUT', 'JPN', 'FRA', 'MEX', 'FRG', 'CAN', 'KOR', 'FRA', "
   ]
  },
  {
   "cell_type": "code",
   "execution_count": 36,
   "id": "3a889c8d-9698-428a-b2a2-95316cb0a018",
   "metadata": {},
   "outputs": [
    {
     "ename": "KeyError",
     "evalue": "'Sports'",
     "output_type": "error",
     "traceback": [
      "\u001b[1;31m---------------------------------------------------------------------------\u001b[0m",
      "\u001b[1;31mKeyError\u001b[0m                                  Traceback (most recent call last)",
      "File \u001b[1;32mC:\\ProgramData\\Anaconda3\\lib\\site-packages\\pandas\\core\\indexes\\base.py:3361\u001b[0m, in \u001b[0;36mIndex.get_loc\u001b[1;34m(self, key, method, tolerance)\u001b[0m\n\u001b[0;32m   3360\u001b[0m \u001b[38;5;28;01mtry\u001b[39;00m:\n\u001b[1;32m-> 3361\u001b[0m     \u001b[38;5;28;01mreturn\u001b[39;00m \u001b[38;5;28;43mself\u001b[39;49m\u001b[38;5;241;43m.\u001b[39;49m\u001b[43m_engine\u001b[49m\u001b[38;5;241;43m.\u001b[39;49m\u001b[43mget_loc\u001b[49m\u001b[43m(\u001b[49m\u001b[43mcasted_key\u001b[49m\u001b[43m)\u001b[49m\n\u001b[0;32m   3362\u001b[0m \u001b[38;5;28;01mexcept\u001b[39;00m \u001b[38;5;167;01mKeyError\u001b[39;00m \u001b[38;5;28;01mas\u001b[39;00m err:\n",
      "File \u001b[1;32mC:\\ProgramData\\Anaconda3\\lib\\site-packages\\pandas\\_libs\\index.pyx:76\u001b[0m, in \u001b[0;36mpandas._libs.index.IndexEngine.get_loc\u001b[1;34m()\u001b[0m\n",
      "File \u001b[1;32mC:\\ProgramData\\Anaconda3\\lib\\site-packages\\pandas\\_libs\\index.pyx:108\u001b[0m, in \u001b[0;36mpandas._libs.index.IndexEngine.get_loc\u001b[1;34m()\u001b[0m\n",
      "File \u001b[1;32mpandas\\_libs\\hashtable_class_helper.pxi:5198\u001b[0m, in \u001b[0;36mpandas._libs.hashtable.PyObjectHashTable.get_item\u001b[1;34m()\u001b[0m\n",
      "File \u001b[1;32mpandas\\_libs\\hashtable_class_helper.pxi:5206\u001b[0m, in \u001b[0;36mpandas._libs.hashtable.PyObjectHashTable.get_item\u001b[1;34m()\u001b[0m\n",
      "\u001b[1;31mKeyError\u001b[0m: 'Sports'",
      "\nThe above exception was the direct cause of the following exception:\n",
      "\u001b[1;31mKeyError\u001b[0m                                  Traceback (most recent call last)",
      "Cell \u001b[1;32mIn [36], line 1\u001b[0m\n\u001b[1;32m----> 1\u001b[0m ol_data\u001b[38;5;241m.\u001b[39mloc[\u001b[43mol_data\u001b[49m\u001b[43m[\u001b[49m\u001b[38;5;124;43m'\u001b[39;49m\u001b[38;5;124;43mSports\u001b[39;49m\u001b[38;5;124;43m'\u001b[39;49m\u001b[43m]\u001b[49m\u001b[38;5;241m==\u001b[39m\u001b[38;5;124m'\u001b[39m\u001b[38;5;124mRowing\u001b[39m\u001b[38;5;124m'\u001b[39m]\n",
      "File \u001b[1;32mC:\\ProgramData\\Anaconda3\\lib\\site-packages\\pandas\\core\\frame.py:3458\u001b[0m, in \u001b[0;36mDataFrame.__getitem__\u001b[1;34m(self, key)\u001b[0m\n\u001b[0;32m   3456\u001b[0m \u001b[38;5;28;01mif\u001b[39;00m \u001b[38;5;28mself\u001b[39m\u001b[38;5;241m.\u001b[39mcolumns\u001b[38;5;241m.\u001b[39mnlevels \u001b[38;5;241m>\u001b[39m \u001b[38;5;241m1\u001b[39m:\n\u001b[0;32m   3457\u001b[0m     \u001b[38;5;28;01mreturn\u001b[39;00m \u001b[38;5;28mself\u001b[39m\u001b[38;5;241m.\u001b[39m_getitem_multilevel(key)\n\u001b[1;32m-> 3458\u001b[0m indexer \u001b[38;5;241m=\u001b[39m \u001b[38;5;28;43mself\u001b[39;49m\u001b[38;5;241;43m.\u001b[39;49m\u001b[43mcolumns\u001b[49m\u001b[38;5;241;43m.\u001b[39;49m\u001b[43mget_loc\u001b[49m\u001b[43m(\u001b[49m\u001b[43mkey\u001b[49m\u001b[43m)\u001b[49m\n\u001b[0;32m   3459\u001b[0m \u001b[38;5;28;01mif\u001b[39;00m is_integer(indexer):\n\u001b[0;32m   3460\u001b[0m     indexer \u001b[38;5;241m=\u001b[39m [indexer]\n",
      "File \u001b[1;32mC:\\ProgramData\\Anaconda3\\lib\\site-packages\\pandas\\core\\indexes\\base.py:3363\u001b[0m, in \u001b[0;36mIndex.get_loc\u001b[1;34m(self, key, method, tolerance)\u001b[0m\n\u001b[0;32m   3361\u001b[0m         \u001b[38;5;28;01mreturn\u001b[39;00m \u001b[38;5;28mself\u001b[39m\u001b[38;5;241m.\u001b[39m_engine\u001b[38;5;241m.\u001b[39mget_loc(casted_key)\n\u001b[0;32m   3362\u001b[0m     \u001b[38;5;28;01mexcept\u001b[39;00m \u001b[38;5;167;01mKeyError\u001b[39;00m \u001b[38;5;28;01mas\u001b[39;00m err:\n\u001b[1;32m-> 3363\u001b[0m         \u001b[38;5;28;01mraise\u001b[39;00m \u001b[38;5;167;01mKeyError\u001b[39;00m(key) \u001b[38;5;28;01mfrom\u001b[39;00m \u001b[38;5;21;01merr\u001b[39;00m\n\u001b[0;32m   3365\u001b[0m \u001b[38;5;28;01mif\u001b[39;00m is_scalar(key) \u001b[38;5;129;01mand\u001b[39;00m isna(key) \u001b[38;5;129;01mand\u001b[39;00m \u001b[38;5;129;01mnot\u001b[39;00m \u001b[38;5;28mself\u001b[39m\u001b[38;5;241m.\u001b[39mhasnans:\n\u001b[0;32m   3366\u001b[0m     \u001b[38;5;28;01mraise\u001b[39;00m \u001b[38;5;167;01mKeyError\u001b[39;00m(key)\n",
      "\u001b[1;31mKeyError\u001b[0m: 'Sports'"
     ]
    }
   ],
   "source": [
    "ol_data.loc[ol_data['Sports']=='Rowing']"
   ]
  },
  {
   "cell_type": "code",
   "execution_count": null,
   "id": "5e91a8e0-6692-4d54-93fd-a0a678de2413",
   "metadata": {},
   "outputs": [],
   "source": []
  }
 ],
 "metadata": {
  "kernelspec": {
   "display_name": "Python 3 (ipykernel)",
   "language": "python",
   "name": "python3"
  },
  "language_info": {
   "codemirror_mode": {
    "name": "ipython",
    "version": 3
   },
   "file_extension": ".py",
   "mimetype": "text/x-python",
   "name": "python",
   "nbconvert_exporter": "python",
   "pygments_lexer": "ipython3",
   "version": "3.8.8"
  }
 },
 "nbformat": 4,
 "nbformat_minor": 5
}
