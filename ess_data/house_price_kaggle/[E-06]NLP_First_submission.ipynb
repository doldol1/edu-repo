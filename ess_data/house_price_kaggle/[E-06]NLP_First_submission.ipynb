{
 "cells": [
  {
   "cell_type": "markdown",
   "id": "c9ef6fb7",
   "metadata": {},
   "source": [
    "# 멋진 작사가 만들기\n",
    "목표: 입력값이 포함된 문장을 작사하는 모델 만들기  \n",
    "## 데이터 불러오기"
   ]
  },
  {
   "cell_type": "code",
   "execution_count": 1,
   "id": "67c5229a",
   "metadata": {},
   "outputs": [
    {
     "name": "stdout",
     "output_type": "stream",
     "text": [
      "데이터 크기: 187088\n",
      "Examples:\n",
      " [\"Busted flat in Baton Rouge, waitin' for a train\", \"And I's feelin' near as faded as my jeans\", 'Bobby thumbed a diesel down, just before it rained']\n"
     ]
    }
   ],
   "source": [
    "import os, re \n",
    "import numpy as np\n",
    "import tensorflow as tf\n",
    "\n",
    "import glob\n",
    "import os\n",
    "\n",
    "from sklearn.model_selection import train_test_split\n",
    "\n",
    "\n",
    "txt_file_path = './lyricist/data/lyrics'    # 로컬에서는'C:/Users/wader/workplace/ess_data/[E-06]NLP_First/'\n",
    "txt_list=os.listdir(txt_file_path)\n",
    "\n",
    "os.chdir(txt_file_path)\n",
    "raw_corpus = [] \n",
    "\n",
    "# 여러개의 txt 파일을 모두 읽어서 raw_corpus 에 담습니다.\n",
    "for txt_file in txt_list:\n",
    "    with open(txt_file, \"r\", encoding='UTF8') as f:\n",
    "        raw = f.read().splitlines() #read() : 파일 전체의 내용을 하나의 문자열로 읽어온다. , splitlines()  : 여러라인으로 구분되어 있는 문자열을 한라인씩 분리하여 리스트로 반환\n",
    "        raw_corpus.extend(raw) # extend() : 리스트함수로 추가적인 내용을 연장 한다.\n",
    "\n",
    "print(\"데이터 크기:\", len(raw_corpus))\n",
    "print(\"Examples:\\n\", raw_corpus[:3])"
   ]
  },
  {
   "cell_type": "markdown",
   "id": "e351bd8b",
   "metadata": {},
   "source": [
    "## 전처리\n",
    "preprocess_sentence는 대소문자, 불필요한 문장부호, 특수문자를 제거한다."
   ]
  },
  {
   "cell_type": "code",
   "execution_count": 2,
   "id": "a6eded1f",
   "metadata": {},
   "outputs": [],
   "source": [
    "def preprocess_sentence(sentence):\n",
    "    sentence = sentence.lower().strip() # 1\n",
    "    sentence = re.sub(r\"([?.!,¿])\", r\" \\1 \", sentence) # 2\n",
    "    sentence = re.sub(r'[\" \"]+', \" \", sentence) # 3\n",
    "    sentence = re.sub(r\"[^a-zA-Z?.!,¿]+\", \" \", sentence) # 4\n",
    "    sentence = sentence.strip() # 5\n",
    "    sentence = '<start> ' + sentence + ' <end>' # 6\n",
    "    return sentence"
   ]
  },
  {
   "cell_type": "markdown",
   "id": "0204bc16",
   "metadata": {},
   "source": [
    "불러운 문장들은 preprocess_sentence로 정제한다. 다만 단어가 15개가 넘어가는 학습에 적절하지 못한 문장으로 보아 삭제하고 남은 값들을 학습시킨다.(문장이 지나치게 긴 결과물이 나오는 것을 예방하기 위함)"
   ]
  },
  {
   "cell_type": "code",
   "execution_count": 3,
   "id": "34a1c3a5",
   "metadata": {
    "tags": []
   },
   "outputs": [
    {
     "data": {
      "text/plain": [
       "['<start> busted flat in baton rouge , waitin for a train <end>',\n",
       " '<start> and i s feelin near as faded as my jeans <end>',\n",
       " '<start> bobby thumbed a diesel down , just before it rained <end>',\n",
       " '<start> i was playin soft while bobby sang the blues , yeah <end>',\n",
       " '<start> you know , feelin good was good enough for me <end>',\n",
       " '<start> there bobby shared the secrets of my soul <end>',\n",
       " '<start> through all kinds of weather , through everything we done <end>',\n",
       " '<start> nothin , that s all that bobby left me , yeah <end>',\n",
       " '<start> hey , feelin good was good enough for me , mm hmm <end>',\n",
       " '<start> good enough for me and my bobby mcghee la da da <end>']"
      ]
     },
     "execution_count": 3,
     "metadata": {},
     "output_type": "execute_result"
    }
   ],
   "source": [
    "# 여기에 정제된 문장을 모을겁니다\n",
    "corpus = []\n",
    "\n",
    "# raw_corpus list에 저장된 문장들을 순서대로 반환하여 sentence에 저장\n",
    "for sentence in raw_corpus:\n",
    "    # 우리가 원하지 않는 문장은 건너뜁니다\n",
    "    if len(sentence) == 0: continue\n",
    "    if sentence[-1] == \":\": continue\n",
    "    \n",
    "    # 앞서 구현한 preprocess_sentence() 함수를 이용하여 문장을 정제를 하고 담아주세요\n",
    "    preprocessed_sentence = preprocess_sentence(sentence)\n",
    "    \n",
    "    # 문장에 들어가는 단어가 15개가 넘는 경우 학습 데이터에 포함하지 않는다.\n",
    "    if len(preprocessed_sentence.split(' ')) >= 15:\n",
    "        continue\n",
    "    \n",
    "    corpus.append(preprocessed_sentence)\n",
    "        \n",
    "# 정제된 결과 확인해보죠\n",
    "corpus[:10]"
   ]
  },
  {
   "cell_type": "markdown",
   "id": "dc3edee8",
   "metadata": {},
   "source": [
    "## Test data와 Validation data 분류 및 토큰화\n",
    "Test:Validation= 8:2 로 하며, 단어장은 12000단어를 저장할 수 있도록 한다."
   ]
  },
  {
   "cell_type": "code",
   "execution_count": 4,
   "id": "500a7d53",
   "metadata": {},
   "outputs": [],
   "source": [
    "enc_train, enc_val, _, _ = train_test_split(corpus, corpus, test_size=0.2, random_state=7)"
   ]
  },
  {
   "cell_type": "code",
   "execution_count": 5,
   "id": "6733cf71",
   "metadata": {},
   "outputs": [
    {
     "name": "stdout",
     "output_type": "stream",
     "text": [
      "[[   2   87  545 ...    0    0    0]\n",
      " [   2   92   66 ...    0    0    0]\n",
      " [   2    4   75 ...    0    0    0]\n",
      " ...\n",
      " [   2  510 5037 ...    0    0    0]\n",
      " [   2    4  119 ...    0    0    0]\n",
      " [   2   68 1552 ...    0    0    0]] <keras_preprocessing.text.Tokenizer object at 0x7f786c4cc970>\n"
     ]
    }
   ],
   "source": [
    "def tokenize(corpus):\n",
    "    # 12000단어를 기억할 수 있는 tokenizer를 만들겁니다\n",
    "    # 우리는 이미 문장을 정제했으니 filters가 필요없어요\n",
    "    # 12000단어에 포함되지 못한 단어는 '<unk>'로 바꿀거에요\n",
    "    tokenizer = tf.keras.preprocessing.text.Tokenizer(\n",
    "        num_words=12000, \n",
    "        filters=' ',\n",
    "        oov_token=\"<unk>\"\n",
    "    )\n",
    "    # corpus를 이용해 tokenizer 내부의 단어장을 완성합니다\n",
    "    # tokenizer.fit_on_texts(texts): 문자 데이터를 입력받아 리스트의 형태로 변환하는 메서드\n",
    "    tokenizer.fit_on_texts(corpus)\n",
    "    # 준비한 tokenizer를 이용해 corpus를 Tensor로 변환합니다\n",
    "    # tokenizer.texts_to_sequences(texts): 텍스트 안의 단어들을 숫자의 시퀀스 형태로 변환하는 메서드\n",
    "    tensor = tokenizer.texts_to_sequences(corpus)   \n",
    "    # 입력 데이터의 시퀀스 길이를 일정하게 맞춰줍니다\n",
    "    # 만약 시퀀스가 짧다면 문장 뒤에 패딩을 붙여 길이를 맞춰줍니다.\n",
    "    # 문장 앞에 패딩을 붙여 길이를 맞추고 싶다면 padding='pre'를 사용합니다\n",
    "    tensor = tf.keras.preprocessing.sequence.pad_sequences(tensor, padding='post')  \n",
    "    \n",
    "    print(tensor,tokenizer)\n",
    "    return tensor, tokenizer\n",
    "\n",
    "tensor, tokenizer = tokenize(enc_train)"
   ]
  },
  {
   "cell_type": "markdown",
   "id": "d72e6a1e",
   "metadata": {},
   "source": [
    "연산 결과를 확인한다. 텐서에 padding과 단어 code가 들어갔는지 확인한다."
   ]
  },
  {
   "cell_type": "code",
   "execution_count": 6,
   "id": "6c386543",
   "metadata": {},
   "outputs": [
    {
     "name": "stdout",
     "output_type": "stream",
     "text": [
      "[[   2   87  545    6  193    5   51    5  868 2533    3    0    0    0]\n",
      " [   2   92   66    6  474   72    6  516    3    0    0    0    0    0]\n",
      " [   2    4   75  250  140   28  608   20  130    3    0    0    0    0]]\n"
     ]
    }
   ],
   "source": [
    "print(tensor[:3, :15])"
   ]
  },
  {
   "cell_type": "markdown",
   "id": "45c26d6f",
   "metadata": {},
   "source": [
    "실제 단어장의 역할을 하는지 확인한다."
   ]
  },
  {
   "cell_type": "code",
   "execution_count": 7,
   "id": "74c80e67",
   "metadata": {},
   "outputs": [
    {
     "name": "stdout",
     "output_type": "stream",
     "text": [
      "1 : <unk>\n",
      "2 : <start>\n",
      "3 : <end>\n",
      "4 : i\n",
      "5 : ,\n",
      "6 : the\n",
      "7 : you\n",
      "8 : and\n",
      "9 : a\n",
      "10 : to\n"
     ]
    }
   ],
   "source": [
    "# tokenizer.index_word: 현재 계산된 단어의 인덱스와 인덱스에 해당하는 단어를 dictionary 형대로 반환 (Ex. {index: '~~', index: '~~', ...})\n",
    "for idx in tokenizer.index_word:\n",
    "    print(idx, \":\", tokenizer.index_word[idx])\n",
    "\n",
    "    if idx >= 10: break"
   ]
  },
  {
   "cell_type": "code",
   "execution_count": 8,
   "id": "2635a50f",
   "metadata": {},
   "outputs": [],
   "source": [
    "# tensor에서 마지막 토큰을 잘라내서 소스 문장을 생성합니다\n",
    "# 마지막 토큰은 <end>가 아니라 <pad>일 가능성이 높습니다.\n",
    "src_input = tensor[:, :-1]  \n",
    "# tensor에서 <start>를 잘라내서 타겟 문장을 생성합니다.\n",
    "tgt_input = tensor[:, 1:]    "
   ]
  },
  {
   "cell_type": "code",
   "execution_count": 9,
   "id": "f7bdcafa",
   "metadata": {},
   "outputs": [
    {
     "data": {
      "text/plain": [
       "<BatchDataset shapes: ((256, 13), (256, 13)), types: (tf.int32, tf.int32)>"
      ]
     },
     "execution_count": 9,
     "metadata": {},
     "output_type": "execute_result"
    }
   ],
   "source": [
    "BUFFER_SIZE = len(src_input)\n",
    "BATCH_SIZE = 256\n",
    "steps_per_epoch = len(src_input) // BATCH_SIZE\n",
    "\n",
    " # tokenizer가 구축한 단어사전 내 12000개와, 여기 포함되지 않은 0:<pad>를 포함하여 12001개\n",
    " # tokenizer.num_words: 주어진 데이터의 문장들에서 빈도수가 높은 n개의 단어만 선택\n",
    " # tokenize() 함수에서 num_words를 12000개로 선언했기 때문에, tokenizer.num_words의 값은 12000\n",
    "VOCAB_SIZE = tokenizer.num_words + 1   \n",
    "\n",
    "# 준비한 데이터 소스로부터 데이터셋을 만듭니다\n",
    "# 데이터셋에 대해서는 아래 문서를 참고하세요\n",
    "# 자세히 알아둘수록 도움이 많이 되는 중요한 문서입니다\n",
    "# https://www.tensorflow.org/api_docs/python/tf/data/Dataset\n",
    "dataset = tf.data.Dataset.from_tensor_slices((src_input, tgt_input)) # 첫번째 차원을 기준으로 데이터들을 slicing한다.\n",
    "dataset = dataset.shuffle(BUFFER_SIZE) # 전체를 섞어주기 위해 src_input의 개수를 BUFFER_SIZE로 지정하였다.\n",
    "dataset = dataset.batch(BATCH_SIZE, drop_remainder=True)\n",
    "dataset"
   ]
  },
  {
   "cell_type": "code",
   "execution_count": 10,
   "id": "7e5b0834",
   "metadata": {},
   "outputs": [
    {
     "data": {
      "text/plain": [
       "(119992, 13)"
      ]
     },
     "execution_count": 10,
     "metadata": {},
     "output_type": "execute_result"
    }
   ],
   "source": [
    "src_input.shape "
   ]
  },
  {
   "cell_type": "markdown",
   "id": "30d27bc8",
   "metadata": {},
   "source": [
    "모델 형성: 베이스라인을 그대로 따라감"
   ]
  },
  {
   "cell_type": "code",
   "execution_count": 11,
   "id": "e51089db",
   "metadata": {},
   "outputs": [],
   "source": [
    "class TextGenerator(tf.keras.Model):\n",
    "    def __init__(self, vocab_size, embedding_size, hidden_size):\n",
    "        super().__init__()\n",
    "        # Embedding 레이어, 2개의 LSTM 레이어, 1개의 Dense 레이어로 구성되어 있다.\n",
    "        # Embedding 레이어는 단어 사전의 인덱스 값을 해당 인덱스 번째의 워드 벡터로 바꿔준다.\n",
    "        # 이 워드 벡터는 의미 벡터 공간에서 단어의 추상적 표현으로 사용된다. \n",
    "        self.embedding = tf.keras.layers.Embedding(vocab_size, embedding_size) \n",
    "        self.rnn_1 = tf.keras.layers.LSTM(hidden_size, return_sequences=True)  \n",
    "        self.rnn_2 = tf.keras.layers.LSTM(hidden_size, return_sequences=True)\n",
    "        self.linear = tf.keras.layers.Dense(vocab_size)\n",
    "        \n",
    "    def call(self, x):\n",
    "        out = self.embedding(x)\n",
    "        out = self.rnn_1(out)\n",
    "        out = self.rnn_2(out)\n",
    "        out = self.linear(out)\n",
    "        \n",
    "        return out\n",
    "# embedding size 값이 커질수록 단어의 추상적인 특징들을 더 잡아낼 수 있지만\n",
    "# 그만큼 충분한 데이터가 없으면 안좋은 결과 값을 가져옵니다!   \n",
    "embedding_size = 256 # 워드 벡터의 차원수를 말하며 단어가 추상적으로 표현되는 크기입니다.\n",
    "hidden_size = 1024 # 모델에 얼마나 많은 일꾼을 둘 것인가? 정도로 이해하면 좋다.\n",
    "model = TextGenerator(tokenizer.num_words + 1, embedding_size , hidden_size) # tokenizer.num_words에 +1인 이유는 문장에 없는 pad가 사용되었기 때문이다."
   ]
  },
  {
   "cell_type": "code",
   "execution_count": 12,
   "id": "e8588992",
   "metadata": {},
   "outputs": [
    {
     "data": {
      "text/plain": [
       "<tf.Tensor: shape=(256, 13, 12001), dtype=float32, numpy=\n",
       "array([[[ 6.55656331e-05,  1.60237279e-04, -3.92230068e-05, ...,\n",
       "         -2.39942005e-04, -3.69633672e-05,  4.49047502e-06],\n",
       "        [-4.67502177e-05,  1.75597597e-04,  1.53114142e-05, ...,\n",
       "         -1.43033976e-04, -5.35820982e-05,  3.06380272e-04],\n",
       "        [-3.46817797e-05, -2.03083226e-04,  1.25399078e-04, ...,\n",
       "         -1.67871505e-04,  3.22222841e-05,  6.74389827e-04],\n",
       "        ...,\n",
       "        [ 1.87398796e-03, -1.02797442e-03,  5.82572015e-04, ...,\n",
       "          1.28762226e-03, -2.09157399e-04, -9.32944531e-05],\n",
       "        [ 2.05908227e-03, -1.16908259e-03,  3.19911662e-04, ...,\n",
       "          1.23905041e-03, -5.22169168e-04, -3.86267318e-04],\n",
       "        [ 2.22715922e-03, -1.28042360e-03,  5.30764155e-05, ...,\n",
       "          1.19907677e-03, -8.46231356e-04, -6.93592185e-04]],\n",
       "\n",
       "       [[ 6.55656331e-05,  1.60237279e-04, -3.92230068e-05, ...,\n",
       "         -2.39942005e-04, -3.69633672e-05,  4.49047502e-06],\n",
       "        [ 1.12417820e-06,  3.41815379e-04, -2.06472323e-04, ...,\n",
       "         -2.26098724e-04, -2.01175470e-04, -1.65237710e-04],\n",
       "        [-1.48998850e-04,  6.24929904e-04, -1.74632267e-04, ...,\n",
       "         -1.32283603e-04, -1.98890251e-04, -7.69170001e-04],\n",
       "        ...,\n",
       "        [ 3.78222758e-04,  1.59477859e-04, -5.07423654e-04, ...,\n",
       "         -4.60781128e-04, -3.50109942e-04, -8.03440285e-04],\n",
       "        [ 5.51419682e-04, -3.68042267e-04, -3.73306742e-04, ...,\n",
       "         -4.43074619e-04, -1.45509403e-04, -4.61048185e-04],\n",
       "        [ 6.99366152e-04, -5.86331938e-04, -3.01092077e-04, ...,\n",
       "         -2.72690464e-04,  2.50591285e-04, -2.50416691e-04]],\n",
       "\n",
       "       [[ 6.55656331e-05,  1.60237279e-04, -3.92230068e-05, ...,\n",
       "         -2.39942005e-04, -3.69633672e-05,  4.49047502e-06],\n",
       "        [ 6.75915071e-05, -3.87204964e-05, -1.19238044e-04, ...,\n",
       "         -4.87439596e-04,  5.80809319e-05, -1.36995877e-04],\n",
       "        [ 4.55268382e-05, -7.17760267e-05, -2.21700757e-04, ...,\n",
       "         -5.57465246e-04,  1.14601316e-04, -8.95122575e-05],\n",
       "        ...,\n",
       "        [ 7.61560397e-04,  3.38727259e-04, -8.76959821e-04, ...,\n",
       "         -5.88342664e-04,  4.59351577e-04,  2.94906728e-04],\n",
       "        [ 8.16434040e-04,  8.33346057e-05, -1.02125586e-03, ...,\n",
       "         -4.42927325e-04,  1.47816696e-04,  6.39889986e-05],\n",
       "        [ 9.11155308e-04, -1.89977945e-04, -1.13724172e-03, ...,\n",
       "         -2.94279133e-04, -2.05122909e-04, -1.93675049e-04]],\n",
       "\n",
       "       ...,\n",
       "\n",
       "       [[ 6.55656331e-05,  1.60237279e-04, -3.92230068e-05, ...,\n",
       "         -2.39942005e-04, -3.69633672e-05,  4.49047502e-06],\n",
       "        [-7.40273608e-05,  3.21453903e-04, -1.59448144e-04, ...,\n",
       "         -2.68489879e-04, -2.58687884e-04, -2.94359110e-04],\n",
       "        [-2.80694658e-04,  4.65145742e-04, -3.17129801e-04, ...,\n",
       "         -1.53772213e-04, -5.23947296e-04, -7.43509736e-04],\n",
       "        ...,\n",
       "        [ 1.23911910e-03, -8.52676341e-04, -1.28023780e-03, ...,\n",
       "          3.05094669e-04, -1.41382380e-03, -1.28322386e-03],\n",
       "        [ 1.55095581e-03, -9.07758309e-04, -1.31917943e-03, ...,\n",
       "          4.25220409e-04, -1.60599721e-03, -1.44663034e-03],\n",
       "        [ 1.84019527e-03, -9.09685798e-04, -1.32548949e-03, ...,\n",
       "          5.54995262e-04, -1.76449993e-03, -1.59501052e-03]],\n",
       "\n",
       "       [[ 6.55656331e-05,  1.60237279e-04, -3.92230068e-05, ...,\n",
       "         -2.39942005e-04, -3.69633672e-05,  4.49047502e-06],\n",
       "        [-1.16414769e-04,  2.20803719e-04, -1.88197504e-04, ...,\n",
       "         -2.91572709e-04,  6.22439402e-05,  2.48787634e-04],\n",
       "        [-1.24029728e-04, -1.23263628e-04, -2.33557716e-04, ...,\n",
       "         -4.16860566e-04,  1.77581955e-04,  5.90135634e-04],\n",
       "        ...,\n",
       "        [ 8.42161593e-04, -1.73950545e-03, -1.20226771e-03, ...,\n",
       "         -2.45975301e-04, -8.78326187e-04, -5.78087405e-04],\n",
       "        [ 1.09864352e-03, -1.70666189e-03, -1.31055911e-03, ...,\n",
       "         -3.07752634e-05, -1.20946998e-03, -8.71641620e-04],\n",
       "        [ 1.35772442e-03, -1.62667292e-03, -1.38188456e-03, ...,\n",
       "          1.89697777e-04, -1.48475834e-03, -1.14210509e-03]],\n",
       "\n",
       "       [[ 6.55656331e-05,  1.60237279e-04, -3.92230068e-05, ...,\n",
       "         -2.39942005e-04, -3.69633672e-05,  4.49047502e-06],\n",
       "        [ 8.39436761e-05,  4.08670865e-04, -3.97037657e-05, ...,\n",
       "         -3.38537997e-04, -6.19293569e-05,  2.75553000e-04],\n",
       "        [ 5.44513823e-05,  5.24864998e-04, -1.34990230e-04, ...,\n",
       "         -2.14860178e-04,  1.88201273e-04,  4.42956603e-04],\n",
       "        ...,\n",
       "        [ 1.53392681e-03, -8.60810862e-04, -1.22208847e-03, ...,\n",
       "          7.29264866e-04, -1.81783072e-03, -1.16942450e-03],\n",
       "        [ 1.79079268e-03, -8.28653574e-04, -1.23696693e-03, ...,\n",
       "          8.77312210e-04, -1.95875275e-03, -1.39152363e-03],\n",
       "        [ 2.03061313e-03, -7.66944315e-04, -1.22541713e-03, ...,\n",
       "          1.01584161e-03, -2.06881459e-03, -1.58457388e-03]]],\n",
       "      dtype=float32)>"
      ]
     },
     "execution_count": 12,
     "metadata": {},
     "output_type": "execute_result"
    }
   ],
   "source": [
    "# 데이터셋에서 데이터 한 배치만 불러오는 방법입니다.\n",
    "# 지금은 동작 원리에 너무 빠져들지 마세요~\n",
    "for src_sample, tgt_sample in dataset.take(1): break\n",
    "\n",
    "# 한 배치만 불러온 데이터를 모델에 넣어봅니다\n",
    "model(src_sample)"
   ]
  },
  {
   "cell_type": "code",
   "execution_count": 13,
   "id": "c41e2911",
   "metadata": {
    "scrolled": true
   },
   "outputs": [
    {
     "name": "stdout",
     "output_type": "stream",
     "text": [
      "Model: \"text_generator\"\n",
      "_________________________________________________________________\n",
      "Layer (type)                 Output Shape              Param #   \n",
      "=================================================================\n",
      "embedding (Embedding)        multiple                  3072256   \n",
      "_________________________________________________________________\n",
      "lstm (LSTM)                  multiple                  5246976   \n",
      "_________________________________________________________________\n",
      "lstm_1 (LSTM)                multiple                  8392704   \n",
      "_________________________________________________________________\n",
      "dense (Dense)                multiple                  12301025  \n",
      "=================================================================\n",
      "Total params: 29,012,961\n",
      "Trainable params: 29,012,961\n",
      "Non-trainable params: 0\n",
      "_________________________________________________________________\n"
     ]
    }
   ],
   "source": [
    "# 모델의 구조를 확인합니다.\n",
    "model.summary()"
   ]
  },
  {
   "cell_type": "markdown",
   "id": "e3a72fed",
   "metadata": {},
   "source": [
    "## 학습"
   ]
  },
  {
   "cell_type": "code",
   "execution_count": 14,
   "id": "c674e908",
   "metadata": {},
   "outputs": [
    {
     "name": "stdout",
     "output_type": "stream",
     "text": [
      "Epoch 1/30\n",
      "468/468 [==============================] - 74s 146ms/step - loss: 3.6592\n",
      "Epoch 2/30\n",
      "468/468 [==============================] - 78s 166ms/step - loss: 3.1722\n",
      "Epoch 3/30\n",
      "468/468 [==============================] - 79s 169ms/step - loss: 3.0001\n",
      "Epoch 4/30\n",
      "468/468 [==============================] - 79s 169ms/step - loss: 2.8686\n",
      "Epoch 5/30\n",
      "468/468 [==============================] - 79s 169ms/step - loss: 2.7559\n",
      "Epoch 6/30\n",
      "468/468 [==============================] - 79s 169ms/step - loss: 2.6537\n",
      "Epoch 7/30\n",
      "468/468 [==============================] - 79s 169ms/step - loss: 2.5588\n",
      "Epoch 8/30\n",
      "468/468 [==============================] - 79s 169ms/step - loss: 2.4689\n",
      "Epoch 9/30\n",
      "468/468 [==============================] - 79s 169ms/step - loss: 2.3842\n",
      "Epoch 10/30\n",
      "468/468 [==============================] - 79s 169ms/step - loss: 2.3025\n",
      "Epoch 11/30\n",
      "468/468 [==============================] - 79s 169ms/step - loss: 2.2258\n",
      "Epoch 12/30\n",
      "468/468 [==============================] - 79s 169ms/step - loss: 2.1518\n",
      "Epoch 13/30\n",
      "468/468 [==============================] - 79s 169ms/step - loss: 2.0810\n",
      "Epoch 14/30\n",
      "468/468 [==============================] - 79s 169ms/step - loss: 2.0138\n",
      "Epoch 15/30\n",
      "468/468 [==============================] - 79s 169ms/step - loss: 1.9493\n",
      "Epoch 16/30\n",
      "468/468 [==============================] - 79s 169ms/step - loss: 1.8867\n",
      "Epoch 17/30\n",
      "468/468 [==============================] - 79s 169ms/step - loss: 1.8270\n",
      "Epoch 18/30\n",
      "468/468 [==============================] - 79s 169ms/step - loss: 1.7692\n",
      "Epoch 19/30\n",
      "468/468 [==============================] - 79s 169ms/step - loss: 1.7137\n",
      "Epoch 20/30\n",
      "468/468 [==============================] - 79s 169ms/step - loss: 1.6601\n",
      "Epoch 21/30\n",
      "468/468 [==============================] - 79s 169ms/step - loss: 1.6092\n",
      "Epoch 22/30\n",
      "468/468 [==============================] - 79s 170ms/step - loss: 1.5608\n",
      "Epoch 23/30\n",
      "468/468 [==============================] - 79s 169ms/step - loss: 1.5145\n",
      "Epoch 24/30\n",
      "468/468 [==============================] - 79s 169ms/step - loss: 1.4698\n",
      "Epoch 25/30\n",
      "468/468 [==============================] - 79s 169ms/step - loss: 1.4279\n",
      "Epoch 26/30\n",
      "468/468 [==============================] - 80s 170ms/step - loss: 1.3888\n",
      "Epoch 27/30\n",
      "468/468 [==============================] - 79s 168ms/step - loss: 1.3514\n",
      "Epoch 28/30\n",
      "468/468 [==============================] - 79s 168ms/step - loss: 1.3169\n",
      "Epoch 29/30\n",
      "468/468 [==============================] - 79s 169ms/step - loss: 1.2841\n",
      "Epoch 30/30\n",
      "468/468 [==============================] - 79s 169ms/step - loss: 1.2533\n"
     ]
    },
    {
     "data": {
      "text/plain": [
       "<keras.callbacks.History at 0x7f77cc91edf0>"
      ]
     },
     "execution_count": 14,
     "metadata": {},
     "output_type": "execute_result"
    }
   ],
   "source": [
    "# optimizer와 loss등은 차차 배웁니다\n",
    "# 혹시 미리 알고 싶다면 아래 문서를 참고하세요\n",
    "# https://www.tensorflow.org/api_docs/python/tf/keras/optimizers\n",
    "# https://www.tensorflow.org/api_docs/python/tf/keras/losses\n",
    "# 양이 상당히 많은 편이니 지금 보는 것은 추천하지 않습니다\n",
    "\n",
    "# Adam 알고리즘을 구현하는 optimzier이며 어떤 optimzier를 써야할지 모른다면 Adam을 쓰는 것도 방법이다.\n",
    "# 우리가 학습을 할 때 최대한 틀리지 않는 방향으로 학습을 해야한다.\n",
    "# 여기서 얼마나 틀리는지(loss)를 알게하는 함수가 손실함수 이다.\n",
    "# 이 손실함수의 최소값을 찾는 것을 학습의 목표로 하며 여기서 최소값을 찾아가는 과정을 optimization 이라하고\n",
    "# 이를 수행하는 알고리즘을 optimizer(최적화)라고 한다.\n",
    "\n",
    "optimizer = tf.keras.optimizers.Adam() # Adam은 현재 가장 많이 사용하는 옵티마이저이다. 자세한 내용은 차차 배운다.\n",
    "loss = tf.keras.losses.SparseCategoricalCrossentropy( # 훈련 데이터의 라벨이 정수의 형태로 제공될 때 사용하는 손실함수이다.\n",
    "    from_logits=True, # 기본값은 False이다. 모델에 의해 생성된 출력 값이 정규화되지 않았음을 손실 함수에 알려준다. 즉 softmax함수가 적용되지 않았다는걸 의미한다. \n",
    "    reduction='none'  # 기본값은 SUM이다. 각자 나오는 값의 반환 원할 때 None을 사용한다.\n",
    ")\n",
    "# 모델을 학습시키키 위한 학습과정을 설정하는 단계이다.\n",
    "model.compile(loss=loss, optimizer=optimizer) # 손실함수와 훈련과정을 설정했다.\n",
    "model.fit(dataset, epochs=30) # 만들어둔 데이터셋으로 모델을 학습한다. 30번 학습을 반복하겠다는 의미다."
   ]
  },
  {
   "cell_type": "code",
   "execution_count": 15,
   "id": "703d732e",
   "metadata": {},
   "outputs": [
    {
     "data": {
      "text/plain": [
       "'/aiffel/data/lyrics'"
      ]
     },
     "execution_count": 15,
     "metadata": {},
     "output_type": "execute_result"
    }
   ],
   "source": [
    "import os\n",
    "os.getcwd()"
   ]
  },
  {
   "cell_type": "code",
   "execution_count": 16,
   "id": "0456debc",
   "metadata": {},
   "outputs": [],
   "source": [
    "#문장생성 함수 정의\n",
    "#모델에게 시작 문장을 전달하면 모델이 시작 문장을 바탕으로 작문을 진행\n",
    "def generate_text(model, tokenizer, init_sentence=\"<start>\", max_len=20): #시작 문자열을 init_sentence 로 받으며 디폴트값은 <start> 를 받는다\n",
    "    # 테스트를 위해서 입력받은 init_sentence도 텐서로 변환합니다\n",
    "    test_input = tokenizer.texts_to_sequences([init_sentence]) #텍스트 안의 단어들을 숫자의 시퀀스의 형태로 변환\n",
    "    test_tensor = tf.convert_to_tensor(test_input, dtype=tf.int64)\n",
    "    end_token = tokenizer.word_index[\"<end>\"]\n",
    "\n",
    "    # 단어 하나씩 예측해 문장을 만듭니다\n",
    "    #    1. 입력받은 문장의 텐서를 입력합니다\n",
    "    #    2. 예측된 값 중 가장 높은 확률인 word index를 뽑아냅니다\n",
    "    #    3. 2에서 예측된 word index를 문장 뒤에 붙입니다\n",
    "    #    4. 모델이 <end>를 예측했거나, max_len에 도달했다면 문장 생성을 마칩니다 (도달 하지 못하였으면 while 루프를 돌면서 다음 단어를 예측)\n",
    "    while True: #루프를 돌면서 init_sentence에 단어를 하나씩 생성성\n",
    "        # 1\n",
    "        predict = model(test_tensor) \n",
    "        # 2\n",
    "        predict_word = tf.argmax(tf.nn.softmax(predict, axis=-1), axis=-1)[:, -1] \n",
    "        # 3 \n",
    "        test_tensor = tf.concat([test_tensor, tf.expand_dims(predict_word, axis=0)], axis=-1)\n",
    "        # 4 \n",
    "        if predict_word.numpy()[0] == end_token: break\n",
    "        if test_tensor.shape[1] >= max_len: break\n",
    "\n",
    "    generated = \"\"\n",
    "    # tokenizer를 이용해 word index를 단어로 하나씩 변환합니다 \n",
    "    for word_index in test_tensor[0].numpy():\n",
    "        generated += tokenizer.index_word[word_index] + \" \"\n",
    "\n",
    "    return generated #최종적으로 모델이 생성한 문장을 반환"
   ]
  },
  {
   "cell_type": "code",
   "execution_count": 26,
   "id": "d764e5d7",
   "metadata": {},
   "outputs": [
    {
     "data": {
      "text/plain": [
       "'<start> he is he is intro the notorious big <end> '"
      ]
     },
     "execution_count": 26,
     "metadata": {},
     "output_type": "execute_result"
    }
   ],
   "source": [
    "generate_text(model, tokenizer, init_sentence=\"<start> he is\") # 시작문장으로 he를 넣어 문장생성 함수 실행"
   ]
  },
  {
   "cell_type": "markdown",
   "id": "aef142f9",
   "metadata": {},
   "source": [
    "회고\n",
    "지금까지 NLP를 통해 작사 모델을 만들어 보았다.\n",
    "중요 부분은 노드의 코드들을 대부분 참고했고, 텐서플로우에 대해 아는\n",
    "바도 적었기 때문에 코드를 100%이해하였다고 하기에는 문제가 있다.\n",
    "다만, 과제를 하며 느낀 점들을 적어본다.\n",
    "\n",
    "1. 정규식  \n",
    "예전 지인한테 들었던 말이 기었난다.\n",
    "'정규식은 안 쓰는데 없고, 정규식 잘 쓰는 프로그래머는 어디를 가든 우대받는다.'\n",
    "분명 복잡하고 어려워 보이지만 정규식을 잘 사용한다는 것은\n",
    "조작하고자 하는 데이터의 패턴을 명확히 파악하고 설계한다는 의미일 것이다.\n",
    "과제에서도 전처리 프로세스와 glob 함수를 사용하는 과정을 통해 그 중요성을\n",
    "다시 한번 느낄 수 있었다. 앞으로 파이썬 기초를 다시 훑고 갈 예정인데,\n",
    "정규식에 대해 좀 더 공부해 보는게 좋을 것 같다.  \n",
    "  \n",
    "2. NLP 학습의 대략적인 과정의 이해  \n",
    "학습의 전체적인 흐름에 대해 다시 이해할 수 있는 시간이었다. NLP학습의 대략적인 흐름은 다음과 같다. 데이터 수집 및 로딩-> 데이터 정제(대소문자, 특수문자 등 처리)->토큰화 및 단어 사전 만들기->학습 데이터 정리(tf 모델에 사용 가능하도록\n",
    "데이터 tensor로 변환 및 하이퍼파라미터 정리)->모델 설계->학습->테스트  \n",
    "  \n",
    "3. NLP 처리 및 테스트의 어려움  \n",
    "어려운 주제가 선정된 것인지도 모르지만, NLP는 CV에 비해 처리 과정이나\n",
    "모델 학습, 테스트 등이 훨씬 더 어려운 것 같다.\n",
    "CV 같은 경우 데이터 전처리 과정에서 시각화가 쉽게 이루어지지만\n",
    "NLP는 토큰화와 임배딩 과정을 거치기 때문인지 처음 하는 사람 입장에서\n",
    "중간중간 데이터를 꺼내 보는 것조차 부담스러운 부분이 있었고,\n",
    "학습을 시키는데도 훨씬 많은 시간이 걸렸다.\n",
    "테스트의 경우에도 CV는 다양한 방식으로 확인할 수 있었지만\n",
    "NLP의 경우에는 직접 단어를 입력하여 몇몇 값을 확인하는 것이 최선이었다.\n",
    "(여러 단어를 한꺼번에 입력한다고 하여도 문장 하나하나를 봐야 하기 때문에\n",
    "여러 단어 입력에 큰 의미도 없다.) 물론 BLEU나 ROUGE등의 방법이 존재\n",
    "한다고 하지만 이미지와 달리 언어는 단순히 단어의 내용이나 배열 순서만으로\n",
    "정답과 오답을 가리기 어렵기 때문에 상당히 경직된 평가 방법이라는 생각이 들었다.\n",
    "그렇기 때문에 NLP가 CV보다 훨씬 어렵게 느껴졌다.  \n",
    "  \n",
    "4. 내려놓기  \n",
    "과제를 반복할수록 내려놓아야겠다는 생각이 든다.\n",
    "과정 하나하나, 코드 하나하나를 이해하려는 생각 말이다.\n",
    "교육 전체를 봤을 때 상당히 실전적이라는 장점이 있으나\n",
    "겪은 실전을 내 것으로 소화시키기가 상당히 어렵다.\n",
    "아무래도 실적을 뒷받침할 이론이 정립되지 않았기 때문이라고 생각하는데,\n",
    "이러한 부분을 아이펠에서는 반복 실전으로 해결하려는 경향이 보인다.\n",
    "반복하여 전에 봤던 내용들을 조금씩 다시 제시하는 방식인 것 같은데\n",
    "그렇다면 지금 디테일하게 과제나 노드들을 볼 필요는 없다는 결론이 나왔다.\n",
    "어차피 나중에 또 볼테니까.\n",
    "지금부터는 과제에 독창성을 부여하기 보다는 주어진 루트를 따라가고\n",
    "전체적인 논리를 이해하는 방향으로 초점을 맞출까 한다.\n",
    "  \n",
    "5. 중요 키워드  \n",
    "정규식, 토큰화, 임배딩(레이어), LSTM"
   ]
  },
  {
   "cell_type": "code",
   "execution_count": null,
   "id": "a73be6af",
   "metadata": {},
   "outputs": [],
   "source": []
  }
 ],
 "metadata": {
  "kernelspec": {
   "display_name": "Python 3 (ipykernel)",
   "language": "python",
   "name": "python3"
  },
  "language_info": {
   "codemirror_mode": {
    "name": "ipython",
    "version": 3
   },
   "file_extension": ".py",
   "mimetype": "text/x-python",
   "name": "python",
   "nbconvert_exporter": "python",
   "pygments_lexer": "ipython3",
   "version": "3.9.7"
  }
 },
 "nbformat": 4,
 "nbformat_minor": 5
}
