{
 "cells": [
  {
   "cell_type": "markdown",
   "id": "4ebc46fc-d20f-4df3-8bcc-a12732443647",
   "metadata": {
    "tags": []
   },
   "source": [
    "Exploration Node 1 : Classification\n",
    "================\n",
    "## 1. load_digits"
   ]
  },
  {
   "cell_type": "markdown",
   "id": "5cf1b708-c172-4138-a6cb-8531c5f9b331",
   "metadata": {
    "tags": []
   },
   "source": [
    "#### 1-(1) load_digits import"
   ]
  },
  {
   "cell_type": "code",
   "execution_count": 1,
   "id": "3d88c13d-a7e5-4b7f-b33d-ce6f186484f4",
   "metadata": {},
   "outputs": [],
   "source": [
    "from sklearn.datasets import load_digits\n",
    "from sklearn.model_selection import train_test_split\n",
    "from sklearn.metrics import classification_report"
   ]
  },
  {
   "cell_type": "markdown",
   "id": "3880112c-b1b4-4b2d-b437-2d664e0b0cf1",
   "metadata": {},
   "source": [
    "#### 1-(2) 데이터 준비"
   ]
  },
  {
   "cell_type": "code",
   "execution_count": 2,
   "id": "e33ec3b9-4837-4e1e-9904-277af9e080a8",
   "metadata": {},
   "outputs": [],
   "source": [
    "digits=load_digits()"
   ]
  },
  {
   "cell_type": "markdown",
   "id": "5fef9dd4-c904-4333-8382-7b2b881c295f",
   "metadata": {},
   "source": [
    "#### 1-(3) 데이터 이해하기\n",
    "##### 루브릭 1: 3가지 데이터셋의 구성을 파악하고 데이터를 이해는 과정이 포함되어 있는가?(상세기준: feature와 label선정을 위한 데이터 분석과정을 전개함)\n",
    "\n",
    "dir()로 확인한 결과 데이터셋은 DESCR, data, feature_names, frame, images, target, target_names로 구성되어 있으며\n",
    "각각의 형태는 다음과 같다. 데이터의 전체 구성을 확인하기 위하여 dir() 외에도 내부의 값을 확인하거나 shape을 이용하여 형태를 확인하였다.\n",
    "\n"
   ]
  },
  {
   "cell_type": "code",
   "execution_count": 3,
   "id": "ba9e8d17-6c8c-4aec-84a5-0f88992739a9",
   "metadata": {},
   "outputs": [
    {
     "name": "stdout",
     "output_type": "stream",
     "text": [
      "['DESCR', 'data', 'feature_names', 'frame', 'images', 'target', 'target_names']\n"
     ]
    }
   ],
   "source": [
    "print(dir(digits))"
   ]
  },
  {
   "cell_type": "code",
   "execution_count": 4,
   "id": "4c8c6dac-c02a-4a13-b68c-033c0fa0b9df",
   "metadata": {},
   "outputs": [
    {
     "name": "stdout",
     "output_type": "stream",
     "text": [
      "(1797, 64)\n",
      "[ 0.  0.  5. 13.  9.  1.  0.  0.  0.  0. 13. 15. 10. 15.  5.  0.  0.  3.\n",
      " 15.  2.  0. 11.  8.  0.  0.  4. 12.  0.  0.  8.  8.  0.  0.  5.  8.  0.\n",
      "  0.  9.  8.  0.  0.  4. 11.  0.  1. 12.  7.  0.  0.  2. 14.  5. 10. 12.\n",
      "  0.  0.  0.  0.  6. 13. 10.  0.  0.  0.]\n",
      "['pixel_0_0', 'pixel_0_1', 'pixel_0_2', 'pixel_0_3', 'pixel_0_4', 'pixel_0_5', 'pixel_0_6', 'pixel_0_7', 'pixel_1_0', 'pixel_1_1', 'pixel_1_2', 'pixel_1_3', 'pixel_1_4', 'pixel_1_5', 'pixel_1_6', 'pixel_1_7', 'pixel_2_0', 'pixel_2_1', 'pixel_2_2', 'pixel_2_3', 'pixel_2_4', 'pixel_2_5', 'pixel_2_6', 'pixel_2_7', 'pixel_3_0', 'pixel_3_1', 'pixel_3_2', 'pixel_3_3', 'pixel_3_4', 'pixel_3_5', 'pixel_3_6', 'pixel_3_7', 'pixel_4_0', 'pixel_4_1', 'pixel_4_2', 'pixel_4_3', 'pixel_4_4', 'pixel_4_5', 'pixel_4_6', 'pixel_4_7', 'pixel_5_0', 'pixel_5_1', 'pixel_5_2', 'pixel_5_3', 'pixel_5_4', 'pixel_5_5', 'pixel_5_6', 'pixel_5_7', 'pixel_6_0', 'pixel_6_1', 'pixel_6_2', 'pixel_6_3', 'pixel_6_4', 'pixel_6_5', 'pixel_6_6', 'pixel_6_7', 'pixel_7_0', 'pixel_7_1', 'pixel_7_2', 'pixel_7_3', 'pixel_7_4', 'pixel_7_5', 'pixel_7_6', 'pixel_7_7']\n",
      "(1797,)\n",
      ".. _digits_dataset:\n",
      "\n",
      "Optical recognition of handwritten digits dataset\n",
      "--------------------------------------------------\n",
      "\n",
      "**Data Set Characteristics:**\n",
      "\n",
      "    :Number of Instances: 1797\n",
      "    :Number of Attributes: 64\n",
      "    :Attribute Information: 8x8 image of integer pixels in the range 0..16.\n",
      "    :Missing Attribute Values: None\n",
      "    :Creator: E. Alpaydin (alpaydin '@' boun.edu.tr)\n",
      "    :Date: July; 1998\n",
      "\n",
      "This is a copy of the test set of the UCI ML hand-written digits datasets\n",
      "https://archive.ics.uci.edu/ml/datasets/Optical+Recognition+of+Handwritten+Digits\n",
      "\n",
      "The data set contains images of hand-written digits: 10 classes where\n",
      "each class refers to a digit.\n",
      "\n",
      "Preprocessing programs made available by NIST were used to extract\n",
      "normalized bitmaps of handwritten digits from a preprinted form. From a\n",
      "total of 43 people, 30 contributed to the training set and different 13\n",
      "to the test set. 32x32 bitmaps are divided into nonoverlapping blocks of\n",
      "4x4 and the number of on pixels are counted in each block. This generates\n",
      "an input matrix of 8x8 where each element is an integer in the range\n",
      "0..16. This reduces dimensionality and gives invariance to small\n",
      "distortions.\n",
      "\n",
      "For info on NIST preprocessing routines, see M. D. Garris, J. L. Blue, G.\n",
      "T. Candela, D. L. Dimmick, J. Geist, P. J. Grother, S. A. Janet, and C.\n",
      "L. Wilson, NIST Form-Based Handprint Recognition System, NISTIR 5469,\n",
      "1994.\n",
      "\n",
      ".. topic:: References\n",
      "\n",
      "  - C. Kaynak (1995) Methods of Combining Multiple Classifiers and Their\n",
      "    Applications to Handwritten Digit Recognition, MSc Thesis, Institute of\n",
      "    Graduate Studies in Science and Engineering, Bogazici University.\n",
      "  - E. Alpaydin, C. Kaynak (1998) Cascading Classifiers, Kybernetika.\n",
      "  - Ken Tang and Ponnuthurai N. Suganthan and Xi Yao and A. Kai Qin.\n",
      "    Linear dimensionalityreduction using relevance weighted LDA. School of\n",
      "    Electrical and Electronic Engineering Nanyang Technological University.\n",
      "    2005.\n",
      "  - Claudio Gentile. A New Approximate Maximal Margin Classification\n",
      "    Algorithm. NIPS. 2000.\n",
      "\n"
     ]
    }
   ],
   "source": [
    "print(digits.data.shape)\n",
    "print(digits.data[0])\n",
    "print(digits.feature_names)\n",
    "print(digits.target.shape)\n",
    "print(digits.DESCR)"
   ]
  },
  {
   "cell_type": "markdown",
   "id": "1655a7e1-25b9-4e37-9b43-c7710f46e43d",
   "metadata": {},
   "source": [
    "feature 선정 : data\n",
    "DESCR을 통해 데이터 개요를 살펴보면 instance가 1797개이며, attribute가 64개로 표현되었다.\n",
    "attribute information에는 8*8 이미지 픽셀이 0~16의 값을 지니고 있다고 되어 있다.\n",
    "모델을 만드는데 입력할 feature는 이미지 픽셀이 데이터화 된 값이 들어가야 하는데,\n",
    "data의 shape값을 확인해 보니 (1797, 64)임을 알 수 있었다. 이는 DESCR에서 표현한\n",
    "instance, attribute의 개수와 동일하기 때문에 이 값이 실제로 모델을 형성하는데 사용할 feature\n",
    "라고 결론내렸다.\n",
    " \n",
    "label 선정 : target\n",
    "instance가 1797개이기 때문에 label역시 필연적으로 1797개일 수 밖에 없다. 여기서 feature인\n",
    "data를 제외하고 1797개의 값(shape)를 갖는 변수는 target이 유일하기 때문에 target이 label임을\n",
    "유추할 수 있다.\n",
    "\n",
    "이후 노드에서 제시한 아래의 4가지 과정을 실행하였다.  \n",
    "1. feature data 지정하기  \n",
    "2. label data 지정하기  \n",
    "3. target names 출력해 보기  \n",
    "4. 데이터 describe 해보기"
   ]
  },
  {
   "cell_type": "code",
   "execution_count": 5,
   "id": "63c4c107-e5f7-4148-ba66-0b849f58ee78",
   "metadata": {},
   "outputs": [
    {
     "name": "stdout",
     "output_type": "stream",
     "text": [
      "[0 1 2 3 4 5 6 7 8 9]\n",
      ".. _digits_dataset:\n",
      "\n",
      "Optical recognition of handwritten digits dataset\n",
      "--------------------------------------------------\n",
      "\n",
      "**Data Set Characteristics:**\n",
      "\n",
      "    :Number of Instances: 1797\n",
      "    :Number of Attributes: 64\n",
      "    :Attribute Information: 8x8 image of integer pixels in the range 0..16.\n",
      "    :Missing Attribute Values: None\n",
      "    :Creator: E. Alpaydin (alpaydin '@' boun.edu.tr)\n",
      "    :Date: July; 1998\n",
      "\n",
      "This is a copy of the test set of the UCI ML hand-written digits datasets\n",
      "https://archive.ics.uci.edu/ml/datasets/Optical+Recognition+of+Handwritten+Digits\n",
      "\n",
      "The data set contains images of hand-written digits: 10 classes where\n",
      "each class refers to a digit.\n",
      "\n",
      "Preprocessing programs made available by NIST were used to extract\n",
      "normalized bitmaps of handwritten digits from a preprinted form. From a\n",
      "total of 43 people, 30 contributed to the training set and different 13\n",
      "to the test set. 32x32 bitmaps are divided into nonoverlapping blocks of\n",
      "4x4 and the number of on pixels are counted in each block. This generates\n",
      "an input matrix of 8x8 where each element is an integer in the range\n",
      "0..16. This reduces dimensionality and gives invariance to small\n",
      "distortions.\n",
      "\n",
      "For info on NIST preprocessing routines, see M. D. Garris, J. L. Blue, G.\n",
      "T. Candela, D. L. Dimmick, J. Geist, P. J. Grother, S. A. Janet, and C.\n",
      "L. Wilson, NIST Form-Based Handprint Recognition System, NISTIR 5469,\n",
      "1994.\n",
      "\n",
      ".. topic:: References\n",
      "\n",
      "  - C. Kaynak (1995) Methods of Combining Multiple Classifiers and Their\n",
      "    Applications to Handwritten Digit Recognition, MSc Thesis, Institute of\n",
      "    Graduate Studies in Science and Engineering, Bogazici University.\n",
      "  - E. Alpaydin, C. Kaynak (1998) Cascading Classifiers, Kybernetika.\n",
      "  - Ken Tang and Ponnuthurai N. Suganthan and Xi Yao and A. Kai Qin.\n",
      "    Linear dimensionalityreduction using relevance weighted LDA. School of\n",
      "    Electrical and Electronic Engineering Nanyang Technological University.\n",
      "    2005.\n",
      "  - Claudio Gentile. A New Approximate Maximal Margin Classification\n",
      "    Algorithm. NIPS. 2000.\n",
      "\n"
     ]
    }
   ],
   "source": [
    "digits_data=digits.data\n",
    "digits_label= digits.target\n",
    "print(digits.target_names)\n",
    "print(digits.DESCR)"
   ]
  },
  {
   "cell_type": "markdown",
   "id": "8a78b309-9747-43e5-a0df-9bfd8b07c982",
   "metadata": {},
   "source": [
    "#### 1-(4) train, test 데이터 분리"
   ]
  },
  {
   "cell_type": "code",
   "execution_count": 6,
   "id": "055fbe81-ea2c-4a9b-aabe-d0b468301a94",
   "metadata": {},
   "outputs": [],
   "source": [
    "X_train, X_test, y_train, y_test= train_test_split(digits_data, digits_label, test_size=0.3, random_state=5)"
   ]
  },
  {
   "cell_type": "markdown",
   "id": "48e0776f-271d-495d-898d-fab0353668ad",
   "metadata": {},
   "source": [
    "#### 1-(5) 다양한 모델로 학습시켜보기-\n",
    "##### 루브릭 2: 3가지 데이터셋에 대해 각각 5가지 모델을 이용하여 학습을 수행하고 결과값을 얻었는가?(상세기준: 모델학습 및 테스트가 정상적으로 수행되고 결과값을 얻었음)"
   ]
  },
  {
   "cell_type": "code",
   "execution_count": 7,
   "id": "389ddb0c-2852-441d-9f39-8be90c5af85e",
   "metadata": {},
   "outputs": [
    {
     "name": "stdout",
     "output_type": "stream",
     "text": [
      "              precision    recall  f1-score   support\n",
      "\n",
      "           0       0.98      0.91      0.95        58\n",
      "           1       0.79      0.88      0.84        52\n",
      "           2       0.89      0.83      0.86        58\n",
      "           3       0.91      0.90      0.91        59\n",
      "           4       0.80      0.81      0.80        43\n",
      "           5       0.85      0.88      0.86        64\n",
      "           6       0.98      0.89      0.93        47\n",
      "           7       0.96      0.83      0.89        59\n",
      "           8       0.77      0.80      0.78        50\n",
      "           9       0.78      0.94      0.85        50\n",
      "\n",
      "    accuracy                           0.87       540\n",
      "   macro avg       0.87      0.87      0.87       540\n",
      "weighted avg       0.87      0.87      0.87       540\n",
      "\n"
     ]
    }
   ],
   "source": [
    "# decision tree 사용해보기\n",
    "from sklearn.tree import DecisionTreeClassifier\n",
    "\n",
    "decision_tree= DecisionTreeClassifier(random_state=20)\n",
    "decision_tree.fit(X_train, y_train)\n",
    "y_pred= decision_tree.predict(X_test)\n",
    "print(classification_report(y_test, y_pred))"
   ]
  },
  {
   "cell_type": "code",
   "execution_count": 8,
   "id": "8ce7248d-0acf-4b5c-af7b-12a6bb81674a",
   "metadata": {},
   "outputs": [
    {
     "name": "stdout",
     "output_type": "stream",
     "text": [
      "              precision    recall  f1-score   support\n",
      "\n",
      "           0       1.00      0.98      0.99        58\n",
      "           1       0.93      0.98      0.95        52\n",
      "           2       1.00      1.00      1.00        58\n",
      "           3       1.00      0.93      0.96        59\n",
      "           4       0.98      1.00      0.99        43\n",
      "           5       0.95      0.97      0.96        64\n",
      "           6       1.00      0.98      0.99        47\n",
      "           7       0.98      0.98      0.98        59\n",
      "           8       0.96      0.94      0.95        50\n",
      "           9       0.92      0.96      0.94        50\n",
      "\n",
      "    accuracy                           0.97       540\n",
      "   macro avg       0.97      0.97      0.97       540\n",
      "weighted avg       0.97      0.97      0.97       540\n",
      "\n"
     ]
    }
   ],
   "source": [
    "# random forest 사용해 보기\n",
    "from sklearn.ensemble import RandomForestClassifier\n",
    "\n",
    "random_forest= RandomForestClassifier(random_state=20)\n",
    "random_forest.fit(X_train, y_train)\n",
    "y_pred= random_forest.predict(X_test)\n",
    "print(classification_report(y_test, y_pred))"
   ]
  },
  {
   "cell_type": "code",
   "execution_count": 9,
   "id": "ec885a4f-8bd4-4630-9beb-f797ee1bb570",
   "metadata": {},
   "outputs": [
    {
     "name": "stdout",
     "output_type": "stream",
     "text": [
      "              precision    recall  f1-score   support\n",
      "\n",
      "           0       1.00      1.00      1.00        58\n",
      "           1       0.98      1.00      0.99        52\n",
      "           2       1.00      1.00      1.00        58\n",
      "           3       1.00      0.97      0.98        59\n",
      "           4       1.00      1.00      1.00        43\n",
      "           5       0.97      0.98      0.98        64\n",
      "           6       1.00      1.00      1.00        47\n",
      "           7       1.00      0.98      0.99        59\n",
      "           8       0.96      0.96      0.96        50\n",
      "           9       0.94      0.96      0.95        50\n",
      "\n",
      "    accuracy                           0.99       540\n",
      "   macro avg       0.99      0.99      0.99       540\n",
      "weighted avg       0.99      0.99      0.99       540\n",
      "\n"
     ]
    }
   ],
   "source": [
    "# SVM 사용해 보기\n",
    "from sklearn import svm\n",
    "\n",
    "svm_model=svm.SVC()\n",
    "svm_model.fit(X_train, y_train)\n",
    "y_pred= svm_model.predict(X_test)\n",
    "print(classification_report(y_test, y_pred))"
   ]
  },
  {
   "cell_type": "code",
   "execution_count": 10,
   "id": "008403dc-3ba7-41df-8cde-6bddcbdd412c",
   "metadata": {},
   "outputs": [
    {
     "name": "stdout",
     "output_type": "stream",
     "text": [
      "              precision    recall  f1-score   support\n",
      "\n",
      "           0       1.00      1.00      1.00        58\n",
      "           1       0.98      0.90      0.94        52\n",
      "           2       0.97      0.98      0.97        58\n",
      "           3       1.00      0.88      0.94        59\n",
      "           4       0.96      1.00      0.98        43\n",
      "           5       0.94      0.94      0.94        64\n",
      "           6       1.00      0.96      0.98        47\n",
      "           7       1.00      0.95      0.97        59\n",
      "           8       0.87      0.92      0.89        50\n",
      "           9       0.80      0.96      0.87        50\n",
      "\n",
      "    accuracy                           0.95       540\n",
      "   macro avg       0.95      0.95      0.95       540\n",
      "weighted avg       0.95      0.95      0.95       540\n",
      "\n"
     ]
    }
   ],
   "source": [
    "# SGD classifier 사용해 보기\n",
    "from sklearn.linear_model import SGDClassifier\n",
    "sgd_model=SGDClassifier()\n",
    "sgd_model.fit(X_train, y_train)\n",
    "y_pred= sgd_model.predict(X_test)\n",
    "print(classification_report(y_test, y_pred))"
   ]
  },
  {
   "cell_type": "code",
   "execution_count": 11,
   "id": "51f7f31c-56fa-4785-b760-e8d582be94c5",
   "metadata": {},
   "outputs": [
    {
     "name": "stdout",
     "output_type": "stream",
     "text": [
      "              precision    recall  f1-score   support\n",
      "\n",
      "           0       1.00      1.00      1.00        58\n",
      "           1       0.91      0.96      0.93        52\n",
      "           2       0.98      1.00      0.99        58\n",
      "           3       0.98      0.93      0.96        59\n",
      "           4       0.95      0.93      0.94        43\n",
      "           5       0.98      0.95      0.97        64\n",
      "           6       1.00      0.96      0.98        47\n",
      "           7       0.98      0.97      0.97        59\n",
      "           8       0.94      0.96      0.95        50\n",
      "           9       0.91      0.98      0.94        50\n",
      "\n",
      "    accuracy                           0.96       540\n",
      "   macro avg       0.96      0.96      0.96       540\n",
      "weighted avg       0.97      0.96      0.96       540\n",
      "\n"
     ]
    },
    {
     "name": "stderr",
     "output_type": "stream",
     "text": [
      "C:\\ProgramData\\Anaconda3\\lib\\site-packages\\sklearn\\linear_model\\_logistic.py:444: ConvergenceWarning: lbfgs failed to converge (status=1):\n",
      "STOP: TOTAL NO. of ITERATIONS REACHED LIMIT.\n",
      "\n",
      "Increase the number of iterations (max_iter) or scale the data as shown in:\n",
      "    https://scikit-learn.org/stable/modules/preprocessing.html\n",
      "Please also refer to the documentation for alternative solver options:\n",
      "    https://scikit-learn.org/stable/modules/linear_model.html#logistic-regression\n",
      "  n_iter_i = _check_optimize_result(\n"
     ]
    }
   ],
   "source": [
    "# logistic regression 사용해 보기\n",
    "from sklearn.linear_model import LogisticRegression\n",
    "\n",
    "logistic_model = LogisticRegression(max_iter=3000)\n",
    "logistic_model.fit(X_train, y_train)\n",
    "y_pred= logistic_model.predict(X_test)\n",
    "print(classification_report(y_test, y_pred))"
   ]
  },
  {
   "cell_type": "markdown",
   "id": "d4b3d552-cb1a-4fd0-95fd-2d2785c79675",
   "metadata": {},
   "source": [
    "#### 1-(6) 모델을 평가해 보기: 예측 결과는 어떻게 해석하는가? 모델 성능평가 지료는 무엇이 좋은가? sklearn.metric에서 제공하는 평가지표 중 적절한 것을 선택하라.\n",
    "##### 루브릭 3: 3가지 데이터셋에 대해 모델의 평가 지표를 선택하고 그 이유를 근거있게 서술하였는가?\n",
    "\n",
    "궁극적으로는 f1이 가장 좋은 지표로 사용되어야 한다고 본다. 각 숫자는 가치중립적이다.\n",
    "9가 0보다 더 좋거나 한 것이 아니라 0부터 9까지 어떤 카테고리든 같은 가치를 가지기 때문에\n",
    "precision이나 recall 중 하나를 지표로 삼는 것은 f1이나 accuracy를 지표를 삼는 것에 비해 \n",
    "부적절하다. 그렇기 때문에 여러 요소들을 고려할 때 precision과 recall값이 모두 반영된 f1 score가\n",
    "가장 적절한 지표이며 이를 기준으로 모델을 평가할 것이다.  \n",
    "다만, 학습 및 테스트에 사용된 label이 불균형을 이루지 않는 것으로 보이기 때문에\n",
    "accracy도 사용 가능할 것으로 보인다.(하지만 그렇다고 recall이나 precision보다\n",
    "뛰어난 지표라 할 수 있는가?? 하는 의문이 있다.)  \n",
    "또한 각 카테고리에 대한 f1 score를 가중평균한 weighted avg를 기준으로 가장 높은 값을 정하여야\n",
    "테스트에 사용한 레이블의 각 카테고리별 수가 달라도(각 카테고리의 support 개수가 달라도)\n",
    "이를 반영한 점수를 선정할 수 있기 때문에 f1 score-weighted avg를 기준으로 가장 점수가 높은\n",
    "모델인 svm을 digits데이터셋에 적합한 모델이라 결론을 내릴 것이다."
   ]
  },
  {
   "cell_type": "markdown",
   "id": "ce37e24a-86df-452d-933f-bbf26f87f6e3",
   "metadata": {},
   "source": [
    "## 2. load_wine"
   ]
  },
  {
   "cell_type": "markdown",
   "id": "04b230b5-e42a-433d-8469-56576182a8f7",
   "metadata": {},
   "source": [
    "#### 2-(1) load_wine import"
   ]
  },
  {
   "cell_type": "code",
   "execution_count": 12,
   "id": "aa9e0b0a-d436-4ea2-bbec-aa935d366b70",
   "metadata": {},
   "outputs": [],
   "source": [
    "from sklearn.datasets import load_wine\n",
    "from sklearn.model_selection import train_test_split\n",
    "from sklearn.metrics import classification_report"
   ]
  },
  {
   "cell_type": "markdown",
   "id": "9bb6ae23-c3ee-43a6-8d60-286a2b50c2ff",
   "metadata": {},
   "source": [
    "#### 2-(2) 데이터 준비"
   ]
  },
  {
   "cell_type": "code",
   "execution_count": 13,
   "id": "47db3f92-83c3-4822-bfa6-be19d574c4e4",
   "metadata": {},
   "outputs": [],
   "source": [
    "wine=load_wine()"
   ]
  },
  {
   "cell_type": "markdown",
   "id": "214b35b2-37f6-44d7-9a5a-a73299cd8cb1",
   "metadata": {},
   "source": [
    "#### 2-(3) 데이터 이해하기\n",
    "##### 루브릭 1: 3가지 데이터셋의 구성을 파악하고 데이터를 이해는 과정이 포함되어 있는가?(상세기준: feature와 label선정을 위한 데이터 분석과정을 전개함)\n",
    "\n",
    "dir()로 확인한 결과 데이터셋은 DESCR, data, feature_names, frame, images, target, target_names로 구성되어 있으며\n",
    "각각의 형태는 다음과 같다. 데이터의 전체 구성을 확인하기 위하여 dir() 외에도 내부의 값을 확인하거나 shape을 이용하여 형태를 확인하였다."
   ]
  },
  {
   "cell_type": "code",
   "execution_count": 14,
   "id": "c64acb2c-cb74-4036-ab25-eef52eaee401",
   "metadata": {},
   "outputs": [
    {
     "name": "stdout",
     "output_type": "stream",
     "text": [
      "['DESCR', 'data', 'feature_names', 'frame', 'target', 'target_names']\n"
     ]
    }
   ],
   "source": [
    "print(dir(wine))"
   ]
  },
  {
   "cell_type": "code",
   "execution_count": 15,
   "id": "a0175494-89ea-4880-bb97-96d8f66e0017",
   "metadata": {},
   "outputs": [
    {
     "name": "stdout",
     "output_type": "stream",
     "text": [
      "(178, 13)\n",
      "[1.423e+01 1.710e+00 2.430e+00 1.560e+01 1.270e+02 2.800e+00 3.060e+00\n",
      " 2.800e-01 2.290e+00 5.640e+00 1.040e+00 3.920e+00 1.065e+03]\n",
      "['alcohol', 'malic_acid', 'ash', 'alcalinity_of_ash', 'magnesium', 'total_phenols', 'flavanoids', 'nonflavanoid_phenols', 'proanthocyanins', 'color_intensity', 'hue', 'od280/od315_of_diluted_wines', 'proline']\n",
      "(178,)\n",
      ".. _wine_dataset:\n",
      "\n",
      "Wine recognition dataset\n",
      "------------------------\n",
      "\n",
      "**Data Set Characteristics:**\n",
      "\n",
      "    :Number of Instances: 178\n",
      "    :Number of Attributes: 13 numeric, predictive attributes and the class\n",
      "    :Attribute Information:\n",
      " \t\t- Alcohol\n",
      " \t\t- Malic acid\n",
      " \t\t- Ash\n",
      "\t\t- Alcalinity of ash  \n",
      " \t\t- Magnesium\n",
      "\t\t- Total phenols\n",
      " \t\t- Flavanoids\n",
      " \t\t- Nonflavanoid phenols\n",
      " \t\t- Proanthocyanins\n",
      "\t\t- Color intensity\n",
      " \t\t- Hue\n",
      " \t\t- OD280/OD315 of diluted wines\n",
      " \t\t- Proline\n",
      "\n",
      "    - class:\n",
      "            - class_0\n",
      "            - class_1\n",
      "            - class_2\n",
      "\t\t\n",
      "    :Summary Statistics:\n",
      "    \n",
      "    ============================= ==== ===== ======= =====\n",
      "                                   Min   Max   Mean     SD\n",
      "    ============================= ==== ===== ======= =====\n",
      "    Alcohol:                      11.0  14.8    13.0   0.8\n",
      "    Malic Acid:                   0.74  5.80    2.34  1.12\n",
      "    Ash:                          1.36  3.23    2.36  0.27\n",
      "    Alcalinity of Ash:            10.6  30.0    19.5   3.3\n",
      "    Magnesium:                    70.0 162.0    99.7  14.3\n",
      "    Total Phenols:                0.98  3.88    2.29  0.63\n",
      "    Flavanoids:                   0.34  5.08    2.03  1.00\n",
      "    Nonflavanoid Phenols:         0.13  0.66    0.36  0.12\n",
      "    Proanthocyanins:              0.41  3.58    1.59  0.57\n",
      "    Colour Intensity:              1.3  13.0     5.1   2.3\n",
      "    Hue:                          0.48  1.71    0.96  0.23\n",
      "    OD280/OD315 of diluted wines: 1.27  4.00    2.61  0.71\n",
      "    Proline:                       278  1680     746   315\n",
      "    ============================= ==== ===== ======= =====\n",
      "\n",
      "    :Missing Attribute Values: None\n",
      "    :Class Distribution: class_0 (59), class_1 (71), class_2 (48)\n",
      "    :Creator: R.A. Fisher\n",
      "    :Donor: Michael Marshall (MARSHALL%PLU@io.arc.nasa.gov)\n",
      "    :Date: July, 1988\n",
      "\n",
      "This is a copy of UCI ML Wine recognition datasets.\n",
      "https://archive.ics.uci.edu/ml/machine-learning-databases/wine/wine.data\n",
      "\n",
      "The data is the results of a chemical analysis of wines grown in the same\n",
      "region in Italy by three different cultivators. There are thirteen different\n",
      "measurements taken for different constituents found in the three types of\n",
      "wine.\n",
      "\n",
      "Original Owners: \n",
      "\n",
      "Forina, M. et al, PARVUS - \n",
      "An Extendible Package for Data Exploration, Classification and Correlation. \n",
      "Institute of Pharmaceutical and Food Analysis and Technologies,\n",
      "Via Brigata Salerno, 16147 Genoa, Italy.\n",
      "\n",
      "Citation:\n",
      "\n",
      "Lichman, M. (2013). UCI Machine Learning Repository\n",
      "[https://archive.ics.uci.edu/ml]. Irvine, CA: University of California,\n",
      "School of Information and Computer Science. \n",
      "\n",
      ".. topic:: References\n",
      "\n",
      "  (1) S. Aeberhard, D. Coomans and O. de Vel, \n",
      "  Comparison of Classifiers in High Dimensional Settings, \n",
      "  Tech. Rep. no. 92-02, (1992), Dept. of Computer Science and Dept. of  \n",
      "  Mathematics and Statistics, James Cook University of North Queensland. \n",
      "  (Also submitted to Technometrics). \n",
      "\n",
      "  The data was used with many others for comparing various \n",
      "  classifiers. The classes are separable, though only RDA \n",
      "  has achieved 100% correct classification. \n",
      "  (RDA : 100%, QDA 99.4%, LDA 98.9%, 1NN 96.1% (z-transformed data)) \n",
      "  (All results using the leave-one-out technique) \n",
      "\n",
      "  (2) S. Aeberhard, D. Coomans and O. de Vel, \n",
      "  \"THE CLASSIFICATION PERFORMANCE OF RDA\" \n",
      "  Tech. Rep. no. 92-01, (1992), Dept. of Computer Science and Dept. of \n",
      "  Mathematics and Statistics, James Cook University of North Queensland. \n",
      "  (Also submitted to Journal of Chemometrics).\n",
      "\n"
     ]
    }
   ],
   "source": [
    "print(wine.data.shape)\n",
    "print(wine.data[0])\n",
    "print(wine.feature_names)\n",
    "print(wine.target.shape)\n",
    "print(wine.DESCR)"
   ]
  },
  {
   "cell_type": "markdown",
   "id": "f16b0edb-55df-40a9-8330-01264ccf1c95",
   "metadata": {},
   "source": [
    "feature 선정 : data\n",
    "digits와 유사한 논리로 feature을 선정하였다. DESCR을 통해 데이터를 파악하여 instance가 178개이며, \n",
    "attribute는 13개, class(카테고리)는 3개임을 알 수 있었다. feature로 사용할 데이터는 총 178개이며,\n",
    "13개의 속성을 가지고 있어야 하는데, 이러한 조건에 부합하는 shape을 가진 데이터는 data뿐이었기 때문에 data를\n",
    "feature로 선정했다.\n",
    " \n",
    "label 선정 : target\n",
    "class(카테고리)가 0, 1, 2의 값을 가지고, instance가 178개 이므로 label은 (178,1)의 형태를 가지며\n",
    "동시에 0, 1, 2중 하나의 값을 취하여야 한다. 이러한 조건에 부합하는 데이터는 target뿐이므로 target을\n",
    "feature로 선정했다.\n",
    "\n",
    "이후 노드에서 제시한 아래의 4가지 과정을 실행하였다.  \n",
    "1. feature data 지정하기  \n",
    "2. label data 지정하기  \n",
    "3. target names 출력해 보기  \n",
    "4. 데이터 describe 해보기"
   ]
  },
  {
   "cell_type": "code",
   "execution_count": 16,
   "id": "c05f6cb7-40ee-47cf-9b5b-d0e95498efad",
   "metadata": {},
   "outputs": [
    {
     "name": "stdout",
     "output_type": "stream",
     "text": [
      "['class_0' 'class_1' 'class_2']\n",
      ".. _wine_dataset:\n",
      "\n",
      "Wine recognition dataset\n",
      "------------------------\n",
      "\n",
      "**Data Set Characteristics:**\n",
      "\n",
      "    :Number of Instances: 178\n",
      "    :Number of Attributes: 13 numeric, predictive attributes and the class\n",
      "    :Attribute Information:\n",
      " \t\t- Alcohol\n",
      " \t\t- Malic acid\n",
      " \t\t- Ash\n",
      "\t\t- Alcalinity of ash  \n",
      " \t\t- Magnesium\n",
      "\t\t- Total phenols\n",
      " \t\t- Flavanoids\n",
      " \t\t- Nonflavanoid phenols\n",
      " \t\t- Proanthocyanins\n",
      "\t\t- Color intensity\n",
      " \t\t- Hue\n",
      " \t\t- OD280/OD315 of diluted wines\n",
      " \t\t- Proline\n",
      "\n",
      "    - class:\n",
      "            - class_0\n",
      "            - class_1\n",
      "            - class_2\n",
      "\t\t\n",
      "    :Summary Statistics:\n",
      "    \n",
      "    ============================= ==== ===== ======= =====\n",
      "                                   Min   Max   Mean     SD\n",
      "    ============================= ==== ===== ======= =====\n",
      "    Alcohol:                      11.0  14.8    13.0   0.8\n",
      "    Malic Acid:                   0.74  5.80    2.34  1.12\n",
      "    Ash:                          1.36  3.23    2.36  0.27\n",
      "    Alcalinity of Ash:            10.6  30.0    19.5   3.3\n",
      "    Magnesium:                    70.0 162.0    99.7  14.3\n",
      "    Total Phenols:                0.98  3.88    2.29  0.63\n",
      "    Flavanoids:                   0.34  5.08    2.03  1.00\n",
      "    Nonflavanoid Phenols:         0.13  0.66    0.36  0.12\n",
      "    Proanthocyanins:              0.41  3.58    1.59  0.57\n",
      "    Colour Intensity:              1.3  13.0     5.1   2.3\n",
      "    Hue:                          0.48  1.71    0.96  0.23\n",
      "    OD280/OD315 of diluted wines: 1.27  4.00    2.61  0.71\n",
      "    Proline:                       278  1680     746   315\n",
      "    ============================= ==== ===== ======= =====\n",
      "\n",
      "    :Missing Attribute Values: None\n",
      "    :Class Distribution: class_0 (59), class_1 (71), class_2 (48)\n",
      "    :Creator: R.A. Fisher\n",
      "    :Donor: Michael Marshall (MARSHALL%PLU@io.arc.nasa.gov)\n",
      "    :Date: July, 1988\n",
      "\n",
      "This is a copy of UCI ML Wine recognition datasets.\n",
      "https://archive.ics.uci.edu/ml/machine-learning-databases/wine/wine.data\n",
      "\n",
      "The data is the results of a chemical analysis of wines grown in the same\n",
      "region in Italy by three different cultivators. There are thirteen different\n",
      "measurements taken for different constituents found in the three types of\n",
      "wine.\n",
      "\n",
      "Original Owners: \n",
      "\n",
      "Forina, M. et al, PARVUS - \n",
      "An Extendible Package for Data Exploration, Classification and Correlation. \n",
      "Institute of Pharmaceutical and Food Analysis and Technologies,\n",
      "Via Brigata Salerno, 16147 Genoa, Italy.\n",
      "\n",
      "Citation:\n",
      "\n",
      "Lichman, M. (2013). UCI Machine Learning Repository\n",
      "[https://archive.ics.uci.edu/ml]. Irvine, CA: University of California,\n",
      "School of Information and Computer Science. \n",
      "\n",
      ".. topic:: References\n",
      "\n",
      "  (1) S. Aeberhard, D. Coomans and O. de Vel, \n",
      "  Comparison of Classifiers in High Dimensional Settings, \n",
      "  Tech. Rep. no. 92-02, (1992), Dept. of Computer Science and Dept. of  \n",
      "  Mathematics and Statistics, James Cook University of North Queensland. \n",
      "  (Also submitted to Technometrics). \n",
      "\n",
      "  The data was used with many others for comparing various \n",
      "  classifiers. The classes are separable, though only RDA \n",
      "  has achieved 100% correct classification. \n",
      "  (RDA : 100%, QDA 99.4%, LDA 98.9%, 1NN 96.1% (z-transformed data)) \n",
      "  (All results using the leave-one-out technique) \n",
      "\n",
      "  (2) S. Aeberhard, D. Coomans and O. de Vel, \n",
      "  \"THE CLASSIFICATION PERFORMANCE OF RDA\" \n",
      "  Tech. Rep. no. 92-01, (1992), Dept. of Computer Science and Dept. of \n",
      "  Mathematics and Statistics, James Cook University of North Queensland. \n",
      "  (Also submitted to Journal of Chemometrics).\n",
      "\n"
     ]
    }
   ],
   "source": [
    "wine_data= wine.data\n",
    "wine_label= wine.target\n",
    "print(wine.target_names)\n",
    "print(wine.DESCR)"
   ]
  },
  {
   "cell_type": "markdown",
   "id": "78125c11-4ee6-4cd8-8490-56ea17b2d066",
   "metadata": {},
   "source": [
    "#### 2-(4) train, test 데이터 분리"
   ]
  },
  {
   "cell_type": "code",
   "execution_count": 17,
   "id": "3ad6e759-2377-4ead-80fc-9dbd5a670689",
   "metadata": {},
   "outputs": [],
   "source": [
    "X_train2, X_test2, y_train2, y_test2= train_test_split(wine_data, wine_label, test_size=0.3, random_state=5)"
   ]
  },
  {
   "cell_type": "markdown",
   "id": "1a45d89c-80d4-4841-b3cd-27e5783ae4e2",
   "metadata": {},
   "source": [
    "#### 2-(5) 다양한 모델로 학습시켜보기-\n",
    "##### 루브릭 2: 3가지 데이터셋에 대해 각각 5가지 모델을 이용하여 학습을 수행하고 결과값을 얻었는가?(상세기준: 모델학습 및 테스트가 정상적으로 수행되고 결과값을 얻었음)"
   ]
  },
  {
   "cell_type": "code",
   "execution_count": 18,
   "id": "4031284c-34b5-46b8-a3fb-aadf95830221",
   "metadata": {},
   "outputs": [
    {
     "name": "stdout",
     "output_type": "stream",
     "text": [
      "              precision    recall  f1-score   support\n",
      "\n",
      "           0       0.95      0.91      0.93        23\n",
      "           1       0.89      0.89      0.89        18\n",
      "           2       0.93      1.00      0.96        13\n",
      "\n",
      "    accuracy                           0.93        54\n",
      "   macro avg       0.92      0.93      0.93        54\n",
      "weighted avg       0.93      0.93      0.93        54\n",
      "\n"
     ]
    }
   ],
   "source": [
    "# decision tree 사용해보기\n",
    "from sklearn.tree import DecisionTreeClassifier\n",
    "\n",
    "decision_tree= DecisionTreeClassifier(random_state=20)\n",
    "decision_tree.fit(X_train2, y_train2)\n",
    "y_pred2= decision_tree.predict(X_test2)\n",
    "print(classification_report(y_test2, y_pred2))"
   ]
  },
  {
   "cell_type": "code",
   "execution_count": 19,
   "id": "0bd61c13-b820-4cd2-9890-c7f74650dcb8",
   "metadata": {},
   "outputs": [
    {
     "name": "stdout",
     "output_type": "stream",
     "text": [
      "              precision    recall  f1-score   support\n",
      "\n",
      "           0       1.00      1.00      1.00        23\n",
      "           1       1.00      0.94      0.97        18\n",
      "           2       0.93      1.00      0.96        13\n",
      "\n",
      "    accuracy                           0.98        54\n",
      "   macro avg       0.98      0.98      0.98        54\n",
      "weighted avg       0.98      0.98      0.98        54\n",
      "\n"
     ]
    }
   ],
   "source": [
    "# random forest 사용해 보기\n",
    "\n",
    "from sklearn.ensemble import RandomForestClassifier\n",
    "\n",
    "random_forest= RandomForestClassifier(random_state=20)\n",
    "random_forest.fit(X_train2, y_train2)\n",
    "y_pred2= random_forest.predict(X_test2)\n",
    "print(classification_report(y_test2, y_pred2))"
   ]
  },
  {
   "cell_type": "code",
   "execution_count": 20,
   "id": "a8f66572-9395-4030-8b0b-bc3768fe33ea",
   "metadata": {},
   "outputs": [
    {
     "name": "stdout",
     "output_type": "stream",
     "text": [
      "              precision    recall  f1-score   support\n",
      "\n",
      "           0       0.89      0.74      0.81        23\n",
      "           1       0.60      0.83      0.70        18\n",
      "           2       0.40      0.31      0.35        13\n",
      "\n",
      "    accuracy                           0.67        54\n",
      "   macro avg       0.63      0.63      0.62        54\n",
      "weighted avg       0.68      0.67      0.66        54\n",
      "\n"
     ]
    }
   ],
   "source": [
    "# SVM 사용해 보기\n",
    "from sklearn import svm\n",
    "\n",
    "svm_model=svm.SVC()\n",
    "svm_model.fit(X_train2, y_train2)\n",
    "y_pred2= svm_model.predict(X_test2)\n",
    "print(classification_report(y_test2, y_pred2))"
   ]
  },
  {
   "cell_type": "code",
   "execution_count": 21,
   "id": "74220a07-6f50-41f7-89a1-3409c8500dba",
   "metadata": {},
   "outputs": [
    {
     "name": "stdout",
     "output_type": "stream",
     "text": [
      "              precision    recall  f1-score   support\n",
      "\n",
      "           0       1.00      0.57      0.72        23\n",
      "           1       0.69      0.61      0.65        18\n",
      "           2       0.36      0.69      0.47        13\n",
      "\n",
      "    accuracy                           0.61        54\n",
      "   macro avg       0.68      0.62      0.61        54\n",
      "weighted avg       0.74      0.61      0.64        54\n",
      "\n"
     ]
    }
   ],
   "source": [
    "# SGD classifier 사용해 보기\n",
    "from sklearn.linear_model import SGDClassifier\n",
    "\n",
    "sgd_model=SGDClassifier()\n",
    "sgd_model.fit(X_train2, y_train2)\n",
    "y_pred2= sgd_model.predict(X_test2)\n",
    "print(classification_report(y_test2, y_pred2))"
   ]
  },
  {
   "cell_type": "code",
   "execution_count": 22,
   "id": "def31540-6932-4b11-9caa-7191283c7f0c",
   "metadata": {},
   "outputs": [
    {
     "name": "stdout",
     "output_type": "stream",
     "text": [
      "              precision    recall  f1-score   support\n",
      "\n",
      "           0       1.00      0.96      0.98        23\n",
      "           1       0.89      0.94      0.92        18\n",
      "           2       0.92      0.92      0.92        13\n",
      "\n",
      "    accuracy                           0.94        54\n",
      "   macro avg       0.94      0.94      0.94        54\n",
      "weighted avg       0.95      0.94      0.94        54\n",
      "\n"
     ]
    }
   ],
   "source": [
    "# logistic regression 사용해 보기\n",
    "from sklearn.linear_model import LogisticRegression\n",
    "\n",
    "logistic_model = LogisticRegression(max_iter=3000)\n",
    "logistic_model.fit(X_train2, y_train2)\n",
    "y_pred2= logistic_model.predict(X_test2)\n",
    "print(classification_report(y_test2, y_pred2))"
   ]
  },
  {
   "cell_type": "markdown",
   "id": "3ee2aa25-f3e7-4c2a-ae31-17ebb1eaded6",
   "metadata": {},
   "source": [
    "#### 2-(6) 모델을 평가해 보기: 예측 결과는 어떻게 해석하는가? 모델 성능평가 지료는 무엇이 좋은가? sklearn.metric에서 제공하는 평가지표 중 적절한 것을 선택하라.\n",
    "##### 루브릭 3: 3가지 데이터셋에 대해 모델의 평가 지표를 선택하고 그 이유를 근거있게 서술하였는가?\n",
    "\n",
    "f1지표가 가장 모델 평가에 바람직하다. 와인의 class가 뜻하는 것이 무엇인지는 정확히 알지 못하지만\n",
    "단순히 와인의 종류를 나타낸 것이라면 digits 데이터셋처럼 가치중립적일 것이고\n",
    "같은 종의 와인 중 고급, 중급, 저급으로 나눈 것이라면 급에 따라 나름의 가치를 지닌다고 할 수는 있겠지만\n",
    "어떤 class가 고급, 중급 저급인지 알 수 없기 때문에 precision이나 recall보다 \n",
    "종합적인 성능을 대변하는 f1지표가 모델 평가에 가장 바람직하다고 할 수 있다.\n",
    "또한 각 class의 레이블 개수(support)가 다르기 때문에 weighted avg된 f1지표를 사용하는 것이 좋다.\n",
    "그 결과 가장 높은 점수를 받은 모델인 random forest모델이 wine데이터셋에 가장 적합하다 할  것이다."
   ]
  },
  {
   "cell_type": "markdown",
   "id": "5ba41877-690a-434a-bbd5-abd0eac7805d",
   "metadata": {},
   "source": [
    "## 3. load_breast_cancer"
   ]
  },
  {
   "cell_type": "markdown",
   "id": "fc73ad8e-78fe-41c7-90b0-28a00de1f04b",
   "metadata": {},
   "source": [
    "#### 3-(1) load_breast_cancer import"
   ]
  },
  {
   "cell_type": "code",
   "execution_count": 23,
   "id": "1f079a34-a5f2-40a3-87b2-b17651d1a842",
   "metadata": {},
   "outputs": [],
   "source": [
    "from sklearn.datasets import load_breast_cancer\n",
    "from sklearn.model_selection import train_test_split\n",
    "from sklearn.metrics import classification_report"
   ]
  },
  {
   "cell_type": "markdown",
   "id": "bb95497e-4213-45bc-a1ad-39683e3e1504",
   "metadata": {},
   "source": [
    "#### 3-(2) 데이터 준비"
   ]
  },
  {
   "cell_type": "code",
   "execution_count": 24,
   "id": "b05a7230-bb30-4126-91a9-a11dcc4feda6",
   "metadata": {},
   "outputs": [],
   "source": [
    "breast_cancer=load_breast_cancer()"
   ]
  },
  {
   "cell_type": "markdown",
   "id": "bfe7503e-d3b7-4ff1-b1f3-5a6fd19841bc",
   "metadata": {},
   "source": [
    "#### 3-(3) 데이터 이해하기\n",
    "##### 루브릭 1. 3가지 데이터셋의 구성을 파악하고 데이터를 이해는 과정이 포함되어 있는가?(상세기준: feature와 label선정을 위한 데이터 분석과정을 전개함)\n",
    "\n",
    "dir()로 확인한 결과 데이터셋은 DESCR, data, feature_names, frame, images, target, target_names로 구성되어 있으며\n",
    "각각의 형태는 다음과 같다. 데이터의 전체 구성을 확인하기 위하여 dir() 외에도 내부의 값을 확인하거나 shape을 이용하여 형태를 확인하였다."
   ]
  },
  {
   "cell_type": "code",
   "execution_count": 25,
   "id": "1aa922f0-98b4-426d-80a6-301fab73a67c",
   "metadata": {},
   "outputs": [
    {
     "name": "stdout",
     "output_type": "stream",
     "text": [
      "['DESCR', 'data', 'data_module', 'feature_names', 'filename', 'frame', 'target', 'target_names']\n"
     ]
    }
   ],
   "source": [
    "print(dir(breast_cancer))"
   ]
  },
  {
   "cell_type": "code",
   "execution_count": 26,
   "id": "ae20e2ae-0b2a-4225-892f-abe04cbf0d6e",
   "metadata": {},
   "outputs": [
    {
     "name": "stdout",
     "output_type": "stream",
     "text": [
      "(569, 30)\n",
      "[1.799e+01 1.038e+01 1.228e+02 1.001e+03 1.184e-01 2.776e-01 3.001e-01\n",
      " 1.471e-01 2.419e-01 7.871e-02 1.095e+00 9.053e-01 8.589e+00 1.534e+02\n",
      " 6.399e-03 4.904e-02 5.373e-02 1.587e-02 3.003e-02 6.193e-03 2.538e+01\n",
      " 1.733e+01 1.846e+02 2.019e+03 1.622e-01 6.656e-01 7.119e-01 2.654e-01\n",
      " 4.601e-01 1.189e-01]\n",
      "['mean radius' 'mean texture' 'mean perimeter' 'mean area'\n",
      " 'mean smoothness' 'mean compactness' 'mean concavity'\n",
      " 'mean concave points' 'mean symmetry' 'mean fractal dimension'\n",
      " 'radius error' 'texture error' 'perimeter error' 'area error'\n",
      " 'smoothness error' 'compactness error' 'concavity error'\n",
      " 'concave points error' 'symmetry error' 'fractal dimension error'\n",
      " 'worst radius' 'worst texture' 'worst perimeter' 'worst area'\n",
      " 'worst smoothness' 'worst compactness' 'worst concavity'\n",
      " 'worst concave points' 'worst symmetry' 'worst fractal dimension']\n",
      "(569,)\n",
      ".. _breast_cancer_dataset:\n",
      "\n",
      "Breast cancer wisconsin (diagnostic) dataset\n",
      "--------------------------------------------\n",
      "\n",
      "**Data Set Characteristics:**\n",
      "\n",
      "    :Number of Instances: 569\n",
      "\n",
      "    :Number of Attributes: 30 numeric, predictive attributes and the class\n",
      "\n",
      "    :Attribute Information:\n",
      "        - radius (mean of distances from center to points on the perimeter)\n",
      "        - texture (standard deviation of gray-scale values)\n",
      "        - perimeter\n",
      "        - area\n",
      "        - smoothness (local variation in radius lengths)\n",
      "        - compactness (perimeter^2 / area - 1.0)\n",
      "        - concavity (severity of concave portions of the contour)\n",
      "        - concave points (number of concave portions of the contour)\n",
      "        - symmetry\n",
      "        - fractal dimension (\"coastline approximation\" - 1)\n",
      "\n",
      "        The mean, standard error, and \"worst\" or largest (mean of the three\n",
      "        worst/largest values) of these features were computed for each image,\n",
      "        resulting in 30 features.  For instance, field 0 is Mean Radius, field\n",
      "        10 is Radius SE, field 20 is Worst Radius.\n",
      "\n",
      "        - class:\n",
      "                - WDBC-Malignant\n",
      "                - WDBC-Benign\n",
      "\n",
      "    :Summary Statistics:\n",
      "\n",
      "    ===================================== ====== ======\n",
      "                                           Min    Max\n",
      "    ===================================== ====== ======\n",
      "    radius (mean):                        6.981  28.11\n",
      "    texture (mean):                       9.71   39.28\n",
      "    perimeter (mean):                     43.79  188.5\n",
      "    area (mean):                          143.5  2501.0\n",
      "    smoothness (mean):                    0.053  0.163\n",
      "    compactness (mean):                   0.019  0.345\n",
      "    concavity (mean):                     0.0    0.427\n",
      "    concave points (mean):                0.0    0.201\n",
      "    symmetry (mean):                      0.106  0.304\n",
      "    fractal dimension (mean):             0.05   0.097\n",
      "    radius (standard error):              0.112  2.873\n",
      "    texture (standard error):             0.36   4.885\n",
      "    perimeter (standard error):           0.757  21.98\n",
      "    area (standard error):                6.802  542.2\n",
      "    smoothness (standard error):          0.002  0.031\n",
      "    compactness (standard error):         0.002  0.135\n",
      "    concavity (standard error):           0.0    0.396\n",
      "    concave points (standard error):      0.0    0.053\n",
      "    symmetry (standard error):            0.008  0.079\n",
      "    fractal dimension (standard error):   0.001  0.03\n",
      "    radius (worst):                       7.93   36.04\n",
      "    texture (worst):                      12.02  49.54\n",
      "    perimeter (worst):                    50.41  251.2\n",
      "    area (worst):                         185.2  4254.0\n",
      "    smoothness (worst):                   0.071  0.223\n",
      "    compactness (worst):                  0.027  1.058\n",
      "    concavity (worst):                    0.0    1.252\n",
      "    concave points (worst):               0.0    0.291\n",
      "    symmetry (worst):                     0.156  0.664\n",
      "    fractal dimension (worst):            0.055  0.208\n",
      "    ===================================== ====== ======\n",
      "\n",
      "    :Missing Attribute Values: None\n",
      "\n",
      "    :Class Distribution: 212 - Malignant, 357 - Benign\n",
      "\n",
      "    :Creator:  Dr. William H. Wolberg, W. Nick Street, Olvi L. Mangasarian\n",
      "\n",
      "    :Donor: Nick Street\n",
      "\n",
      "    :Date: November, 1995\n",
      "\n",
      "This is a copy of UCI ML Breast Cancer Wisconsin (Diagnostic) datasets.\n",
      "https://goo.gl/U2Uwz2\n",
      "\n",
      "Features are computed from a digitized image of a fine needle\n",
      "aspirate (FNA) of a breast mass.  They describe\n",
      "characteristics of the cell nuclei present in the image.\n",
      "\n",
      "Separating plane described above was obtained using\n",
      "Multisurface Method-Tree (MSM-T) [K. P. Bennett, \"Decision Tree\n",
      "Construction Via Linear Programming.\" Proceedings of the 4th\n",
      "Midwest Artificial Intelligence and Cognitive Science Society,\n",
      "pp. 97-101, 1992], a classification method which uses linear\n",
      "programming to construct a decision tree.  Relevant features\n",
      "were selected using an exhaustive search in the space of 1-4\n",
      "features and 1-3 separating planes.\n",
      "\n",
      "The actual linear program used to obtain the separating plane\n",
      "in the 3-dimensional space is that described in:\n",
      "[K. P. Bennett and O. L. Mangasarian: \"Robust Linear\n",
      "Programming Discrimination of Two Linearly Inseparable Sets\",\n",
      "Optimization Methods and Software 1, 1992, 23-34].\n",
      "\n",
      "This database is also available through the UW CS ftp server:\n",
      "\n",
      "ftp ftp.cs.wisc.edu\n",
      "cd math-prog/cpo-dataset/machine-learn/WDBC/\n",
      "\n",
      ".. topic:: References\n",
      "\n",
      "   - W.N. Street, W.H. Wolberg and O.L. Mangasarian. Nuclear feature extraction \n",
      "     for breast tumor diagnosis. IS&T/SPIE 1993 International Symposium on \n",
      "     Electronic Imaging: Science and Technology, volume 1905, pages 861-870,\n",
      "     San Jose, CA, 1993.\n",
      "   - O.L. Mangasarian, W.N. Street and W.H. Wolberg. Breast cancer diagnosis and \n",
      "     prognosis via linear programming. Operations Research, 43(4), pages 570-577, \n",
      "     July-August 1995.\n",
      "   - W.H. Wolberg, W.N. Street, and O.L. Mangasarian. Machine learning techniques\n",
      "     to diagnose breast cancer from fine-needle aspirates. Cancer Letters 77 (1994) \n",
      "     163-171.\n"
     ]
    }
   ],
   "source": [
    "print(breast_cancer.data.shape)\n",
    "print(breast_cancer.data[0])\n",
    "print(breast_cancer.feature_names)\n",
    "print(breast_cancer.target.shape)\n",
    "print(breast_cancer.DESCR)"
   ]
  },
  {
   "cell_type": "markdown",
   "id": "05bdaba9-608d-4795-84ce-0911e31e7f26",
   "metadata": {},
   "source": [
    "feature 선정 : data / label 선정 : target\n",
    "digits, wine과 유사한 논리로 feature를 선정하였다. 이에 대해서는 이미 2회 논의했기 때문에\n",
    "같은 근거를 다시 대지 않는다. 실제 분석을 하는 상황에서 digits과제와 wine과제가\n",
    "같은 데이터원에게서 전달되고 같은 구성, 같은 이름의 키를 가지고 있다면 바로 data와 target부터 확인\n",
    "하는 것이 당연할 것이며, DESCR을 통해 확인하고 검증하였을 때도 같은 결과가 나옴을 알 수\n",
    "있다.\n",
    "\n",
    "이후 노드에서 제시한 아래의 4가지 과정을 실행하였다.  \n",
    "1. feature data 지정하기  \n",
    "2. label data 지정하기  \n",
    "3. target names 출력해 보기  \n",
    "4. 데이터 describe 해보기"
   ]
  },
  {
   "cell_type": "code",
   "execution_count": 27,
   "id": "4395e280-2fee-42aa-8ff1-d1fc92d4c79a",
   "metadata": {},
   "outputs": [
    {
     "name": "stdout",
     "output_type": "stream",
     "text": [
      "['malignant' 'benign']\n",
      ".. _breast_cancer_dataset:\n",
      "\n",
      "Breast cancer wisconsin (diagnostic) dataset\n",
      "--------------------------------------------\n",
      "\n",
      "**Data Set Characteristics:**\n",
      "\n",
      "    :Number of Instances: 569\n",
      "\n",
      "    :Number of Attributes: 30 numeric, predictive attributes and the class\n",
      "\n",
      "    :Attribute Information:\n",
      "        - radius (mean of distances from center to points on the perimeter)\n",
      "        - texture (standard deviation of gray-scale values)\n",
      "        - perimeter\n",
      "        - area\n",
      "        - smoothness (local variation in radius lengths)\n",
      "        - compactness (perimeter^2 / area - 1.0)\n",
      "        - concavity (severity of concave portions of the contour)\n",
      "        - concave points (number of concave portions of the contour)\n",
      "        - symmetry\n",
      "        - fractal dimension (\"coastline approximation\" - 1)\n",
      "\n",
      "        The mean, standard error, and \"worst\" or largest (mean of the three\n",
      "        worst/largest values) of these features were computed for each image,\n",
      "        resulting in 30 features.  For instance, field 0 is Mean Radius, field\n",
      "        10 is Radius SE, field 20 is Worst Radius.\n",
      "\n",
      "        - class:\n",
      "                - WDBC-Malignant\n",
      "                - WDBC-Benign\n",
      "\n",
      "    :Summary Statistics:\n",
      "\n",
      "    ===================================== ====== ======\n",
      "                                           Min    Max\n",
      "    ===================================== ====== ======\n",
      "    radius (mean):                        6.981  28.11\n",
      "    texture (mean):                       9.71   39.28\n",
      "    perimeter (mean):                     43.79  188.5\n",
      "    area (mean):                          143.5  2501.0\n",
      "    smoothness (mean):                    0.053  0.163\n",
      "    compactness (mean):                   0.019  0.345\n",
      "    concavity (mean):                     0.0    0.427\n",
      "    concave points (mean):                0.0    0.201\n",
      "    symmetry (mean):                      0.106  0.304\n",
      "    fractal dimension (mean):             0.05   0.097\n",
      "    radius (standard error):              0.112  2.873\n",
      "    texture (standard error):             0.36   4.885\n",
      "    perimeter (standard error):           0.757  21.98\n",
      "    area (standard error):                6.802  542.2\n",
      "    smoothness (standard error):          0.002  0.031\n",
      "    compactness (standard error):         0.002  0.135\n",
      "    concavity (standard error):           0.0    0.396\n",
      "    concave points (standard error):      0.0    0.053\n",
      "    symmetry (standard error):            0.008  0.079\n",
      "    fractal dimension (standard error):   0.001  0.03\n",
      "    radius (worst):                       7.93   36.04\n",
      "    texture (worst):                      12.02  49.54\n",
      "    perimeter (worst):                    50.41  251.2\n",
      "    area (worst):                         185.2  4254.0\n",
      "    smoothness (worst):                   0.071  0.223\n",
      "    compactness (worst):                  0.027  1.058\n",
      "    concavity (worst):                    0.0    1.252\n",
      "    concave points (worst):               0.0    0.291\n",
      "    symmetry (worst):                     0.156  0.664\n",
      "    fractal dimension (worst):            0.055  0.208\n",
      "    ===================================== ====== ======\n",
      "\n",
      "    :Missing Attribute Values: None\n",
      "\n",
      "    :Class Distribution: 212 - Malignant, 357 - Benign\n",
      "\n",
      "    :Creator:  Dr. William H. Wolberg, W. Nick Street, Olvi L. Mangasarian\n",
      "\n",
      "    :Donor: Nick Street\n",
      "\n",
      "    :Date: November, 1995\n",
      "\n",
      "This is a copy of UCI ML Breast Cancer Wisconsin (Diagnostic) datasets.\n",
      "https://goo.gl/U2Uwz2\n",
      "\n",
      "Features are computed from a digitized image of a fine needle\n",
      "aspirate (FNA) of a breast mass.  They describe\n",
      "characteristics of the cell nuclei present in the image.\n",
      "\n",
      "Separating plane described above was obtained using\n",
      "Multisurface Method-Tree (MSM-T) [K. P. Bennett, \"Decision Tree\n",
      "Construction Via Linear Programming.\" Proceedings of the 4th\n",
      "Midwest Artificial Intelligence and Cognitive Science Society,\n",
      "pp. 97-101, 1992], a classification method which uses linear\n",
      "programming to construct a decision tree.  Relevant features\n",
      "were selected using an exhaustive search in the space of 1-4\n",
      "features and 1-3 separating planes.\n",
      "\n",
      "The actual linear program used to obtain the separating plane\n",
      "in the 3-dimensional space is that described in:\n",
      "[K. P. Bennett and O. L. Mangasarian: \"Robust Linear\n",
      "Programming Discrimination of Two Linearly Inseparable Sets\",\n",
      "Optimization Methods and Software 1, 1992, 23-34].\n",
      "\n",
      "This database is also available through the UW CS ftp server:\n",
      "\n",
      "ftp ftp.cs.wisc.edu\n",
      "cd math-prog/cpo-dataset/machine-learn/WDBC/\n",
      "\n",
      ".. topic:: References\n",
      "\n",
      "   - W.N. Street, W.H. Wolberg and O.L. Mangasarian. Nuclear feature extraction \n",
      "     for breast tumor diagnosis. IS&T/SPIE 1993 International Symposium on \n",
      "     Electronic Imaging: Science and Technology, volume 1905, pages 861-870,\n",
      "     San Jose, CA, 1993.\n",
      "   - O.L. Mangasarian, W.N. Street and W.H. Wolberg. Breast cancer diagnosis and \n",
      "     prognosis via linear programming. Operations Research, 43(4), pages 570-577, \n",
      "     July-August 1995.\n",
      "   - W.H. Wolberg, W.N. Street, and O.L. Mangasarian. Machine learning techniques\n",
      "     to diagnose breast cancer from fine-needle aspirates. Cancer Letters 77 (1994) \n",
      "     163-171.\n"
     ]
    }
   ],
   "source": [
    "breast_cancer_data= breast_cancer.data\n",
    "breast_cancer_label= breast_cancer.target\n",
    "print(breast_cancer.target_names)\n",
    "print(breast_cancer.DESCR)"
   ]
  },
  {
   "cell_type": "markdown",
   "id": "2e567886-41fc-4eae-81f7-6bcf979204d4",
   "metadata": {},
   "source": [
    "#### 3-(4) train, test 데이터 분리"
   ]
  },
  {
   "cell_type": "code",
   "execution_count": 28,
   "id": "cf806c65-1246-4ac0-b1ec-e1bb6df0b286",
   "metadata": {},
   "outputs": [],
   "source": [
    "X_train3, X_test3, y_train3, y_test3= train_test_split(breast_cancer_data, breast_cancer_label, test_size=0.3, random_state=5)"
   ]
  },
  {
   "cell_type": "markdown",
   "id": "df911b0e-cc66-49c3-9a46-56d81749d53f",
   "metadata": {},
   "source": [
    "#### 3-(5) 다양한 모델로 학습시켜보기 \n",
    "##### 루브릭 2: 3가지 데이터셋에 대해 각각 5가지 모델을 이용하여 학습을 수행하고 결과값을 얻었는가?(상세기준: 모델학습 및 테스트가 정상적으로 수행되고 결과값을 얻었음)"
   ]
  },
  {
   "cell_type": "code",
   "execution_count": 29,
   "id": "5dd290d4-32c2-44bf-afb2-ae62b02e59b2",
   "metadata": {},
   "outputs": [
    {
     "name": "stdout",
     "output_type": "stream",
     "text": [
      "              precision    recall  f1-score   support\n",
      "\n",
      "           0       0.90      0.90      0.90        61\n",
      "           1       0.95      0.95      0.95       110\n",
      "\n",
      "    accuracy                           0.93       171\n",
      "   macro avg       0.92      0.92      0.92       171\n",
      "weighted avg       0.93      0.93      0.93       171\n",
      "\n"
     ]
    }
   ],
   "source": [
    "# decision tree 사용해보기\n",
    "from sklearn.tree import DecisionTreeClassifier\n",
    "\n",
    "decision_tree= DecisionTreeClassifier(random_state=20)\n",
    "decision_tree.fit(X_train3, y_train3)\n",
    "y_pred3= decision_tree.predict(X_test3)\n",
    "print(classification_report(y_test3, y_pred3))"
   ]
  },
  {
   "cell_type": "code",
   "execution_count": 30,
   "id": "ce46f0b3-8119-4392-b8af-9d5689c34f26",
   "metadata": {},
   "outputs": [
    {
     "name": "stdout",
     "output_type": "stream",
     "text": [
      "              precision    recall  f1-score   support\n",
      "\n",
      "           0       0.97      0.95      0.96        61\n",
      "           1       0.97      0.98      0.98       110\n",
      "\n",
      "    accuracy                           0.97       171\n",
      "   macro avg       0.97      0.97      0.97       171\n",
      "weighted avg       0.97      0.97      0.97       171\n",
      "\n"
     ]
    }
   ],
   "source": [
    "# random forest 사용해 보기\n",
    "\n",
    "from sklearn.ensemble import RandomForestClassifier\n",
    "\n",
    "random_forest= RandomForestClassifier(random_state=20)\n",
    "random_forest.fit(X_train3, y_train3)\n",
    "y_pred3= random_forest.predict(X_test3)\n",
    "print(classification_report(y_test3, y_pred3))"
   ]
  },
  {
   "cell_type": "code",
   "execution_count": 31,
   "id": "a7756027-b0a0-45ad-b224-eeb51aa679c5",
   "metadata": {},
   "outputs": [
    {
     "name": "stdout",
     "output_type": "stream",
     "text": [
      "              precision    recall  f1-score   support\n",
      "\n",
      "           0       1.00      0.90      0.95        61\n",
      "           1       0.95      1.00      0.97       110\n",
      "\n",
      "    accuracy                           0.96       171\n",
      "   macro avg       0.97      0.95      0.96       171\n",
      "weighted avg       0.97      0.96      0.96       171\n",
      "\n"
     ]
    }
   ],
   "source": [
    "# SVM 사용해 보기\n",
    "from sklearn import svm\n",
    "\n",
    "svm_model=svm.SVC()\n",
    "svm_model.fit(X_train3, y_train3)\n",
    "y_pred3= svm_model.predict(X_test3)\n",
    "print(classification_report(y_test3, y_pred3))"
   ]
  },
  {
   "cell_type": "code",
   "execution_count": 32,
   "id": "db60549f-a2d9-4a30-a1d4-536b482c459a",
   "metadata": {},
   "outputs": [
    {
     "name": "stdout",
     "output_type": "stream",
     "text": [
      "              precision    recall  f1-score   support\n",
      "\n",
      "           0       0.62      0.98      0.76        61\n",
      "           1       0.99      0.67      0.80       110\n",
      "\n",
      "    accuracy                           0.78       171\n",
      "   macro avg       0.81      0.83      0.78       171\n",
      "weighted avg       0.86      0.78      0.79       171\n",
      "\n"
     ]
    }
   ],
   "source": [
    "# SGD classifier 사용해 보기\n",
    "from sklearn.linear_model import SGDClassifier\n",
    "\n",
    "sgd_model=SGDClassifier()\n",
    "sgd_model.fit(X_train3, y_train3)\n",
    "y_pred3= sgd_model.predict(X_test3)\n",
    "print(classification_report(y_test3, y_pred3))"
   ]
  },
  {
   "cell_type": "code",
   "execution_count": 33,
   "id": "861d5df9-78ad-4ed9-93c4-9855ba860496",
   "metadata": {},
   "outputs": [
    {
     "name": "stdout",
     "output_type": "stream",
     "text": [
      "              precision    recall  f1-score   support\n",
      "\n",
      "           0       0.98      0.97      0.98        61\n",
      "           1       0.98      0.99      0.99       110\n",
      "\n",
      "    accuracy                           0.98       171\n",
      "   macro avg       0.98      0.98      0.98       171\n",
      "weighted avg       0.98      0.98      0.98       171\n",
      "\n"
     ]
    }
   ],
   "source": [
    "# logistic regression 사용해 보기\n",
    "from sklearn.linear_model import LogisticRegression\n",
    "\n",
    "logistic_model = LogisticRegression(max_iter=3000)\n",
    "logistic_model.fit(X_train3, y_train3)\n",
    "y_pred3= logistic_model.predict(X_test3)\n",
    "print(classification_report(y_test3, y_pred3))"
   ]
  },
  {
   "cell_type": "markdown",
   "id": "a174acf0-5db1-4188-b5e7-fbadc7bfff9d",
   "metadata": {},
   "source": [
    "#### 3-(6) 모델을 평가해 보기: 예측 결과는 어떻게 해석하는가? 모델 성능평가 지료는 무엇이 좋은가? sklearn.metric에서 제공하는 평가지표 중 적절한 것을 선택하라.\n",
    "##### 루브릭 3: 3가지 데이터셋에 대해 모델의 평가 지표를 선택하고 그 이유를 근거있게 서술하였는가?\n",
    "\n",
    "앞의 두 문제와 유방암 모델의 가장 큰 차이점은 카테고리가 가치중립적이지도 않고 카테고리 정보를 통해\n",
    "그 가치를 파악할 수 있다는 것이다. 유방암은 생명을 위협하는 큰 질병이기 때문에\n",
    "유방암 양성이 바람직할 일일 가능성은 매우 적기 때문에 이러한 부분을 고려하여 지표를 선정해야 한다.\n",
    "또한, 음성 판정의 경우 이후 검진자는 의료행위에 주의를 기울이지 않을 가능성이 높고\n",
    "양성의 경우에는 재검 및 건강에 각별한 주의를 기울이게 될 것이기 때문에\n",
    "그러므로 recall을 지표로 사용하는 것이 적절하다\n",
    "\n",
    "#### 회고\n",
    "지금까지 세가지 종류의 scikit-learn 데이터를 살펴보았다.\n",
    "개인적으로 가장 흥미를 가지고 있었던 부분은 svm과 logistic regression의 비교였다.\n",
    "svm과 logistic Regression에 대해 찾아볼 때, 개념적으로 좌표평면상의 선을 긋는 방식으로 논리가\n",
    "전개된다는 사실을 알았고, 혹시 거의 같은 방식의 분류인가 하는 생각이 들었기 때문이다.\n",
    "그래서 f1 score로 비교를 시도해 보았지만 분석하는 도중에 이러한 비교가 비효율적인 접근임을\n",
    "알아차렸다. 데이터 수도 적고, 단순히 지표가 같은 수라는 것만으로 판단을 내릴 수 있는\n",
    "문제가 애초에 아니었기 때문이다.\n",
    "\n",
    "한편, decision tree보다 random forest가 늘 성능이 앞섰다. \n",
    "svm과 logistic regression의 비교와는 다르게, random forest가 decision tree의\n",
    "단점을 보완한 모델이었다는 것을 이미 학습하였기 때문에, 점수를 보고 배운 내용에\n",
    "더욱 확신을 가질 수 있었다.\n",
    "\n",
    "가장 난처했던 부분은 linear regression에서 반복적으로 warning이 발생한 것이다.\n",
    "후에 itration설정이 부족했기 때문임을 확인하고 수정하였지만\n",
    "영어 실력 부족으로 해석과 적용에 많은 시간을 보냈기 때문이다.\n",
    "다시 한번 영어의 중요성을 실감할 수 있었다.\n",
    "\n",
    "wine데이터에서는 '어디까지 편의적으로 해석할 수 있는가'에 대해 고민했다.\n",
    "위의 모델 평가에는 나오지 않았지만, 만약 정보의 이용자가 와인 판매상이고 가장 높은 와인의\n",
    "등급이 class 2라면 class 2의 recall지표가 가장 높게 나오는 모델을 인위적으로 선정한\n",
    "다음 '중립적인 빅데이터 AI와인 판별기'라는 광고문구를 내세우며 광고효과와 자신의 잇속을\n",
    "챙길 수도 있을 것이다. 거꾸로 와인 구매자 입장에서는 class 0의 recall지표가 가장 높게\n",
    "나오는 모델을 적용하여 더 높은 등급의 와인을 사려고 시도할 수도 있을 것이다.\n",
    "분명 우리는 '중립적'인 관점에서 모델의 점수를 측정했지만\n",
    "'편향적'인 방식으로 연구 결과가 이용될 수도 있는 것이다.\n",
    "생각해 볼 문제다.\n",
    "\n",
    "마지막으로 안타까웠던 점은 시간이 부족했다는 것이다.\n",
    "다른 사람들이 미리 프로젝트를 한 다음 이것저것 시도해 볼 때,\n",
    "시간이 부족하여 노드를 보느라 그만큼 신경을 쓰지 못한 것이 아쉽다.\n",
    "데이터 시각화를 시도하는 사람들도 있었고, 깔끔한 포멧으로 정리하여 프로젝트를 제출하는 \n",
    "사람들도 있었지만 그러지 못하다 보니 그들이 부러웠다.\n",
    "왜냐하면, 시각적으로 열등해 보이는 것들에 대해 대부분의 사람들은 탐구할 생각을 하지 않기 때문이다.\n",
    "그런 의미에서 다음에는 보이는 것들에 더 신경써서 과제를 마무리 하도록 노력해 보겠다.\n",
    "\n",
    "Reference: 아이펠(https://lms.aiffel.io/) 학습 노드-Exploration 1"
   ]
  },
  {
   "cell_type": "code",
   "execution_count": null,
   "id": "cadbb06f-c879-47b2-9010-2e0673853a60",
   "metadata": {},
   "outputs": [],
   "source": []
  }
 ],
 "metadata": {
  "kernelspec": {
   "display_name": "Python 3 (ipykernel)",
   "language": "python",
   "name": "python3"
  },
  "language_info": {
   "codemirror_mode": {
    "name": "ipython",
    "version": 3
   },
   "file_extension": ".py",
   "mimetype": "text/x-python",
   "name": "python",
   "nbconvert_exporter": "python",
   "pygments_lexer": "ipython3",
   "version": "3.8.8"
  }
 },
 "nbformat": 4,
 "nbformat_minor": 5
}
