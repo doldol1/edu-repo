{
 "cells": [
  {
   "cell_type": "markdown",
   "id": "f8864720",
   "metadata": {},
   "source": [
    "# 8. 영화리뷰 텍스트 감성분석하기\n",
    "레이블링이 완료된 영화리뷰를 학습시켜 '긍정' '부정'을 구분하는 모델을 만든다."
   ]
  },
  {
   "cell_type": "code",
   "execution_count": 1,
   "id": "f93b7805",
   "metadata": {},
   "outputs": [],
   "source": [
    "import pandas\n",
    "import konlpy\n",
    "import gensim\n",
    "\n",
    "import tensorflow as tf"
   ]
  },
  {
   "cell_type": "markdown",
   "id": "b1d7df4e",
   "metadata": {},
   "source": [
    "### 데이터 준비 및 확인\n",
    "데이터를 받은 뒤 어떤 값들이 있는지 확인해보았다."
   ]
  },
  {
   "cell_type": "code",
   "execution_count": 2,
   "id": "20737d83",
   "metadata": {},
   "outputs": [
    {
     "data": {
      "text/html": [
       "<div>\n",
       "<style scoped>\n",
       "    .dataframe tbody tr th:only-of-type {\n",
       "        vertical-align: middle;\n",
       "    }\n",
       "\n",
       "    .dataframe tbody tr th {\n",
       "        vertical-align: top;\n",
       "    }\n",
       "\n",
       "    .dataframe thead th {\n",
       "        text-align: right;\n",
       "    }\n",
       "</style>\n",
       "<table border=\"1\" class=\"dataframe\">\n",
       "  <thead>\n",
       "    <tr style=\"text-align: right;\">\n",
       "      <th></th>\n",
       "      <th>id</th>\n",
       "      <th>document</th>\n",
       "      <th>label</th>\n",
       "    </tr>\n",
       "  </thead>\n",
       "  <tbody>\n",
       "    <tr>\n",
       "      <th>0</th>\n",
       "      <td>9976970</td>\n",
       "      <td>아 더빙.. 진짜 짜증나네요 목소리</td>\n",
       "      <td>0</td>\n",
       "    </tr>\n",
       "    <tr>\n",
       "      <th>1</th>\n",
       "      <td>3819312</td>\n",
       "      <td>흠...포스터보고 초딩영화줄....오버연기조차 가볍지 않구나</td>\n",
       "      <td>1</td>\n",
       "    </tr>\n",
       "    <tr>\n",
       "      <th>2</th>\n",
       "      <td>10265843</td>\n",
       "      <td>너무재밓었다그래서보는것을추천한다</td>\n",
       "      <td>0</td>\n",
       "    </tr>\n",
       "    <tr>\n",
       "      <th>3</th>\n",
       "      <td>9045019</td>\n",
       "      <td>교도소 이야기구먼 ..솔직히 재미는 없다..평점 조정</td>\n",
       "      <td>0</td>\n",
       "    </tr>\n",
       "    <tr>\n",
       "      <th>4</th>\n",
       "      <td>6483659</td>\n",
       "      <td>사이몬페그의 익살스런 연기가 돋보였던 영화!스파이더맨에서 늙어보이기만 했던 커스틴 ...</td>\n",
       "      <td>1</td>\n",
       "    </tr>\n",
       "  </tbody>\n",
       "</table>\n",
       "</div>"
      ],
      "text/plain": [
       "         id                                           document  label\n",
       "0   9976970                                아 더빙.. 진짜 짜증나네요 목소리      0\n",
       "1   3819312                  흠...포스터보고 초딩영화줄....오버연기조차 가볍지 않구나      1\n",
       "2  10265843                                  너무재밓었다그래서보는것을추천한다      0\n",
       "3   9045019                      교도소 이야기구먼 ..솔직히 재미는 없다..평점 조정      0\n",
       "4   6483659  사이몬페그의 익살스런 연기가 돋보였던 영화!스파이더맨에서 늙어보이기만 했던 커스틴 ...      1"
      ]
     },
     "execution_count": 2,
     "metadata": {},
     "output_type": "execute_result"
    }
   ],
   "source": [
    "import pandas as pd\n",
    "\n",
    "train_data = pd.read_table('~/aiffel/sentiment_classification/data/ratings_train.txt')\n",
    "test_data = pd.read_table('~/aiffel/sentiment_classification/data/ratings_test.txt')\n",
    "\n",
    "train_data.head()"
   ]
  },
  {
   "cell_type": "markdown",
   "id": "5b89c9d1",
   "metadata": {},
   "source": [
    "전처리(중복제거, 결측치 제거, 불용어 제거)를 진행하고 언어 tokenize 등을 한 뒤 훈련 데이터와 테스트 데이터로 나누는 load_data를 구현한다."
   ]
  },
  {
   "cell_type": "code",
   "execution_count": 3,
   "id": "b50aa990",
   "metadata": {},
   "outputs": [],
   "source": [
    "from konlpy.tag import Mecab\n",
    "import numpy as np\n",
    "from collections import Counter\n",
    "\n",
    "tokenizer = Mecab()\n",
    "stopwords = ['의','가','이','은','들','는','좀','잘','걍','과','도','를','으로','자','에','와','한','하다']\n",
    "\n",
    "def load_data(train_data, test_data, num_words=10000):\n",
    "    # train set 중복 제거, 결측치 제거\n",
    "    train_data.drop_duplicates(subset=['document'], inplace=True)\n",
    "    train_data = train_data.dropna(how = 'any') \n",
    "    # test set 중복 제거, 결측치 제거\n",
    "    test_data.drop_duplicates(subset=['document'], inplace=True)\n",
    "    test_data = test_data.dropna(how = 'any') \n",
    "    \n",
    "    # X_train 토큰화 및 불용어 제거\n",
    "    X_train = []\n",
    "    for sentence in train_data['document']:\n",
    "        temp_X = tokenizer.morphs(sentence) # 토큰화\n",
    "        temp_X = [word for word in temp_X if not word in stopwords] # 불용어 제거\n",
    "        X_train.append(temp_X)\n",
    "    # X_test 토큰화 및 불용어 제거\n",
    "    X_test = []\n",
    "    for sentence in test_data['document']:\n",
    "        temp_X = tokenizer.morphs(sentence) # 토큰화\n",
    "        temp_X = [word for word in temp_X if not word in stopwords] # 불용어 제거\n",
    "        X_test.append(temp_X)\n",
    "    \n",
    "    # 10000-4만큼의 단어사전을 만든 다음, 나머지 4개를 pad, bos, unk, unused로 채운다.\n",
    "    words = np.concatenate(X_train).tolist()\n",
    "    counter = Counter(words)\n",
    "    counter = counter.most_common(10000-4)\n",
    "    vocab = ['<PAD>', '<BOS>', '<UNK>', '<UNUSED>'] + [key for key, _ in counter]\n",
    "    word_to_index = {word:index for index, word in enumerate(vocab)}\n",
    "    \n",
    "    # 문장을 index 값으로 저장(encode)\n",
    "    def wordlist_to_indexlist(wordlist):\n",
    "        return [word_to_index[word] if word in word_to_index else word_to_index['<UNK>'] for word in wordlist]\n",
    "        \n",
    "    X_train = list(map(wordlist_to_indexlist, X_train))\n",
    "    X_test = list(map(wordlist_to_indexlist, X_test))\n",
    "        \n",
    "    return X_train, np.array(list(train_data['label'])), X_test, np.array(list(test_data['label'])), word_to_index\n",
    "    \n",
    "X_train, y_train, X_test, y_test, word_to_index = load_data(train_data, test_data) "
   ]
  },
  {
   "cell_type": "markdown",
   "id": "8bea3e67",
   "metadata": {},
   "source": [
    "인코딩, 디코딩 함수를 만든다."
   ]
  },
  {
   "cell_type": "code",
   "execution_count": 4,
   "id": "387cd4f3",
   "metadata": {},
   "outputs": [],
   "source": [
    "# 문장 1개를 활용할 딕셔너리와 함께 주면, 단어 인덱스 리스트 벡터로 변환해 주는 함수입니다. \n",
    "# 단, 모든 문장은 <BOS>로 시작하는 것으로 합니다. \n",
    "def get_encoded_sentence(sentence, word_to_index):\n",
    "    return [word_to_index['<BOS>']]+[word_to_index[word] if word in word_to_index else word_to_index['<UNK>'] for word in sentence.split()]\n",
    "\n",
    "# 여러 개의 문장 리스트를 한꺼번에 단어 인덱스 리스트 벡터로 encode해 주는 함수입니다. \n",
    "def get_encoded_sentences(sentences, word_to_index):\n",
    "    return [get_encoded_sentence(sentence, word_to_index) for sentence in sentences]\n",
    "\n",
    "# 숫자 벡터로 encode된 문장을 원래대로 decode하는 함수입니다. \n",
    "def get_decoded_sentence(encoded_sentence, index_to_word):\n",
    "    return ' '.join(index_to_word[index] if index in index_to_word else '<UNK>' for index in encoded_sentence[1:])  #[1:]를 통해 <BOS>를 제외\n",
    "\n",
    "# 여러 개의 숫자 벡터로 encode된 문장을 한꺼번에 원래대로 decode하는 함수입니다. \n",
    "def get_decoded_sentences(encoded_sentences, index_to_word):\n",
    "    return [get_decoded_sentence(encoded_sentence, index_to_word) for encoded_sentence in encoded_sentences]"
   ]
  },
  {
   "cell_type": "markdown",
   "id": "419a284a",
   "metadata": {},
   "source": [
    "패딩을 위해 가장 긴 문장의 토큰수를 확인해 보았다."
   ]
  },
  {
   "cell_type": "code",
   "execution_count": 5,
   "id": "66c79f1a",
   "metadata": {},
   "outputs": [
    {
     "name": "stdout",
     "output_type": "stream",
     "text": [
      "train 데이터 최대길이: 116\n",
      "test 데이터 최대길이: 105\n"
     ]
    }
   ],
   "source": [
    "tr_sentence_len=0\n",
    "ts_sentence_len=0\n",
    "for i in X_train:\n",
    "    if tr_sentence_len < len(i):\n",
    "        tr_sentence_len=len(i)\n",
    "for i in X_test:\n",
    "    if ts_sentence_len < len(i):\n",
    "        ts_sentence_len=len(i)\n",
    "print(\"train 데이터 최대길이:\", tr_sentence_len)\n",
    "print(\"test 데이터 최대길이:\", ts_sentence_len)"
   ]
  },
  {
   "cell_type": "markdown",
   "id": "c0ebda54",
   "metadata": {},
   "source": [
    "train과 test데이터들을 통틀어 최대길이는 116 이므로, 최대 글자수도 116으로 맞췄다."
   ]
  },
  {
   "cell_type": "code",
   "execution_count": 6,
   "id": "c4d60bfd",
   "metadata": {},
   "outputs": [],
   "source": [
    "X_train = tf.keras.preprocessing.sequence.pad_sequences(X_train,\n",
    "                                                        value=word_to_index[\"<PAD>\"],\n",
    "                                                        padding='post', \n",
    "                                                        maxlen=120)\n",
    "X_test = tf.keras.preprocessing.sequence.pad_sequences(X_test,\n",
    "                                                       value=word_to_index[\"<PAD>\"],\n",
    "                                                       padding='post', \n",
    "                                                       maxlen=120)"
   ]
  },
  {
   "cell_type": "markdown",
   "id": "80fefe68",
   "metadata": {},
   "source": [
    "validation set과 train set을 분리한다."
   ]
  },
  {
   "cell_type": "code",
   "execution_count": 7,
   "id": "1b7da134",
   "metadata": {},
   "outputs": [],
   "source": [
    "# validation set 50000건 분리\n",
    "x_val = X_train[:30000]   \n",
    "y_val = y_train[:30000]\n",
    "\n",
    "# validation set을 제외한 나머지 96182건\n",
    "partial_x_train = X_train[30000:]  \n",
    "partial_y_train = y_train[30000:]"
   ]
  },
  {
   "cell_type": "markdown",
   "id": "26da4927",
   "metadata": {},
   "source": [
    "### 모델 형성\n",
    "세 개의 모델을 형성해야 하지만 우선 하나의 모델에 집중한 뒤 나머지 모델을 형성해 보기로 하였다."
   ]
  },
  {
   "cell_type": "code",
   "execution_count": 8,
   "id": "670f05b3",
   "metadata": {
    "scrolled": true
   },
   "outputs": [
    {
     "name": "stdout",
     "output_type": "stream",
     "text": [
      "Model: \"sequential\"\n",
      "_________________________________________________________________\n",
      "Layer (type)                 Output Shape              Param #   \n",
      "=================================================================\n",
      "embedding (Embedding)        (None, None, 4)           40000     \n",
      "_________________________________________________________________\n",
      "conv1d (Conv1D)              (None, None, 16)          464       \n",
      "_________________________________________________________________\n",
      "max_pooling1d (MaxPooling1D) (None, None, 16)          0         \n",
      "_________________________________________________________________\n",
      "conv1d_1 (Conv1D)            (None, None, 16)          1808      \n",
      "_________________________________________________________________\n",
      "global_max_pooling1d (Global (None, 16)                0         \n",
      "_________________________________________________________________\n",
      "dense (Dense)                (None, 8)                 136       \n",
      "_________________________________________________________________\n",
      "dense_1 (Dense)              (None, 1)                 9         \n",
      "=================================================================\n",
      "Total params: 42,417\n",
      "Trainable params: 42,417\n",
      "Non-trainable params: 0\n",
      "_________________________________________________________________\n"
     ]
    }
   ],
   "source": [
    "vocab_size = len(word_to_index)  # 어휘 사전의 크기\n",
    "word_vector_dim = 4   # 단어 하나를 표현하는 임베딩 벡터의 차원 수입니다. \n",
    "\n",
    "model = tf.keras.Sequential()\n",
    "model.add(tf.keras.layers.Embedding(vocab_size, word_vector_dim, input_shape=(None,)))\n",
    "model.add(tf.keras.layers.Conv1D(16, 7, activation='relu'))\n",
    "model.add(tf.keras.layers.MaxPooling1D(5))\n",
    "model.add(tf.keras.layers.Conv1D(16, 7, activation='relu'))\n",
    "model.add(tf.keras.layers.GlobalMaxPooling1D())\n",
    "model.add(tf.keras.layers.Dense(8, activation='relu'))\n",
    "model.add(tf.keras.layers.Dense(1, activation='sigmoid'))  # 최종 출력은 긍정/부정을 나타내는 1dim 입니다.\n",
    "\n",
    "model.summary()"
   ]
  },
  {
   "cell_type": "markdown",
   "id": "ba05ee67",
   "metadata": {},
   "source": [
    "### 훈련 및 평가"
   ]
  },
  {
   "cell_type": "code",
   "execution_count": 9,
   "id": "8efacd6e",
   "metadata": {},
   "outputs": [
    {
     "name": "stdout",
     "output_type": "stream",
     "text": [
      "Epoch 1/20\n",
      "227/227 [==============================] - 5s 7ms/step - loss: 0.5598 - accuracy: 0.6941 - val_loss: 0.3846 - val_accuracy: 0.8302\n",
      "Epoch 2/20\n",
      "227/227 [==============================] - 1s 6ms/step - loss: 0.3488 - accuracy: 0.8495 - val_loss: 0.3455 - val_accuracy: 0.8472\n",
      "Epoch 3/20\n",
      "227/227 [==============================] - 1s 5ms/step - loss: 0.3138 - accuracy: 0.8676 - val_loss: 0.3413 - val_accuracy: 0.8501\n",
      "Epoch 4/20\n",
      "227/227 [==============================] - 1s 5ms/step - loss: 0.2959 - accuracy: 0.8771 - val_loss: 0.3436 - val_accuracy: 0.8513\n",
      "Epoch 5/20\n",
      "227/227 [==============================] - 1s 5ms/step - loss: 0.2819 - accuracy: 0.8837 - val_loss: 0.3446 - val_accuracy: 0.8504\n",
      "Epoch 6/20\n",
      "227/227 [==============================] - 1s 5ms/step - loss: 0.2701 - accuracy: 0.8898 - val_loss: 0.3518 - val_accuracy: 0.8501\n",
      "Epoch 7/20\n",
      "227/227 [==============================] - 1s 5ms/step - loss: 0.2595 - accuracy: 0.8952 - val_loss: 0.3593 - val_accuracy: 0.8480\n",
      "Epoch 8/20\n",
      "227/227 [==============================] - 1s 5ms/step - loss: 0.2503 - accuracy: 0.8998 - val_loss: 0.3664 - val_accuracy: 0.8480\n",
      "Epoch 9/20\n",
      "227/227 [==============================] - 1s 5ms/step - loss: 0.2405 - accuracy: 0.9044 - val_loss: 0.3775 - val_accuracy: 0.8449\n",
      "Epoch 10/20\n",
      "227/227 [==============================] - 1s 5ms/step - loss: 0.2322 - accuracy: 0.9085 - val_loss: 0.3837 - val_accuracy: 0.8439\n",
      "Epoch 11/20\n",
      "227/227 [==============================] - 1s 5ms/step - loss: 0.2235 - accuracy: 0.9134 - val_loss: 0.3928 - val_accuracy: 0.8424\n",
      "Epoch 12/20\n",
      "227/227 [==============================] - 1s 5ms/step - loss: 0.2158 - accuracy: 0.9167 - val_loss: 0.4123 - val_accuracy: 0.8406\n",
      "Epoch 13/20\n",
      "227/227 [==============================] - 1s 5ms/step - loss: 0.2095 - accuracy: 0.9209 - val_loss: 0.4112 - val_accuracy: 0.8395\n",
      "Epoch 14/20\n",
      "227/227 [==============================] - 1s 5ms/step - loss: 0.2016 - accuracy: 0.9251 - val_loss: 0.4298 - val_accuracy: 0.8389\n",
      "Epoch 15/20\n",
      "227/227 [==============================] - 1s 5ms/step - loss: 0.1961 - accuracy: 0.9269 - val_loss: 0.4400 - val_accuracy: 0.8372\n",
      "Epoch 16/20\n",
      "227/227 [==============================] - 1s 5ms/step - loss: 0.1900 - accuracy: 0.9310 - val_loss: 0.4474 - val_accuracy: 0.8357\n",
      "Epoch 17/20\n",
      "227/227 [==============================] - 1s 5ms/step - loss: 0.1836 - accuracy: 0.9340 - val_loss: 0.4651 - val_accuracy: 0.8349\n",
      "Epoch 18/20\n",
      "227/227 [==============================] - 1s 5ms/step - loss: 0.1785 - accuracy: 0.9370 - val_loss: 0.4770 - val_accuracy: 0.8352\n",
      "Epoch 19/20\n",
      "227/227 [==============================] - 1s 6ms/step - loss: 0.1740 - accuracy: 0.9388 - val_loss: 0.4868 - val_accuracy: 0.8341\n",
      "Epoch 20/20\n",
      "227/227 [==============================] - 1s 5ms/step - loss: 0.1694 - accuracy: 0.9412 - val_loss: 0.4978 - val_accuracy: 0.8323\n"
     ]
    }
   ],
   "source": [
    "model.compile(optimizer='adam',\n",
    "              loss='binary_crossentropy',\n",
    "              metrics=['accuracy'])\n",
    "              \n",
    "epochs=20  # 몇 epoch를 훈련하면 좋을지 결과를 보면서 바꾸어 봅시다. \n",
    "\n",
    "history = model.fit(partial_x_train,\n",
    "                    partial_y_train,\n",
    "                    epochs=epochs,\n",
    "                    batch_size=512,\n",
    "                    validation_data=(x_val, y_val),\n",
    "                    verbose=1)"
   ]
  },
  {
   "cell_type": "code",
   "execution_count": 10,
   "id": "283a11a0",
   "metadata": {},
   "outputs": [
    {
     "name": "stdout",
     "output_type": "stream",
     "text": [
      "1537/1537 - 2s - loss: 0.5050 - accuracy: 0.8278\n",
      "[0.5050227046012878, 0.8277966380119324]\n"
     ]
    }
   ],
   "source": [
    "results = model.evaluate(X_test,  y_test, verbose=2)\n",
    "\n",
    "print(results)"
   ]
  },
  {
   "cell_type": "code",
   "execution_count": 11,
   "id": "2b96e9f9",
   "metadata": {},
   "outputs": [
    {
     "name": "stdout",
     "output_type": "stream",
     "text": [
      "dict_keys(['loss', 'accuracy', 'val_loss', 'val_accuracy'])\n"
     ]
    }
   ],
   "source": [
    "history_dict = history.history\n",
    "print(history_dict.keys()) # epoch에 따른 그래프를 그려볼 수 있는 항목들"
   ]
  },
  {
   "cell_type": "markdown",
   "id": "9a152cd5",
   "metadata": {},
   "source": [
    "### 시각화\n",
    "epoch에 따른 train set과 validation set의 Loss와 Accuracy를 측정해 보았다."
   ]
  },
  {
   "cell_type": "code",
   "execution_count": 12,
   "id": "97dd261d",
   "metadata": {},
   "outputs": [
    {
     "data": {
      "image/png": "[encoded data removed]",
      "text/plain": [
       "<Figure size 432x288 with 1 Axes>"
      ]
     },
     "metadata": {
      "needs_background": "light"
     },
     "output_type": "display_data"
    }
   ],
   "source": [
    "import matplotlib.pyplot as plt\n",
    "\n",
    "acc = history_dict['accuracy']\n",
    "val_acc = history_dict['val_accuracy']\n",
    "loss = history_dict['loss']\n",
    "val_loss = history_dict['val_loss']\n",
    "\n",
    "epochs = range(1, len(acc) + 1)\n",
    "\n",
    "# \"bo\"는 \"파란색 점\"입니다\n",
    "plt.plot(epochs, loss, 'bo', label='Training loss')\n",
    "# b는 \"파란 실선\"입니다\n",
    "plt.plot(epochs, val_loss, 'b', label='Validation loss')\n",
    "plt.title('Training and validation loss')\n",
    "plt.xlabel('Epochs')\n",
    "plt.ylabel('Loss')\n",
    "plt.legend()\n",
    "\n",
    "plt.show()"
   ]
  },
  {
   "cell_type": "code",
   "execution_count": 13,
   "id": "3cbf1cdf",
   "metadata": {},
   "outputs": [
    {
     "data": {
      "image/png": "[encoded data removed]",
      "text/plain": [
       "<Figure size 432x288 with 1 Axes>"
      ]
     },
     "metadata": {
      "needs_background": "light"
     },
     "output_type": "display_data"
    }
   ],
   "source": [
    "plt.clf()   # 그림을 초기화합니다\n",
    "\n",
    "plt.plot(epochs, acc, 'bo', label='Training acc')\n",
    "plt.plot(epochs, val_acc, 'b', label='Validation acc')\n",
    "plt.title('Training and validation accuracy')\n",
    "plt.xlabel('Epochs')\n",
    "plt.ylabel('Accuracy')\n",
    "plt.legend()\n",
    "\n",
    "plt.show()"
   ]
  },
  {
   "cell_type": "markdown",
   "id": "b6e9b558",
   "metadata": {},
   "source": [
    "### 나머지 두 개의 모델을 마저 형성하고 실행시켜 보았다."
   ]
  },
  {
   "cell_type": "code",
   "execution_count": 14,
   "id": "01a2e9b1",
   "metadata": {},
   "outputs": [
    {
     "name": "stdout",
     "output_type": "stream",
     "text": [
      "Model: \"sequential_1\"\n",
      "_________________________________________________________________\n",
      "Layer (type)                 Output Shape              Param #   \n",
      "=================================================================\n",
      "embedding_1 (Embedding)      (None, None, 64)          640000    \n",
      "_________________________________________________________________\n",
      "lstm (LSTM)                  (None, 16)                5184      \n",
      "_________________________________________________________________\n",
      "dense_2 (Dense)              (None, 8)                 136       \n",
      "_________________________________________________________________\n",
      "dense_3 (Dense)              (None, 1)                 9         \n",
      "=================================================================\n",
      "Total params: 645,329\n",
      "Trainable params: 645,329\n",
      "Non-trainable params: 0\n",
      "_________________________________________________________________\n"
     ]
    }
   ],
   "source": [
    "vocab_size = 10000  # 어휘 사전의 크기입니다(10개의 단어)\n",
    "word_vector_dim = 64  # 단어 하나를 표현하는 임베딩 벡터의 차원수입니다. \n",
    "\n",
    "model2 = tf.keras.Sequential()\n",
    "model2.add(tf.keras.layers.Embedding(vocab_size, word_vector_dim, input_shape=(None,)))\n",
    "model2.add(tf.keras.layers.LSTM(16))   # 가장 널리 쓰이는 RNN인 LSTM 레이어를 사용하였습니다. 이때 LSTM state 벡터의 차원수는 8로 하였습니다. (변경 가능)\n",
    "model2.add(tf.keras.layers.Dense(8, activation='relu'))\n",
    "model2.add(tf.keras.layers.Dense(1, activation='sigmoid'))  # 최종 출력은 긍정/부정을 나타내는 1dim 입니다.\n",
    "\n",
    "model2.summary()"
   ]
  },
  {
   "cell_type": "code",
   "execution_count": 15,
   "id": "759ff498",
   "metadata": {},
   "outputs": [
    {
     "name": "stdout",
     "output_type": "stream",
     "text": [
      "Epoch 1/20\n",
      "227/227 [==============================] - 4s 11ms/step - loss: 0.6932 - accuracy: 0.5002 - val_loss: 0.6931 - val_accuracy: 0.5024\n",
      "Epoch 2/20\n",
      "227/227 [==============================] - 2s 9ms/step - loss: 0.6931 - accuracy: 0.5015 - val_loss: 0.6931 - val_accuracy: 0.5024\n",
      "Epoch 3/20\n",
      "227/227 [==============================] - 2s 9ms/step - loss: 0.6932 - accuracy: 0.5000 - val_loss: 0.6931 - val_accuracy: 0.5024\n",
      "Epoch 4/20\n",
      "227/227 [==============================] - 2s 9ms/step - loss: 0.6931 - accuracy: 0.5002 - val_loss: 0.6931 - val_accuracy: 0.5024\n",
      "Epoch 5/20\n",
      "227/227 [==============================] - 2s 9ms/step - loss: 0.6931 - accuracy: 0.5015 - val_loss: 0.6931 - val_accuracy: 0.5024\n",
      "Epoch 6/20\n",
      "227/227 [==============================] - 2s 9ms/step - loss: 0.6931 - accuracy: 0.5015 - val_loss: 0.6931 - val_accuracy: 0.5024\n",
      "Epoch 7/20\n",
      "227/227 [==============================] - 2s 9ms/step - loss: 0.6931 - accuracy: 0.5015 - val_loss: 0.6931 - val_accuracy: 0.5024\n",
      "Epoch 8/20\n",
      "227/227 [==============================] - 2s 9ms/step - loss: 0.6931 - accuracy: 0.5015 - val_loss: 0.6931 - val_accuracy: 0.5024\n",
      "Epoch 9/20\n",
      "227/227 [==============================] - 2s 9ms/step - loss: 0.6934 - accuracy: 0.5010 - val_loss: 0.6931 - val_accuracy: 0.4976\n",
      "Epoch 10/20\n",
      "227/227 [==============================] - 2s 9ms/step - loss: 0.6931 - accuracy: 0.5015 - val_loss: 0.6931 - val_accuracy: 0.5024\n",
      "Epoch 11/20\n",
      "227/227 [==============================] - 2s 9ms/step - loss: 0.6931 - accuracy: 0.4999 - val_loss: 0.6931 - val_accuracy: 0.5024\n",
      "Epoch 12/20\n",
      "227/227 [==============================] - 2s 9ms/step - loss: 0.6931 - accuracy: 0.5015 - val_loss: 0.6931 - val_accuracy: 0.5024\n",
      "Epoch 13/20\n",
      "227/227 [==============================] - 2s 9ms/step - loss: 0.6932 - accuracy: 0.5002 - val_loss: 0.6931 - val_accuracy: 0.5024\n",
      "Epoch 14/20\n",
      "227/227 [==============================] - 2s 9ms/step - loss: 0.6931 - accuracy: 0.5015 - val_loss: 0.6931 - val_accuracy: 0.5024\n",
      "Epoch 15/20\n",
      "227/227 [==============================] - 2s 9ms/step - loss: 0.6931 - accuracy: 0.5006 - val_loss: 0.6931 - val_accuracy: 0.5024\n",
      "Epoch 16/20\n",
      "227/227 [==============================] - 2s 9ms/step - loss: 0.6932 - accuracy: 0.5005 - val_loss: 0.6931 - val_accuracy: 0.5024\n",
      "Epoch 17/20\n",
      "227/227 [==============================] - 2s 9ms/step - loss: 0.6931 - accuracy: 0.5007 - val_loss: 0.6931 - val_accuracy: 0.5024\n",
      "Epoch 18/20\n",
      "227/227 [==============================] - 2s 9ms/step - loss: 0.6931 - accuracy: 0.5015 - val_loss: 0.6931 - val_accuracy: 0.5024\n",
      "Epoch 19/20\n",
      "227/227 [==============================] - 2s 9ms/step - loss: 0.6931 - accuracy: 0.5015 - val_loss: 0.6932 - val_accuracy: 0.4976\n",
      "Epoch 20/20\n",
      "227/227 [==============================] - 2s 9ms/step - loss: 0.6931 - accuracy: 0.5010 - val_loss: 0.6931 - val_accuracy: 0.5024\n"
     ]
    }
   ],
   "source": [
    "model2.compile(optimizer='adam',\n",
    "              loss='binary_crossentropy',\n",
    "              metrics=['accuracy'])\n",
    "              \n",
    "epochs=20  # 몇 epoch를 훈련하면 좋을지 결과를 보면서 바꾸어 봅시다. \n",
    "\n",
    "history2 = model2.fit(partial_x_train,\n",
    "                    partial_y_train,\n",
    "                    epochs=epochs,\n",
    "                    batch_size=512,\n",
    "                    validation_data=(x_val, y_val),\n",
    "                    verbose=1)"
   ]
  },
  {
   "cell_type": "code",
   "execution_count": 16,
   "id": "8c3216bd",
   "metadata": {},
   "outputs": [
    {
     "name": "stdout",
     "output_type": "stream",
     "text": [
      "1537/1537 - 4s - loss: 0.6932 - accuracy: 0.4973\n",
      "[0.6931712627410889, 0.4973045587539673]\n"
     ]
    }
   ],
   "source": [
    "results2 = model2.evaluate(X_test,  y_test, verbose=2)\n",
    "\n",
    "print(results2)"
   ]
  },
  {
   "cell_type": "code",
   "execution_count": 17,
   "id": "05fbafa6",
   "metadata": {},
   "outputs": [
    {
     "name": "stdout",
     "output_type": "stream",
     "text": [
      "dict_keys(['loss', 'accuracy', 'val_loss', 'val_accuracy'])\n"
     ]
    }
   ],
   "source": [
    "history_dict2 = history2.history\n",
    "print(history_dict2.keys()) # epoch에 따른 그래프를 그려볼 수 있는 항목들"
   ]
  },
  {
   "cell_type": "code",
   "execution_count": 18,
   "id": "8997ab4d",
   "metadata": {},
   "outputs": [
    {
     "data": {
      "image/png": "[encoded data removed]",
      "text/plain": [
       "<Figure size 432x288 with 1 Axes>"
      ]
     },
     "metadata": {
      "needs_background": "light"
     },
     "output_type": "display_data"
    }
   ],
   "source": [
    "acc = history_dict2['accuracy']\n",
    "val_acc = history_dict2['val_accuracy']\n",
    "loss = history_dict2['loss']\n",
    "val_loss = history_dict2['val_loss']\n",
    "\n",
    "epochs = range(1, len(acc) + 1)\n",
    "\n",
    "# \"bo\"는 \"파란색 점\"입니다\n",
    "plt.plot(epochs, loss, 'bo', label='Training loss')\n",
    "# b는 \"파란 실선\"입니다\n",
    "plt.plot(epochs, val_loss, 'b', label='Validation loss')\n",
    "plt.title('Training and validation loss')\n",
    "plt.xlabel('Epochs')\n",
    "plt.ylabel('Loss')\n",
    "plt.legend()\n",
    "\n",
    "plt.show()"
   ]
  },
  {
   "cell_type": "code",
   "execution_count": 19,
   "id": "5e8e611e",
   "metadata": {},
   "outputs": [
    {
     "data": {
      "image/png": "[encoded data removed]",
      "text/plain": [
       "<Figure size 432x288 with 1 Axes>"
      ]
     },
     "metadata": {
      "needs_background": "light"
     },
     "output_type": "display_data"
    }
   ],
   "source": [
    "plt.clf()   # 그림을 초기화합니다\n",
    "\n",
    "plt.plot(epochs, acc, 'bo', label='Training acc')\n",
    "plt.plot(epochs, val_acc, 'b', label='Validation acc')\n",
    "plt.title('Training and validation accuracy')\n",
    "plt.xlabel('Epochs')\n",
    "plt.ylabel('Accuracy')\n",
    "plt.legend()\n",
    "\n",
    "plt.show()"
   ]
  },
  {
   "cell_type": "code",
   "execution_count": 20,
   "id": "73b47bbb",
   "metadata": {},
   "outputs": [
    {
     "name": "stdout",
     "output_type": "stream",
     "text": [
      "Model: \"sequential_2\"\n",
      "_________________________________________________________________\n",
      "Layer (type)                 Output Shape              Param #   \n",
      "=================================================================\n",
      "embedding_2 (Embedding)      (None, None, 4)           40000     \n",
      "_________________________________________________________________\n",
      "global_max_pooling1d_1 (Glob (None, 4)                 0         \n",
      "_________________________________________________________________\n",
      "dense_4 (Dense)              (None, 8)                 40        \n",
      "_________________________________________________________________\n",
      "dense_5 (Dense)              (None, 1)                 9         \n",
      "=================================================================\n",
      "Total params: 40,049\n",
      "Trainable params: 40,049\n",
      "Non-trainable params: 0\n",
      "_________________________________________________________________\n"
     ]
    }
   ],
   "source": [
    "vocab_size = len(word_to_index)  # 어휘 사전의 크기\n",
    "word_vector_dim = 4   # 단어 하나를 표현하는 임베딩 벡터의 차원 수입니다. \n",
    "\n",
    "model3 = tf.keras.Sequential()\n",
    "model3.add(tf.keras.layers.Embedding(vocab_size, word_vector_dim, input_shape=(None,)))\n",
    "model3.add(tf.keras.layers.GlobalMaxPooling1D())\n",
    "model3.add(tf.keras.layers.Dense(8, activation='relu'))\n",
    "model3.add(tf.keras.layers.Dense(1, activation='sigmoid'))  # 최종 출력은 긍정/부정을 나타내는 1dim 입니다.\n",
    "\n",
    "model3.summary()"
   ]
  },
  {
   "cell_type": "code",
   "execution_count": 21,
   "id": "a80a20bb",
   "metadata": {},
   "outputs": [
    {
     "name": "stdout",
     "output_type": "stream",
     "text": [
      "Epoch 1/20\n",
      "227/227 [==============================] - 1s 4ms/step - loss: 0.6615 - accuracy: 0.6553 - val_loss: 0.5998 - val_accuracy: 0.7147\n",
      "Epoch 2/20\n",
      "227/227 [==============================] - 1s 4ms/step - loss: 0.5507 - accuracy: 0.7292 - val_loss: 0.5217 - val_accuracy: 0.7441\n",
      "Epoch 3/20\n",
      "227/227 [==============================] - 1s 4ms/step - loss: 0.5043 - accuracy: 0.7543 - val_loss: 0.5070 - val_accuracy: 0.7565\n",
      "Epoch 4/20\n",
      "227/227 [==============================] - 1s 4ms/step - loss: 0.4877 - accuracy: 0.7651 - val_loss: 0.5032 - val_accuracy: 0.7587\n",
      "Epoch 5/20\n",
      "227/227 [==============================] - 1s 3ms/step - loss: 0.4786 - accuracy: 0.7708 - val_loss: 0.5027 - val_accuracy: 0.7587\n",
      "Epoch 6/20\n",
      "227/227 [==============================] - 1s 3ms/step - loss: 0.4727 - accuracy: 0.7743 - val_loss: 0.5028 - val_accuracy: 0.7584\n",
      "Epoch 7/20\n",
      "227/227 [==============================] - 1s 3ms/step - loss: 0.4684 - accuracy: 0.7763 - val_loss: 0.5035 - val_accuracy: 0.7583\n",
      "Epoch 8/20\n",
      "227/227 [==============================] - 1s 3ms/step - loss: 0.4649 - accuracy: 0.7781 - val_loss: 0.5042 - val_accuracy: 0.7570\n",
      "Epoch 9/20\n",
      "227/227 [==============================] - 1s 3ms/step - loss: 0.4621 - accuracy: 0.7784 - val_loss: 0.5049 - val_accuracy: 0.7566\n",
      "Epoch 10/20\n",
      "227/227 [==============================] - 1s 3ms/step - loss: 0.4602 - accuracy: 0.7797 - val_loss: 0.5057 - val_accuracy: 0.7579\n",
      "Epoch 11/20\n",
      "227/227 [==============================] - 1s 4ms/step - loss: 0.4586 - accuracy: 0.7801 - val_loss: 0.5071 - val_accuracy: 0.7581\n",
      "Epoch 12/20\n",
      "227/227 [==============================] - 1s 4ms/step - loss: 0.4574 - accuracy: 0.7806 - val_loss: 0.5079 - val_accuracy: 0.7577\n",
      "Epoch 13/20\n",
      "227/227 [==============================] - 1s 4ms/step - loss: 0.4563 - accuracy: 0.7809 - val_loss: 0.5090 - val_accuracy: 0.7574\n",
      "Epoch 14/20\n",
      "227/227 [==============================] - 1s 4ms/step - loss: 0.4554 - accuracy: 0.7817 - val_loss: 0.5101 - val_accuracy: 0.7575\n",
      "Epoch 15/20\n",
      "227/227 [==============================] - 1s 4ms/step - loss: 0.4546 - accuracy: 0.7821 - val_loss: 0.5110 - val_accuracy: 0.7580\n",
      "Epoch 16/20\n",
      "227/227 [==============================] - 1s 4ms/step - loss: 0.4539 - accuracy: 0.7825 - val_loss: 0.5115 - val_accuracy: 0.7570\n",
      "Epoch 17/20\n",
      "227/227 [==============================] - 1s 4ms/step - loss: 0.4533 - accuracy: 0.7824 - val_loss: 0.5127 - val_accuracy: 0.7567\n",
      "Epoch 18/20\n",
      "227/227 [==============================] - 1s 3ms/step - loss: 0.4528 - accuracy: 0.7827 - val_loss: 0.5131 - val_accuracy: 0.7563\n",
      "Epoch 19/20\n",
      "227/227 [==============================] - 1s 4ms/step - loss: 0.4523 - accuracy: 0.7830 - val_loss: 0.5139 - val_accuracy: 0.7560\n",
      "Epoch 20/20\n",
      "227/227 [==============================] - 1s 3ms/step - loss: 0.4519 - accuracy: 0.7829 - val_loss: 0.5141 - val_accuracy: 0.7558\n"
     ]
    }
   ],
   "source": [
    "model3.compile(optimizer='adam',\n",
    "              loss='binary_crossentropy',\n",
    "              metrics=['accuracy'])\n",
    "              \n",
    "epochs=20  # 몇 epoch를 훈련하면 좋을지 결과를 보면서 바꾸어 봅시다. \n",
    "\n",
    "history3 = model3.fit(partial_x_train,\n",
    "                    partial_y_train,\n",
    "                    epochs=epochs,\n",
    "                    batch_size=512,\n",
    "                    validation_data=(x_val, y_val),\n",
    "                    verbose=1)"
   ]
  },
  {
   "cell_type": "code",
   "execution_count": 22,
   "id": "fbc4bd2e",
   "metadata": {},
   "outputs": [
    {
     "name": "stdout",
     "output_type": "stream",
     "text": [
      "1537/1537 - 2s - loss: 0.5174 - accuracy: 0.7545\n",
      "[0.5173766613006592, 0.7545212507247925]\n"
     ]
    }
   ],
   "source": [
    "results3 = model3.evaluate(X_test,  y_test, verbose=2)\n",
    "\n",
    "print(results3)"
   ]
  },
  {
   "cell_type": "code",
   "execution_count": 23,
   "id": "92d33c17",
   "metadata": {},
   "outputs": [
    {
     "name": "stdout",
     "output_type": "stream",
     "text": [
      "dict_keys(['loss', 'accuracy', 'val_loss', 'val_accuracy'])\n"
     ]
    }
   ],
   "source": [
    "history_dict3 = history3.history\n",
    "print(history_dict2.keys()) # epoch에 따른 그래프를 그려볼 수 있는 항목들"
   ]
  },
  {
   "cell_type": "code",
   "execution_count": 24,
   "id": "60f8bcc5",
   "metadata": {},
   "outputs": [
    {
     "data": {
      "image/png": "[encoded data removed]",
      "text/plain": [
       "<Figure size 432x288 with 1 Axes>"
      ]
     },
     "metadata": {
      "needs_background": "light"
     },
     "output_type": "display_data"
    }
   ],
   "source": [
    "acc = history_dict3['accuracy']\n",
    "val_acc = history_dict3['val_accuracy']\n",
    "loss = history_dict3['loss']\n",
    "val_loss = history_dict3['val_loss']\n",
    "\n",
    "epochs = range(1, len(acc) + 1)\n",
    "\n",
    "# \"bo\"는 \"파란색 점\"입니다\n",
    "plt.plot(epochs, loss, 'bo', label='Training loss')\n",
    "# b는 \"파란 실선\"입니다\n",
    "plt.plot(epochs, val_loss, 'b', label='Validation loss')\n",
    "plt.title('Training and validation loss')\n",
    "plt.xlabel('Epochs')\n",
    "plt.ylabel('Loss')\n",
    "plt.legend()\n",
    "\n",
    "plt.show()"
   ]
  },
  {
   "cell_type": "code",
   "execution_count": 25,
   "id": "64cda5f2",
   "metadata": {},
   "outputs": [
    {
     "data": {
      "image/png": "[encoded data removed]",
      "text/plain": [
       "<Figure size 432x288 with 1 Axes>"
      ]
     },
     "metadata": {
      "needs_background": "light"
     },
     "output_type": "display_data"
    }
   ],
   "source": [
    "plt.clf()   # 그림을 초기화합니다\n",
    "\n",
    "plt.plot(epochs, acc, 'bo', label='Training acc')\n",
    "plt.plot(epochs, val_acc, 'b', label='Validation acc')\n",
    "plt.title('Training and validation accuracy')\n",
    "plt.xlabel('Epochs')\n",
    "plt.ylabel('Accuracy')\n",
    "plt.legend()\n",
    "\n",
    "plt.show()"
   ]
  },
  {
   "cell_type": "markdown",
   "id": "3c47fe20",
   "metadata": {},
   "source": [
    "다른 방식으로 모델을 적용해본 결과 첫번째와 세번째 모델은 그럭저럭 결과가 나왔지만, 두번째 모델은 학습 그래프도 이상하고 accuracy도 낮았다. 왜 그런지 이유를 계속 찾아봤지만 코드상으로 이상한 부분이 없어서 모델에 문제가 있는 것으로 결론지었다."
   ]
  },
  {
   "cell_type": "markdown",
   "id": "186cf755",
   "metadata": {},
   "source": [
    "### Word2vec 적용\n",
    "두번째 모델의 이상 원인을 찾다 보니 시간이 많이 지났지만, 되는 데까지 Word2vec을 적용해 보도록 한다. 적용하기에 앞서, gensim에서 제공하는 패키지를 이용해 word vector를 읽은 뒤 입력한 단어와 유사한 단어를 검출해 보았다."
   ]
  },
  {
   "cell_type": "code",
   "execution_count": 26,
   "id": "6e431e8c",
   "metadata": {},
   "outputs": [
    {
     "name": "stdout",
     "output_type": "stream",
     "text": [
      "(10000, 4)\n"
     ]
    }
   ],
   "source": [
    "embedding_layer = model.layers[0]\n",
    "weights = embedding_layer.get_weights()[0]\n",
    "print(weights.shape)    # shape: (vocab_size, embedding_dim)"
   ]
  },
  {
   "cell_type": "code",
   "execution_count": 27,
   "id": "ef842b8c",
   "metadata": {},
   "outputs": [],
   "source": [
    "index_to_word={index:word for word, index in word_to_index.items()}"
   ]
  },
  {
   "cell_type": "code",
   "execution_count": 28,
   "id": "45f6e382",
   "metadata": {},
   "outputs": [],
   "source": [
    "import os\n",
    "# 학습한 Embedding 파라미터를 파일에 써서 저장합니다. \n",
    "word2vec_file_path = os.getenv('HOME')+'/aiffel/sentiment_classification/data/word2vec.txt'\n",
    "f = open(word2vec_file_path, 'w')\n",
    "f.write('{} {}\\n'.format(vocab_size-4, word_vector_dim))  # 몇개의 벡터를 얼마 사이즈로 기재할지 타이틀을 씁니다.\n",
    "\n",
    "# 단어 개수(에서 특수문자 4개는 제외하고)만큼의 워드 벡터를 파일에 기록합니다. \n",
    "vectors = model.get_weights()[0]\n",
    "for i in range(4,vocab_size):\n",
    "    f.write('{} {}\\n'.format(index_to_word[i], ' '.join(map(str, list(vectors[i, :])))))\n",
    "f.close()"
   ]
  },
  {
   "cell_type": "code",
   "execution_count": 29,
   "id": "28ec2c38",
   "metadata": {},
   "outputs": [
    {
     "data": {
      "text/plain": [
       "array([-0.01459834,  0.013228  , -0.04419923,  0.01967694], dtype=float32)"
      ]
     },
     "execution_count": 29,
     "metadata": {},
     "output_type": "execute_result"
    }
   ],
   "source": [
    "from gensim.models.keyedvectors import Word2VecKeyedVectors\n",
    "# 저장한 파일에 대해 gensim을 사용하여 다시 벡터를 읽어들인다.\n",
    "word_vectors = Word2VecKeyedVectors.load_word2vec_format(word2vec_file_path, binary=False)\n",
    "vector = word_vectors['영화']\n",
    "vector"
   ]
  },
  {
   "cell_type": "code",
   "execution_count": 30,
   "id": "26244467",
   "metadata": {},
   "outputs": [
    {
     "data": {
      "text/plain": [
       "[('알아들', 0.999006986618042),\n",
       " ('르', 0.997790515422821),\n",
       " ('셔야', 0.9968621134757996),\n",
       " ('아픕니다', 0.9916253685951233),\n",
       " ('띄', 0.9873903393745422),\n",
       " ('어제', 0.9872888922691345),\n",
       " ('브로디', 0.9869462847709656),\n",
       " ('다', 0.9856691956520081),\n",
       " ('사이프리드', 0.9805638194084167),\n",
       " ('나타나', 0.9778562188148499)]"
      ]
     },
     "execution_count": 30,
     "metadata": {},
     "output_type": "execute_result"
    }
   ],
   "source": [
    "# 영화와 비슷한 단어를 찾아보았다.\n",
    "word_vectors.similar_by_word(\"영화\")"
   ]
  },
  {
   "cell_type": "markdown",
   "id": "d3b46c2f",
   "metadata": {},
   "source": [
    "과연 이 단어들이 영화와 어떤 관계가 있을까 싶기도 하지만 영화 제목이나 영화 혹은 영화배우에 대한 설명이 들어가는 것처럼 보이는 부분도 분명히 있다.  "
   ]
  },
  {
   "cell_type": "code",
   "execution_count": 42,
   "id": "46aa8fec",
   "metadata": {},
   "outputs": [],
   "source": [
    "from gensim.models import KeyedVectors\n",
    "\n",
    "word2vec_path = os.getcwd()+'/sentiment_classification/data/word2vec_ko.model'\n",
    "\n",
    "word2vec = KeyedVectors.load(word2vec_path)"
   ]
  },
  {
   "cell_type": "code",
   "execution_count": 43,
   "id": "f25647b0",
   "metadata": {},
   "outputs": [
    {
     "data": {
      "text/plain": [
       "array([-1.8007389 , -1.1790098 , -2.4066596 ,  2.1384156 , -0.3537603 ,\n",
       "        1.3749527 , -4.894612  , -3.6517198 ,  0.4411444 ,  0.78153926,\n",
       "       -2.696888  , -1.7812852 , -2.1514654 , -4.813236  ,  2.7465918 ,\n",
       "       -2.1620324 , -0.11467794, -1.2431171 ,  2.3979309 , -1.1060628 ,\n",
       "       -0.41043055,  1.9500391 ,  0.7821002 ,  1.5899978 ,  1.6447444 ,\n",
       "       -2.1265035 , -1.7981595 ,  1.7535795 ,  0.53717697, -1.212121  ,\n",
       "       -4.466316  ,  4.5488324 ,  1.334441  , -0.9070271 ,  1.1931889 ,\n",
       "        4.1563215 ,  1.9758307 , -0.9437562 , -0.2592725 ,  0.34935686,\n",
       "        1.8562875 , -3.3249645 ,  1.1221625 ,  1.2836524 ,  3.9211376 ,\n",
       "        3.8023994 ,  2.766269  ,  0.67293745,  2.2853644 , -5.1131716 ,\n",
       "        0.32525915, -3.3079958 ,  5.3043513 , -3.8813758 , -0.32960036,\n",
       "       -1.9527504 ,  3.8865075 , -3.5470378 , -0.21991685,  0.82119733,\n",
       "       -0.9492492 ,  3.5472107 ,  1.322048  , -0.70640826,  0.52253807,\n",
       "        1.4683235 , -1.1018689 ,  2.262941  , -0.7204685 , -1.766201  ,\n",
       "        5.2237577 ,  3.0748682 ,  1.0977576 ,  3.3191733 , -0.4100423 ,\n",
       "       -1.7022891 , -0.78379875,  0.82586575, -0.54520637,  1.2355382 ,\n",
       "        2.02674   , -0.652447  ,  1.0866054 ,  0.8977641 ,  0.7928342 ,\n",
       "        3.7770627 ,  3.0274863 ,  5.1660023 ,  2.6461644 ,  2.8926868 ,\n",
       "        1.970944  , -3.3746543 , -5.2656593 , -1.1041485 ,  2.357547  ,\n",
       "       -2.3570824 , -4.8172383 ,  3.7290223 ,  4.62329   ,  1.5004613 ],\n",
       "      dtype=float32)"
      ]
     },
     "execution_count": 43,
     "metadata": {},
     "output_type": "execute_result"
    }
   ],
   "source": [
    "vector = word2vec.wv['영화']\n",
    "vector"
   ]
  },
  {
   "cell_type": "code",
   "execution_count": 46,
   "id": "83a99d08",
   "metadata": {},
   "outputs": [
    {
     "data": {
      "text/plain": [
       "[('드라마', 0.8418774008750916),\n",
       " ('뮤지컬', 0.7775140404701233),\n",
       " ('코미디', 0.7489107251167297),\n",
       " ('다큐멘터리', 0.7401294708251953),\n",
       " ('헐리우드', 0.7397844195365906),\n",
       " ('애니메이션', 0.7170552015304565),\n",
       " ('독립영화', 0.7113528251647949),\n",
       " ('로맨틱', 0.7107657194137573),\n",
       " ('장편', 0.7101576924324036),\n",
       " ('극영화', 0.7045413255691528)]"
      ]
     },
     "execution_count": 46,
     "metadata": {},
     "output_type": "execute_result"
    }
   ],
   "source": [
    "word2vec.wv.similar_by_word(\"영화\")"
   ]
  },
  {
   "cell_type": "markdown",
   "id": "60960d6e",
   "metadata": {},
   "source": [
    "단어장의 사이즈가 더 커서 그런지 훨씬 밀접해 보이는 단어들이 좀 더 설명력 있는 확률로 나와 있음을 확인할 수 있었다.  \n",
    "마지막으로, 예제에 나온 모델을 활용하여 학습을 진행해 보았다."
   ]
  },
  {
   "cell_type": "code",
   "execution_count": 50,
   "id": "5a0798f6",
   "metadata": {},
   "outputs": [],
   "source": [
    "vocab_size = 10000    # 어휘 사전의 크기입니다(10,000개의 단어)\n",
    "word_vector_dim = 100  # 워드 벡터의 차원수\n",
    "embedding_matrix = np.random.rand(vocab_size, word_vector_dim)\n",
    "\n",
    "# embedding_matrix에 Word2Vec 워드 벡터를 단어 하나씩마다 차례차례 카피한다.\n",
    "for i in range(4,vocab_size):\n",
    "    if index_to_word[i] in word2vec.wv:\n",
    "        embedding_matrix[i] = word2vec.wv[index_to_word[i]]"
   ]
  },
  {
   "cell_type": "code",
   "execution_count": 54,
   "id": "ea2d7013",
   "metadata": {},
   "outputs": [
    {
     "name": "stdout",
     "output_type": "stream",
     "text": [
      "Model: \"sequential_5\"\n",
      "_________________________________________________________________\n",
      "Layer (type)                 Output Shape              Param #   \n",
      "=================================================================\n",
      "embedding_4 (Embedding)      (None, 120, 100)          1000000   \n",
      "_________________________________________________________________\n",
      "conv1d_4 (Conv1D)            (None, 114, 16)           11216     \n",
      "_________________________________________________________________\n",
      "max_pooling1d_2 (MaxPooling1 (None, 22, 16)            0         \n",
      "_________________________________________________________________\n",
      "conv1d_5 (Conv1D)            (None, 16, 16)            1808      \n",
      "_________________________________________________________________\n",
      "global_max_pooling1d_3 (Glob (None, 16)                0         \n",
      "_________________________________________________________________\n",
      "dense_8 (Dense)              (None, 8)                 136       \n",
      "_________________________________________________________________\n",
      "dense_9 (Dense)              (None, 1)                 9         \n",
      "=================================================================\n",
      "Total params: 1,013,169\n",
      "Trainable params: 1,013,169\n",
      "Non-trainable params: 0\n",
      "_________________________________________________________________\n"
     ]
    }
   ],
   "source": [
    "from tensorflow.keras.initializers import Constant\n",
    "\n",
    "vocab_size = 10000    # 어휘 사전의 크기입니다(10,000개의 단어)\n",
    "word_vector_dim = 100  # 워드 벡터의 차원 수 \n",
    "\n",
    "# 모델 구성\n",
    "model = tf.keras.Sequential()\n",
    "model.add(tf.keras.layers.Embedding(vocab_size, \n",
    "                                 word_vector_dim, \n",
    "                                 embeddings_initializer=Constant(embedding_matrix),  # 카피한 임베딩을 여기서 활용\n",
    "                                 input_length=120, \n",
    "                                 trainable=True))   # trainable을 True로 주면 Fine-tuning\n",
    "model.add(tf.keras.layers.Conv1D(16, 7, activation='relu'))\n",
    "model.add(tf.keras.layers.MaxPooling1D(5))\n",
    "model.add(tf.keras.layers.Conv1D(16, 7, activation='relu'))\n",
    "model.add(tf.keras.layers.GlobalMaxPooling1D())\n",
    "model.add(tf.keras.layers.Dense(8, activation='relu'))\n",
    "model.add(tf.keras.layers.Dense(1, activation='sigmoid')) \n",
    "\n",
    "model.summary()"
   ]
  },
  {
   "cell_type": "code",
   "execution_count": 55,
   "id": "64a6ff0b",
   "metadata": {},
   "outputs": [
    {
     "name": "stdout",
     "output_type": "stream",
     "text": [
      "Epoch 1/20\n",
      "227/227 [==============================] - 2s 8ms/step - loss: 0.5723 - accuracy: 0.6953 - val_loss: 0.5013 - val_accuracy: 0.7606\n",
      "Epoch 2/20\n",
      "227/227 [==============================] - 2s 7ms/step - loss: 0.4530 - accuracy: 0.7923 - val_loss: 0.4299 - val_accuracy: 0.8039\n",
      "Epoch 3/20\n",
      "227/227 [==============================] - 2s 7ms/step - loss: 0.3917 - accuracy: 0.8254 - val_loss: 0.3926 - val_accuracy: 0.8239\n",
      "Epoch 4/20\n",
      "227/227 [==============================] - 2s 7ms/step - loss: 0.3538 - accuracy: 0.8469 - val_loss: 0.3734 - val_accuracy: 0.8353\n",
      "Epoch 5/20\n",
      "227/227 [==============================] - 2s 7ms/step - loss: 0.3251 - accuracy: 0.8621 - val_loss: 0.3603 - val_accuracy: 0.8418\n",
      "Epoch 6/20\n",
      "227/227 [==============================] - 2s 7ms/step - loss: 0.3053 - accuracy: 0.8733 - val_loss: 0.3583 - val_accuracy: 0.8443\n",
      "Epoch 7/20\n",
      "227/227 [==============================] - 2s 7ms/step - loss: 0.2877 - accuracy: 0.8820 - val_loss: 0.3582 - val_accuracy: 0.8464\n",
      "Epoch 8/20\n",
      "227/227 [==============================] - 2s 7ms/step - loss: 0.2729 - accuracy: 0.8896 - val_loss: 0.3570 - val_accuracy: 0.8471\n",
      "Epoch 9/20\n",
      "227/227 [==============================] - 2s 7ms/step - loss: 0.2604 - accuracy: 0.8954 - val_loss: 0.3673 - val_accuracy: 0.8461\n",
      "Epoch 10/20\n",
      "227/227 [==============================] - 2s 7ms/step - loss: 0.2482 - accuracy: 0.9013 - val_loss: 0.3682 - val_accuracy: 0.8440\n",
      "Epoch 11/20\n",
      "227/227 [==============================] - 2s 7ms/step - loss: 0.2383 - accuracy: 0.9061 - val_loss: 0.3669 - val_accuracy: 0.8490\n",
      "Epoch 12/20\n",
      "227/227 [==============================] - 2s 7ms/step - loss: 0.2264 - accuracy: 0.9124 - val_loss: 0.3848 - val_accuracy: 0.8447\n",
      "Epoch 13/20\n",
      "227/227 [==============================] - 2s 7ms/step - loss: 0.2168 - accuracy: 0.9164 - val_loss: 0.3879 - val_accuracy: 0.8445\n",
      "Epoch 14/20\n",
      "227/227 [==============================] - 2s 7ms/step - loss: 0.2069 - accuracy: 0.9215 - val_loss: 0.4005 - val_accuracy: 0.8471\n",
      "Epoch 15/20\n",
      "227/227 [==============================] - 2s 7ms/step - loss: 0.1981 - accuracy: 0.9252 - val_loss: 0.4124 - val_accuracy: 0.8409\n",
      "Epoch 16/20\n",
      "227/227 [==============================] - 2s 7ms/step - loss: 0.1873 - accuracy: 0.9301 - val_loss: 0.4236 - val_accuracy: 0.8436\n",
      "Epoch 17/20\n",
      "227/227 [==============================] - 2s 7ms/step - loss: 0.1771 - accuracy: 0.9353 - val_loss: 0.4457 - val_accuracy: 0.8439\n",
      "Epoch 18/20\n",
      "227/227 [==============================] - 2s 7ms/step - loss: 0.1694 - accuracy: 0.9386 - val_loss: 0.4558 - val_accuracy: 0.8394\n",
      "Epoch 19/20\n",
      "227/227 [==============================] - 2s 7ms/step - loss: 0.1608 - accuracy: 0.9422 - val_loss: 0.4788 - val_accuracy: 0.8396\n",
      "Epoch 20/20\n",
      "227/227 [==============================] - 2s 7ms/step - loss: 0.1532 - accuracy: 0.9454 - val_loss: 0.4882 - val_accuracy: 0.8395\n"
     ]
    }
   ],
   "source": [
    "# 학습의 진행\n",
    "model.compile(optimizer='adam',\n",
    "              loss='binary_crossentropy',\n",
    "              metrics=['accuracy'])\n",
    "              \n",
    "epochs=20  # 몇 epoch를 훈련하면 좋을지 결과를 보면서 바꾸어 봅시다. \n",
    "\n",
    "history = model.fit(partial_x_train,\n",
    "                    partial_y_train,\n",
    "                    epochs=epochs,\n",
    "                    batch_size=512,\n",
    "                    validation_data=(x_val, y_val),\n",
    "                    verbose=1)"
   ]
  },
  {
   "cell_type": "code",
   "execution_count": 57,
   "id": "4af5f576",
   "metadata": {},
   "outputs": [
    {
     "name": "stdout",
     "output_type": "stream",
     "text": [
      "1537/1537 - 3s - loss: 0.5000 - accuracy: 0.8352\n",
      "[0.4999726712703705, 0.8352422118186951]\n"
     ]
    }
   ],
   "source": [
    "# 테스트셋을 통한 모델 평가\n",
    "results = model.evaluate(X_test,  y_test, verbose=2)\n",
    "\n",
    "print(results)"
   ]
  },
  {
   "cell_type": "markdown",
   "id": "273da38a",
   "metadata": {},
   "source": [
    "accuracy가 엄청나게 오른 것은 아니지만, 학습 모델 중 가장 뛰어나다고 할 수 있을 것 같다."
   ]
  },
  {
   "cell_type": "markdown",
   "id": "8135f356",
   "metadata": {},
   "source": [
    "회고  \n",
    "아무 이유 없이 이번 회차는 개인적으로 선호하지 않는 회차였고, 과제를 할 때도 알 수 없거나 자잘한 이유, 노드의 불친절함 등의 문제로 시간을 오래 끈 과제였다. 모델 중 하나가 다른 사람들도 쓰는 노드의 모델을 그대로 가져온 것인데 잘 작동하지 않아 몇 시간씩 잡아먹거나(루브릭이나 별 개수에 영향을 미치진 않지만 정말 잡고 싶었다...) word2vec_ko.model파일만 사용하는 것이 아니라 다른 파일도 필요하다는 사실을 몰라서 'no such file or directory' 오류를 보고 있자니 어이없다는 생각이 드는 노드였던 것 같다.  \n",
    "그래도 한가지 좋았던 점이 있다면 여러 방식으로 model을 만져볼 수 있었던 것이다. 제출시에는 노드의 모델을 차용하였지만, 이런저런 방식으로 layer를 쌓고 모델을 만져본 경험은 아직 성과로 연결되지 않았다 하더라도 나쁘지 않았다.  \n",
    "마지막으로, 다음 과제는 좀 일찍 해야겠다.  "
   ]
  },
  {
   "cell_type": "code",
   "execution_count": null,
   "id": "93a5b586",
   "metadata": {},
   "outputs": [],
   "source": []
  }
 ],
 "metadata": {
  "kernelspec": {
   "display_name": "Python 3 (ipykernel)",
   "language": "python",
   "name": "python3"
  },
  "language_info": {
   "codemirror_mode": {
    "name": "ipython",
    "version": 3
   },
   "file_extension": ".py",
   "mimetype": "text/x-python",
   "name": "python",
   "nbconvert_exporter": "python",
   "pygments_lexer": "ipython3",
   "version": "3.8.8"
  }
 },
 "nbformat": 4,
 "nbformat_minor": 5
}
