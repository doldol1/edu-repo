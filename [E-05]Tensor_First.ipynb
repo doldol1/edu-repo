{
 "cells": [
  {
   "cell_type": "markdown",
   "id": "c8458ae1-d543-418e-933b-96c10347fb31",
   "metadata": {},
   "source": [
    "### 가위바위보 분류기 만들기\n",
    "루브릭 및 과정\n",
    "1. 이미지 분류기 모델이 성공적으로 만들어졌는가?  \n",
    "학습과정이 정상적으로 수행되었으며, 학습 결과에 대한 그래프를 시각화(ex. train acc / train loss / val acc / val loss 등) 해 보았음  \n",
    "2. 오버피팅을 극복하기 위한 적절한 시도가 있었는가?\n",
    "오버피팅 극복을 위하여 데이터셋의 다양성, 정규화 등을 2가지 이상 시도해보았음  \n",
    "3. 분류모델의 test accuracy가 기준 이상 높게 나왔는가?\n",
    "60% 이상 도달"
   ]
  },
  {
   "cell_type": "code",
   "execution_count": 1,
   "id": "436977e5-3ec2-4df4-9797-cc6dcc967f60",
   "metadata": {},
   "outputs": [
    {
     "name": "stdout",
     "output_type": "stream",
     "text": [
      "2.9.1\n",
      "1.21.5\n"
     ]
    }
   ],
   "source": [
    "import tensorflow as tf\n",
    "import numpy as np\n",
    "\n",
    "import matplotlib.pyplot as plt\n",
    "\n",
    "print(tf.__version__)\n",
    "print(np.__version__)"
   ]
  },
  {
   "cell_type": "markdown",
   "id": "d089d469-00e7-4f05-9a05-076c329ccf3c",
   "metadata": {},
   "source": [
    "데이터 로드 및 Resize  \n",
    "촬영한 사진 데이터를 불러오고, 28*28로 resize할 것"
   ]
  },
  {
   "cell_type": "code",
   "execution_count": 2,
   "id": "922927a0-cc49-4f85-91cc-3f8e64547078",
   "metadata": {},
   "outputs": [],
   "source": [
    "from PIL import Image\n",
    "import glob\n",
    "import os"
   ]
  },
  {
   "cell_type": "code",
   "execution_count": 3,
   "id": "73b8fcff-add1-446a-a4d1-6a51e85a7368",
   "metadata": {},
   "outputs": [
    {
     "name": "stdout",
     "output_type": "stream",
     "text": [
      "C:\\Users\\wader\\workplace\n"
     ]
    }
   ],
   "source": [
    "# 데이터셋 변환, 한번만 할 것\n",
    "r_path='C:\\\\Users\\\\wader\\\\workplace\\\\ess_data\\\\[E-05]Tensor_First\\\\rock'\n",
    "s_path='C:\\\\Users\\\\wader\\\\workplace\\\\ess_data\\\\[E-05]Tensor_First\\\\scissor'\n",
    "p_path='C:\\\\Users\\\\wader\\\\workplace\\\\ess_data\\\\[E-05]Tensor_First\\\\paper'\n",
    "\n",
    "os.chdir('C:\\\\Users\\\\wader\\\\workplace')\n",
    "print(os.getcwd())"
   ]
  },
  {
   "cell_type": "code",
   "execution_count": 4,
   "id": "9cb0bf3b-9426-4ac2-97c8-03fc5f36aaba",
   "metadata": {},
   "outputs": [],
   "source": [
    "def resize_images(path):\n",
    "    img_list=os.listdir(path)\n",
    "    target_size=(28,28)\n",
    "    os.chdir(path)\n",
    "    for i in img_list:\n",
    "        full_path=os.path.join(path, i)\n",
    "        big_img=Image.open(full_path)\n",
    "        sm_img=big_img.resize(target_size, Image.ANTIALIAS)\n",
    "        sm_img.save(i, \"JPEG\")"
   ]
  },
  {
   "cell_type": "code",
   "execution_count": 5,
   "id": "3735904d-98f3-451b-b2ee-65e001168ff2",
   "metadata": {},
   "outputs": [
    {
     "name": "stderr",
     "output_type": "stream",
     "text": [
      "C:\\Users\\wader\\AppData\\Local\\Temp\\ipykernel_30980\\2826604337.py:8: DeprecationWarning: ANTIALIAS is deprecated and will be removed in Pillow 10 (2023-07-01). Use Resampling.LANCZOS instead.\n",
      "  sm_img=big_img.resize(target_size, Image.ANTIALIAS)\n"
     ]
    }
   ],
   "source": [
    "resize_images(r_path)\n",
    "resize_images(s_path)\n",
    "resize_images(p_path)"
   ]
  },
  {
   "cell_type": "markdown",
   "id": "6eacef08-0942-49b2-a275-23ac51fcdd77",
   "metadata": {},
   "source": [
    "이미지 파일을 적절하게 불러오기 위해, 교육 자료에서 제시한 함수를 수정하여 사용하였다. load_data()는 실행시 img_path로부터 rock, scissor, paper의 세 폴더에 들어가서 각 값들을 불러온다.(img_path에 rock, scissor, paper의 폴더가 각각 필요하다.)"
   ]
  },
  {
   "cell_type": "code",
   "execution_count": 6,
   "id": "e66c13a3-6d15-4e0a-90d5-f96f95fc8480",
   "metadata": {},
   "outputs": [
    {
     "name": "stdout",
     "output_type": "stream",
     "text": [
      "데이터의 이미지 개수는 300 입니다.\n",
      "데이터의 이미지 개수는 300 입니다.\n",
      "x_train shape: (300, 28, 28, 3)\n",
      "y_train shape: (300,)\n"
     ]
    }
   ],
   "source": [
    "import numpy as np\n",
    "\n",
    "def load_data(img_path, number_of_data=300):  # 가위바위보 이미지 개수 총합에 주의하세요.\n",
    "    # 가위 : 0, 바위 : 1, 보 : 2\n",
    "    img_size=28\n",
    "    color=3\n",
    "    #이미지 데이터와 라벨(가위 : 0, 바위 : 1, 보 : 2) 데이터를 담을 행렬(matrix) 영역을 생성합니다.\n",
    "    imgs=np.zeros(number_of_data*img_size*img_size*color,dtype=np.int32).reshape(number_of_data,img_size,img_size,color)\n",
    "    labels=np.zeros(number_of_data,dtype=np.int32)\n",
    "\n",
    "    idx=0\n",
    "    \n",
    "    sci_list=os.listdir(img_path+'scissor\\\\')\n",
    "    rok_list=os.listdir(img_path+'rock\\\\')\n",
    "    pap_list=os.listdir(img_path+'paper\\\\')\n",
    "    \n",
    "    \n",
    "    for file in sci_list:\n",
    "        file= img_path+'scissor\\\\'+file\n",
    "        img = np.array(Image.open(file),dtype=np.int32)\n",
    "        imgs[idx,:,:,:]=img    # 데이터 영역에 이미지 행렬을 복사\n",
    "        labels[idx]=0   # 가위 : 0\n",
    "        idx=idx+1\n",
    "\n",
    "    for file in rok_list:\n",
    "        file= img_path+'rock\\\\'+file\n",
    "        img = np.array(Image.open(file),dtype=np.int32)\n",
    "        imgs[idx,:,:,:]=img    # 데이터 영역에 이미지 행렬을 복사\n",
    "        labels[idx]=1   # 바위 : 1\n",
    "        idx=idx+1  \n",
    "    \n",
    "    for file in pap_list:\n",
    "        file= img_path+'paper\\\\'+file\n",
    "        img = np.array(Image.open(file),dtype=np.int32)\n",
    "        imgs[idx,:,:,:]=img    # 데이터 영역에 이미지 행렬을 복사\n",
    "        labels[idx]=2   # 보 : 2\n",
    "        idx=idx+1\n",
    "        \n",
    "    print(\"데이터의 이미지 개수는\", idx,\"입니다.\")\n",
    "    return imgs, labels\n",
    "\n",
    "image_dir_path = \"C:\\\\Users\\\\wader\\\\workplace\\\\ess_data\\\\[E-05]Tensor_First\\\\rock_scissor_paper\\\\\"\n",
    "(x_train, y_train)=load_data(image_dir_path)\n",
    "x_train_norm = x_train/255.0   # 입력은 0~1 사이의 값으로 정규화\n",
    "\n",
    "test_dir_path = \"C:\\\\Users\\\\wader\\\\workplace\\\\ess_data\\\\[E-05]Tensor_First\\\\test\\\\rock_scissor_paper\\\\\"\n",
    "(x_test, y_test)=load_data(test_dir_path)\n",
    "x_test_norm = x_test/255.0\n",
    "\n",
    "print(\"x_train shape: {}\".format(x_train_norm.shape))\n",
    "print(\"y_train shape: {}\".format(y_train.shape))"
   ]
  },
  {
   "cell_type": "markdown",
   "id": "45a752db-dd8e-41a1-9811-5bf2d064c1d1",
   "metadata": {},
   "source": [
    "받아온 값을 실제로 실행시켜 보았다."
   ]
  },
  {
   "cell_type": "code",
   "execution_count": 7,
   "id": "2e873cbb-9ab5-4220-b9fa-ccca4025a9c9",
   "metadata": {},
   "outputs": [
    {
     "name": "stdout",
     "output_type": "stream",
     "text": [
      "2\n"
     ]
    },
    {
     "data": {
      "image/png": "[encoded data removed]",
      "text/plain": [
       "<Figure size 640x480 with 1 Axes>"
      ]
     },
     "metadata": {},
     "output_type": "display_data"
    }
   ],
   "source": [
    "plt.imshow(x_train[200])\n",
    "print(y_train[200])"
   ]
  },
  {
   "cell_type": "markdown",
   "id": "a3c62ed4-dc01-438f-bfe6-cb20238019ee",
   "metadata": {},
   "source": [
    "딥러닝 네트워크 설계: 1차 시도는 학습자료에 나온대로 적용"
   ]
  },
  {
   "cell_type": "code",
   "execution_count": 8,
   "id": "26a5df72-9c43-4f66-a512-a08e643aecf3",
   "metadata": {},
   "outputs": [],
   "source": [
    "import tensorflow as tf\n",
    "from tensorflow import keras\n",
    "import numpy as np"
   ]
  },
  {
   "cell_type": "code",
   "execution_count": 9,
   "id": "b825ae67-decd-41da-bf08-0aaf2fc6daca",
   "metadata": {},
   "outputs": [],
   "source": [
    "model=keras.models.Sequential()\n",
    "model.add(keras.layers.Conv2D(16, (3,3), activation='relu', input_shape=(28,28,3)))\n",
    "model.add(keras.layers.MaxPool2D(2,2))\n",
    "model.add(keras.layers.Conv2D(32, (3,3), activation='relu'))\n",
    "model.add(keras.layers.MaxPooling2D((2,2)))\n",
    "model.add(keras.layers.Flatten())\n",
    "model.add(keras.layers.Dense(32, activation='relu'))\n",
    "model.add(keras.layers.Dense(3, activation='softmax'))"
   ]
  },
  {
   "cell_type": "code",
   "execution_count": 10,
   "id": "f5dd6e45-964b-411c-bfa7-f3b565716bf0",
   "metadata": {},
   "outputs": [
    {
     "name": "stdout",
     "output_type": "stream",
     "text": [
      "Model: \"sequential\"\n",
      "_________________________________________________________________\n",
      " Layer (type)                Output Shape              Param #   \n",
      "=================================================================\n",
      " conv2d (Conv2D)             (None, 26, 26, 16)        448       \n",
      "                                                                 \n",
      " max_pooling2d (MaxPooling2D  (None, 13, 13, 16)       0         \n",
      " )                                                               \n",
      "                                                                 \n",
      " conv2d_1 (Conv2D)           (None, 11, 11, 32)        4640      \n",
      "                                                                 \n",
      " max_pooling2d_1 (MaxPooling  (None, 5, 5, 32)         0         \n",
      " 2D)                                                             \n",
      "                                                                 \n",
      " flatten (Flatten)           (None, 800)               0         \n",
      "                                                                 \n",
      " dense (Dense)               (None, 32)                25632     \n",
      "                                                                 \n",
      " dense_1 (Dense)             (None, 3)                 99        \n",
      "                                                                 \n",
      "=================================================================\n",
      "Total params: 30,819\n",
      "Trainable params: 30,819\n",
      "Non-trainable params: 0\n",
      "_________________________________________________________________\n"
     ]
    }
   ],
   "source": [
    "model.summary()"
   ]
  },
  {
   "cell_type": "code",
   "execution_count": 11,
   "id": "179f1f79-47f2-4e23-80d1-26656e18eaa5",
   "metadata": {},
   "outputs": [
    {
     "name": "stdout",
     "output_type": "stream",
     "text": [
      "Epoch 1/10\n",
      "10/10 [==============================] - 1s 6ms/step - loss: 1.0993 - accuracy: 0.3367\n",
      "Epoch 2/10\n",
      "10/10 [==============================] - 0s 5ms/step - loss: 1.0500 - accuracy: 0.6100\n",
      "Epoch 3/10\n",
      "10/10 [==============================] - 0s 5ms/step - loss: 0.9958 - accuracy: 0.5900\n",
      "Epoch 4/10\n",
      "10/10 [==============================] - 0s 5ms/step - loss: 0.8873 - accuracy: 0.6800\n",
      "Epoch 5/10\n",
      "10/10 [==============================] - 0s 9ms/step - loss: 0.7418 - accuracy: 0.6867\n",
      "Epoch 6/10\n",
      "10/10 [==============================] - 0s 5ms/step - loss: 0.5984 - accuracy: 0.7367\n",
      "Epoch 7/10\n",
      "10/10 [==============================] - 0s 10ms/step - loss: 0.5429 - accuracy: 0.7467\n",
      "Epoch 8/10\n",
      "10/10 [==============================] - 0s 6ms/step - loss: 0.4605 - accuracy: 0.8500\n",
      "Epoch 9/10\n",
      "10/10 [==============================] - 0s 9ms/step - loss: 0.4577 - accuracy: 0.7800\n",
      "Epoch 10/10\n",
      "10/10 [==============================] - 0s 14ms/step - loss: 0.4121 - accuracy: 0.7767\n"
     ]
    },
    {
     "data": {
      "text/plain": [
       "<keras.callbacks.History at 0x23ade161ca0>"
      ]
     },
     "execution_count": 11,
     "metadata": {},
     "output_type": "execute_result"
    }
   ],
   "source": [
    "model.compile(optimizer='adam',\n",
    "             loss='sparse_categorical_crossentropy',\n",
    "             metrics=['accuracy'])\n",
    "\n",
    "model.fit(x_train_norm, y_train, epochs=10)"
   ]
  },
  {
   "cell_type": "code",
   "execution_count": 12,
   "id": "8708e5a3-8cc3-47cf-9897-d1505d9bf92c",
   "metadata": {},
   "outputs": [
    {
     "name": "stdout",
     "output_type": "stream",
     "text": [
      "10/10 - 0s - loss: 1.3707 - accuracy: 0.4100 - 338ms/epoch - 34ms/step\n",
      "test_loss: 1.3707098960876465\n",
      "test_accuracy: 0.4099999964237213\n"
     ]
    }
   ],
   "source": [
    "test_loss, test_accuracy = model.evaluate(x_test_norm,y_test, verbose=2)\n",
    "print(f\"test_loss: {test_loss}\")\n",
    "print(f\"test_accuracy: {test_accuracy}\")"
   ]
  },
  {
   "cell_type": "markdown",
   "id": "c062a823-cf2a-446a-ac00-43d18dced611",
   "metadata": {},
   "source": [
    "예상했던 대로 높은 수치의 값이 나오지 않았다. 반복하여 돌렸을 때, 0.3에서 0.5 정도의 값이 나왔으며, 0.5가 나왔다고 한들 큰 의미를 두기는 어려워 보인다. 데이터셋, 모델 설계, 매개변수 등 다양한 요소들에 대해 실험해 보도록 하자. 먼저, 가장 쉽게 할 수 있는 매개변수 조작부터 실행해 보았다."
   ]
  },
  {
   "cell_type": "code",
   "execution_count": 13,
   "id": "72e51e27-7510-4c4c-8e2b-852b846b6c7a",
   "metadata": {},
   "outputs": [],
   "source": [
    "n_channel_1=128\n",
    "n_channel_2=256\n",
    "n_dense=50\n",
    "n_train_epoch=20\n",
    "\n",
    "\n",
    "model=keras.models.Sequential()\n",
    "model.add(keras.layers.Conv2D(n_channel_1, (3,3), activation='relu', input_shape=(28,28,3)))\n",
    "model.add(keras.layers.MaxPool2D(2,2))\n",
    "model.add(keras.layers.Conv2D(n_channel_2, (3,3), activation='relu'))\n",
    "model.add(keras.layers.MaxPooling2D((2,2)))\n",
    "model.add(keras.layers.Flatten())\n",
    "model.add(keras.layers.Dense(n_dense, activation='relu'))\n",
    "model.add(keras.layers.Dense(3, activation='softmax'))"
   ]
  },
  {
   "cell_type": "code",
   "execution_count": 14,
   "id": "d25653a4-a59c-4910-9ef4-91297571ab45",
   "metadata": {},
   "outputs": [
    {
     "name": "stdout",
     "output_type": "stream",
     "text": [
      "Epoch 1/20\n",
      "10/10 [==============================] - 2s 109ms/step - loss: 1.1445 - accuracy: 0.3467\n",
      "Epoch 2/20\n",
      "10/10 [==============================] - 1s 122ms/step - loss: 1.0402 - accuracy: 0.4633\n",
      "Epoch 3/20\n",
      "10/10 [==============================] - 1s 137ms/step - loss: 0.8252 - accuracy: 0.7067\n",
      "Epoch 4/20\n",
      "10/10 [==============================] - 1s 115ms/step - loss: 0.5639 - accuracy: 0.7367\n",
      "Epoch 5/20\n",
      "10/10 [==============================] - 1s 109ms/step - loss: 0.4376 - accuracy: 0.7967\n",
      "Epoch 6/20\n",
      "10/10 [==============================] - 1s 131ms/step - loss: 0.3741 - accuracy: 0.8600\n",
      "Epoch 7/20\n",
      "10/10 [==============================] - 1s 126ms/step - loss: 0.3849 - accuracy: 0.7867\n",
      "Epoch 8/20\n",
      "10/10 [==============================] - 1s 130ms/step - loss: 0.3467 - accuracy: 0.8467\n",
      "Epoch 9/20\n",
      "10/10 [==============================] - 1s 136ms/step - loss: 0.2591 - accuracy: 0.9033\n",
      "Epoch 10/20\n",
      "10/10 [==============================] - 1s 110ms/step - loss: 0.2224 - accuracy: 0.9333\n",
      "Epoch 11/20\n",
      "10/10 [==============================] - 1s 114ms/step - loss: 0.2183 - accuracy: 0.9067\n",
      "Epoch 12/20\n",
      "10/10 [==============================] - 1s 118ms/step - loss: 0.1526 - accuracy: 0.9533\n",
      "Epoch 13/20\n",
      "10/10 [==============================] - 1s 108ms/step - loss: 0.1020 - accuracy: 0.9833\n",
      "Epoch 14/20\n",
      "10/10 [==============================] - 1s 112ms/step - loss: 0.0732 - accuracy: 0.9900\n",
      "Epoch 15/20\n",
      "10/10 [==============================] - 1s 114ms/step - loss: 0.0564 - accuracy: 0.9933\n",
      "Epoch 16/20\n",
      "10/10 [==============================] - 1s 110ms/step - loss: 0.0448 - accuracy: 0.9967\n",
      "Epoch 17/20\n",
      "10/10 [==============================] - 1s 111ms/step - loss: 0.0355 - accuracy: 0.9933\n",
      "Epoch 18/20\n",
      "10/10 [==============================] - 1s 115ms/step - loss: 0.0279 - accuracy: 1.0000\n",
      "Epoch 19/20\n",
      "10/10 [==============================] - 1s 119ms/step - loss: 0.0204 - accuracy: 1.0000\n",
      "Epoch 20/20\n",
      "10/10 [==============================] - 1s 122ms/step - loss: 0.0164 - accuracy: 1.0000\n"
     ]
    },
    {
     "data": {
      "text/plain": [
       "<keras.callbacks.History at 0x23ae1447b50>"
      ]
     },
     "execution_count": 14,
     "metadata": {},
     "output_type": "execute_result"
    }
   ],
   "source": [
    "model.compile(optimizer='adam',\n",
    "             loss='sparse_categorical_crossentropy',\n",
    "             metrics=['accuracy'])\n",
    "\n",
    "model.fit(x_train_norm, y_train, epochs=n_train_epoch)"
   ]
  },
  {
   "cell_type": "code",
   "execution_count": 15,
   "id": "87d0d218-921b-44b9-9447-4be7a08e06ad",
   "metadata": {},
   "outputs": [
    {
     "name": "stdout",
     "output_type": "stream",
     "text": [
      "10/10 - 1s - loss: 2.2947 - accuracy: 0.5633 - 952ms/epoch - 95ms/step\n",
      "test_loss: 2.2947001457214355\n",
      "test_accuracy: 0.5633333325386047\n"
     ]
    }
   ],
   "source": [
    "test_loss, test_accuracy = model.evaluate(x_test_norm,y_test, verbose=2)\n",
    "print(f\"test_loss: {test_loss}\")\n",
    "print(f\"test_accuracy: {test_accuracy}\")"
   ]
  },
  {
   "cell_type": "markdown",
   "id": "0916b9bf-a80e-4655-bfd7-be53639c0ac5",
   "metadata": {
    "tags": []
   },
   "source": [
    "여러번의 시행을 해봤지만 만족할만한 결과를 얻을 수는 없었다. 모델은 낮게는 0.35, 높게는 0.50 대의 정확도를 보여주었으며, 거의 달라진 것은 없었다. 그래서 통합 데이터셋을 사용하였다.\n",
    "# 통합 데이터셋 사용"
   ]
  },
  {
   "cell_type": "code",
   "execution_count": 16,
   "id": "c4c01b5d-a86b-43e5-9dba-3c9fa03d249e",
   "metadata": {
    "tags": []
   },
   "outputs": [
    {
     "name": "stderr",
     "output_type": "stream",
     "text": [
      "C:\\Users\\wader\\AppData\\Local\\Temp\\ipykernel_30980\\2826604337.py:8: DeprecationWarning: ANTIALIAS is deprecated and will be removed in Pillow 10 (2023-07-01). Use Resampling.LANCZOS instead.\n",
      "  sm_img=big_img.resize(target_size, Image.ANTIALIAS)\n"
     ]
    }
   ],
   "source": [
    "# 통합 데이터셋 변환 한번만 할 것\n",
    "r_path='C:\\\\Users\\\\wader\\\\workplace\\\\ess_data\\\\[E-05]Tensor_First\\\\ent_data\\\\rock_scissor_paper\\\\rock'\n",
    "s_path='C:\\\\Users\\\\wader\\\\workplace\\\\ess_data\\\\[E-05]Tensor_First\\\\ent_data\\\\rock_scissor_paper\\\\scissor'\n",
    "p_path='C:\\\\Users\\\\wader\\\\workplace\\\\ess_data\\\\[E-05]Tensor_First\\\\ent_data\\\\rock_scissor_paper\\\\paper'\n",
    "\n",
    "\n",
    "resize_images(r_path)\n",
    "resize_images(s_path)\n",
    "resize_images(p_path)"
   ]
  },
  {
   "cell_type": "code",
   "execution_count": 17,
   "id": "43b8bc7b-8f7f-4e86-97b1-6dc518cb871c",
   "metadata": {},
   "outputs": [],
   "source": [
    "import numpy as np\n",
    "\n",
    "def load_data_ent(img_path, number_of_data=7372):  # 가위바위보 이미지 개수 총합에 주의하세요.\n",
    "    # 가위 : 0, 바위 : 1, 보 : 2\n",
    "    img_size=28\n",
    "    color=3\n",
    "    #이미지 데이터와 라벨(가위 : 0, 바위 : 1, 보 : 2) 데이터를 담을 행렬(matrix) 영역을 생성합니다.\n",
    "    imgs=np.zeros(number_of_data*img_size*img_size*color,dtype=np.int32).reshape(number_of_data,img_size,img_size,color)\n",
    "    labels=np.zeros(number_of_data,dtype=np.int32)\n",
    "\n",
    "    idx=0\n",
    "    \n",
    "    sci_list=os.listdir(img_path+'scissor\\\\')\n",
    "    rok_list=os.listdir(img_path+'rock\\\\')\n",
    "    pap_list=os.listdir(img_path+'paper\\\\')\n",
    "    \n",
    "    \n",
    "    for file in sci_list:\n",
    "        file= img_path+'scissor\\\\'+file\n",
    "        img = np.array(Image.open(file),dtype=np.int32)\n",
    "        imgs[idx,:,:,:]=img    # 데이터 영역에 이미지 행렬을 복사\n",
    "        labels[idx]=0   # 가위 : 0\n",
    "        idx=idx+1\n",
    "\n",
    "    for file in rok_list:\n",
    "        file= img_path+'rock\\\\'+file\n",
    "        img = np.array(Image.open(file),dtype=np.int32)\n",
    "        imgs[idx,:,:,:]=img    # 데이터 영역에 이미지 행렬을 복사\n",
    "        labels[idx]=1   # 바위 : 1\n",
    "        idx=idx+1  \n",
    "    \n",
    "    for file in pap_list:\n",
    "        file= img_path+'paper\\\\'+file\n",
    "        img = np.array(Image.open(file),dtype=np.int32)\n",
    "        imgs[idx,:,:,:]=img    # 데이터 영역에 이미지 행렬을 복사\n",
    "        labels[idx]=2   # 보 : 2\n",
    "        idx=idx+1\n",
    "        \n",
    "    print(\"데이터의 이미지 개수는\", idx,\"입니다.\")\n",
    "    return imgs, labels"
   ]
  },
  {
   "cell_type": "code",
   "execution_count": 18,
   "id": "536ad05c-d120-47a4-b657-02bdcd5dbe14",
   "metadata": {},
   "outputs": [
    {
     "name": "stdout",
     "output_type": "stream",
     "text": [
      "데이터의 이미지 개수는 7372 입니다.\n",
      "데이터의 이미지 개수는 300 입니다.\n"
     ]
    }
   ],
   "source": [
    "ent_image_dir_path='C:\\\\Users\\\\wader\\\\workplace\\\\ess_data\\\\[E-05]Tensor_First\\\\ent_data\\\\rock_scissor_paper\\\\'\n",
    "(x_train, y_train)=load_data_ent(ent_image_dir_path)\n",
    "x_train_norm = x_train/255.0   \n",
    "\n",
    "test_dir_path = \"C:\\\\Users\\\\wader\\\\workplace\\\\ess_data\\\\[E-05]Tensor_First\\\\test\\\\rock_scissor_paper\\\\\"\n",
    "(x_test, y_test)=load_data(test_dir_path)\n",
    "x_test_norm = x_test/255.0"
   ]
  },
  {
   "cell_type": "code",
   "execution_count": 19,
   "id": "4e495c35-79b1-4085-893d-cc437f2cdd12",
   "metadata": {},
   "outputs": [
    {
     "name": "stdout",
     "output_type": "stream",
     "text": [
      "x_train shape: (7372, 28, 28, 3)\n",
      "y_train shape: (7372,)\n"
     ]
    }
   ],
   "source": [
    "print(\"x_train shape: {}\".format(x_train_norm.shape))\n",
    "print(\"y_train shape: {}\".format(y_train.shape))"
   ]
  },
  {
   "cell_type": "code",
   "execution_count": 20,
   "id": "e036d63a-f079-4868-a926-761d2af22441",
   "metadata": {},
   "outputs": [
    {
     "name": "stdout",
     "output_type": "stream",
     "text": [
      "0\n"
     ]
    },
    {
     "data": {
      "image/png": "[encoded data removed]",
      "text/plain": [
       "<Figure size 640x480 with 1 Axes>"
      ]
     },
     "metadata": {},
     "output_type": "display_data"
    }
   ],
   "source": [
    "plt.imshow(x_train[500])\n",
    "print(y_train[500])"
   ]
  },
  {
   "cell_type": "code",
   "execution_count": 82,
   "id": "67583806-d7e9-4517-ad76-3d8b2b38d5c6",
   "metadata": {},
   "outputs": [],
   "source": [
    "# 노드 기본 레이어 및 파라미터로 테스트\n",
    "n_channel_1=16\n",
    "n_channel_2=32\n",
    "n_dense=32\n",
    "n_train_epoch=10\n",
    "\n",
    "\n",
    "model=keras.models.Sequential()\n",
    "model.add(keras.layers.Conv2D(n_channel_1, (3,3), activation='relu', input_shape=(28,28,3)))\n",
    "model.add(keras.layers.MaxPool2D(2,2))\n",
    "model.add(keras.layers.Conv2D(n_channel_2, (3,3), activation='relu'))\n",
    "model.add(keras.layers.MaxPooling2D((2,2)))\n",
    "model.add(keras.layers.Flatten())\n",
    "model.add(keras.layers.Dense(n_dense, activation='relu'))\n",
    "model.add(keras.layers.Dense(3, activation='softmax'))"
   ]
  },
  {
   "cell_type": "code",
   "execution_count": 83,
   "id": "394cae1f-601a-4fa8-acda-ef2da002470c",
   "metadata": {},
   "outputs": [
    {
     "name": "stdout",
     "output_type": "stream",
     "text": [
      "Epoch 1/10\n",
      "231/231 [==============================] - 4s 11ms/step - loss: 0.9672 - accuracy: 0.5076\n",
      "Epoch 2/10\n",
      "231/231 [==============================] - 2s 10ms/step - loss: 0.6258 - accuracy: 0.7427\n",
      "Epoch 3/10\n",
      "231/231 [==============================] - 2s 10ms/step - loss: 0.4377 - accuracy: 0.8303\n",
      "Epoch 4/10\n",
      "231/231 [==============================] - 3s 13ms/step - loss: 0.3098 - accuracy: 0.8840\n",
      "Epoch 5/10\n",
      "231/231 [==============================] - 2s 8ms/step - loss: 0.2411 - accuracy: 0.9102\n",
      "Epoch 6/10\n",
      "231/231 [==============================] - 2s 9ms/step - loss: 0.1922 - accuracy: 0.9327\n",
      "Epoch 7/10\n",
      "231/231 [==============================] - 3s 14ms/step - loss: 0.1511 - accuracy: 0.9451\n",
      "Epoch 8/10\n",
      "231/231 [==============================] - 3s 13ms/step - loss: 0.1281 - accuracy: 0.9525\n",
      "Epoch 9/10\n",
      "231/231 [==============================] - 2s 9ms/step - loss: 0.1039 - accuracy: 0.9630\n",
      "Epoch 10/10\n",
      "231/231 [==============================] - 2s 8ms/step - loss: 0.0842 - accuracy: 0.9683\n"
     ]
    },
    {
     "data": {
      "text/plain": [
       "<keras.callbacks.History at 0x23a8c63cac0>"
      ]
     },
     "execution_count": 83,
     "metadata": {},
     "output_type": "execute_result"
    }
   ],
   "source": [
    "model.compile(optimizer='adam',\n",
    "             loss='sparse_categorical_crossentropy',\n",
    "             metrics=['accuracy'])\n",
    "\n",
    "model.fit(x_train_norm, y_train, epochs=n_train_epoch)"
   ]
  },
  {
   "cell_type": "code",
   "execution_count": 84,
   "id": "e58c7560-1f9c-452e-8cb3-2e216cf106de",
   "metadata": {},
   "outputs": [
    {
     "name": "stdout",
     "output_type": "stream",
     "text": [
      "10/10 - 1s - loss: 2.4088 - accuracy: 0.6600 - 605ms/epoch - 60ms/step\n",
      "test_loss: 2.408834218978882\n",
      "test_accuracy: 0.6600000262260437\n"
     ]
    }
   ],
   "source": [
    "test_loss, test_accuracy = model.evaluate(x_test_norm,y_test, verbose=2)\n",
    "print(f\"test_loss: {test_loss}\")\n",
    "print(f\"test_accuracy: {test_accuracy}\")"
   ]
  },
  {
   "cell_type": "markdown",
   "id": "1b36c513-3611-4312-9871-beba6e6bc409",
   "metadata": {},
   "source": [
    "혹시 성능을 더 높힐 수 있을까 싶어 파라미터를 변경해 보았다."
   ]
  },
  {
   "cell_type": "code",
   "execution_count": 88,
   "id": "bbe1ea39-2b17-4555-820b-d8cb4c0cc834",
   "metadata": {},
   "outputs": [],
   "source": [
    "import tensorflow as tf\n",
    "from tensorflow import keras\n",
    "import numpy as np\n",
    "# 노드 기본 레이어 및 파라미터로 테스트\n",
    "n_channel_1=32\n",
    "n_channel_2=64\n",
    "n_dense=16\n",
    "n_train_epoch=15\n",
    "\n",
    "\n",
    "model=keras.models.Sequential()\n",
    "model.add(keras.layers.Conv2D(n_channel_1, (3,3), activation='relu', input_shape=(28,28,3)))\n",
    "model.add(keras.layers.MaxPool2D(2,2))\n",
    "model.add(keras.layers.Conv2D(n_channel_2, (3,3), activation='relu'))\n",
    "model.add(keras.layers.MaxPooling2D((2,2)))\n",
    "model.add(keras.layers.Flatten())\n",
    "model.add(keras.layers.Dense(n_dense, activation='relu'))\n",
    "model.add(keras.layers.Dense(3, activation='softmax'))"
   ]
  },
  {
   "cell_type": "code",
   "execution_count": 89,
   "id": "4c259d54-c606-4a6b-86ff-4d08f16d014e",
   "metadata": {},
   "outputs": [
    {
     "name": "stdout",
     "output_type": "stream",
     "text": [
      "Epoch 1/15\n",
      "231/231 [==============================] - 5s 19ms/step - loss: 0.9860 - accuracy: 0.4893\n",
      "Epoch 2/15\n",
      "231/231 [==============================] - 7s 30ms/step - loss: 0.5958 - accuracy: 0.7592\n",
      "Epoch 3/15\n",
      "231/231 [==============================] - 5s 21ms/step - loss: 0.4278 - accuracy: 0.8388\n",
      "Epoch 4/15\n",
      "231/231 [==============================] - 5s 20ms/step - loss: 0.3267 - accuracy: 0.8798\n",
      "Epoch 5/15\n",
      "231/231 [==============================] - 6s 27ms/step - loss: 0.2504 - accuracy: 0.9084\n",
      "Epoch 6/15\n",
      "231/231 [==============================] - 4s 19ms/step - loss: 0.1948 - accuracy: 0.9296\n",
      "Epoch 7/15\n",
      "231/231 [==============================] - 4s 16ms/step - loss: 0.1559 - accuracy: 0.9455\n",
      "Epoch 8/15\n",
      "231/231 [==============================] - 5s 24ms/step - loss: 0.1217 - accuracy: 0.9574\n",
      "Epoch 9/15\n",
      "231/231 [==============================] - 3s 14ms/step - loss: 0.0960 - accuracy: 0.9679\n",
      "Epoch 10/15\n",
      "231/231 [==============================] - 3s 14ms/step - loss: 0.0754 - accuracy: 0.9722\n",
      "Epoch 11/15\n",
      "231/231 [==============================] - 4s 17ms/step - loss: 0.0740 - accuracy: 0.9715\n",
      "Epoch 12/15\n",
      "231/231 [==============================] - 4s 18ms/step - loss: 0.0575 - accuracy: 0.9773\n",
      "Epoch 13/15\n",
      "231/231 [==============================] - 4s 19ms/step - loss: 0.0460 - accuracy: 0.9824\n",
      "Epoch 14/15\n",
      "231/231 [==============================] - 4s 17ms/step - loss: 0.0458 - accuracy: 0.9821\n",
      "Epoch 15/15\n",
      "231/231 [==============================] - 4s 16ms/step - loss: 0.0465 - accuracy: 0.9794\n"
     ]
    },
    {
     "data": {
      "text/plain": [
       "<keras.callbacks.History at 0x23af6029370>"
      ]
     },
     "execution_count": 89,
     "metadata": {},
     "output_type": "execute_result"
    }
   ],
   "source": [
    "model.compile(optimizer='adam',\n",
    "             loss='sparse_categorical_crossentropy',\n",
    "             metrics=['accuracy'])\n",
    "\n",
    "model.fit(x_train_norm, y_train, epochs=n_train_epoch)"
   ]
  },
  {
   "cell_type": "code",
   "execution_count": 90,
   "id": "6a58ba5a-afd1-4a3e-a1f8-e65f4826dd0e",
   "metadata": {},
   "outputs": [
    {
     "name": "stdout",
     "output_type": "stream",
     "text": [
      "10/10 - 0s - loss: 3.3928 - accuracy: 0.6300 - 493ms/epoch - 49ms/step\n",
      "test_loss: 3.3928141593933105\n",
      "test_accuracy: 0.6299999952316284\n"
     ]
    }
   ],
   "source": [
    "test_loss, test_accuracy = model.evaluate(x_test_norm,y_test, verbose=2)\n",
    "print(f\"test_loss: {test_loss}\")\n",
    "print(f\"test_accuracy: {test_accuracy}\")"
   ]
  },
  {
   "cell_type": "markdown",
   "id": "0be0bfa4-214d-465d-b5a9-e306d7b95c11",
   "metadata": {},
   "source": [
    "회고  \n",
    "지금까지 가위바위보 이미지를 인식하고 학습시켜 보았다.  \n",
    "과제를 진행하며 가장 크게 느낀 점은 데이터의 중요성이다. 직접 만든 사진들을 가지고 학습을 시도했을 때는 아무리 시도해도 0.3에서 0.5 정도의 저조한 성과를 보였고, 과제에서 주어진 매개변수를 아무리 조정해 보아도 뾰족한 성과를 낼 수 없었다. 하지만 다른 사람들의 이미지를 모아 다시 학습을 시도했을 때는 확연한 차이를 볼 수 있었다. 물론 학습을 여러번 진행하다 보면 기준보다 낮은 accuracy를 가지는 경우도 발생했지만 직접 만든 사진들에 대한 이미지 학습보다는 훨씬 accuracy가 높았으며 과제 관련 학습을 진행하였던 화요일 마지막에 '무조건 데이터가 많다고 좋은 것이 아니다'라고 주장했던 것이 생각나 민망함도 느꼈다. 하지만 과제를 진행하던 도중 성주님과 이야기를 나눌 수 있었고, 데이터가 적더라도 충분히 좋은 성과를 낼 수 있다는 사실을 결과를 통해 확인할 수 있었고 결국 데이터는 중요하지만 데이터가 전부는 아니라는 사실을 피부로 경험할 수 있었다.  \n",
    "\n",
    "두번째로 느낀 점은 노드의 파라미터를 높게 설정한다고 능사가 아니라는 점이다. 과제 baseline에 주어진 파라미터 크기가 작다는 생각에 좀 더 파라미터를 늘려 실행시켜 보았다. conv2의 출력 값은 64에서 512, dense의 unit 값은 64까지 늘려 보았지만 시간만 오래 걸리고 accuracy는 형편없었기 때문이다. 물론 baseline보다 파라미터 크기를 줄여 4~8크기의 파라미터들을 적용시켰을 때는 더더욱 성능이 떨어지긴 했지만, 적정 선 이상이라면 굳이 hidden layer의 출력값을 늘릴 필요는 없다는 결론에 다다를 수 있었다.  \n",
    "\n",
    "과제에서 아쉬운 점이 있었다면 데이터의 픽셀 수를 늘리는 시도를 하지 못했다는 것이다. 개인적으로 생각했을 때, 데이터의 정확도가 낮은 가장 큰 이유는 이미지의 픽셀이 (28, 28)이라는 작은 크기였기 때문이라고 생각한다. 약간만 확대시켜도 형태가 뭉개지는 이미지로 사람도 알아보기 힘든데, 사람을 흉내낸 기계로 알아보는 일이 여간 어려운 일이 아닌가... 하는 직관적인 생각도 들었고, 학습에 사용하기에는 픽셀 수가 적은 만큼 데이터의 특징도 적을 것이라는 생각이 들었다. 데이터의 특징이 적다는 말은 아무리 학습을 시켜도 가위바위보의 형태를 알아보는데는 한계가 있다는 말이기 때문에 만약 된다면 (224, 224) 혹은 그보다 조금 작은 크기의 이미지를 다뤄보고 싶은 생각이 있었지만 그것까지 하기에는 역부족이었음을 아쉽게 생각한다. 그래도 저번 과제보다는 괜찮은 성과가 나왔기에 만족스럽게 생각한다."
   ]
  },
  {
   "cell_type": "code",
   "execution_count": null,
   "id": "91060889-fdd2-4991-b96d-3f1c40af4dc6",
   "metadata": {},
   "outputs": [],
   "source": []
  }
 ],
 "metadata": {
  "kernelspec": {
   "display_name": "Python 3 (ipykernel)",
   "language": "python",
   "name": "python3"
  },
  "language_info": {
   "codemirror_mode": {
    "name": "ipython",
    "version": 3
   },
   "file_extension": ".py",
   "mimetype": "text/x-python",
   "name": "python",
   "nbconvert_exporter": "python",
   "pygments_lexer": "ipython3",
   "version": "3.8.8"
  }
 },
 "nbformat": 4,
 "nbformat_minor": 5
}
