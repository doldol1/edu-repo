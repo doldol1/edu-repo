{
 "cells": [
  {
   "cell_type": "markdown",
   "id": "c8458ae1-d543-418e-933b-96c10347fb31",
   "metadata": {},
   "source": [
    "### 가위바위보 분류기 만들기\n",
    "루브릭 및 과정\n",
    "1. 이미지 분류기 모델이 성공적으로 만들어졌는가?  \n",
    "학습과정이 정상적으로 수행되었으며, 학습 결과에 대한 그래프를 시각화(ex. train acc / train loss / val acc / val loss 등) 해 보았음  \n",
    "2. 오버피팅을 극복하기 위한 적절한 시도가 있었는가?\n",
    "오버피팅 극복을 위하여 데이터셋의 다양성, 정규화 등을 2가지 이상 시도해보았음  \n",
    "3. 분류모델의 test accuracy가 기준 이상 높게 나왔는가?\n",
    "60% 이상 도달"
   ]
  },
  {
   "cell_type": "code",
   "execution_count": 1,
   "id": "436977e5-3ec2-4df4-9797-cc6dcc967f60",
   "metadata": {},
   "outputs": [
    {
     "name": "stdout",
     "output_type": "stream",
     "text": [
      "2.9.1\n",
      "1.21.5\n"
     ]
    }
   ],
   "source": [
    "import tensorflow as tf\n",
    "import numpy as np\n",
    "\n",
    "import matplotlib.pyplot as plt\n",
    "\n",
    "print(tf.__version__)\n",
    "print(np.__version__)"
   ]
  },
  {
   "cell_type": "markdown",
   "id": "d089d469-00e7-4f05-9a05-076c329ccf3c",
   "metadata": {},
   "source": [
    "데이터 로드 및 Resize  \n",
    "촬영한 사진 데이터를 불러오고, 28*28로 resize할 것"
   ]
  },
  {
   "cell_type": "code",
   "execution_count": 2,
   "id": "922927a0-cc49-4f85-91cc-3f8e64547078",
   "metadata": {},
   "outputs": [],
   "source": [
    "from PIL import Image\n",
    "import glob\n",
    "import os"
   ]
  },
  {
   "cell_type": "code",
   "execution_count": 3,
   "id": "73b8fcff-add1-446a-a4d1-6a51e85a7368",
   "metadata": {},
   "outputs": [
    {
     "name": "stdout",
     "output_type": "stream",
     "text": [
      "C:\\Users\\wader\\workplace\n"
     ]
    }
   ],
   "source": [
    "# 데이터셋 변환, 한번만 할 것\n",
    "r_path='C:\\\\Users\\\\wader\\\\workplace\\\\ess_data\\\\[E-05]Tensor_First\\\\rock'\n",
    "s_path='C:\\\\Users\\\\wader\\\\workplace\\\\ess_data\\\\[E-05]Tensor_First\\\\scissor'\n",
    "p_path='C:\\\\Users\\\\wader\\\\workplace\\\\ess_data\\\\[E-05]Tensor_First\\\\paper'\n",
    "\n",
    "os.chdir('C:\\\\Users\\\\wader\\\\workplace')\n",
    "print(os.getcwd())"
   ]
  },
  {
   "cell_type": "code",
   "execution_count": 4,
   "id": "9cb0bf3b-9426-4ac2-97c8-03fc5f36aaba",
   "metadata": {},
   "outputs": [],
   "source": [
    "def resize_images(path):\n",
    "    img_list=os.listdir(path)\n",
    "    target_size=(28,28)\n",
    "    os.chdir(path)\n",
    "    for i in img_list:\n",
    "        full_path=os.path.join(path, i)\n",
    "        big_img=Image.open(full_path)\n",
    "        sm_img=big_img.resize(target_size, Image.ANTIALIAS)\n",
    "        sm_img.save(i, \"JPEG\")"
   ]
  },
  {
   "cell_type": "code",
   "execution_count": 5,
   "id": "3735904d-98f3-451b-b2ee-65e001168ff2",
   "metadata": {},
   "outputs": [
    {
     "name": "stderr",
     "output_type": "stream",
     "text": [
      "C:\\Users\\wader\\AppData\\Local\\Temp\\ipykernel_2188\\2826604337.py:8: DeprecationWarning: ANTIALIAS is deprecated and will be removed in Pillow 10 (2023-07-01). Use Resampling.LANCZOS instead.\n",
      "  sm_img=big_img.resize(target_size, Image.ANTIALIAS)\n"
     ]
    }
   ],
   "source": [
    "resize_images(r_path)\n",
    "resize_images(s_path)\n",
    "resize_images(p_path)"
   ]
  },
  {
   "cell_type": "markdown",
   "id": "6eacef08-0942-49b2-a275-23ac51fcdd77",
   "metadata": {},
   "source": [
    "이미지 파일을 적절하게 불러오기 위해, 교육 자료에서 제시한 함수를 수정하여 사용하였다. load_data()는 실행시 img_path로부터 rock, scissor, paper의 세 폴더에 들어가서 각 값들을 불러온다.(img_path에 rock, scissor, paper의 폴더가 각각 필요하다.)"
   ]
  },
  {
   "cell_type": "code",
   "execution_count": 6,
   "id": "e66c13a3-6d15-4e0a-90d5-f96f95fc8480",
   "metadata": {},
   "outputs": [
    {
     "name": "stdout",
     "output_type": "stream",
     "text": [
      "데이터의 이미지 개수는 300 입니다.\n",
      "데이터의 이미지 개수는 300 입니다.\n",
      "x_train shape: (300, 28, 28, 3)\n",
      "y_train shape: (300,)\n"
     ]
    }
   ],
   "source": [
    "import numpy as np\n",
    "\n",
    "def load_data(img_path, number_of_data=300):  # 가위바위보 이미지 개수 총합에 주의하세요.\n",
    "    # 가위 : 0, 바위 : 1, 보 : 2\n",
    "    img_size=28\n",
    "    color=3\n",
    "    #이미지 데이터와 라벨(가위 : 0, 바위 : 1, 보 : 2) 데이터를 담을 행렬(matrix) 영역을 생성합니다.\n",
    "    imgs=np.zeros(number_of_data*img_size*img_size*color,dtype=np.int32).reshape(number_of_data,img_size,img_size,color)\n",
    "    labels=np.zeros(number_of_data,dtype=np.int32)\n",
    "\n",
    "    idx=0\n",
    "    \n",
    "    sci_list=os.listdir(img_path+'scissor\\\\')\n",
    "    rok_list=os.listdir(img_path+'rock\\\\')\n",
    "    pap_list=os.listdir(img_path+'paper\\\\')\n",
    "    \n",
    "    \n",
    "    for file in sci_list:\n",
    "        file= img_path+'scissor\\\\'+file\n",
    "        img = np.array(Image.open(file),dtype=np.int32)\n",
    "        imgs[idx,:,:,:]=img    # 데이터 영역에 이미지 행렬을 복사\n",
    "        labels[idx]=0   # 가위 : 0\n",
    "        idx=idx+1\n",
    "\n",
    "    for file in rok_list:\n",
    "        file= img_path+'rock\\\\'+file\n",
    "        img = np.array(Image.open(file),dtype=np.int32)\n",
    "        imgs[idx,:,:,:]=img    # 데이터 영역에 이미지 행렬을 복사\n",
    "        labels[idx]=1   # 바위 : 1\n",
    "        idx=idx+1  \n",
    "    \n",
    "    for file in pap_list:\n",
    "        file= img_path+'paper\\\\'+file\n",
    "        img = np.array(Image.open(file),dtype=np.int32)\n",
    "        imgs[idx,:,:,:]=img    # 데이터 영역에 이미지 행렬을 복사\n",
    "        labels[idx]=2   # 보 : 2\n",
    "        idx=idx+1\n",
    "        \n",
    "    print(\"데이터의 이미지 개수는\", idx,\"입니다.\")\n",
    "    return imgs, labels\n",
    "\n",
    "image_dir_path = \"C:\\\\Users\\\\wader\\\\workplace\\\\ess_data\\\\[E-05]Tensor_First\\\\rock_scissor_paper\\\\\"\n",
    "(x_train, y_train)=load_data(image_dir_path)\n",
    "x_train_norm = x_train/255.0   # 입력은 0~1 사이의 값으로 정규화\n",
    "\n",
    "test_dir_path = \"C:\\\\Users\\\\wader\\\\workplace\\\\ess_data\\\\[E-05]Tensor_First\\\\test\\\\rock_scissor_paper\\\\\"\n",
    "(x_test, y_test)=load_data(test_dir_path)\n",
    "x_test_norm = x_test/255.0\n",
    "\n",
    "print(\"x_train shape: {}\".format(x_train_norm.shape))\n",
    "print(\"y_train shape: {}\".format(y_train.shape))"
   ]
  },
  {
   "cell_type": "markdown",
   "id": "45a752db-dd8e-41a1-9811-5bf2d064c1d1",
   "metadata": {},
   "source": [
    "받아온 값을 실제로 실행시켜 보았다."
   ]
  },
  {
   "cell_type": "code",
   "execution_count": 7,
   "id": "2e873cbb-9ab5-4220-b9fa-ccca4025a9c9",
   "metadata": {},
   "outputs": [
    {
     "name": "stdout",
     "output_type": "stream",
     "text": [
      "2\n"
     ]
    },
    {
     "data": {
      "image/png": "[encoded data removed]",
      "text/plain": [
       "<Figure size 640x480 with 1 Axes>"
      ]
     },
     "metadata": {},
     "output_type": "display_data"
    }
   ],
   "source": [
    "plt.imshow(x_train[200])\n",
    "print(y_train[200])"
   ]
  },
  {
   "cell_type": "markdown",
   "id": "a3c62ed4-dc01-438f-bfe6-cb20238019ee",
   "metadata": {},
   "source": [
    "딥러닝 네트워크 설계: 1차 시도는 학습자료에 나온대로 적용"
   ]
  },
  {
   "cell_type": "code",
   "execution_count": 8,
   "id": "26a5df72-9c43-4f66-a512-a08e643aecf3",
   "metadata": {},
   "outputs": [],
   "source": [
    "import tensorflow as tf\n",
    "from tensorflow import keras\n",
    "import numpy as np"
   ]
  },
  {
   "cell_type": "code",
   "execution_count": 9,
   "id": "b825ae67-decd-41da-bf08-0aaf2fc6daca",
   "metadata": {},
   "outputs": [],
   "source": [
    "model=keras.models.Sequential()\n",
    "model.add(keras.layers.Conv2D(16, (3,3), activation='relu', input_shape=(28,28,3)))\n",
    "model.add(keras.layers.MaxPool2D(2,2))\n",
    "model.add(keras.layers.Conv2D(32, (3,3), activation='relu'))\n",
    "model.add(keras.layers.MaxPooling2D((2,2)))\n",
    "model.add(keras.layers.Flatten())\n",
    "model.add(keras.layers.Dense(32, activation='relu'))\n",
    "model.add(keras.layers.Dense(3, activation='softmax'))"
   ]
  },
  {
   "cell_type": "code",
   "execution_count": 10,
   "id": "f5dd6e45-964b-411c-bfa7-f3b565716bf0",
   "metadata": {},
   "outputs": [
    {
     "name": "stdout",
     "output_type": "stream",
     "text": [
      "Model: \"sequential\"\n",
      "_________________________________________________________________\n",
      " Layer (type)                Output Shape              Param #   \n",
      "=================================================================\n",
      " conv2d (Conv2D)             (None, 26, 26, 16)        448       \n",
      "                                                                 \n",
      " max_pooling2d (MaxPooling2D  (None, 13, 13, 16)       0         \n",
      " )                                                               \n",
      "                                                                 \n",
      " conv2d_1 (Conv2D)           (None, 11, 11, 32)        4640      \n",
      "                                                                 \n",
      " max_pooling2d_1 (MaxPooling  (None, 5, 5, 32)         0         \n",
      " 2D)                                                             \n",
      "                                                                 \n",
      " flatten (Flatten)           (None, 800)               0         \n",
      "                                                                 \n",
      " dense (Dense)               (None, 32)                25632     \n",
      "                                                                 \n",
      " dense_1 (Dense)             (None, 3)                 99        \n",
      "                                                                 \n",
      "=================================================================\n",
      "Total params: 30,819\n",
      "Trainable params: 30,819\n",
      "Non-trainable params: 0\n",
      "_________________________________________________________________\n"
     ]
    }
   ],
   "source": [
    "model.summary()"
   ]
  },
  {
   "cell_type": "code",
   "execution_count": 11,
   "id": "179f1f79-47f2-4e23-80d1-26656e18eaa5",
   "metadata": {},
   "outputs": [
    {
     "name": "stdout",
     "output_type": "stream",
     "text": [
      "Epoch 1/10\n",
      "10/10 [==============================] - 1s 11ms/step - loss: 1.1029 - accuracy: 0.3167\n",
      "Epoch 2/10\n",
      "10/10 [==============================] - 0s 17ms/step - loss: 1.0858 - accuracy: 0.6033\n",
      "Epoch 3/10\n",
      "10/10 [==============================] - 0s 13ms/step - loss: 1.0663 - accuracy: 0.4767\n",
      "Epoch 4/10\n",
      "10/10 [==============================] - 0s 16ms/step - loss: 1.0383 - accuracy: 0.5700\n",
      "Epoch 5/10\n",
      "10/10 [==============================] - 0s 11ms/step - loss: 0.9883 - accuracy: 0.5867\n",
      "Epoch 6/10\n",
      "10/10 [==============================] - 0s 9ms/step - loss: 0.9107 - accuracy: 0.6000\n",
      "Epoch 7/10\n",
      "10/10 [==============================] - 0s 16ms/step - loss: 0.8054 - accuracy: 0.6467\n",
      "Epoch 8/10\n",
      "10/10 [==============================] - 0s 12ms/step - loss: 0.6827 - accuracy: 0.7700\n",
      "Epoch 9/10\n",
      "10/10 [==============================] - 0s 10ms/step - loss: 0.5746 - accuracy: 0.7600\n",
      "Epoch 10/10\n",
      "10/10 [==============================] - 0s 12ms/step - loss: 0.5292 - accuracy: 0.7933\n"
     ]
    },
    {
     "data": {
      "text/plain": [
       "<keras.callbacks.History at 0x2d962a8f610>"
      ]
     },
     "execution_count": 11,
     "metadata": {},
     "output_type": "execute_result"
    }
   ],
   "source": [
    "model.compile(optimizer='adam',\n",
    "             loss='sparse_categorical_crossentropy',\n",
    "             metrics=['accuracy'])\n",
    "\n",
    "model.fit(x_train_norm, y_train, epochs=10)"
   ]
  },
  {
   "cell_type": "code",
   "execution_count": 12,
   "id": "8708e5a3-8cc3-47cf-9897-d1505d9bf92c",
   "metadata": {},
   "outputs": [
    {
     "name": "stdout",
     "output_type": "stream",
     "text": [
      "10/10 - 0s - loss: 2.2639 - accuracy: 0.4000 - 373ms/epoch - 37ms/step\n",
      "test_loss: 2.263859748840332\n",
      "test_accuracy: 0.4000000059604645\n"
     ]
    }
   ],
   "source": [
    "test_loss, test_accuracy = model.evaluate(x_test_norm,y_test, verbose=2)\n",
    "print(f\"test_loss: {test_loss}\")\n",
    "print(f\"test_accuracy: {test_accuracy}\")"
   ]
  },
  {
   "cell_type": "markdown",
   "id": "c062a823-cf2a-446a-ac00-43d18dced611",
   "metadata": {},
   "source": [
    "예상했던 대로 높은 수치의 값이 나오지 않았다. 반복하여 돌렸을 때, 0.3에서 0.5 정도의 값이 나왔으며, 0.5가 나왔다고 한들 큰 의미를 두기는 어려워 보인다. 데이터셋, 모델 설계, 매개변수 등 다양한 요소들에 대해 실험해 보도록 하자. 먼저, 가장 쉽게 할 수 있는 매개변수 조작부터 실행해 보았다."
   ]
  },
  {
   "cell_type": "code",
   "execution_count": 13,
   "id": "72e51e27-7510-4c4c-8e2b-852b846b6c7a",
   "metadata": {},
   "outputs": [],
   "source": [
    "n_channel_1=128\n",
    "n_channel_2=256\n",
    "n_dense=50\n",
    "n_train_epoch=20\n",
    "\n",
    "\n",
    "model=keras.models.Sequential()\n",
    "model.add(keras.layers.Conv2D(n_channel_1, (3,3), activation='relu', input_shape=(28,28,3)))\n",
    "model.add(keras.layers.MaxPool2D(2,2))\n",
    "model.add(keras.layers.Conv2D(n_channel_2, (3,3), activation='relu'))\n",
    "model.add(keras.layers.MaxPooling2D((2,2)))\n",
    "model.add(keras.layers.Flatten())\n",
    "model.add(keras.layers.Dense(n_dense, activation='relu'))\n",
    "model.add(keras.layers.Dense(3, activation='softmax'))"
   ]
  },
  {
   "cell_type": "code",
   "execution_count": 14,
   "id": "d25653a4-a59c-4910-9ef4-91297571ab45",
   "metadata": {},
   "outputs": [
    {
     "name": "stdout",
     "output_type": "stream",
     "text": [
      "Epoch 1/20\n",
      "10/10 [==============================] - 2s 128ms/step - loss: 1.1003 - accuracy: 0.3833\n",
      "Epoch 2/20\n",
      "10/10 [==============================] - 1s 88ms/step - loss: 0.9596 - accuracy: 0.6633\n",
      "Epoch 3/20\n",
      "10/10 [==============================] - 1s 94ms/step - loss: 0.7334 - accuracy: 0.6833\n",
      "Epoch 4/20\n",
      "10/10 [==============================] - 1s 92ms/step - loss: 0.4853 - accuracy: 0.8200\n",
      "Epoch 5/20\n",
      "10/10 [==============================] - 1s 92ms/step - loss: 0.3719 - accuracy: 0.8333\n",
      "Epoch 6/20\n",
      "10/10 [==============================] - 1s 89ms/step - loss: 0.3162 - accuracy: 0.8667\n",
      "Epoch 7/20\n",
      "10/10 [==============================] - 1s 93ms/step - loss: 0.2379 - accuracy: 0.9167\n",
      "Epoch 8/20\n",
      "10/10 [==============================] - 1s 89ms/step - loss: 0.1783 - accuracy: 0.9467\n",
      "Epoch 9/20\n",
      "10/10 [==============================] - 1s 93ms/step - loss: 0.1270 - accuracy: 0.9833\n",
      "Epoch 10/20\n",
      "10/10 [==============================] - 1s 98ms/step - loss: 0.0919 - accuracy: 0.9967\n",
      "Epoch 11/20\n",
      "10/10 [==============================] - 1s 97ms/step - loss: 0.0700 - accuracy: 0.9833\n",
      "Epoch 12/20\n",
      "10/10 [==============================] - 1s 126ms/step - loss: 0.0409 - accuracy: 1.0000\n",
      "Epoch 13/20\n",
      "10/10 [==============================] - 1s 123ms/step - loss: 0.0356 - accuracy: 0.9933\n",
      "Epoch 14/20\n",
      "10/10 [==============================] - 1s 140ms/step - loss: 0.0277 - accuracy: 1.0000\n",
      "Epoch 15/20\n",
      "10/10 [==============================] - 1s 128ms/step - loss: 0.0344 - accuracy: 0.9833\n",
      "Epoch 16/20\n",
      "10/10 [==============================] - 1s 135ms/step - loss: 0.0176 - accuracy: 1.0000\n",
      "Epoch 17/20\n",
      "10/10 [==============================] - 1s 104ms/step - loss: 0.0135 - accuracy: 1.0000\n",
      "Epoch 18/20\n",
      "10/10 [==============================] - 1s 107ms/step - loss: 0.0119 - accuracy: 1.0000\n",
      "Epoch 19/20\n",
      "10/10 [==============================] - 1s 121ms/step - loss: 0.0079 - accuracy: 1.0000\n",
      "Epoch 20/20\n",
      "10/10 [==============================] - 1s 105ms/step - loss: 0.0069 - accuracy: 1.0000\n"
     ]
    },
    {
     "data": {
      "text/plain": [
       "<keras.callbacks.History at 0x2d965d632b0>"
      ]
     },
     "execution_count": 14,
     "metadata": {},
     "output_type": "execute_result"
    }
   ],
   "source": [
    "model.compile(optimizer='adam',\n",
    "             loss='sparse_categorical_crossentropy',\n",
    "             metrics=['accuracy'])\n",
    "\n",
    "model.fit(x_train_norm, y_train, epochs=n_train_epoch)"
   ]
  },
  {
   "cell_type": "code",
   "execution_count": 15,
   "id": "87d0d218-921b-44b9-9447-4be7a08e06ad",
   "metadata": {},
   "outputs": [
    {
     "name": "stdout",
     "output_type": "stream",
     "text": [
      "10/10 - 1s - loss: 3.4720 - accuracy: 0.4667 - 696ms/epoch - 70ms/step\n",
      "test_loss: 3.4720101356506348\n",
      "test_accuracy: 0.46666666865348816\n"
     ]
    }
   ],
   "source": [
    "test_loss, test_accuracy = model.evaluate(x_test_norm,y_test, verbose=2)\n",
    "print(f\"test_loss: {test_loss}\")\n",
    "print(f\"test_accuracy: {test_accuracy}\")"
   ]
  },
  {
   "cell_type": "markdown",
   "id": "0916b9bf-a80e-4655-bfd7-be53639c0ac5",
   "metadata": {
    "tags": []
   },
   "source": [
    "여러번의 시행을 해봤지만 만족할만한 결과를 얻을 수는 없었다. 모델은 낮게는 0.35, 높게는 0.50 대의 정확도를 보여주었으며, 거의 달라진 것은 없었다. 그래서 통합 데이터셋을 사용하였다.\n",
    "# 통합 데이터셋 사용"
   ]
  },
  {
   "cell_type": "code",
   "execution_count": 72,
   "id": "c4c01b5d-a86b-43e5-9dba-3c9fa03d249e",
   "metadata": {
    "tags": []
   },
   "outputs": [
    {
     "name": "stderr",
     "output_type": "stream",
     "text": [
      "C:\\Users\\wader\\AppData\\Local\\Temp\\ipykernel_2188\\2826604337.py:8: DeprecationWarning: ANTIALIAS is deprecated and will be removed in Pillow 10 (2023-07-01). Use Resampling.LANCZOS instead.\n",
      "  sm_img=big_img.resize(target_size, Image.ANTIALIAS)\n"
     ]
    }
   ],
   "source": [
    "# 통합 데이터셋 변환 한번만 할 것\n",
    "r_path='C:\\\\Users\\\\wader\\\\workplace\\\\ess_data\\\\[E-05]Tensor_First\\\\ent_data\\\\rock_scissor_paper\\\\rock'\n",
    "s_path='C:\\\\Users\\\\wader\\\\workplace\\\\ess_data\\\\[E-05]Tensor_First\\\\ent_data\\\\rock_scissor_paper\\\\scissor'\n",
    "p_path='C:\\\\Users\\\\wader\\\\workplace\\\\ess_data\\\\[E-05]Tensor_First\\\\ent_data\\\\rock_scissor_paper\\\\paper'\n",
    "\n",
    "\n",
    "resize_images(r_path)\n",
    "resize_images(s_path)\n",
    "resize_images(p_path)"
   ]
  },
  {
   "cell_type": "code",
   "execution_count": 73,
   "id": "43b8bc7b-8f7f-4e86-97b1-6dc518cb871c",
   "metadata": {},
   "outputs": [],
   "source": [
    "import numpy as np\n",
    "\n",
    "def load_data_ent(img_path, number_of_data=7372):  # 가위바위보 이미지 개수 총합에 주의하세요.\n",
    "    # 가위 : 0, 바위 : 1, 보 : 2\n",
    "    img_size=28\n",
    "    color=3\n",
    "    #이미지 데이터와 라벨(가위 : 0, 바위 : 1, 보 : 2) 데이터를 담을 행렬(matrix) 영역을 생성합니다.\n",
    "    imgs=np.zeros(number_of_data*img_size*img_size*color,dtype=np.int32).reshape(number_of_data,img_size,img_size,color)\n",
    "    labels=np.zeros(number_of_data,dtype=np.int32)\n",
    "\n",
    "    idx=0\n",
    "    \n",
    "    sci_list=os.listdir(img_path+'scissor\\\\')\n",
    "    rok_list=os.listdir(img_path+'rock\\\\')\n",
    "    pap_list=os.listdir(img_path+'paper\\\\')\n",
    "    \n",
    "    \n",
    "    for file in sci_list:\n",
    "        file= img_path+'scissor\\\\'+file\n",
    "        img = np.array(Image.open(file),dtype=np.int32)\n",
    "        imgs[idx,:,:,:]=img    # 데이터 영역에 이미지 행렬을 복사\n",
    "        labels[idx]=0   # 가위 : 0\n",
    "        idx=idx+1\n",
    "\n",
    "    for file in rok_list:\n",
    "        file= img_path+'rock\\\\'+file\n",
    "        img = np.array(Image.open(file),dtype=np.int32)\n",
    "        imgs[idx,:,:,:]=img    # 데이터 영역에 이미지 행렬을 복사\n",
    "        labels[idx]=1   # 바위 : 1\n",
    "        idx=idx+1  \n",
    "    \n",
    "    for file in pap_list:\n",
    "        file= img_path+'paper\\\\'+file\n",
    "        img = np.array(Image.open(file),dtype=np.int32)\n",
    "        imgs[idx,:,:,:]=img    # 데이터 영역에 이미지 행렬을 복사\n",
    "        labels[idx]=2   # 보 : 2\n",
    "        idx=idx+1\n",
    "        \n",
    "    print(\"데이터의 이미지 개수는\", idx,\"입니다.\")\n",
    "    return imgs, labels"
   ]
  },
  {
   "cell_type": "code",
   "execution_count": 74,
   "id": "536ad05c-d120-47a4-b657-02bdcd5dbe14",
   "metadata": {},
   "outputs": [
    {
     "name": "stdout",
     "output_type": "stream",
     "text": [
      "데이터의 이미지 개수는 7372 입니다.\n",
      "데이터의 이미지 개수는 300 입니다.\n"
     ]
    }
   ],
   "source": [
    "ent_image_dir_path='C:\\\\Users\\\\wader\\\\workplace\\\\ess_data\\\\[E-05]Tensor_First\\\\ent_data\\\\rock_scissor_paper\\\\'\n",
    "(x_train, y_train)=load_data_ent(ent_image_dir_path)\n",
    "x_train_norm = x_train/255.0   \n",
    "\n",
    "test_dir_path = \"C:\\\\Users\\\\wader\\\\workplace\\\\ess_data\\\\[E-05]Tensor_First\\\\test\\\\rock_scissor_paper\\\\\"\n",
    "(x_test, y_test)=load_data(test_dir_path)\n",
    "x_test_norm = x_test/255.0"
   ]
  },
  {
   "cell_type": "code",
   "execution_count": 75,
   "id": "4e495c35-79b1-4085-893d-cc437f2cdd12",
   "metadata": {},
   "outputs": [
    {
     "name": "stdout",
     "output_type": "stream",
     "text": [
      "x_train shape: (7372, 28, 28, 3)\n",
      "y_train shape: (7372,)\n"
     ]
    }
   ],
   "source": [
    "print(\"x_train shape: {}\".format(x_train_norm.shape))\n",
    "print(\"y_train shape: {}\".format(y_train.shape))"
   ]
  },
  {
   "cell_type": "code",
   "execution_count": 76,
   "id": "e036d63a-f079-4868-a926-761d2af22441",
   "metadata": {},
   "outputs": [
    {
     "name": "stdout",
     "output_type": "stream",
     "text": [
      "0\n"
     ]
    },
    {
     "data": {
      "image/png": "[encoded data removed]",
      "text/plain": [
       "<Figure size 640x480 with 1 Axes>"
      ]
     },
     "metadata": {},
     "output_type": "display_data"
    }
   ],
   "source": [
    "plt.imshow(x_train[500])\n",
    "print(y_train[500])"
   ]
  },
  {
   "cell_type": "code",
   "execution_count": 77,
   "id": "67583806-d7e9-4517-ad76-3d8b2b38d5c6",
   "metadata": {},
   "outputs": [],
   "source": [
    "# model=keras.models.Sequential()\n",
    "# model.add(keras.layers.Conv2D(16, (3,3), activation='relu', input_shape=(28,28,3)))\n",
    "# model.add(keras.layers.MaxPool2D(2,2))\n",
    "# model.add(keras.layers.Conv2D(32, (3,3), activation='relu'))\n",
    "# model.add(keras.layers.MaxPooling2D((2,2)))\n",
    "# model.add(keras.layers.Flatten())\n",
    "# model.add(keras.layers.Dense(32, activation='relu'))\n",
    "# model.add(keras.layers.Dense(3, activation='softmax'))\n",
    "\n",
    "# 노드 기본 레이어 및 파라미터로 테스트\n",
    "n_channel_1=16\n",
    "n_channel_2=32\n",
    "n_dense=32\n",
    "n_train_epoch=10\n",
    "\n",
    "\n",
    "model=keras.models.Sequential()\n",
    "model.add(keras.layers.Conv2D(n_channel_1, (3,3), activation='relu', input_shape=(28,28,3)))\n",
    "model.add(keras.layers.MaxPool2D(2,2))\n",
    "model.add(keras.layers.Conv2D(n_channel_2, (3,3), activation='relu'))\n",
    "model.add(keras.layers.MaxPooling2D((2,2)))\n",
    "model.add(keras.layers.Flatten())\n",
    "model.add(keras.layers.Dense(n_dense, activation='relu'))\n",
    "model.add(keras.layers.Dense(3, activation='softmax'))"
   ]
  },
  {
   "cell_type": "code",
   "execution_count": 78,
   "id": "394cae1f-601a-4fa8-acda-ef2da002470c",
   "metadata": {},
   "outputs": [
    {
     "name": "stdout",
     "output_type": "stream",
     "text": [
      "Epoch 1/10\n",
      "231/231 [==============================] - 3s 8ms/step - loss: 0.9748 - accuracy: 0.5210\n",
      "Epoch 2/10\n",
      "231/231 [==============================] - 2s 8ms/step - loss: 0.5991 - accuracy: 0.7633\n",
      "Epoch 3/10\n",
      "231/231 [==============================] - 2s 7ms/step - loss: 0.4045 - accuracy: 0.8376\n",
      "Epoch 4/10\n",
      "231/231 [==============================] - 1s 6ms/step - loss: 0.2831 - accuracy: 0.8893\n",
      "Epoch 5/10\n",
      "231/231 [==============================] - 6s 27ms/step - loss: 0.2173 - accuracy: 0.9183\n",
      "Epoch 6/10\n",
      "231/231 [==============================] - 2s 10ms/step - loss: 0.1688 - accuracy: 0.9399\n",
      "Epoch 7/10\n",
      "231/231 [==============================] - 2s 9ms/step - loss: 0.1331 - accuracy: 0.9501\n",
      "Epoch 8/10\n",
      "231/231 [==============================] - 2s 8ms/step - loss: 0.1017 - accuracy: 0.9660\n",
      "Epoch 9/10\n",
      "231/231 [==============================] - 2s 7ms/step - loss: 0.0898 - accuracy: 0.9712\n",
      "Epoch 10/10\n",
      "231/231 [==============================] - 2s 7ms/step - loss: 0.0753 - accuracy: 0.9719\n"
     ]
    },
    {
     "data": {
      "text/plain": [
       "<keras.callbacks.History at 0x2d9000f1f10>"
      ]
     },
     "execution_count": 78,
     "metadata": {},
     "output_type": "execute_result"
    }
   ],
   "source": [
    "model.compile(optimizer='adam',\n",
    "             loss='sparse_categorical_crossentropy',\n",
    "             metrics=['accuracy'])\n",
    "\n",
    "model.fit(x_train_norm, y_train, epochs=n_train_epoch)"
   ]
  },
  {
   "cell_type": "code",
   "execution_count": 79,
   "id": "e58c7560-1f9c-452e-8cb3-2e216cf106de",
   "metadata": {},
   "outputs": [
    {
     "name": "stdout",
     "output_type": "stream",
     "text": [
      "10/10 - 0s - loss: 2.3325 - accuracy: 0.6200 - 479ms/epoch - 48ms/step\n",
      "test_loss: 2.3324732780456543\n",
      "test_accuracy: 0.6200000047683716\n"
     ]
    }
   ],
   "source": [
    "test_loss, test_accuracy = model.evaluate(x_test_norm,y_test, verbose=2)\n",
    "print(f\"test_loss: {test_loss}\")\n",
    "print(f\"test_accuracy: {test_accuracy}\")"
   ]
  },
  {
   "cell_type": "code",
   "execution_count": null,
   "id": "bbe1ea39-2b17-4555-820b-d8cb4c0cc834",
   "metadata": {},
   "outputs": [],
   "source": [
    "# https://sevillabk.github.io/1-learning-visualiztion/"
   ]
  }
 ],
 "metadata": {
  "kernelspec": {
   "display_name": "Python 3 (ipykernel)",
   "language": "python",
   "name": "python3"
  },
  "language_info": {
   "codemirror_mode": {
    "name": "ipython",
    "version": 3
   },
   "file_extension": ".py",
   "mimetype": "text/x-python",
   "name": "python",
   "nbconvert_exporter": "python",
   "pygments_lexer": "ipython3",
   "version": "3.8.8"
  }
 },
 "nbformat": 4,
 "nbformat_minor": 5
}
