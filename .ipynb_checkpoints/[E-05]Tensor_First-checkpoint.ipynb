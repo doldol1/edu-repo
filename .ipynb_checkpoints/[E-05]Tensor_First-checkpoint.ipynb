{
 "cells": [
  {
   "cell_type": "markdown",
   "id": "c8458ae1-d543-418e-933b-96c10347fb31",
   "metadata": {},
   "source": [
    "### 가위바위보 분류기 만들기\n",
    "루브릭 및 과정\n",
    "1. 이미지 분류기 모델이 성공적으로 만들어졌는가?  \n",
    "학습과정이 정상적으로 수행되었으며, 학습 결과에 대한 그래프를 시각화(ex. train acc / train loss / val acc / val loss 등) 해 보았음  \n",
    "2. 오버피팅을 극복하기 위한 적절한 시도가 있었는가?\n",
    "오버피팅 극복을 위하여 데이터셋의 다양성, 정규화 등을 2가지 이상 시도해보았음  \n",
    "3. 분류모델의 test accuracy가 기준 이상 높게 나왔는가?\n",
    "60% 이상 도달"
   ]
  },
  {
   "cell_type": "code",
   "execution_count": null,
   "id": "436977e5-3ec2-4df4-9797-cc6dcc967f60",
   "metadata": {},
   "outputs": [],
   "source": []
  }
 ],
 "metadata": {
  "kernelspec": {
   "display_name": "Python 3 (ipykernel)",
   "language": "python",
   "name": "python3"
  },
  "language_info": {
   "codemirror_mode": {
    "name": "ipython",
    "version": 3
   },
   "file_extension": ".py",
   "mimetype": "text/x-python",
   "name": "python",
   "nbconvert_exporter": "python",
   "pygments_lexer": "ipython3",
   "version": "3.8.8"
  }
 },
 "nbformat": 4,
 "nbformat_minor": 5
}
