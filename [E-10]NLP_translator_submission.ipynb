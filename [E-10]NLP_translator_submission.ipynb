{
 "cells": [
  {
   "cell_type": "markdown",
   "id": "598ee455",
   "metadata": {},
   "source": [
    "# 단어 Level 번역기 만들기\n",
    "데이터는 상위 33,000개의 샘플만 사용  \n",
    "  \n",
    "  \n",
    "### 데이터 불러오기 및 전처리"
   ]
  },
  {
   "cell_type": "code",
   "execution_count": 1,
   "id": "b81cd555",
   "metadata": {},
   "outputs": [],
   "source": [
    "import pandas as pd\n",
    "from tensorflow.keras.preprocessing.text import Tokenizer\n",
    "from tensorflow.keras.preprocessing.sequence import pad_sequences\n",
    "from tensorflow.keras.utils import to_categorical\n",
    "import numpy as np\n",
    "import os"
   ]
  },
  {
   "cell_type": "code",
   "execution_count": 2,
   "id": "0038d5f0",
   "metadata": {},
   "outputs": [
    {
     "name": "stdout",
     "output_type": "stream",
     "text": [
      "전체 샘플의 수 : 197463\n"
     ]
    },
    {
     "data": {
      "text/html": [
       "<div>\n",
       "<style scoped>\n",
       "    .dataframe tbody tr th:only-of-type {\n",
       "        vertical-align: middle;\n",
       "    }\n",
       "\n",
       "    .dataframe tbody tr th {\n",
       "        vertical-align: top;\n",
       "    }\n",
       "\n",
       "    .dataframe thead th {\n",
       "        text-align: right;\n",
       "    }\n",
       "</style>\n",
       "<table border=\"1\" class=\"dataframe\">\n",
       "  <thead>\n",
       "    <tr style=\"text-align: right;\">\n",
       "      <th></th>\n",
       "      <th>eng</th>\n",
       "      <th>fra</th>\n",
       "      <th>cc</th>\n",
       "    </tr>\n",
       "  </thead>\n",
       "  <tbody>\n",
       "    <tr>\n",
       "      <th>0</th>\n",
       "      <td>Go.</td>\n",
       "      <td>Va !</td>\n",
       "      <td>CC-BY 2.0 (France) Attribution: tatoeba.org #2...</td>\n",
       "    </tr>\n",
       "    <tr>\n",
       "      <th>1</th>\n",
       "      <td>Go.</td>\n",
       "      <td>Marche.</td>\n",
       "      <td>CC-BY 2.0 (France) Attribution: tatoeba.org #2...</td>\n",
       "    </tr>\n",
       "    <tr>\n",
       "      <th>2</th>\n",
       "      <td>Go.</td>\n",
       "      <td>En route !</td>\n",
       "      <td>CC-BY 2.0 (France) Attribution: tatoeba.org #2...</td>\n",
       "    </tr>\n",
       "    <tr>\n",
       "      <th>3</th>\n",
       "      <td>Go.</td>\n",
       "      <td>Bouge !</td>\n",
       "      <td>CC-BY 2.0 (France) Attribution: tatoeba.org #2...</td>\n",
       "    </tr>\n",
       "    <tr>\n",
       "      <th>4</th>\n",
       "      <td>Hi.</td>\n",
       "      <td>Salut !</td>\n",
       "      <td>CC-BY 2.0 (France) Attribution: tatoeba.org #5...</td>\n",
       "    </tr>\n",
       "  </tbody>\n",
       "</table>\n",
       "</div>"
      ],
      "text/plain": [
       "   eng         fra                                                 cc\n",
       "0  Go.        Va !  CC-BY 2.0 (France) Attribution: tatoeba.org #2...\n",
       "1  Go.     Marche.  CC-BY 2.0 (France) Attribution: tatoeba.org #2...\n",
       "2  Go.  En route !  CC-BY 2.0 (France) Attribution: tatoeba.org #2...\n",
       "3  Go.     Bouge !  CC-BY 2.0 (France) Attribution: tatoeba.org #2...\n",
       "4  Hi.     Salut !  CC-BY 2.0 (France) Attribution: tatoeba.org #5..."
      ]
     },
     "execution_count": 2,
     "metadata": {},
     "output_type": "execute_result"
    }
   ],
   "source": [
    "file_path = os.getenv('HOME')+'/aiffel/translator_seq2seq/data/fra.txt'\n",
    "lines = pd.read_csv(file_path, names=['eng', 'fra', 'cc'], sep='\\t')\n",
    "print('전체 샘플의 수 :',len(lines))\n",
    "# lines.sample(5) #샘플 5개 출력\n",
    "lines.head(5)"
   ]
  },
  {
   "cell_type": "code",
   "execution_count": 3,
   "id": "8d25b4df",
   "metadata": {},
   "outputs": [
    {
     "data": {
      "text/html": [
       "<div>\n",
       "<style scoped>\n",
       "    .dataframe tbody tr th:only-of-type {\n",
       "        vertical-align: middle;\n",
       "    }\n",
       "\n",
       "    .dataframe tbody tr th {\n",
       "        vertical-align: top;\n",
       "    }\n",
       "\n",
       "    .dataframe thead th {\n",
       "        text-align: right;\n",
       "    }\n",
       "</style>\n",
       "<table border=\"1\" class=\"dataframe\">\n",
       "  <thead>\n",
       "    <tr style=\"text-align: right;\">\n",
       "      <th></th>\n",
       "      <th>eng</th>\n",
       "      <th>fra</th>\n",
       "    </tr>\n",
       "  </thead>\n",
       "  <tbody>\n",
       "    <tr>\n",
       "      <th>0</th>\n",
       "      <td>Go.</td>\n",
       "      <td>Va !</td>\n",
       "    </tr>\n",
       "    <tr>\n",
       "      <th>1</th>\n",
       "      <td>Go.</td>\n",
       "      <td>Marche.</td>\n",
       "    </tr>\n",
       "    <tr>\n",
       "      <th>2</th>\n",
       "      <td>Go.</td>\n",
       "      <td>En route !</td>\n",
       "    </tr>\n",
       "    <tr>\n",
       "      <th>3</th>\n",
       "      <td>Go.</td>\n",
       "      <td>Bouge !</td>\n",
       "    </tr>\n",
       "    <tr>\n",
       "      <th>4</th>\n",
       "      <td>Hi.</td>\n",
       "      <td>Salut !</td>\n",
       "    </tr>\n",
       "  </tbody>\n",
       "</table>\n",
       "</div>"
      ],
      "text/plain": [
       "   eng         fra\n",
       "0  Go.        Va !\n",
       "1  Go.     Marche.\n",
       "2  Go.  En route !\n",
       "3  Go.     Bouge !\n",
       "4  Hi.     Salut !"
      ]
     },
     "execution_count": 3,
     "metadata": {},
     "output_type": "execute_result"
    }
   ],
   "source": [
    "# 3만 3천개의 데이터만 사용한다.(train 30000, test 3000)\n",
    "lines = lines[['eng', 'fra']][:33000]\n",
    "lines.head()"
   ]
  },
  {
   "cell_type": "code",
   "execution_count": 4,
   "id": "4535d5aa",
   "metadata": {},
   "outputs": [
    {
     "name": "stdout",
     "output_type": "stream",
     "text": [
      "전체 샘플의 수 : 33000\n"
     ]
    },
    {
     "data": {
      "text/html": [
       "<div>\n",
       "<style scoped>\n",
       "    .dataframe tbody tr th:only-of-type {\n",
       "        vertical-align: middle;\n",
       "    }\n",
       "\n",
       "    .dataframe tbody tr th {\n",
       "        vertical-align: top;\n",
       "    }\n",
       "\n",
       "    .dataframe thead th {\n",
       "        text-align: right;\n",
       "    }\n",
       "</style>\n",
       "<table border=\"1\" class=\"dataframe\">\n",
       "  <thead>\n",
       "    <tr style=\"text-align: right;\">\n",
       "      <th></th>\n",
       "      <th>eng</th>\n",
       "      <th>fra</th>\n",
       "    </tr>\n",
       "  </thead>\n",
       "  <tbody>\n",
       "    <tr>\n",
       "      <th>0</th>\n",
       "      <td>Go.</td>\n",
       "      <td>&lt;sos&gt; Va ! &lt;eos&gt;</td>\n",
       "    </tr>\n",
       "    <tr>\n",
       "      <th>1</th>\n",
       "      <td>Go.</td>\n",
       "      <td>&lt;sos&gt; Marche. &lt;eos&gt;</td>\n",
       "    </tr>\n",
       "    <tr>\n",
       "      <th>2</th>\n",
       "      <td>Go.</td>\n",
       "      <td>&lt;sos&gt; En route ! &lt;eos&gt;</td>\n",
       "    </tr>\n",
       "    <tr>\n",
       "      <th>3</th>\n",
       "      <td>Go.</td>\n",
       "      <td>&lt;sos&gt; Bouge ! &lt;eos&gt;</td>\n",
       "    </tr>\n",
       "    <tr>\n",
       "      <th>4</th>\n",
       "      <td>Hi.</td>\n",
       "      <td>&lt;sos&gt; Salut ! &lt;eos&gt;</td>\n",
       "    </tr>\n",
       "    <tr>\n",
       "      <th>5</th>\n",
       "      <td>Hi.</td>\n",
       "      <td>&lt;sos&gt; Salut. &lt;eos&gt;</td>\n",
       "    </tr>\n",
       "    <tr>\n",
       "      <th>6</th>\n",
       "      <td>Run!</td>\n",
       "      <td>&lt;sos&gt; Cours ! &lt;eos&gt;</td>\n",
       "    </tr>\n",
       "    <tr>\n",
       "      <th>7</th>\n",
       "      <td>Run!</td>\n",
       "      <td>&lt;sos&gt; Courez ! &lt;eos&gt;</td>\n",
       "    </tr>\n",
       "    <tr>\n",
       "      <th>8</th>\n",
       "      <td>Run!</td>\n",
       "      <td>&lt;sos&gt; Prenez vos jambes à vos cous ! &lt;eos&gt;</td>\n",
       "    </tr>\n",
       "    <tr>\n",
       "      <th>9</th>\n",
       "      <td>Run!</td>\n",
       "      <td>&lt;sos&gt; File ! &lt;eos&gt;</td>\n",
       "    </tr>\n",
       "  </tbody>\n",
       "</table>\n",
       "</div>"
      ],
      "text/plain": [
       "    eng                                         fra\n",
       "0   Go.                            <sos> Va ! <eos>\n",
       "1   Go.                         <sos> Marche. <eos>\n",
       "2   Go.                      <sos> En route ! <eos>\n",
       "3   Go.                         <sos> Bouge ! <eos>\n",
       "4   Hi.                         <sos> Salut ! <eos>\n",
       "5   Hi.                          <sos> Salut. <eos>\n",
       "6  Run!                         <sos> Cours ! <eos>\n",
       "7  Run!                        <sos> Courez ! <eos>\n",
       "8  Run!  <sos> Prenez vos jambes à vos cous ! <eos>\n",
       "9  Run!                          <sos> File ! <eos>"
      ]
     },
     "execution_count": 4,
     "metadata": {},
     "output_type": "execute_result"
    }
   ],
   "source": [
    "# 시작 토큰과 종료 토큰 추가\n",
    "sos_token = '<sos>'\n",
    "eos_token = '<eos>'\n",
    "# sos_token과 eos_token사이에 ' '를 추가하여야 토그나이저에서 문제를 일으키지 않는다.\n",
    "lines.fra = lines.fra.apply(lambda x : sos_token + ' ' + x + ' '+ eos_token)\n",
    "print('전체 샘플의 수 :',len(lines))\n",
    "lines.head(10)"
   ]
  },
  {
   "cell_type": "code",
   "execution_count": 5,
   "id": "4a10c2d7",
   "metadata": {},
   "outputs": [
    {
     "data": {
      "text/html": [
       "<div>\n",
       "<style scoped>\n",
       "    .dataframe tbody tr th:only-of-type {\n",
       "        vertical-align: middle;\n",
       "    }\n",
       "\n",
       "    .dataframe tbody tr th {\n",
       "        vertical-align: top;\n",
       "    }\n",
       "\n",
       "    .dataframe thead th {\n",
       "        text-align: right;\n",
       "    }\n",
       "</style>\n",
       "<table border=\"1\" class=\"dataframe\">\n",
       "  <thead>\n",
       "    <tr style=\"text-align: right;\">\n",
       "      <th></th>\n",
       "      <th>eng</th>\n",
       "      <th>fra</th>\n",
       "    </tr>\n",
       "  </thead>\n",
       "  <tbody>\n",
       "    <tr>\n",
       "      <th>0</th>\n",
       "      <td>go.</td>\n",
       "      <td>&lt;sos&gt; va ! &lt;eos&gt;</td>\n",
       "    </tr>\n",
       "    <tr>\n",
       "      <th>1</th>\n",
       "      <td>go.</td>\n",
       "      <td>&lt;sos&gt; marche. &lt;eos&gt;</td>\n",
       "    </tr>\n",
       "    <tr>\n",
       "      <th>2</th>\n",
       "      <td>go.</td>\n",
       "      <td>&lt;sos&gt; en route ! &lt;eos&gt;</td>\n",
       "    </tr>\n",
       "    <tr>\n",
       "      <th>3</th>\n",
       "      <td>go.</td>\n",
       "      <td>&lt;sos&gt; bouge ! &lt;eos&gt;</td>\n",
       "    </tr>\n",
       "    <tr>\n",
       "      <th>4</th>\n",
       "      <td>hi.</td>\n",
       "      <td>&lt;sos&gt; salut ! &lt;eos&gt;</td>\n",
       "    </tr>\n",
       "    <tr>\n",
       "      <th>5</th>\n",
       "      <td>hi.</td>\n",
       "      <td>&lt;sos&gt; salut. &lt;eos&gt;</td>\n",
       "    </tr>\n",
       "    <tr>\n",
       "      <th>6</th>\n",
       "      <td>run!</td>\n",
       "      <td>&lt;sos&gt; cours ! &lt;eos&gt;</td>\n",
       "    </tr>\n",
       "    <tr>\n",
       "      <th>7</th>\n",
       "      <td>run!</td>\n",
       "      <td>&lt;sos&gt; courez ! &lt;eos&gt;</td>\n",
       "    </tr>\n",
       "    <tr>\n",
       "      <th>8</th>\n",
       "      <td>run!</td>\n",
       "      <td>&lt;sos&gt; prenez vos jambes à vos cous ! &lt;eos&gt;</td>\n",
       "    </tr>\n",
       "    <tr>\n",
       "      <th>9</th>\n",
       "      <td>run!</td>\n",
       "      <td>&lt;sos&gt; file ! &lt;eos&gt;</td>\n",
       "    </tr>\n",
       "  </tbody>\n",
       "</table>\n",
       "</div>"
      ],
      "text/plain": [
       "    eng                                         fra\n",
       "0   go.                            <sos> va ! <eos>\n",
       "1   go.                         <sos> marche. <eos>\n",
       "2   go.                      <sos> en route ! <eos>\n",
       "3   go.                         <sos> bouge ! <eos>\n",
       "4   hi.                         <sos> salut ! <eos>\n",
       "5   hi.                          <sos> salut. <eos>\n",
       "6  run!                         <sos> cours ! <eos>\n",
       "7  run!                        <sos> courez ! <eos>\n",
       "8  run!  <sos> prenez vos jambes à vos cous ! <eos>\n",
       "9  run!                          <sos> file ! <eos>"
      ]
     },
     "execution_count": 5,
     "metadata": {},
     "output_type": "execute_result"
    }
   ],
   "source": [
    "# 모든 대문자 소문자 변환\n",
    "lines['eng']=lines['eng'].str.lower()\n",
    "lines['fra']=lines['fra'].str.lower()\n",
    "lines.head(10)"
   ]
  },
  {
   "cell_type": "code",
   "execution_count": 6,
   "id": "a37d1653",
   "metadata": {},
   "outputs": [
    {
     "data": {
      "text/plain": [
       "[[22], [22], [22]]"
      ]
     },
     "execution_count": 6,
     "metadata": {},
     "output_type": "execute_result"
    }
   ],
   "source": [
    "# 영어 토큰화\n",
    "eng_tokenizer = Tokenizer(filters='!\"#$%&()*+,-./:;=?@[\\\\]^_`{|}~\\t\\n')   # 문자 단위로 Tokenizer를 생성합니다. \n",
    "eng_tokenizer.fit_on_texts(lines.eng)               # eng의 각 행에 토큰화를 수행\n",
    "input_text = eng_tokenizer.texts_to_sequences(lines.eng)    # 단어를 숫자값 인덱스로 변환하여 저장\n",
    "input_text[:3] # 0,1,2모두 go 기 때문에 같을 수 밖에 없으니 당황하지 말 것"
   ]
  },
  {
   "cell_type": "code",
   "execution_count": 7,
   "id": "690fd9e0",
   "metadata": {},
   "outputs": [
    {
     "data": {
      "text/plain": [
       "[[1, 59, 2], [1, 351, 2], [1, 22, 499, 2]]"
      ]
     },
     "execution_count": 7,
     "metadata": {},
     "output_type": "execute_result"
    }
   ],
   "source": [
    "# 프랑스어 토큰화\n",
    "fra_tokenizer = Tokenizer(filters='!\"#$%&()*+,-./:;=?@[\\\\]^_`{|}~\\t\\n')   # 문자 단위로 Tokenizer를 생성합니다. \n",
    "fra_tokenizer.fit_on_texts(lines.fra)                 # fra의 각 행에 토큰화를 수행\n",
    "target_text = fra_tokenizer.texts_to_sequences(lines.fra)     # 단어를 숫자값 인덱스로 변환하여 저장\n",
    "target_text[:3]"
   ]
  },
  {
   "cell_type": "code",
   "execution_count": 8,
   "id": "3a42d1da",
   "metadata": {},
   "outputs": [],
   "source": [
    "# 디코더 토큰 중 디코더 입력 데이터에 종료 토큰과 디코더 target 데이터에 시작 토큰 제거\n",
    "encoder_input = input_text\n",
    "# 종료 토큰 제거\n",
    "decoder_input = [[ char for char in line if char != fra_tokenizer.word_index[eos_token] ] for line in target_text] \n",
    "# 시작 토큰 제거\n",
    "decoder_target = [[ char for char in line if char != fra_tokenizer.word_index[sos_token] ] for line in target_text]"
   ]
  },
  {
   "cell_type": "code",
   "execution_count": 9,
   "id": "52f2950a",
   "metadata": {},
   "outputs": [
    {
     "name": "stdout",
     "output_type": "stream",
     "text": [
      "영어 최대 길이: 6\n",
      "프랑스어 최대 길이: 14\n"
     ]
    }
   ],
   "source": [
    "# 패딩 길이 확인을 위해 영어와 프랑스어 시퀸스의 최대 길이를 구한다.(단어 단위)\n",
    "max_eng_seq_len=max([len(k_len) for k_len in input_text])\n",
    "max_fra_seq_len=max([len(f_len) for f_len in target_text])\n",
    "print(\"영어 최대 길이:\", max_eng_seq_len)\n",
    "print(\"프랑스어 최대 길이:\", max_fra_seq_len)"
   ]
  },
  {
   "cell_type": "code",
   "execution_count": 10,
   "id": "83078ee8",
   "metadata": {},
   "outputs": [
    {
     "name": "stdout",
     "output_type": "stream",
     "text": [
      "영어 데이터의 크기(shape) : (33000, 6)\n",
      "프랑스어 입력데이터의 크기(shape) : (33000, 14)\n",
      "프랑스어 출력데이터의 크기(shape) : (33000, 14)\n"
     ]
    }
   ],
   "source": [
    "encoder_input= pad_sequences(encoder_input, maxlen=max_eng_seq_len, padding='post')\n",
    "decoder_input = pad_sequences(decoder_input, maxlen = max_fra_seq_len, padding='post')\n",
    "decoder_target = pad_sequences(decoder_target, maxlen = max_fra_seq_len, padding='post')\n",
    "print('영어 데이터의 크기(shape) :',np.shape(encoder_input))\n",
    "print('프랑스어 입력데이터의 크기(shape) :',np.shape(decoder_input))\n",
    "print('프랑스어 출력데이터의 크기(shape) :',np.shape(decoder_target))"
   ]
  },
  {
   "cell_type": "code",
   "execution_count": 11,
   "id": "469517d6",
   "metadata": {},
   "outputs": [
    {
     "name": "stdout",
     "output_type": "stream",
     "text": [
      "[22  0  0  0  0  0]\n"
     ]
    }
   ],
   "source": [
    "print(encoder_input[0])"
   ]
  },
  {
   "cell_type": "code",
   "execution_count": 12,
   "id": "8a0f2b73",
   "metadata": {},
   "outputs": [
    {
     "name": "stdout",
     "output_type": "stream",
     "text": [
      "영어 단어장의 크기 : 4799\n",
      "프랑스어 단어장의 크기 : 10009\n"
     ]
    }
   ],
   "source": [
    "# 각 단어장 크기 확인\n",
    "eng_vocab_size = len(eng_tokenizer.word_index) + 1\n",
    "fra_vocab_size = len(fra_tokenizer.word_index) + 1\n",
    "print('영어 단어장의 크기 :', eng_vocab_size)\n",
    "print('프랑스어 단어장의 크기 :', fra_vocab_size)"
   ]
  },
  {
   "cell_type": "code",
   "execution_count": 13,
   "id": "8dd247fe",
   "metadata": {},
   "outputs": [],
   "source": [
    "# encoder_input = to_categorical(encoder_input)\n",
    "# decoder_input = to_categorical(decoder_input)\n",
    "# decoder_target = to_categorical(decoder_target)\n",
    "# print('영어 데이터의 크기(shape) :',np.shape(encoder_input))\n",
    "# print('프랑스어 입력데이터의 크기(shape) :',np.shape(decoder_input))\n",
    "# print('프랑스어 출력데이터의 크기(shape) :',np.shape(decoder_target))"
   ]
  },
  {
   "cell_type": "code",
   "execution_count": 14,
   "id": "2759c87e",
   "metadata": {
    "scrolled": true
   },
   "outputs": [
    {
     "name": "stdout",
     "output_type": "stream",
     "text": [
      "영어 학습데이터의 크기(shape) : (33000, 6)\n",
      "프랑스어 학습 입력데이터의 크기(shape) : (33000, 14)\n",
      "프랑스어 학습 출력데이터의 크기(shape) : (33000, 14)\n"
     ]
    },
    {
     "data": {
      "text/plain": [
       "(30000, 6)"
      ]
     },
     "execution_count": 14,
     "metadata": {},
     "output_type": "execute_result"
    }
   ],
   "source": [
    "# 노드와 마찬가지로 3000건만 검증데이터로 준다.\n",
    "n_of_val = 3000\n",
    "\n",
    "encoder_input_train = encoder_input[:-n_of_val]\n",
    "decoder_input_train = decoder_input[:-n_of_val]\n",
    "decoder_target_train = decoder_target[:-n_of_val]\n",
    "\n",
    "encoder_input_test = encoder_input[-n_of_val:]\n",
    "decoder_input_test = decoder_input[-n_of_val:]\n",
    "decoder_target_test = decoder_target[-n_of_val:]\n",
    "\n",
    "print('영어 학습데이터의 크기(shape) :',np.shape(encoder_input))\n",
    "print('프랑스어 학습 입력데이터의 크기(shape) :',np.shape(decoder_input))\n",
    "print('프랑스어 학습 출력데이터의 크기(shape) :',np.shape(decoder_target))\n",
    "\n",
    "np.shape(encoder_input_train)"
   ]
  },
  {
   "cell_type": "code",
   "execution_count": 15,
   "id": "35c84abf",
   "metadata": {},
   "outputs": [],
   "source": [
    "from tensorflow.keras.layers import Input, LSTM, Embedding, Dense, Masking\n",
    "from tensorflow.keras.models import Model"
   ]
  },
  {
   "cell_type": "markdown",
   "id": "f8c057c5",
   "metadata": {},
   "source": [
    "### 모델 형성 및 훈련"
   ]
  },
  {
   "cell_type": "code",
   "execution_count": 16,
   "id": "f803a45a",
   "metadata": {},
   "outputs": [],
   "source": [
    "encoder_inputs = Input(shape=(None,))\n",
    "# 단어장의 크기 및 임베딩 벡터 차원입력\n",
    "enc_emb =  Embedding(4799, 8)(encoder_inputs)\n",
    "encoder_lstm = LSTM(units=256, return_state=True)\n",
    "encoder_outputs, state_h, state_c = encoder_lstm(enc_emb)"
   ]
  },
  {
   "cell_type": "code",
   "execution_count": 17,
   "id": "5d6b9135",
   "metadata": {},
   "outputs": [],
   "source": [
    "# 디코더 입력 텐서 생성.(교사 강요)\n",
    "decoder_inputs = Input(shape=(None,))\n",
    "# 단어장의 크기 및 임베딩 벡터 차원입력\n",
    "fra_emb= Embedding(10009, 8)(decoder_inputs)\n",
    "decoder_lstm = LSTM(units=256, return_sequences = True, return_state=True)\n",
    "decoder_outputs, _, _= decoder_lstm(fra_emb)"
   ]
  },
  {
   "cell_type": "code",
   "execution_count": 18,
   "id": "c5beeaf0",
   "metadata": {},
   "outputs": [],
   "source": [
    "# 결과 중 가장 확률이 높은 하나의 단어만 선택\n",
    "decoder_softmax_layer = Dense(fra_vocab_size, activation='softmax')\n",
    "decoder_outputs = decoder_softmax_layer(decoder_outputs)"
   ]
  },
  {
   "cell_type": "code",
   "execution_count": 19,
   "id": "0f24d201",
   "metadata": {},
   "outputs": [],
   "source": [
    "os.environ['KMP_DUPLICATE_LIB_OK']='True'"
   ]
  },
  {
   "cell_type": "code",
   "execution_count": 20,
   "id": "84a2daf6",
   "metadata": {
    "scrolled": true
   },
   "outputs": [
    {
     "name": "stdout",
     "output_type": "stream",
     "text": [
      "Model: \"model\"\n",
      "__________________________________________________________________________________________________\n",
      "Layer (type)                    Output Shape         Param #     Connected to                     \n",
      "==================================================================================================\n",
      "input_2 (InputLayer)            [(None, None)]       0                                            \n",
      "__________________________________________________________________________________________________\n",
      "embedding_1 (Embedding)         (None, None, 8)      80072       input_2[0][0]                    \n",
      "__________________________________________________________________________________________________\n",
      "lstm_1 (LSTM)                   [(None, None, 256),  271360      embedding_1[0][0]                \n",
      "__________________________________________________________________________________________________\n",
      "input_1 (InputLayer)            [(None, None)]       0                                            \n",
      "__________________________________________________________________________________________________\n",
      "dense (Dense)                   (None, None, 10009)  2572313     lstm_1[0][0]                     \n",
      "==================================================================================================\n",
      "Total params: 2,923,745\n",
      "Trainable params: 2,923,745\n",
      "Non-trainable params: 0\n",
      "__________________________________________________________________________________________________\n"
     ]
    }
   ],
   "source": [
    "model = Model([encoder_inputs, decoder_inputs], decoder_outputs)\n",
    "model.compile(optimizer=\"rmsprop\", loss=\"sparse_categorical_crossentropy\")\n",
    "model.summary()"
   ]
  },
  {
   "cell_type": "code",
   "execution_count": 21,
   "id": "12c3978c",
   "metadata": {
    "scrolled": true
   },
   "outputs": [
    {
     "name": "stdout",
     "output_type": "stream",
     "text": [
      "Epoch 1/50\n",
      "235/235 [==============================] - 7s 18ms/step - loss: 2.5279 - val_loss: 2.2142\n",
      "Epoch 2/50\n",
      "235/235 [==============================] - 4s 16ms/step - loss: 1.7265 - val_loss: 2.0001\n",
      "Epoch 3/50\n",
      "235/235 [==============================] - 4s 16ms/step - loss: 1.6105 - val_loss: 1.9228\n",
      "Epoch 4/50\n",
      "235/235 [==============================] - 4s 16ms/step - loss: 1.5593 - val_loss: 1.8856\n",
      "Epoch 5/50\n",
      "235/235 [==============================] - 4s 16ms/step - loss: 1.5188 - val_loss: 1.8643\n",
      "Epoch 6/50\n",
      "235/235 [==============================] - 4s 16ms/step - loss: 1.4843 - val_loss: 1.8283\n",
      "Epoch 7/50\n",
      "235/235 [==============================] - 4s 16ms/step - loss: 1.4545 - val_loss: 1.8078\n",
      "Epoch 8/50\n",
      "235/235 [==============================] - 4s 16ms/step - loss: 1.4290 - val_loss: 1.7949\n",
      "Epoch 9/50\n",
      "235/235 [==============================] - 4s 17ms/step - loss: 1.4066 - val_loss: 1.7867\n",
      "Epoch 10/50\n",
      "235/235 [==============================] - 4s 17ms/step - loss: 1.3869 - val_loss: 1.7722\n",
      "Epoch 11/50\n",
      "235/235 [==============================] - 4s 17ms/step - loss: 1.3689 - val_loss: 1.7656\n",
      "Epoch 12/50\n",
      "235/235 [==============================] - 4s 17ms/step - loss: 1.3520 - val_loss: 1.7616\n",
      "Epoch 13/50\n",
      "235/235 [==============================] - 4s 17ms/step - loss: 1.3359 - val_loss: 1.7444\n",
      "Epoch 14/50\n",
      "235/235 [==============================] - 4s 17ms/step - loss: 1.3207 - val_loss: 1.7376\n",
      "Epoch 15/50\n",
      "235/235 [==============================] - 4s 17ms/step - loss: 1.3070 - val_loss: 1.7349\n",
      "Epoch 16/50\n",
      "235/235 [==============================] - 4s 17ms/step - loss: 1.2949 - val_loss: 1.7349\n",
      "Epoch 17/50\n",
      "235/235 [==============================] - 4s 17ms/step - loss: 1.2835 - val_loss: 1.7364\n",
      "Epoch 18/50\n",
      "235/235 [==============================] - 4s 17ms/step - loss: 1.2736 - val_loss: 1.7244\n",
      "Epoch 19/50\n",
      "235/235 [==============================] - 4s 18ms/step - loss: 1.2643 - val_loss: 1.7246\n",
      "Epoch 20/50\n",
      "235/235 [==============================] - 4s 18ms/step - loss: 1.2551 - val_loss: 1.7398\n",
      "Epoch 21/50\n",
      "235/235 [==============================] - 4s 18ms/step - loss: 1.2466 - val_loss: 1.7194\n",
      "Epoch 22/50\n",
      "235/235 [==============================] - 4s 18ms/step - loss: 1.2396 - val_loss: 1.7234\n",
      "Epoch 23/50\n",
      "235/235 [==============================] - 4s 18ms/step - loss: 1.2329 - val_loss: 1.7223\n",
      "Epoch 24/50\n",
      "235/235 [==============================] - 4s 18ms/step - loss: 1.2249 - val_loss: 1.7214\n",
      "Epoch 25/50\n",
      "235/235 [==============================] - 4s 18ms/step - loss: 1.2177 - val_loss: 1.7170\n",
      "Epoch 26/50\n",
      "235/235 [==============================] - 4s 18ms/step - loss: 1.2105 - val_loss: 1.7182\n",
      "Epoch 27/50\n",
      "235/235 [==============================] - 4s 17ms/step - loss: 1.2036 - val_loss: 1.7140\n",
      "Epoch 28/50\n",
      "235/235 [==============================] - 4s 17ms/step - loss: 1.1986 - val_loss: 1.7183\n",
      "Epoch 29/50\n",
      "235/235 [==============================] - 4s 17ms/step - loss: 1.1937 - val_loss: 1.7090\n",
      "Epoch 30/50\n",
      "235/235 [==============================] - 4s 17ms/step - loss: 1.1891 - val_loss: 1.7059\n",
      "Epoch 31/50\n",
      "235/235 [==============================] - 4s 17ms/step - loss: 1.1828 - val_loss: 1.7183\n",
      "Epoch 32/50\n",
      "235/235 [==============================] - 4s 17ms/step - loss: 1.1781 - val_loss: 1.7096\n",
      "Epoch 33/50\n",
      "235/235 [==============================] - 4s 17ms/step - loss: 1.1732 - val_loss: 1.7134\n",
      "Epoch 34/50\n",
      "235/235 [==============================] - 4s 17ms/step - loss: 1.1677 - val_loss: 1.7164\n",
      "Epoch 35/50\n",
      "235/235 [==============================] - 4s 17ms/step - loss: 1.1623 - val_loss: 1.7114\n",
      "Epoch 36/50\n",
      "235/235 [==============================] - 4s 17ms/step - loss: 1.1573 - val_loss: 1.7173\n",
      "Epoch 37/50\n",
      "235/235 [==============================] - 4s 18ms/step - loss: 1.1533 - val_loss: 1.7121\n",
      "Epoch 38/50\n",
      "235/235 [==============================] - 4s 18ms/step - loss: 1.1499 - val_loss: 1.7169\n",
      "Epoch 39/50\n",
      "235/235 [==============================] - 4s 18ms/step - loss: 1.1467 - val_loss: 1.7196\n",
      "Epoch 40/50\n",
      "235/235 [==============================] - 4s 18ms/step - loss: 1.1434 - val_loss: 1.7283\n",
      "Epoch 41/50\n",
      "235/235 [==============================] - 4s 18ms/step - loss: 1.1399 - val_loss: 1.7350\n",
      "Epoch 42/50\n",
      "235/235 [==============================] - 4s 18ms/step - loss: 1.1364 - val_loss: 1.7306\n",
      "Epoch 43/50\n",
      "235/235 [==============================] - 4s 18ms/step - loss: 1.1324 - val_loss: 1.7344\n",
      "Epoch 44/50\n",
      "235/235 [==============================] - 4s 18ms/step - loss: 1.1287 - val_loss: 1.7398\n",
      "Epoch 45/50\n",
      "235/235 [==============================] - 4s 17ms/step - loss: 1.1262 - val_loss: 1.7662\n",
      "Epoch 46/50\n",
      "235/235 [==============================] - 4s 18ms/step - loss: 1.1239 - val_loss: 1.7367\n",
      "Epoch 47/50\n",
      "235/235 [==============================] - 4s 17ms/step - loss: 1.1213 - val_loss: 1.7466\n",
      "Epoch 48/50\n",
      "235/235 [==============================] - 4s 17ms/step - loss: 1.1181 - val_loss: 1.7640\n",
      "Epoch 49/50\n",
      "235/235 [==============================] - 4s 17ms/step - loss: 1.1143 - val_loss: 1.7473\n",
      "Epoch 50/50\n",
      "235/235 [==============================] - 4s 17ms/step - loss: 1.1101 - val_loss: 1.7440\n"
     ]
    }
   ],
   "source": [
    "hist=model.fit(x=[encoder_input_train, decoder_input_train], y=decoder_target_train, \\\n",
    "          validation_data = ([encoder_input_test, decoder_input_test], decoder_target_test),\n",
    "          batch_size=128, epochs=50)"
   ]
  },
  {
   "cell_type": "code",
   "execution_count": 22,
   "id": "cafc5822",
   "metadata": {},
   "outputs": [
    {
     "data": {
      "image/png": "[encoded data removed]",
      "text/plain": [
       "<Figure size 432x288 with 1 Axes>"
      ]
     },
     "metadata": {
      "needs_background": "light"
     },
     "output_type": "display_data"
    }
   ],
   "source": [
    "# 시각화\n",
    "import matplotlib.pyplot as plt\n",
    "\n",
    "loss = hist.history['loss']\n",
    "val_loss = hist.history['val_loss']\n",
    "\n",
    "epochs = range(1, len(loss) + 1)\n",
    "\n",
    "plt.plot(epochs, loss, 'bo', label='Training loss') # bo는 파란색 점\n",
    "plt.plot(epochs, val_loss, 'b', label='Validation loss') # b는 파란색 실선\n",
    "plt.title('Training and validation loss')\n",
    "plt.xlabel('Epochs')\n",
    "plt.ylabel('Loss')\n",
    "plt.legend()\n",
    "\n",
    "plt.show()"
   ]
  },
  {
   "cell_type": "markdown",
   "id": "fd72e733",
   "metadata": {},
   "source": [
    "### 모델 테스트하기"
   ]
  },
  {
   "cell_type": "code",
   "execution_count": 23,
   "id": "70d53cb1",
   "metadata": {},
   "outputs": [
    {
     "name": "stdout",
     "output_type": "stream",
     "text": [
      "Model: \"model_1\"\n",
      "_________________________________________________________________\n",
      "Layer (type)                 Output Shape              Param #   \n",
      "=================================================================\n",
      "input_1 (InputLayer)         [(None, None)]            0         \n",
      "_________________________________________________________________\n",
      "embedding (Embedding)        (None, None, 8)           38392     \n",
      "_________________________________________________________________\n",
      "lstm (LSTM)                  [(None, 256), (None, 256) 271360    \n",
      "=================================================================\n",
      "Total params: 309,752\n",
      "Trainable params: 309,752\n",
      "Non-trainable params: 0\n",
      "_________________________________________________________________\n"
     ]
    }
   ],
   "source": [
    "encoder_model = Model(inputs = encoder_inputs, outputs = [state_h, state_c])\n",
    "encoder_model.summary()"
   ]
  },
  {
   "cell_type": "code",
   "execution_count": 24,
   "id": "5d2d1cb7",
   "metadata": {},
   "outputs": [],
   "source": [
    "# 이전 time step의 hidden state를 저장하는 텐서\n",
    "decoder_state_input_h = Input(shape=(None,))\n",
    "# 이전 time step의 cell state를 저장하는 텐서\n",
    "decoder_state_input_c = Input(shape=(None,))\n",
    "# 이전 time step의 hidden state와 cell state를 하나의 변수에 저장\n",
    "decoder_states_inputs = [decoder_state_input_h, decoder_state_input_c]\n",
    "\n",
    "# decoder_states_inputs를 현재 time step의 초기 상태로 사용.\n",
    "# decoder_lstm에 fra_emb 적용.\n",
    "decoder_outputs, state_h, state_c = decoder_lstm(fra_emb, initial_state = decoder_states_inputs)\n",
    "# 현재 time step의 hidden state와 cell state를 하나의 변수에 저장.\n",
    "decoder_states = [state_h, state_c]"
   ]
  },
  {
   "cell_type": "code",
   "execution_count": 25,
   "id": "501d9d13",
   "metadata": {},
   "outputs": [
    {
     "name": "stdout",
     "output_type": "stream",
     "text": [
      "Model: \"model_2\"\n",
      "__________________________________________________________________________________________________\n",
      "Layer (type)                    Output Shape         Param #     Connected to                     \n",
      "==================================================================================================\n",
      "input_2 (InputLayer)            [(None, None)]       0                                            \n",
      "__________________________________________________________________________________________________\n",
      "embedding_1 (Embedding)         (None, None, 8)      80072       input_2[0][0]                    \n",
      "__________________________________________________________________________________________________\n",
      "input_3 (InputLayer)            [(None, None)]       0                                            \n",
      "__________________________________________________________________________________________________\n",
      "input_4 (InputLayer)            [(None, None)]       0                                            \n",
      "__________________________________________________________________________________________________\n",
      "lstm_1 (LSTM)                   multiple             271360      embedding_1[0][0]                \n",
      "                                                                 input_3[0][0]                    \n",
      "                                                                 input_4[0][0]                    \n",
      "__________________________________________________________________________________________________\n",
      "dense (Dense)                   (None, None, 10009)  2572313     lstm_1[1][0]                     \n",
      "==================================================================================================\n",
      "Total params: 2,923,745\n",
      "Trainable params: 2,923,745\n",
      "Non-trainable params: 0\n",
      "__________________________________________________________________________________________________\n"
     ]
    }
   ],
   "source": [
    "decoder_outputs = decoder_softmax_layer(decoder_outputs)\n",
    "decoder_model = Model(inputs=[decoder_inputs] + decoder_states_inputs, outputs=[decoder_outputs] + decoder_states)\n",
    "decoder_model.summary()"
   ]
  },
  {
   "cell_type": "code",
   "execution_count": 26,
   "id": "010f0fd8",
   "metadata": {},
   "outputs": [],
   "source": [
    "eng2idx = eng_tokenizer.word_index\n",
    "fra2idx = fra_tokenizer.word_index\n",
    "idx2eng = eng_tokenizer.index_word\n",
    "idx2fra = fra_tokenizer.index_word"
   ]
  },
  {
   "cell_type": "code",
   "execution_count": 27,
   "id": "417fc73c",
   "metadata": {},
   "outputs": [],
   "source": [
    "def decode_sequence(input_seq):\n",
    "    # 입력으로부터 인코더의 상태를 얻음\n",
    "    states_value = encoder_model.predict(input_seq)\n",
    "\n",
    "    # <SOS>에 해당하는 원-핫 벡터 생성\n",
    "    target_seq = np.zeros((1,1)) \n",
    "    target_seq[0, 0] = fra2idx['<sos>']\n",
    "    \n",
    "    stop_condition = False\n",
    "    decoded_sentence = \"\"\n",
    "\n",
    "    # stop_condition이 True가 될 때까지 루프 반복\n",
    "    while not stop_condition:\n",
    "        # 이점 시점의 상태 states_value를 현 시점의 초기 상태로 사용\n",
    "        output_tokens, h, c = decoder_model.predict([target_seq] + states_value)\n",
    "\n",
    "        # 예측 결과를 문자로 변환\n",
    "        sampled_token_index = np.argmax(output_tokens[0, -1, :])\n",
    "        sampled_char = idx2fra[sampled_token_index]\n",
    "\n",
    "        # 현재 시점의 예측 문자를 예측 문장에 추가\n",
    "        decoded_sentence += ' '+sampled_char\n",
    "\n",
    "        # <eos>에 도달하거나 최대 길이를 넘으면 중단.\n",
    "        if (sampled_char == '<eos>' or\n",
    "           len(decoded_sentence) > max_fra_seq_len):\n",
    "            stop_condition = True\n",
    "\n",
    "        # 현재 시점의 예측 결과를 다음 시점의 입력으로 사용하기 위해 저장     \n",
    "        target_seq = np.zeros((1, 1))\n",
    "        target_seq[0, 0] = sampled_token_index\n",
    "\n",
    "        # 현재 시점의 상태를 다음 시점의 상태로 사용하기 위해 저장\n",
    "        states_value = [h, c]\n",
    "\n",
    "    return decoded_sentence"
   ]
  },
  {
   "cell_type": "code",
   "execution_count": 28,
   "id": "379fb445",
   "metadata": {},
   "outputs": [
    {
     "name": "stdout",
     "output_type": "stream",
     "text": [
      "-----------------------------------\n",
      "입력 문장: go.\n",
      "정답 문장:  bouge ! \n",
      "번역기가 번역한 문장:  je suis un homm\n",
      "-----------------------------------\n",
      "입력 문장: hello!\n",
      "정답 문장:  bonjour ! \n",
      "번역기가 번역한 문장:  je suis un homm\n",
      "-----------------------------------\n",
      "입력 문장: got it?\n",
      "정답 문장:  t'as capté ? \n",
      "번역기가 번역한 문장:  je suis un homm\n",
      "-----------------------------------\n",
      "입력 문장: hang on.\n",
      "정답 문장:  tiens bon ! \n",
      "번역기가 번역한 문장:  je suis un homm\n",
      "-----------------------------------\n",
      "입력 문장: here's $5.\n",
      "정답 문장:  voilà cinq dollars. \n",
      "번역기가 번역한 문장:  je suis un homm\n"
     ]
    }
   ],
   "source": [
    "import numpy as np\n",
    "for seq_index in [3,50,100,300,1001]: # 입력 문장의 인덱스 (자유롭게 선택해 보세요)\n",
    "    input_seq = encoder_input[seq_index: seq_index + 1]\n",
    "    decoded_sentence = decode_sequence(input_seq)\n",
    "    print(35 * \"-\")\n",
    "    print('입력 문장:', lines.eng[seq_index])\n",
    "    print('정답 문장:', lines.fra[seq_index][5:len(lines.fra[seq_index])-5])\n",
    "    print('번역기가 번역한 문장:', decoded_sentence[:len(decoded_sentence)-1])"
   ]
  },
  {
   "cell_type": "markdown",
   "id": "aec7d00a",
   "metadata": {},
   "source": [
    "회고\n",
    "\n",
    "정말 NLP를 할 때마다 샐프 믹서기가 되는 느낌이다. 생명을 갈아 연명하는 삶이 이런 느낌일까? 늘 NLP는 어렵다. ML관련하여 가지고 있던 고질적인 문제를 다시 한번 맞이한 것 같다.  \n",
    "  \n",
    "가장 처음으로 마주한 어려움은 문자에서 단어로 바꿔어 토큰화를 시키는 것이었다. 토크나이저에 자동 필터가 달려있는데 이를 인지하지 못해서 '<sos>'와 '<eos>'가 제대로 나오지 않았고, 띄어쓰기를 하지 않아 토큰화도 이상하게 되었던 것을 데이터를 일일이 확인해가며 고칠 수 있었다.    \n",
    "    \n",
    "두번째 난관은 커널이 계속 죽는 것이었다. 모델을 만들고 .fit()으로 학습만 들어가면 커널이 계속 죽었는데, 매개변수 개수, 배치 크기 등을 변경시켜도 해결이 되지 않는 것이었다. 나중에 알고 보니 to_categorical함수로 one-hot encoding을 시켜준 것이 문제임을 확인하였다. 문자와 다르게, 단어는 사전의 크기가 매우 크기 때문에 one-hot encoding을 시키면 죽지 않는 것이 이상할 정도였음을 확인할 수 있었다. 게다가, 노드와 다르게 과제에서는 임배딩이 들어가기 때문에 애초에 one-hot encoding을 시킬 필요가 없었으니.. 이해가 많이 부족했구나 하는 생각이 들었다.  \n",
    "    \n",
    "세번째 난관은 번역 문장이 거의 같은 출력만 낸다는 점이다. 10개의 데이터를 넣으면 번역한 거의 다 같은 뜻으로 번역이 되는 것이다. 무엇이 문제인지, 원인을 찾아보려 했으나 결국 찾을 수 없었고. 미래의 나한테 맡기기로 하였다.   "
   ]
  },
  {
   "cell_type": "code",
   "execution_count": null,
   "id": "f8d9bd41",
   "metadata": {},
   "outputs": [],
   "source": []
  }
 ],
 "metadata": {
  "kernelspec": {
   "display_name": "Python 3 (ipykernel)",
   "language": "python",
   "name": "python3"
  },
  "language_info": {
   "codemirror_mode": {
    "name": "ipython",
    "version": 3
   },
   "file_extension": ".py",
   "mimetype": "text/x-python",
   "name": "python",
   "nbconvert_exporter": "python",
   "pygments_lexer": "ipython3",
   "version": "3.8.8"
  }
 },
 "nbformat": 4,
 "nbformat_minor": 5
}
